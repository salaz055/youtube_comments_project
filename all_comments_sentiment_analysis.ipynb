{
 "cells": [
  {
   "cell_type": "code",
   "execution_count": 2,
   "id": "234eb58c",
   "metadata": {},
   "outputs": [
    {
     "data": {
      "text/html": [
       "<div>\n",
       "<style scoped>\n",
       "    .dataframe tbody tr th:only-of-type {\n",
       "        vertical-align: middle;\n",
       "    }\n",
       "\n",
       "    .dataframe tbody tr th {\n",
       "        vertical-align: top;\n",
       "    }\n",
       "\n",
       "    .dataframe thead th {\n",
       "        text-align: right;\n",
       "    }\n",
       "</style>\n",
       "<table border=\"1\" class=\"dataframe\">\n",
       "  <thead>\n",
       "    <tr style=\"text-align: right;\">\n",
       "      <th></th>\n",
       "      <th>Video Id</th>\n",
       "      <th>text</th>\n",
       "      <th>time</th>\n",
       "      <th>displayID</th>\n",
       "      <th>id</th>\n",
       "    </tr>\n",
       "  </thead>\n",
       "  <tbody>\n",
       "    <tr>\n",
       "      <th>0</th>\n",
       "      <td>DOtPOfeyJ4Q</td>\n",
       "      <td>Don't send it back. This video is a gem. Bro, ...</td>\n",
       "      <td>2022-11-04T15:41:35Z</td>\n",
       "      <td>Tim Gibson</td>\n",
       "      <td>UC8DCyaImyGP2jrJOdD64Efg</td>\n",
       "    </tr>\n",
       "    <tr>\n",
       "      <th>1</th>\n",
       "      <td>DOtPOfeyJ4Q</td>\n",
       "      <td>Hes not scamming his sister probably got it fo...</td>\n",
       "      <td>2022-11-04T15:04:13Z</td>\n",
       "      <td>The guy who asked</td>\n",
       "      <td>UCNijoEJw5z3p4689tey5oYw</td>\n",
       "    </tr>\n",
       "    <tr>\n",
       "      <th>2</th>\n",
       "      <td>DOtPOfeyJ4Q</td>\n",
       "      <td>He offered your money back definitely not a sc...</td>\n",
       "      <td>2022-11-04T14:57:57Z</td>\n",
       "      <td>F.B.I</td>\n",
       "      <td>UCXbuhDqmdm_M8UEOrQ77w6w</td>\n",
       "    </tr>\n",
       "    <tr>\n",
       "      <th>3</th>\n",
       "      <td>DOtPOfeyJ4Q</td>\n",
       "      <td>Isn’t it hard authenticate a signature. If Kob...</td>\n",
       "      <td>2022-11-04T14:54:47Z</td>\n",
       "      <td>Olti Hajdaraj</td>\n",
       "      <td>UCPOYMbZKAIN39YFsvMTZ-Uw</td>\n",
       "    </tr>\n",
       "    <tr>\n",
       "      <th>4</th>\n",
       "      <td>DOtPOfeyJ4Q</td>\n",
       "      <td>He answered the phone, definitely not trying t...</td>\n",
       "      <td>2022-11-04T14:49:10Z</td>\n",
       "      <td>Jordan</td>\n",
       "      <td>UCga1Isau1iPAlrezA6xoYSQ</td>\n",
       "    </tr>\n",
       "  </tbody>\n",
       "</table>\n",
       "</div>"
      ],
      "text/plain": [
       "      Video Id                                               text  \\\n",
       "0  DOtPOfeyJ4Q  Don't send it back. This video is a gem. Bro, ...   \n",
       "1  DOtPOfeyJ4Q  Hes not scamming his sister probably got it fo...   \n",
       "2  DOtPOfeyJ4Q  He offered your money back definitely not a sc...   \n",
       "3  DOtPOfeyJ4Q  Isn’t it hard authenticate a signature. If Kob...   \n",
       "4  DOtPOfeyJ4Q  He answered the phone, definitely not trying t...   \n",
       "\n",
       "                   time          displayID                        id  \n",
       "0  2022-11-04T15:41:35Z         Tim Gibson  UC8DCyaImyGP2jrJOdD64Efg  \n",
       "1  2022-11-04T15:04:13Z  The guy who asked  UCNijoEJw5z3p4689tey5oYw  \n",
       "2  2022-11-04T14:57:57Z              F.B.I  UCXbuhDqmdm_M8UEOrQ77w6w  \n",
       "3  2022-11-04T14:54:47Z      Olti Hajdaraj  UCPOYMbZKAIN39YFsvMTZ-Uw  \n",
       "4  2022-11-04T14:49:10Z             Jordan  UCga1Isau1iPAlrezA6xoYSQ  "
      ]
     },
     "execution_count": 2,
     "metadata": {},
     "output_type": "execute_result"
    }
   ],
   "source": [
    "import pandas as pd\n",
    "import numpy as np\n",
    "import matplotlib.pyplot as plt\n",
    "import seaborn as sns\n",
    "import nltk\n",
    "from nltk.sentiment import SentimentIntensityAnalyzer\n",
    "from transformers import pipeline, AutoModelForTokenClassification, AutoTokenizer\n",
    "\n",
    "df = pd.read_csv(\"data/comments_df_11-4-2022.csv\")\n",
    "df.head()"
   ]
  },
  {
   "cell_type": "code",
   "execution_count": 5,
   "id": "9251da5c",
   "metadata": {},
   "outputs": [],
   "source": [
    "df.rename({'text' : 'comment'} , axis = 1 , inplace = True)"
   ]
  },
  {
   "cell_type": "code",
   "execution_count": 10,
   "id": "b435cf8d",
   "metadata": {},
   "outputs": [
    {
     "data": {
      "text/plain": [
       "(58553, 5)"
      ]
     },
     "execution_count": 10,
     "metadata": {},
     "output_type": "execute_result"
    }
   ],
   "source": [
    "df.dropna(inplace = True)\n",
    "df.shape"
   ]
  },
  {
   "cell_type": "markdown",
   "id": "c32d608d",
   "metadata": {},
   "source": [
    "## Analyzing Comment length"
   ]
  },
  {
   "cell_type": "code",
   "execution_count": 11,
   "id": "30455bbe",
   "metadata": {},
   "outputs": [
    {
     "data": {
      "text/html": [
       "<div>\n",
       "<style scoped>\n",
       "    .dataframe tbody tr th:only-of-type {\n",
       "        vertical-align: middle;\n",
       "    }\n",
       "\n",
       "    .dataframe tbody tr th {\n",
       "        vertical-align: top;\n",
       "    }\n",
       "\n",
       "    .dataframe thead th {\n",
       "        text-align: right;\n",
       "    }\n",
       "</style>\n",
       "<table border=\"1\" class=\"dataframe\">\n",
       "  <thead>\n",
       "    <tr style=\"text-align: right;\">\n",
       "      <th></th>\n",
       "      <th>Video Id</th>\n",
       "      <th>comment</th>\n",
       "      <th>time</th>\n",
       "      <th>displayID</th>\n",
       "      <th>id</th>\n",
       "      <th>comment_length</th>\n",
       "    </tr>\n",
       "  </thead>\n",
       "  <tbody>\n",
       "    <tr>\n",
       "      <th>0</th>\n",
       "      <td>DOtPOfeyJ4Q</td>\n",
       "      <td>Don't send it back. This video is a gem. Bro, ...</td>\n",
       "      <td>2022-11-04T15:41:35Z</td>\n",
       "      <td>Tim Gibson</td>\n",
       "      <td>UC8DCyaImyGP2jrJOdD64Efg</td>\n",
       "      <td>45</td>\n",
       "    </tr>\n",
       "    <tr>\n",
       "      <th>1</th>\n",
       "      <td>DOtPOfeyJ4Q</td>\n",
       "      <td>Hes not scamming his sister probably got it fo...</td>\n",
       "      <td>2022-11-04T15:04:13Z</td>\n",
       "      <td>The guy who asked</td>\n",
       "      <td>UCNijoEJw5z3p4689tey5oYw</td>\n",
       "      <td>17</td>\n",
       "    </tr>\n",
       "    <tr>\n",
       "      <th>2</th>\n",
       "      <td>DOtPOfeyJ4Q</td>\n",
       "      <td>He offered your money back definitely not a sc...</td>\n",
       "      <td>2022-11-04T14:57:57Z</td>\n",
       "      <td>F.B.I</td>\n",
       "      <td>UCXbuhDqmdm_M8UEOrQ77w6w</td>\n",
       "      <td>26</td>\n",
       "    </tr>\n",
       "    <tr>\n",
       "      <th>3</th>\n",
       "      <td>DOtPOfeyJ4Q</td>\n",
       "      <td>Isn’t it hard authenticate a signature. If Kob...</td>\n",
       "      <td>2022-11-04T14:54:47Z</td>\n",
       "      <td>Olti Hajdaraj</td>\n",
       "      <td>UCPOYMbZKAIN39YFsvMTZ-Uw</td>\n",
       "      <td>21</td>\n",
       "    </tr>\n",
       "    <tr>\n",
       "      <th>4</th>\n",
       "      <td>DOtPOfeyJ4Q</td>\n",
       "      <td>He answered the phone, definitely not trying t...</td>\n",
       "      <td>2022-11-04T14:49:10Z</td>\n",
       "      <td>Jordan</td>\n",
       "      <td>UCga1Isau1iPAlrezA6xoYSQ</td>\n",
       "      <td>13</td>\n",
       "    </tr>\n",
       "  </tbody>\n",
       "</table>\n",
       "</div>"
      ],
      "text/plain": [
       "      Video Id                                            comment  \\\n",
       "0  DOtPOfeyJ4Q  Don't send it back. This video is a gem. Bro, ...   \n",
       "1  DOtPOfeyJ4Q  Hes not scamming his sister probably got it fo...   \n",
       "2  DOtPOfeyJ4Q  He offered your money back definitely not a sc...   \n",
       "3  DOtPOfeyJ4Q  Isn’t it hard authenticate a signature. If Kob...   \n",
       "4  DOtPOfeyJ4Q  He answered the phone, definitely not trying t...   \n",
       "\n",
       "                   time          displayID                        id  \\\n",
       "0  2022-11-04T15:41:35Z         Tim Gibson  UC8DCyaImyGP2jrJOdD64Efg   \n",
       "1  2022-11-04T15:04:13Z  The guy who asked  UCNijoEJw5z3p4689tey5oYw   \n",
       "2  2022-11-04T14:57:57Z              F.B.I  UCXbuhDqmdm_M8UEOrQ77w6w   \n",
       "3  2022-11-04T14:54:47Z      Olti Hajdaraj  UCPOYMbZKAIN39YFsvMTZ-Uw   \n",
       "4  2022-11-04T14:49:10Z             Jordan  UCga1Isau1iPAlrezA6xoYSQ   \n",
       "\n",
       "   comment_length  \n",
       "0              45  \n",
       "1              17  \n",
       "2              26  \n",
       "3              21  \n",
       "4              13  "
      ]
     },
     "execution_count": 11,
     "metadata": {},
     "output_type": "execute_result"
    }
   ],
   "source": [
    "def comment_length(comment):\n",
    "    return len(comment.split(' '))\n",
    "\n",
    "df['comment_length'] = df['comment'].apply(comment_length)\n",
    "df.head()"
   ]
  },
  {
   "cell_type": "code",
   "execution_count": 13,
   "id": "61f04471",
   "metadata": {},
   "outputs": [
    {
     "data": {
      "text/plain": [
       "(58553, 6)"
      ]
     },
     "execution_count": 13,
     "metadata": {},
     "output_type": "execute_result"
    }
   ],
   "source": [
    "df.shape"
   ]
  },
  {
   "cell_type": "code",
   "execution_count": 15,
   "id": "49502c81",
   "metadata": {},
   "outputs": [
    {
     "data": {
      "text/plain": [
       "43"
      ]
     },
     "execution_count": 15,
     "metadata": {},
     "output_type": "execute_result"
    }
   ],
   "source": [
    "# Finding the 95th percentile for comment length\n",
    "comment_len_95_percentile = int(np.percentile(df.comment_length , 95))\n",
    "comment_len_95_percentile"
   ]
  },
  {
   "cell_type": "markdown",
   "id": "cb44dfcf",
   "metadata": {},
   "source": [
    "### Getting rid of comments longer than 95th percentile"
   ]
  },
  {
   "cell_type": "code",
   "execution_count": 16,
   "id": "4945d85c",
   "metadata": {},
   "outputs": [
    {
     "data": {
      "text/plain": [
       "(55709, 6)"
      ]
     },
     "execution_count": 16,
     "metadata": {},
     "output_type": "execute_result"
    }
   ],
   "source": [
    "df = df[df['comment_length'] <= comment_len_95_percentile]\n",
    "df.shape"
   ]
  },
  {
   "cell_type": "code",
   "execution_count": 17,
   "id": "4d495485",
   "metadata": {},
   "outputs": [
    {
     "data": {
      "text/plain": [
       "<AxesSubplot:xlabel='comment_length'>"
      ]
     },
     "execution_count": 17,
     "metadata": {},
     "output_type": "execute_result"
    },
    {
     "data": {
      "image/png": "[encoded data removed]",
      "text/plain": [
       "<Figure size 432x288 with 1 Axes>"
      ]
     },
     "metadata": {
      "needs_background": "light"
     },
     "output_type": "display_data"
    }
   ],
   "source": [
    "sns.boxplot(x = 'comment_length' , data = df)"
   ]
  },
  {
   "cell_type": "markdown",
   "id": "acdf0b3f",
   "metadata": {},
   "source": [
    "## Predicting Sentiment and confidence scores"
   ]
  },
  {
   "cell_type": "code",
   "execution_count": 18,
   "id": "b4539b59",
   "metadata": {},
   "outputs": [
    {
     "data": {
      "application/vnd.jupyter.widget-view+json": {
       "model_id": "26be4c7b878e4fbcb3a37eda820ea2d2",
       "version_major": 2,
       "version_minor": 0
      },
      "text/plain": [
       "Downloading:   0%|          | 0.00/1.43k [00:00<?, ?B/s]"
      ]
     },
     "metadata": {},
     "output_type": "display_data"
    },
    {
     "name": "stderr",
     "output_type": "stream",
     "text": [
      "Some weights of the model checkpoint at cardiffnlp/twitter-roberta-base-sentiment-latest were not used when initializing RobertaForSequenceClassification: ['roberta.pooler.dense.bias', 'roberta.pooler.dense.weight']\n",
      "- This IS expected if you are initializing RobertaForSequenceClassification from the checkpoint of a model trained on another task or with another architecture (e.g. initializing a BertForSequenceClassification model from a BertForPreTraining model).\n",
      "- This IS NOT expected if you are initializing RobertaForSequenceClassification from the checkpoint of a model that you expect to be exactly identical (initializing a BertForSequenceClassification model from a BertForSequenceClassification model).\n"
     ]
    }
   ],
   "source": [
    "pipe = pipeline(model = 'cardiffnlp/twitter-roberta-base-sentiment-latest')\n",
    "pipe.tokenizer.model_max_length=256"
   ]
  },
  {
   "cell_type": "code",
   "execution_count": 30,
   "id": "65db9654",
   "metadata": {},
   "outputs": [
    {
     "name": "stderr",
     "output_type": "stream",
     "text": [
      "  9%|██████▊                                                                      | 4954/55709 [02:53<30:01, 28.17it/s]"
     ]
    },
    {
     "name": "stdout",
     "output_type": "stream",
     "text": [
      "Me: *makes Nokia spinner*\n",
      "FBI:  W̴͔̏̕E̵̪͐̌̕ͅ W̴͔̏̕A̶̤͍̟̲͓͕͍̼͕͎̽́̒̇͝N̶͎̫̉̍͘͝T̷̢̧͎̤̗͙̜͓̽͊ͅͅ Y̸̢̨̭̟͍̫͉͊O̸̜͉̹̳̎͒̎̄͘͘͝Ù̸̺̓̀̓͒͑R̶̨̨̖̬̹̥̜̠͎̺̍͐̂ L̸̼̞̰͘O̸̜͉̹̳̎͒̎̄͘͘͝C̸̢̱̗̟̍͗̈́̆͗͒͊̑͘͜A̶̤͍̟̲͓͕͍̼͕͎̽́̒̇͝T̷̢̧͎̤̗͙̜͓̽͊ͅͅĮ̴̧̝͔͍͖͇̹̗̅͆̈́̈́̒̕O̸̜͉̹̳̎͒̎̄͘͘͝N̶͎̫̉̍͘͝ R̶̨̨̖̬̹̥̜̠͎̺̍͐̂Į̴̧̝͔͍͖͇̹̗̅͆̈́̈́̒̕G̶̢̨̖͚̜̺̭̥̭͓̾̒̃̃̈̏͋͝H̸̪͊̒T̷̢̧͎̤̗͙̜͓̽͊ͅͅ N̶͎̫̉̍͘͝O̸̜͉̹̳̎͒̎̄͘͘͝W̴͔̏̕\n"
     ]
    },
    {
     "name": "stderr",
     "output_type": "stream",
     "text": [
      " 97%|██████████████████████████████████████████████████████████████████████████  | 54271/55709 [36:22<00:54, 26.35it/s]"
     ]
    },
    {
     "name": "stdout",
     "output_type": "stream",
     "text": [
      "📸📸📸📸📸📸📸📸📸📸📸📸📸📸📸📸📸📸📸📸📸📸📸📸📸📸📸📸📸📸📸📸📸📸📸📸📸📸📸📸📸📸📸📸📸📸📸📸📸📸📸📸📸📸📸📸📸📸📸📸📸📸📸📸📸📸📸📸📸📸📸📸📸📸📸📸📸📸📸📸📸📸📸📸📸📸📸📸📸📸📸📸📸📸📸📸📸📸📸📸📸📸📸📸📸📸📸📸📸📸📸📸📸📸📸📸📸📸📸📸📸📸📸📸📸📸📸📸📸📸📸📸📸📸📸📸📸📸📸📸📸📸📸📸📸📸📸📸📸📸📸📸📸📸📸📸📸📸📸📸📸📸📸📸📸📸📸📸📸📸📸📸📸📸📸📸📸📸📸📸📸📸📸📸📸📸📸📸📸📸📸📸📸📸📸📸📸📸📸📸📸📸📸📸📸📸📸📸📸📸📸📸📸📸📸📸📸📸📸📸📸📸📸📸📸📸📸📸📸📸📸📸📸📸📸📸📸📸📸📸📸📸📸📸📸📸📸📸📸📸📸📸📸📸📸📸📸📸📸📸📸📸📸📸📸📸📸📸📸📸📸📸📸📸📸📸📸📸📸📸📸📸📸📸📸📸📸📸📸📸📸📸📸📸📸📸📸📸📸📸📸📸📸📸📸📸📸📸📸📸📸📸📸📸📸📸📸📸📸📸📸📸📸📸📸📸📸📸📸📸📸📸📸📸📸📸📸📸📸📸📸📸📸📸📸📸📸📸📸📸📸📸📸📸📸📸📸📸📸📸📸📸📸📸📸📸📸📸📸📸📸📸📸📸📸📸📸📸📸📸📸📸📸📸📸📸📸📸📸📸📸📸📸📸📸📸📸📸📸📸📸📸📸📸📸📸📸📸📸📸📸📸📸📸📸📸📸📸📸📸📸📸📸📸📸📸📸📸📸📸📸📸📸📸📸📸📸📸📸📸📸📸📸📸📸📸📸📸📸📸📸📸📸📸📸📸📸📸📸📸📸📸📸📸📸📸📸📸📸📸📸📸📸📸📸📸📸📸📸📸📸📸📸📸📸📸📸📸📸📸📸📸📸📸📸📸📸📸📸📸📸📸📸📸📸📸📸📸📸📸📸📸📸📸📸📸📸📸📸📸📸📸📸📸📸📸📸📸📸📸📸📸📸📸📸📸📸📸📸📸📸📸📸📸📸📸📸📸📸📸📸📸📸📸📸📸📸📸📸📸📸📸📸📸📸📸📸📸📸📸📸📸📸📸📸📸📸📸📸📸📸📸📸📸\n"
     ]
    },
    {
     "name": "stderr",
     "output_type": "stream",
     "text": [
      "100%|████████████████████████████████████████████████████████████████████████████| 55709/55709 [37:23<00:00, 24.83it/s]\n"
     ]
    }
   ],
   "source": [
    "from tqdm import tqdm\n",
    "\n",
    "comments_list = df.comment.tolist()\n",
    "\n",
    "\n",
    "sentiment_dicts = [] \n",
    "\n",
    "for comment in tqdm(comments_list , total = len(comments_list)):\n",
    "    try:\n",
    "        sentiment_dicts.append(pipe(comment))\n",
    "    except:\n",
    "        sentiment_dicts.append([{'label' : 'Not Provided', 'score': 'Not Provided'}])\n",
    "        print(comment)"
   ]
  },
  {
   "cell_type": "code",
   "execution_count": 26,
   "id": "8230ff6f",
   "metadata": {},
   "outputs": [
    {
     "name": "stdout",
     "output_type": "stream",
     "text": [
      "[{'label': 'Neutral', 'score': 0.6471040844917297}]\n"
     ]
    }
   ],
   "source": [
    "print(pipe(df.loc[1 , 'comment']))"
   ]
  },
  {
   "cell_type": "code",
   "execution_count": 35,
   "id": "4c80773c",
   "metadata": {},
   "outputs": [
    {
     "data": {
      "text/plain": [
       "{'label': 'Neutral', 'score': 0.6471040844917297}"
      ]
     },
     "execution_count": 35,
     "metadata": {},
     "output_type": "execute_result"
    }
   ],
   "source": [
    "# The pipeline returns a list so I will need to unpack each list returned\n",
    "sentiment_dicts_use = [sentiment[0] for sentiment in sentiment_dicts]\n",
    "sentiment_dicts_use[0]"
   ]
  },
  {
   "cell_type": "code",
   "execution_count": 41,
   "id": "74441187",
   "metadata": {},
   "outputs": [
    {
     "name": "stdout",
     "output_type": "stream",
     "text": [
      "(55707, 8)\n"
     ]
    }
   ],
   "source": [
    "# Bringing label and confidence score into the dataframe\n",
    "df['label'] = [sentiment['label'] for sentiment in sentiment_dicts_use]\n",
    "df['score'] = [sentiment['score'] for sentiment in sentiment_dicts_use]\n",
    "\n",
    "# Dropping the 2 comments that were edge cases\n",
    "df = df[df['label'] != 'Not Provided']\n",
    "\n",
    "df.head()\n",
    "print(df.shape)"
   ]
  },
  {
   "cell_type": "code",
   "execution_count": 72,
   "id": "cfbf70cf",
   "metadata": {},
   "outputs": [],
   "source": [
    "df.to_csv('data/all_comments_with_sentiment_scores.csv')"
   ]
  },
  {
   "cell_type": "markdown",
   "id": "70e772a2",
   "metadata": {},
   "source": [
    "## Do longer comments have a higher confidence?"
   ]
  },
  {
   "cell_type": "code",
   "execution_count": 70,
   "id": "1e7090bf",
   "metadata": {},
   "outputs": [
    {
     "data": {
      "text/plain": [
       "Text(0.5, 1.0, 'Count by Comment Length')"
      ]
     },
     "execution_count": 70,
     "metadata": {},
     "output_type": "execute_result"
    },
    {
     "data": {
      "image/png": "[encoded data removed]",
      "text/plain": [
       "<Figure size 720x720 with 4 Axes>"
      ]
     },
     "metadata": {
      "needs_background": "light"
     },
     "output_type": "display_data"
    }
   ],
   "source": [
    "# Do longer comments have a higher confidence?\n",
    "grouped_comment_length = df.groupby('comment_length')['score'].agg(['mean' , 'median' , 'std' , 'size'])\n",
    "#print(grouped_comment_length['mean'])\n",
    "\n",
    "# Plotting\n",
    "fig , ax = plt.subplots(2 , 2 , figsize = (10 , 10))\n",
    "\n",
    "sns.lineplot(x = grouped_comment_length.index , y = grouped_comment_length['mean'] ,  ax = ax[0][0]).set_title('Mean Score by Comment Length')\n",
    "sns.lineplot(x = grouped_comment_length.index , y = grouped_comment_length['median'] ,  ax = ax[0][1]).set_title('Median Score by Comment Length')\n",
    "sns.lineplot(x = grouped_comment_length.index , y = grouped_comment_length['std'] ,  ax = ax[1][0]).set_title('Standard Deviation Score by Comment Length')\n",
    "sns.lineplot(x = grouped_comment_length.index , y = grouped_comment_length['size'] ,  ax = ax[1][1]).set_title('Count by Comment Length')"
   ]
  },
  {
   "cell_type": "markdown",
   "id": "f8d99dc5",
   "metadata": {},
   "source": [
    "## Confidence by sentiment"
   ]
  },
  {
   "cell_type": "code",
   "execution_count": 73,
   "id": "43ebf0e9",
   "metadata": {},
   "outputs": [
    {
     "data": {
      "text/plain": [
       "<AxesSubplot:xlabel='score', ylabel='label'>"
      ]
     },
     "execution_count": 73,
     "metadata": {},
     "output_type": "execute_result"
    },
    {
     "data": {
      "image/png": "[encoded data removed]",
      "text/plain": [
       "<Figure size 432x288 with 1 Axes>"
      ]
     },
     "metadata": {
      "needs_background": "light"
     },
     "output_type": "display_data"
    }
   ],
   "source": [
    "sns.boxplot(x = 'score' , y = 'label' , data = df)"
   ]
  },
  {
   "cell_type": "code",
   "execution_count": 74,
   "id": "7048bff3",
   "metadata": {},
   "outputs": [
    {
     "data": {
      "text/plain": [
       "Neutral     22920\n",
       "Negative    20197\n",
       "Positive    12590\n",
       "Name: label, dtype: int64"
      ]
     },
     "execution_count": 74,
     "metadata": {},
     "output_type": "execute_result"
    }
   ],
   "source": [
    "df.label.value_counts()"
   ]
  },
  {
   "cell_type": "markdown",
   "id": "cda462c0",
   "metadata": {},
   "source": [
    "The median confidence score for Positive comments is the highest while the model is less confident about its Neutral predictions. The distributions of scores for both Positive and Negative comments are skewed to the left. Negative commments are the most common in this dataset."
   ]
  },
  {
   "cell_type": "markdown",
   "id": "f38093ba",
   "metadata": {},
   "source": [
    "## Aggregating by Video Id"
   ]
  },
  {
   "cell_type": "markdown",
   "id": "664a5b49",
   "metadata": {},
   "source": [
    "### Mapping Sentiment to integers / Creating weighted sentiment\n",
    "\n",
    "In order to aggregate across videos, I decided to map 'Positive' to 1, 'Negative' to -1, 'Neutral' to 0.2. I will scale these by the confidence provided by the model (this will scale down less confident predictions) and then calculate the mean/median/std of the sentiment scores for each video. "
   ]
  },
  {
   "cell_type": "code",
   "execution_count": 78,
   "id": "4d717cec",
   "metadata": {},
   "outputs": [
    {
     "data": {
      "text/html": [
       "<div>\n",
       "<style scoped>\n",
       "    .dataframe tbody tr th:only-of-type {\n",
       "        vertical-align: middle;\n",
       "    }\n",
       "\n",
       "    .dataframe tbody tr th {\n",
       "        vertical-align: top;\n",
       "    }\n",
       "\n",
       "    .dataframe thead th {\n",
       "        text-align: right;\n",
       "    }\n",
       "</style>\n",
       "<table border=\"1\" class=\"dataframe\">\n",
       "  <thead>\n",
       "    <tr style=\"text-align: right;\">\n",
       "      <th></th>\n",
       "      <th>Unnamed: 0</th>\n",
       "      <th>Video Id</th>\n",
       "      <th>comment</th>\n",
       "      <th>time</th>\n",
       "      <th>displayID</th>\n",
       "      <th>id</th>\n",
       "      <th>comment_length</th>\n",
       "      <th>label</th>\n",
       "      <th>score</th>\n",
       "      <th>sentiment_map</th>\n",
       "    </tr>\n",
       "  </thead>\n",
       "  <tbody>\n",
       "    <tr>\n",
       "      <th>0</th>\n",
       "      <td>1</td>\n",
       "      <td>DOtPOfeyJ4Q</td>\n",
       "      <td>Hes not scamming his sister probably got it fo...</td>\n",
       "      <td>2022-11-04T15:04:13Z</td>\n",
       "      <td>The guy who asked</td>\n",
       "      <td>UCNijoEJw5z3p4689tey5oYw</td>\n",
       "      <td>17</td>\n",
       "      <td>Neutral</td>\n",
       "      <td>0.647104</td>\n",
       "      <td>0.2</td>\n",
       "    </tr>\n",
       "    <tr>\n",
       "      <th>1</th>\n",
       "      <td>2</td>\n",
       "      <td>DOtPOfeyJ4Q</td>\n",
       "      <td>He offered your money back definitely not a sc...</td>\n",
       "      <td>2022-11-04T14:57:57Z</td>\n",
       "      <td>F.B.I</td>\n",
       "      <td>UCXbuhDqmdm_M8UEOrQ77w6w</td>\n",
       "      <td>26</td>\n",
       "      <td>Neutral</td>\n",
       "      <td>0.533190</td>\n",
       "      <td>0.2</td>\n",
       "    </tr>\n",
       "    <tr>\n",
       "      <th>2</th>\n",
       "      <td>3</td>\n",
       "      <td>DOtPOfeyJ4Q</td>\n",
       "      <td>Isn’t it hard authenticate a signature. If Kob...</td>\n",
       "      <td>2022-11-04T14:54:47Z</td>\n",
       "      <td>Olti Hajdaraj</td>\n",
       "      <td>UCPOYMbZKAIN39YFsvMTZ-Uw</td>\n",
       "      <td>21</td>\n",
       "      <td>Negative</td>\n",
       "      <td>0.509651</td>\n",
       "      <td>-1.0</td>\n",
       "    </tr>\n",
       "    <tr>\n",
       "      <th>3</th>\n",
       "      <td>4</td>\n",
       "      <td>DOtPOfeyJ4Q</td>\n",
       "      <td>He answered the phone, definitely not trying t...</td>\n",
       "      <td>2022-11-04T14:49:10Z</td>\n",
       "      <td>Jordan</td>\n",
       "      <td>UCga1Isau1iPAlrezA6xoYSQ</td>\n",
       "      <td>13</td>\n",
       "      <td>Neutral</td>\n",
       "      <td>0.483931</td>\n",
       "      <td>0.2</td>\n",
       "    </tr>\n",
       "    <tr>\n",
       "      <th>4</th>\n",
       "      <td>5</td>\n",
       "      <td>DOtPOfeyJ4Q</td>\n",
       "      <td>The seller has a legit point tho. At the end o...</td>\n",
       "      <td>2022-11-04T14:44:37Z</td>\n",
       "      <td>AkMac11</td>\n",
       "      <td>UCXOWvLzEwtlUubgZhXJI-Hw</td>\n",
       "      <td>17</td>\n",
       "      <td>Neutral</td>\n",
       "      <td>0.628328</td>\n",
       "      <td>0.2</td>\n",
       "    </tr>\n",
       "  </tbody>\n",
       "</table>\n",
       "</div>"
      ],
      "text/plain": [
       "   Unnamed: 0     Video Id                                            comment  \\\n",
       "0           1  DOtPOfeyJ4Q  Hes not scamming his sister probably got it fo...   \n",
       "1           2  DOtPOfeyJ4Q  He offered your money back definitely not a sc...   \n",
       "2           3  DOtPOfeyJ4Q  Isn’t it hard authenticate a signature. If Kob...   \n",
       "3           4  DOtPOfeyJ4Q  He answered the phone, definitely not trying t...   \n",
       "4           5  DOtPOfeyJ4Q  The seller has a legit point tho. At the end o...   \n",
       "\n",
       "                   time          displayID                        id  \\\n",
       "0  2022-11-04T15:04:13Z  The guy who asked  UCNijoEJw5z3p4689tey5oYw   \n",
       "1  2022-11-04T14:57:57Z              F.B.I  UCXbuhDqmdm_M8UEOrQ77w6w   \n",
       "2  2022-11-04T14:54:47Z      Olti Hajdaraj  UCPOYMbZKAIN39YFsvMTZ-Uw   \n",
       "3  2022-11-04T14:49:10Z             Jordan  UCga1Isau1iPAlrezA6xoYSQ   \n",
       "4  2022-11-04T14:44:37Z            AkMac11  UCXOWvLzEwtlUubgZhXJI-Hw   \n",
       "\n",
       "   comment_length     label     score  sentiment_map  \n",
       "0              17   Neutral  0.647104            0.2  \n",
       "1              26   Neutral  0.533190            0.2  \n",
       "2              21  Negative  0.509651           -1.0  \n",
       "3              13   Neutral  0.483931            0.2  \n",
       "4              17   Neutral  0.628328            0.2  "
      ]
     },
     "execution_count": 78,
     "metadata": {},
     "output_type": "execute_result"
    }
   ],
   "source": [
    "df = pd.read_csv('data/all_comments_with_sentiment_scores.csv')\n",
    "\n",
    "mapping_func = {'Positive' : 1,\n",
    "               'Negative' : -1 ,\n",
    "               'Neutral' : 0.2}\n",
    "\n",
    "df['sentiment_map'] = df['label'].map(mapping_func)\n",
    "df.head()"
   ]
  },
  {
   "cell_type": "markdown",
   "id": "0c540e59",
   "metadata": {},
   "source": [
    "### Weighted sentiment"
   ]
  },
  {
   "cell_type": "code",
   "execution_count": 79,
   "id": "808b3dfc",
   "metadata": {},
   "outputs": [],
   "source": [
    "df['weighted_sentiment'] = df['sentiment_map'] * df['score']"
   ]
  },
  {
   "cell_type": "code",
   "execution_count": 86,
   "id": "62937274",
   "metadata": {},
   "outputs": [
    {
     "data": {
      "text/plain": [
       "<AxesSubplot:xlabel='weighted_sentiment', ylabel='Density'>"
      ]
     },
     "execution_count": 86,
     "metadata": {},
     "output_type": "execute_result"
    },
    {
     "data": {
      "image/png": "[encoded data removed]",
      "text/plain": [
       "<Figure size 432x288 with 1 Axes>"
      ]
     },
     "metadata": {
      "needs_background": "light"
     },
     "output_type": "display_data"
    }
   ],
   "source": [
    "sns.kdeplot(df['weighted_sentiment'] , fill = True)"
   ]
  },
  {
   "cell_type": "code",
   "execution_count": 81,
   "id": "7c9115a8",
   "metadata": {},
   "outputs": [],
   "source": [
    "df.to_csv('data/all_comments_with_sentiment_scores_weighted.csv')"
   ]
  },
  {
   "cell_type": "markdown",
   "id": "f4f4c137",
   "metadata": {},
   "source": [
    "### weighted_sentiment by grouped by video"
   ]
  },
  {
   "cell_type": "code",
   "execution_count": 4,
   "id": "45267946",
   "metadata": {},
   "outputs": [],
   "source": [
    "import pandas as pd\n",
    "import numpy as np\n",
    "import matplotlib.pyplot as plt\n",
    "import seaborn as sns\n",
    "\n",
    "df = pd.read_csv('data/all_comments_with_sentiment_scores_weighted.csv')\n",
    "weighted_sentiment_agg_vid = df.groupby('Video Id')['weighted_sentiment'].agg(['mean' , 'median' , 'std'])\n",
    "weighted_sentiment_agg_vid.reset_index(inplace = True)"
   ]
  },
  {
   "cell_type": "code",
   "execution_count": 8,
   "id": "701a35a0",
   "metadata": {},
   "outputs": [
    {
     "data": {
      "text/html": [
       "<div>\n",
       "<style scoped>\n",
       "    .dataframe tbody tr th:only-of-type {\n",
       "        vertical-align: middle;\n",
       "    }\n",
       "\n",
       "    .dataframe tbody tr th {\n",
       "        vertical-align: top;\n",
       "    }\n",
       "\n",
       "    .dataframe thead th {\n",
       "        text-align: right;\n",
       "    }\n",
       "</style>\n",
       "<table border=\"1\" class=\"dataframe\">\n",
       "  <thead>\n",
       "    <tr style=\"text-align: right;\">\n",
       "      <th></th>\n",
       "      <th>Video Id</th>\n",
       "      <th>mean</th>\n",
       "      <th>median</th>\n",
       "      <th>std</th>\n",
       "    </tr>\n",
       "  </thead>\n",
       "  <tbody>\n",
       "    <tr>\n",
       "      <th>0</th>\n",
       "      <td>-NeMQkXjzLQ</td>\n",
       "      <td>-0.066425</td>\n",
       "      <td>0.129703</td>\n",
       "      <td>0.550202</td>\n",
       "    </tr>\n",
       "    <tr>\n",
       "      <th>1</th>\n",
       "      <td>-hQCZGiwyUA</td>\n",
       "      <td>0.650249</td>\n",
       "      <td>0.909891</td>\n",
       "      <td>0.383607</td>\n",
       "    </tr>\n",
       "    <tr>\n",
       "      <th>2</th>\n",
       "      <td>0FXgNvNDqS8</td>\n",
       "      <td>0.287056</td>\n",
       "      <td>0.166229</td>\n",
       "      <td>0.518681</td>\n",
       "    </tr>\n",
       "    <tr>\n",
       "      <th>3</th>\n",
       "      <td>0JqbAZhncZ8</td>\n",
       "      <td>-0.213679</td>\n",
       "      <td>-0.600610</td>\n",
       "      <td>0.658120</td>\n",
       "    </tr>\n",
       "    <tr>\n",
       "      <th>4</th>\n",
       "      <td>0gJlInD47gw</td>\n",
       "      <td>-0.263380</td>\n",
       "      <td>-0.655285</td>\n",
       "      <td>0.685772</td>\n",
       "    </tr>\n",
       "    <tr>\n",
       "      <th>...</th>\n",
       "      <td>...</td>\n",
       "      <td>...</td>\n",
       "      <td>...</td>\n",
       "      <td>...</td>\n",
       "    </tr>\n",
       "    <tr>\n",
       "      <th>179</th>\n",
       "      <td>yYqWz-v9frA</td>\n",
       "      <td>-0.048377</td>\n",
       "      <td>0.129137</td>\n",
       "      <td>0.538907</td>\n",
       "    </tr>\n",
       "    <tr>\n",
       "      <th>180</th>\n",
       "      <td>ygsO-ExanEM</td>\n",
       "      <td>0.656781</td>\n",
       "      <td>0.916128</td>\n",
       "      <td>0.590811</td>\n",
       "    </tr>\n",
       "    <tr>\n",
       "      <th>181</th>\n",
       "      <td>z9MWIpKlhG8</td>\n",
       "      <td>-0.323747</td>\n",
       "      <td>-0.585163</td>\n",
       "      <td>0.560928</td>\n",
       "    </tr>\n",
       "    <tr>\n",
       "      <th>182</th>\n",
       "      <td>zKbnMJEpVkk</td>\n",
       "      <td>0.226797</td>\n",
       "      <td>0.150929</td>\n",
       "      <td>0.588072</td>\n",
       "    </tr>\n",
       "    <tr>\n",
       "      <th>183</th>\n",
       "      <td>zSyN4pW_tSg</td>\n",
       "      <td>0.364537</td>\n",
       "      <td>0.950150</td>\n",
       "      <td>1.039052</td>\n",
       "    </tr>\n",
       "  </tbody>\n",
       "</table>\n",
       "<p>184 rows × 4 columns</p>\n",
       "</div>"
      ],
      "text/plain": [
       "        Video Id      mean    median       std\n",
       "0    -NeMQkXjzLQ -0.066425  0.129703  0.550202\n",
       "1    -hQCZGiwyUA  0.650249  0.909891  0.383607\n",
       "2    0FXgNvNDqS8  0.287056  0.166229  0.518681\n",
       "3    0JqbAZhncZ8 -0.213679 -0.600610  0.658120\n",
       "4    0gJlInD47gw -0.263380 -0.655285  0.685772\n",
       "..           ...       ...       ...       ...\n",
       "179  yYqWz-v9frA -0.048377  0.129137  0.538907\n",
       "180  ygsO-ExanEM  0.656781  0.916128  0.590811\n",
       "181  z9MWIpKlhG8 -0.323747 -0.585163  0.560928\n",
       "182  zKbnMJEpVkk  0.226797  0.150929  0.588072\n",
       "183  zSyN4pW_tSg  0.364537  0.950150  1.039052\n",
       "\n",
       "[184 rows x 4 columns]"
      ]
     },
     "execution_count": 8,
     "metadata": {},
     "output_type": "execute_result"
    }
   ],
   "source": [
    "weighted_sentiment_agg_vid = pd.DataFrame(weighted_sentiment_agg_vid)\n",
    "weighted_sentiment_agg_vid"
   ]
  },
  {
   "cell_type": "markdown",
   "id": "cf6144ca",
   "metadata": {},
   "source": [
    "The next step for further analysis would be to merge this with a dataframe containing more information about the videos."
   ]
  },
  {
   "cell_type": "code",
   "execution_count": 7,
   "id": "200b08b5",
   "metadata": {},
   "outputs": [
    {
     "data": {
      "text/html": [
       "<div>\n",
       "<style scoped>\n",
       "    .dataframe tbody tr th:only-of-type {\n",
       "        vertical-align: middle;\n",
       "    }\n",
       "\n",
       "    .dataframe tbody tr th {\n",
       "        vertical-align: top;\n",
       "    }\n",
       "\n",
       "    .dataframe thead th {\n",
       "        text-align: right;\n",
       "    }\n",
       "</style>\n",
       "<table border=\"1\" class=\"dataframe\">\n",
       "  <thead>\n",
       "    <tr style=\"text-align: right;\">\n",
       "      <th></th>\n",
       "      <th>video_id</th>\n",
       "      <th>video_title</th>\n",
       "      <th>upload_date</th>\n",
       "      <th>view_count</th>\n",
       "      <th>like_count</th>\n",
       "      <th>comment_count</th>\n",
       "    </tr>\n",
       "  </thead>\n",
       "  <tbody>\n",
       "    <tr>\n",
       "      <th>0</th>\n",
       "      <td>DOtPOfeyJ4Q</td>\n",
       "      <td>Confronting the seller of a questionable Kobe ...</td>\n",
       "      <td>2022-11-02</td>\n",
       "      <td>781610</td>\n",
       "      <td>62761</td>\n",
       "      <td>447</td>\n",
       "    </tr>\n",
       "    <tr>\n",
       "      <th>1</th>\n",
       "      <td>ZrZVTAdSMl8</td>\n",
       "      <td>Do experts think my cheap Kobe autograph is real?</td>\n",
       "      <td>2022-11-01</td>\n",
       "      <td>113539</td>\n",
       "      <td>9483</td>\n",
       "      <td>57</td>\n",
       "    </tr>\n",
       "    <tr>\n",
       "      <th>2</th>\n",
       "      <td>_DcZFOirIDE</td>\n",
       "      <td>Anyone need a new camera?</td>\n",
       "      <td>2022-11-01</td>\n",
       "      <td>40723</td>\n",
       "      <td>3162</td>\n",
       "      <td>3230</td>\n",
       "    </tr>\n",
       "    <tr>\n",
       "      <th>3</th>\n",
       "      <td>JVHboSk65-k</td>\n",
       "      <td>I asked collectors if my cheap Kobe autographs...</td>\n",
       "      <td>2022-10-31</td>\n",
       "      <td>971564</td>\n",
       "      <td>78562</td>\n",
       "      <td>70</td>\n",
       "    </tr>\n",
       "    <tr>\n",
       "      <th>4</th>\n",
       "      <td>nxy-A8auW9U</td>\n",
       "      <td>Unboxing a $400 Kobe autographed ball (real?)</td>\n",
       "      <td>2022-10-28</td>\n",
       "      <td>501415</td>\n",
       "      <td>46803</td>\n",
       "      <td>70</td>\n",
       "    </tr>\n",
       "    <tr>\n",
       "      <th>...</th>\n",
       "      <td>...</td>\n",
       "      <td>...</td>\n",
       "      <td>...</td>\n",
       "      <td>...</td>\n",
       "      <td>...</td>\n",
       "      <td>...</td>\n",
       "    </tr>\n",
       "    <tr>\n",
       "      <th>179</th>\n",
       "      <td>G64RvvjWadc</td>\n",
       "      <td>9 Side Hustles That Are Slept On In 2021 ($200...</td>\n",
       "      <td>2021-05-27</td>\n",
       "      <td>3058</td>\n",
       "      <td>175</td>\n",
       "      <td>9</td>\n",
       "    </tr>\n",
       "    <tr>\n",
       "      <th>180</th>\n",
       "      <td>qlPG818l_Yc</td>\n",
       "      <td>I Tried Dropshipping A Dollar Tree Product (72...</td>\n",
       "      <td>2021-04-30</td>\n",
       "      <td>2206</td>\n",
       "      <td>95</td>\n",
       "      <td>10</td>\n",
       "    </tr>\n",
       "    <tr>\n",
       "      <th>181</th>\n",
       "      <td>GKgZiqBsxds</td>\n",
       "      <td>Zero To 500k On Facebook In 1 Year | Full Step...</td>\n",
       "      <td>2021-03-30</td>\n",
       "      <td>1080</td>\n",
       "      <td>81</td>\n",
       "      <td>10</td>\n",
       "    </tr>\n",
       "    <tr>\n",
       "      <th>182</th>\n",
       "      <td>Kxxxtkioncc</td>\n",
       "      <td>I Tried Dropshipping From Scratch (24HR CHALLE...</td>\n",
       "      <td>2021-03-10</td>\n",
       "      <td>7339</td>\n",
       "      <td>397</td>\n",
       "      <td>55</td>\n",
       "    </tr>\n",
       "    <tr>\n",
       "      <th>183</th>\n",
       "      <td>-hQCZGiwyUA</td>\n",
       "      <td>How I Started A Million Dollar Business From M...</td>\n",
       "      <td>2021-02-23</td>\n",
       "      <td>6467</td>\n",
       "      <td>405</td>\n",
       "      <td>37</td>\n",
       "    </tr>\n",
       "  </tbody>\n",
       "</table>\n",
       "<p>184 rows × 6 columns</p>\n",
       "</div>"
      ],
      "text/plain": [
       "        video_id                                        video_title  \\\n",
       "0    DOtPOfeyJ4Q  Confronting the seller of a questionable Kobe ...   \n",
       "1    ZrZVTAdSMl8  Do experts think my cheap Kobe autograph is real?   \n",
       "2    _DcZFOirIDE                          Anyone need a new camera?   \n",
       "3    JVHboSk65-k  I asked collectors if my cheap Kobe autographs...   \n",
       "4    nxy-A8auW9U      Unboxing a $400 Kobe autographed ball (real?)   \n",
       "..           ...                                                ...   \n",
       "179  G64RvvjWadc  9 Side Hustles That Are Slept On In 2021 ($200...   \n",
       "180  qlPG818l_Yc  I Tried Dropshipping A Dollar Tree Product (72...   \n",
       "181  GKgZiqBsxds  Zero To 500k On Facebook In 1 Year | Full Step...   \n",
       "182  Kxxxtkioncc  I Tried Dropshipping From Scratch (24HR CHALLE...   \n",
       "183  -hQCZGiwyUA  How I Started A Million Dollar Business From M...   \n",
       "\n",
       "    upload_date  view_count  like_count  comment_count  \n",
       "0    2022-11-02      781610       62761            447  \n",
       "1    2022-11-01      113539        9483             57  \n",
       "2    2022-11-01       40723        3162           3230  \n",
       "3    2022-10-31      971564       78562             70  \n",
       "4    2022-10-28      501415       46803             70  \n",
       "..          ...         ...         ...            ...  \n",
       "179  2021-05-27        3058         175              9  \n",
       "180  2021-04-30        2206          95             10  \n",
       "181  2021-03-30        1080          81             10  \n",
       "182  2021-03-10        7339         397             55  \n",
       "183  2021-02-23        6467         405             37  \n",
       "\n",
       "[184 rows x 6 columns]"
      ]
     },
     "execution_count": 7,
     "metadata": {},
     "output_type": "execute_result"
    }
   ],
   "source": [
    "video_info = pd.read_csv('data/video_info.csv')\n",
    "video_info.drop('Unnamed: 0' , axis = 1 , inplace = True)\n",
    "video_info"
   ]
  },
  {
   "cell_type": "markdown",
   "id": "78188185",
   "metadata": {},
   "source": [
    "This dataframe contains the **video title , upload_date , view_count , like_count , and total comment count**. Merging the aggregated sentiment data leads to some interesting insights."
   ]
  },
  {
   "cell_type": "markdown",
   "id": "b3cd342d",
   "metadata": {},
   "source": [
    "## Merging with other video info"
   ]
  },
  {
   "cell_type": "code",
   "execution_count": 9,
   "id": "f865157c",
   "metadata": {},
   "outputs": [
    {
     "data": {
      "text/plain": [
       "(184, 10)"
      ]
     },
     "execution_count": 9,
     "metadata": {},
     "output_type": "execute_result"
    }
   ],
   "source": [
    "video_info_with_sentiment = video_info.merge(right = weighted_sentiment_agg_vid ,how = 'inner'  , left_on = 'video_id' , right_on = 'Video Id')\n",
    "video_info_with_sentiment.shape"
   ]
  },
  {
   "cell_type": "code",
   "execution_count": 11,
   "id": "a9a2d1d0",
   "metadata": {},
   "outputs": [
    {
     "data": {
      "text/plain": [
       "Index(['video_id', 'video_title', 'upload_date', 'view_count', 'like_count',\n",
       "       'comment_count', 'mean', 'median', 'std'],\n",
       "      dtype='object')"
      ]
     },
     "execution_count": 11,
     "metadata": {},
     "output_type": "execute_result"
    }
   ],
   "source": [
    "video_info_with_sentiment.drop('Video Id' , axis = 1 , inplace = True)\n",
    "video_info_with_sentiment.columns"
   ]
  },
  {
   "cell_type": "code",
   "execution_count": 12,
   "id": "aeb94be4",
   "metadata": {},
   "outputs": [
    {
     "data": {
      "text/plain": [
       "Index(['video_id', 'video_title', 'upload_date', 'view_count', 'like_count',\n",
       "       'comment_count', 'mean_weighted_sentiment_score',\n",
       "       'median_weighted_sentiment_score', 'std_weighted_sentiment_score'],\n",
       "      dtype='object')"
      ]
     },
     "execution_count": 12,
     "metadata": {},
     "output_type": "execute_result"
    }
   ],
   "source": [
    "video_info_with_sentiment.rename({\n",
    "    'mean' : 'mean_weighted_sentiment_score',\n",
    "    'median' : 'median_weighted_sentiment_score',\n",
    "    'std' : 'std_weighted_sentiment_score'\n",
    "}, axis = 1 , inplace = True)\n",
    "\n",
    "video_info_with_sentiment.columns"
   ]
  },
  {
   "cell_type": "markdown",
   "id": "360a27eb",
   "metadata": {},
   "source": [
    "Looking at some of the rows I noticed that many of the earlier videos had fewer comments. Because of this I decided to set a threshold for the number of comments and will not include videos with less than 30 comments in my analysis"
   ]
  },
  {
   "cell_type": "code",
   "execution_count": 24,
   "id": "e68ceea0",
   "metadata": {},
   "outputs": [
    {
     "data": {
      "text/plain": [
       "(147, 9)"
      ]
     },
     "execution_count": 24,
     "metadata": {},
     "output_type": "execute_result"
    }
   ],
   "source": [
    "num_comments_threshold = video_info_with_sentiment['comment_count'].quantile(0.20)\n",
    "video_info_with_sentiment = video_info_with_sentiment[video_info_with_sentiment['comment_count'] >= num_comments_threshold]\n",
    "video_info_with_sentiment.shape"
   ]
  },
  {
   "cell_type": "code",
   "execution_count": 25,
   "id": "0a111ce6",
   "metadata": {},
   "outputs": [
    {
     "data": {
      "text/plain": [
       "Index(['video_id', 'video_title', 'upload_date', 'view_count', 'like_count',\n",
       "       'comment_count', 'mean_weighted_sentiment_score',\n",
       "       'median_weighted_sentiment_score', 'std_weighted_sentiment_score'],\n",
       "      dtype='object')"
      ]
     },
     "execution_count": 25,
     "metadata": {},
     "output_type": "execute_result"
    }
   ],
   "source": [
    "video_info_with_sentiment.columns"
   ]
  },
  {
   "cell_type": "markdown",
   "id": "22ec7eae",
   "metadata": {},
   "source": [
    "## Video Analysis"
   ]
  },
  {
   "cell_type": "markdown",
   "id": "0ee8eea0",
   "metadata": {},
   "source": [
    "### Turning the weighted sentiment score into a label"
   ]
  },
  {
   "cell_type": "code",
   "execution_count": 26,
   "id": "d3786a54",
   "metadata": {},
   "outputs": [],
   "source": [
    "def sentiment_category(sentiment_score):\n",
    "    if sentiment_score >= 0.1:\n",
    "        return 'Positive'\n",
    "    elif sentiment_score <= -0.1:\n",
    "        return 'Negative'\n",
    "    else:\n",
    "        return 'Neutral'"
   ]
  },
  {
   "cell_type": "code",
   "execution_count": 29,
   "id": "09815cd9",
   "metadata": {},
   "outputs": [
    {
     "data": {
      "text/plain": [
       "Index(['video_id', 'video_title', 'upload_date', 'view_count', 'like_count',\n",
       "       'comment_count', 'mean_weighted_sentiment_score',\n",
       "       'median_weighted_sentiment_score', 'std_weighted_sentiment_score',\n",
       "       'sentiment_label'],\n",
       "      dtype='object')"
      ]
     },
     "execution_count": 29,
     "metadata": {},
     "output_type": "execute_result"
    }
   ],
   "source": [
    "video_info_with_sentiment['sentiment_label'] = video_info_with_sentiment['mean_weighted_sentiment_score'].apply(sentiment_category)"
   ]
  },
  {
   "cell_type": "code",
   "execution_count": 33,
   "id": "4c499395",
   "metadata": {},
   "outputs": [
    {
     "data": {
      "text/plain": [
       "Index(['video_id', 'video_title', 'upload_date', 'view_count', 'like_count',\n",
       "       'comment_count', 'mean_weighted_sentiment_score',\n",
       "       'median_weighted_sentiment_score', 'std_weighted_sentiment_score',\n",
       "       'sentiment_label'],\n",
       "      dtype='object')"
      ]
     },
     "execution_count": 33,
     "metadata": {},
     "output_type": "execute_result"
    }
   ],
   "source": [
    "video_info_with_sentiment.columns"
   ]
  },
  {
   "cell_type": "code",
   "execution_count": 28,
   "id": "55d1dba1",
   "metadata": {},
   "outputs": [
    {
     "data": {
      "text/plain": [
       "Positive    55\n",
       "Negative    52\n",
       "Neutral     40\n",
       "Name: sentiment_label, dtype: int64"
      ]
     },
     "execution_count": 28,
     "metadata": {},
     "output_type": "execute_result"
    }
   ],
   "source": [
    "video_info_with_sentiment.sentiment_label.value_counts()"
   ]
  },
  {
   "cell_type": "code",
   "execution_count": 36,
   "id": "72e49f47",
   "metadata": {},
   "outputs": [],
   "source": [
    "video_info_with_sentiment.to_csv('data/video_info_with_sentiment.csv')"
   ]
  },
  {
   "cell_type": "markdown",
   "id": "222fd625",
   "metadata": {},
   "source": [
    "### Visualizations"
   ]
  },
  {
   "cell_type": "code",
   "execution_count": 31,
   "id": "7f645e5c",
   "metadata": {},
   "outputs": [
    {
     "data": {
      "application/vnd.plotly.v1+json": {
       "config": {
        "plotlyServerURL": "https://plot.ly"
       },
       "data": [
        {
         "customdata": [
          [
           "Confronting the seller of a questionable Kobe autograph",
           "2022-11-02"
          ],
          [
           "I bought a $400 Kobe autographed basketball (sus?)",
           "2022-10-28"
          ],
          [
           "I bought the cheapest Kobe autographed ball online",
           "2022-10-26"
          ],
          [
           "I manufactured Yeezy sunglasses from scratch",
           "2022-10-12"
          ],
          [
           "How I profited off the fidget spinner craze",
           "2022-10-04"
          ],
          [
           "My best finds at the thrift store (as a reseller)",
           "2022-09-17"
          ],
          [
           "Testing the world’s brightest flashlight OUTSIDE",
           "2022-09-08"
          ],
          [
           "I paid an artist $20 to turn Yeezy sneakers into sunglasses",
           "2022-09-01"
          ],
          [
           "The unfortunate truth of many US “factories”",
           "2022-08-29"
          ],
          [
           "Valuing the gold I found in Amazon pay dirt",
           "2022-08-24"
          ],
          [
           "He sold me fake Pokémon cards… maybe?",
           "2022-08-12"
          ],
          [
           "He had 0 viewers… so I sent him $ for bitcoin",
           "2022-08-11"
          ],
          [
           "Revealing My Entire Pokémon Investment",
           "2022-08-08"
          ],
          [
           "How she started a $10mil per year “side hustle”",
           "2022-07-28"
          ],
          [
           "I bought a questionable pineapple…",
           "2022-07-20"
          ],
          [
           "I paid Fiverr to redesign my product packaging",
           "2022-07-14"
          ],
          [
           "I tried turning $21 into $100 in profit (30min challenge)",
           "2022-07-12"
          ],
          [
           "Taste testing the most expensive water on Amazon",
           "2022-07-07"
          ],
          [
           "I’m building a sunglasses brand to compete with Rayban (ep.2)",
           "2022-06-28"
          ],
          [
           "I Bought The Cheapest Rolex On eBay",
           "2022-06-08"
          ],
          [
           "Make this ONE change to 2x your eBay/Amazon sales",
           "2022-05-20"
          ],
          [
           "I tried dropshipping… here’s how much I made",
           "2022-05-10"
          ],
          [
           "I bought a Pokémon collection to flip for profit (AGAIN)",
           "2022-04-29"
          ],
          [
           "Jason Derulo DM’d me… (here’s why)",
           "2022-04-22"
          ],
          [
           "I tried making a pro commercial for under $500",
           "2022-04-21"
          ],
          [
           "I upgraded my $ making hotspot (week 2 results)",
           "2022-03-10"
          ],
          [
           "What influencers actually get for free…",
           "2022-03-08"
          ],
          [
           "I built a sunglasses brand to compete with Ray-Ban",
           "2022-02-24"
          ],
          [
           "How much my T-shirt store made from $100 in Fb ads",
           "2022-02-17"
          ],
          [
           "Ranking side hustles I’ve tried from worst to best",
           "2022-02-14"
          ],
          [
           "My funniest flip I’ve ever done (made good $ tho)",
           "2022-02-10"
          ],
          [
           "I tried the golf club flipping side hustle (it works)",
           "2022-02-08"
          ],
          [
           "How to grow $1k into $1mil online (what I did)",
           "2022-02-04"
          ],
          [
           "I made a chain so I can wear my NFT’s…",
           "2022-02-02"
          ],
          [
           "How much my Pokémon cards investment is worth 💰",
           "2022-01-26"
          ],
          [
           "At 25yo I was doing $100k per month on eBay",
           "2022-01-24"
          ],
          [
           "I tried making $ with smaller NFT projects…",
           "2022-01-18"
          ],
          [
           "My New Money Printing Tablet Farm",
           "2022-01-07"
          ],
          [
           "I tried finding profitable sneakers at Kohl’s 😖",
           "2021-10-20"
          ],
          [
           "Were these brand names from Fiverr worth $50? 😖",
           "2021-10-07"
          ]
         ],
         "hovertemplate": "sentiment_label=Neutral<br>comment_count=%{x}<br>view_count=%{y}<br>video_title=%{customdata[0]}<br>upload_date=%{customdata[1]}<extra></extra>",
         "legendgroup": "Neutral",
         "marker": {
          "color": "#636efa",
          "symbol": "circle"
         },
         "mode": "markers",
         "name": "Neutral",
         "orientation": "v",
         "showlegend": true,
         "type": "scatter",
         "x": [
          447,
          88,
          68,
          203,
          260,
          67,
          135,
          645,
          62,
          255,
          493,
          87,
          830,
          116,
          4680,
          2753,
          414,
          1515,
          417,
          1410,
          202,
          91,
          457,
          55,
          105,
          204,
          116,
          1119,
          85,
          698,
          55,
          64,
          136,
          103,
          2566,
          164,
          83,
          245,
          150,
          63
         ],
         "xaxis": "x",
         "y": [
          781610,
          1469829,
          455423,
          455182,
          3004250,
          96751,
          229984,
          4234596,
          200262,
          625339,
          421491,
          157334,
          2756855,
          180821,
          10616068,
          7941682,
          1952270,
          3095865,
          771667,
          221018,
          1075509,
          267343,
          1533920,
          149995,
          150244,
          541794,
          270517,
          2644327,
          396180,
          3036555,
          176373,
          201786,
          268687,
          98791,
          14570731,
          521855,
          141519,
          225342,
          650797,
          48474
         ],
         "yaxis": "y"
        },
        {
         "customdata": [
          [
           "Do experts think my cheap Kobe autograph is real?",
           "2022-11-01"
          ],
          [
           "Anyone need a new camera?",
           "2022-11-01"
          ],
          [
           "I asked collectors if my cheap Kobe autographs are real",
           "2022-10-31"
          ],
          [
           "I bought $500 worth of G-Shock￼￼ watches",
           "2022-10-14"
          ],
          [
           "I Turned Yeezy Sneakers Into Sunglasses",
           "2022-10-06"
          ],
          [
           "Easy Amazon side hustle - sell books with no words #ad",
           "2022-10-03"
          ],
          [
           "I made a 3D printed 500k YouTube play button",
           "2022-10-01"
          ],
          [
           "Make $1700 A Month Selling Books On Amazon - Easy Side Hustle - No Writing Required",
           "2022-09-28"
          ],
          [
           "These boring glasses made me thousands online",
           "2022-09-14"
          ],
          [
           "I bought the brightest flashlight in the world ($700)",
           "2022-09-07"
          ],
          [
           "Unboxing the brightest flashlight in the world ($700)",
           "2022-09-07"
          ],
          [
           "Picking the winner of the MacBook…",
           "2022-09-05"
          ],
          [
           "I Bought Gold Pay Dirt And Made $______",
           "2022-08-19"
          ],
          [
           "saying goodbye…",
           "2022-08-03"
          ],
          [
           "I Tried The Amazon Affiliate Side Hustle (how much I made)",
           "2022-07-27"
          ],
          [
           "I Tried Selling Amazon Products With Memes",
           "2022-07-25"
          ],
          [
           "The science behind my new YouTube thumbnail…",
           "2022-07-11"
          ],
          [
           "I Tried Relaunching My Failed Business - Ep.1",
           "2022-06-24"
          ],
          [
           "I tried hyper realistic VR gaming (zombie edition)",
           "2022-06-16"
          ],
          [
           "My Money Printing Tablet Farm Journey (How much I made)",
           "2022-05-24"
          ],
          [
           "My sneaky plan to monetize my meme page…",
           "2022-05-18"
          ],
          [
           "How my failed business started my new career…",
           "2022-05-11"
          ],
          [
           "I bought a Crushmetric SwitchPen (for research)",
           "2022-05-02"
          ],
          [
           "My biggest viral video flop all time…",
           "2022-04-26"
          ],
          [
           "Jidion’s secret to growing 4mil subs in 1 year…",
           "2022-04-18"
          ],
          [
           "How I used 1 viral video to grow my business FAST",
           "2022-04-13"
          ],
          [
           "My biggest failure as an entrepreneur…",
           "2022-04-12"
          ],
          [
           "Upgrading my office into a video studio for $100",
           "2022-04-08"
          ],
          [
           "Giving streamers with 0 viewers $ to buy bitcoin",
           "2022-03-31"
          ],
          [
           "Unboxing my 100k play button  my best YT advice",
           "2022-03-29"
          ],
          [
           "I asked a $100m CEO: “is college worth it?”",
           "2022-03-26"
          ],
          [
           "How I find niche $ making products on eBay",
           "2022-03-17"
          ],
          [
           "How I grew from 1k-100k subscribers in 1 week",
           "2022-03-12"
          ],
          [
           "I built a dropshipping store from a cozy cabin",
           "2022-03-09"
          ],
          [
           "I tried starting a streetwear brand for $70",
           "2022-03-07"
          ],
          [
           "I made a diamond play button out of paper",
           "2022-03-02"
          ],
          [
           "I asked a 9 figure ecom CEO if FB ads still work",
           "2022-02-25"
          ],
          [
           "A multimillionaire CEO’s secret manufacturing tip",
           "2022-02-18"
          ],
          [
           "My biggest struggle as an entrepreneur",
           "2022-02-15"
          ],
          [
           "It took me 1 year to get 1k YouTube subs… 😭",
           "2022-01-27"
          ],
          [
           "I Paid Fiverr Video Editors To Make A Commercial",
           "2022-01-25"
          ],
          [
           "I tried the print on demand t-shirt side hustle",
           "2022-01-20"
          ],
          [
           "How I&#39;ve Been Doubling My Money With NFT&#39;s",
           "2022-01-19"
          ],
          [
           "Dropshipping From A Cabin In The Woods (24HR Challenge)",
           "2021-10-15"
          ],
          [
           "10k today or 1 Bitcoin in 5 years? (on Omegle…)",
           "2021-10-05"
          ],
          [
           "The Trick To The YouTube Shorts Algorithm…",
           "2021-09-30"
          ],
          [
           "My first product I designed  manufactured 😖",
           "2021-09-29"
          ],
          [
           "My Day As A Small YouTuber Trying To Make It (Raw Footage)",
           "2021-09-25"
          ],
          [
           "I Bought A Billboard To Grow My Instagram",
           "2021-09-07"
          ],
          [
           "I Tried Making Money With Virtual Horse Racing",
           "2021-08-31"
          ],
          [
           "I paid $1365 for a product commercial on Fiverr… Was it worth it?",
           "2021-08-06"
          ],
          [
           "I PAID someone on FIVERR to EDIT my commercial",
           "2021-07-26"
          ],
          [
           "1 Hour Shopify Dropshipping Challenge (FROM SCRATCH)",
           "2021-06-23"
          ],
          [
           "I Tried Dropshipping From Scratch (24HR CHALLENGE)",
           "2021-03-10"
          ],
          [
           "How I Started A Million Dollar Business From My Mom&#39;s Basement",
           "2021-02-23"
          ]
         ],
         "hovertemplate": "sentiment_label=Positive<br>comment_count=%{x}<br>view_count=%{y}<br>video_title=%{customdata[0]}<br>upload_date=%{customdata[1]}<extra></extra>",
         "legendgroup": "Positive",
         "marker": {
          "color": "#EF553B",
          "symbol": "circle"
         },
         "mode": "markers",
         "name": "Positive",
         "orientation": "v",
         "showlegend": true,
         "type": "scatter",
         "x": [
          57,
          3230,
          70,
          1536,
          70,
          30,
          39,
          90,
          32,
          53,
          35,
          59,
          230,
          2622,
          99,
          77,
          72,
          85,
          98,
          114,
          176,
          68,
          56,
          32,
          30,
          39,
          94,
          44,
          89,
          57,
          49,
          52,
          48,
          77,
          534,
          350,
          35,
          338,
          41,
          69,
          2473,
          40,
          53,
          44,
          38,
          70,
          65,
          40,
          31,
          32,
          40,
          31,
          30,
          55,
          37
         ],
         "xaxis": "x",
         "y": [
          113539,
          40723,
          971564,
          1162979,
          9368,
          48959,
          49641,
          10834,
          91084,
          109407,
          50759,
          53219,
          37322,
          215543,
          385224,
          39091,
          183171,
          16078,
          453980,
          32861,
          252723,
          196201,
          192329,
          155055,
          96684,
          144830,
          113690,
          112897,
          122581,
          76442,
          103689,
          116564,
          88116,
          205689,
          530461,
          2674456,
          186803,
          1092992,
          199155,
          144452,
          1744928,
          104785,
          27500,
          13284,
          46069,
          71412,
          35346,
          4019,
          4684,
          12304,
          17177,
          26455,
          5155,
          7339,
          6467
         ],
         "yaxis": "y"
        },
        {
         "customdata": [
          [
           "Unboxing a $400 Kobe autographed ball (real?)",
           "2022-10-28"
          ],
          [
           "Is the cheapest Kobe autographed ball online real?",
           "2022-10-26"
          ],
          [
           "How much gold I found in $100 Amazon pay dirt",
           "2022-10-20"
          ],
          [
           "I paid artists $200 to turn Yeezys into sunglasses (foam runners)",
           "2022-10-11"
          ],
          [
           "How to make $200 a day with a drone",
           "2022-09-23"
          ],
          [
           "I got a gadget filled mystery box in the mail #shorts #sponsored",
           "2022-08-31"
          ],
          [
           "How much gold I found in Amazon pay dirt",
           "2022-08-23"
          ],
          [
           "Is Gold Pay Dirt A Good Side Hustle?",
           "2022-08-22"
          ],
          [
           "How much my money making hotspot has made",
           "2022-08-18"
          ],
          [
           "I tested the midnight Walmart side hustle",
           "2022-08-05"
          ],
          [
           "I started a clothing brand for under $100 #shorts #ad",
           "2022-08-04"
          ],
          [
           "How much iPhone box costs to make in USA vs. China",
           "2022-07-30"
          ],
          [
           "Is Amazon Affiliate Marketing a Good Side Hustle?",
           "2022-07-26"
          ],
          [
           "I’m turning a meme page into a business",
           "2022-07-22"
          ],
          [
           "I’m investing in $100 empty boxes #shorts #sponsored",
           "2022-07-18"
          ],
          [
           "I bought the most expensive water on Amazon",
           "2022-07-05"
          ],
          [
           "I tried going viral as a small brand",
           "2022-07-01"
          ],
          [
           "I tried upgrading my money making hotspot (helium update PT.5)",
           "2022-06-25"
          ],
          [
           "They were trying to disguise their side hustle…",
           "2022-06-24"
          ],
          [
           "Did this seller scam me with her rolex?",
           "2022-06-22"
          ],
          [
           "I tried finding profitable flips (ELON MUSK EDITION)",
           "2022-06-18"
          ],
          [
           "Surprising her with the cheapest rolex on eBay",
           "2022-06-13"
          ],
          [
           "Confronting the seller of the “cheapest rolex on ebay”",
           "2022-06-10"
          ],
          [
           "Is the cheapest rolex on eBay real?",
           "2022-06-09"
          ],
          [
           "Unboxing the cheapest rolex on eBay",
           "2022-06-03"
          ],
          [
           "I bought the cheapest rolex on eBay…",
           "2022-06-02"
          ],
          [
           "Did I find real Yeezy slides?",
           "2022-05-30"
          ],
          [
           "Asking Rolex dealers if I can film in their store",
           "2022-05-28"
          ],
          [
           "I looked for profit in a RICH CITY thrift store",
           "2022-05-27"
          ],
          [
           "I tried making money with unclaimed mail",
           "2022-05-22"
          ],
          [
           "I just UPGRADED my money making hotspot (helium update PT.4)",
           "2022-05-13"
          ],
          [
           "I tried finding profitable flips at Walmart (in a RICH city 💰)",
           "2022-05-06"
          ],
          [
           "I tried flipping sneakers from the Nike outlet",
           "2022-04-15"
          ],
          [
           "Comparing PRIME to Powerade (will this brand win?)",
           "2022-04-05"
          ],
          [
           "I tried finding profitable flips at Walmart AGAIN",
           "2022-04-01"
          ],
          [
           "I tried finding profitable flips at Goodwill…",
           "2022-03-24"
          ],
          [
           "Why I spent $3k on a full send metacard NFT (Nelk)",
           "2022-03-15"
          ],
          [
           "I spent $100 on Pokémon cards to flip for profit",
           "2022-03-03"
          ],
          [
           "How much $ I’ve made helium mining (Week 1)",
           "2022-02-28"
          ],
          [
           "I tried finding profitable flips at Walmart…",
           "2022-02-25"
          ],
          [
           "I bought a wireless hotspot that makes me money",
           "2022-02-22"
          ],
          [
           "I paid Fiverr $30 and $120 to design NFT’s (comparison)",
           "2022-02-11"
          ],
          [
           "How I made my NFT chain (step by step)",
           "2022-02-07"
          ],
          [
           "“Drama” YouTubers are making a lot of money rn…",
           "2022-02-05"
          ],
          [
           "Why I’m not selling NFT’s ever again…",
           "2022-01-31"
          ],
          [
           "How I built a tablet farm that makes me money…",
           "2022-01-28"
          ],
          [
           "How much I made selling dollar store items online…",
           "2022-01-17"
          ],
          [
           "Trying to turn $0 into $10k from scratch 💰",
           "2021-10-28"
          ],
          [
           "I tried flipping NFTs… here’s how much I made.",
           "2021-10-27"
          ],
          [
           "I got thumbnail advice from MrBeast 😏",
           "2021-09-02"
          ],
          [
           "How Yeti Charges $35 For A Cup…",
           "2021-08-04"
          ],
          [
           "The genius marketing behind NELK  Full Send…",
           "2021-08-02"
          ]
         ],
         "hovertemplate": "sentiment_label=Negative<br>comment_count=%{x}<br>view_count=%{y}<br>video_title=%{customdata[0]}<br>upload_date=%{customdata[1]}<extra></extra>",
         "legendgroup": "Negative",
         "marker": {
          "color": "#00cc96",
          "symbol": "circle"
         },
         "mode": "markers",
         "name": "Negative",
         "orientation": "v",
         "showlegend": true,
         "type": "scatter",
         "x": [
          70,
          220,
          606,
          213,
          814,
          154,
          778,
          420,
          246,
          686,
          98,
          5859,
          221,
          176,
          475,
          4078,
          536,
          651,
          33,
          152,
          173,
          1289,
          626,
          2162,
          234,
          293,
          549,
          67,
          744,
          728,
          774,
          567,
          852,
          66,
          470,
          785,
          441,
          1015,
          1206,
          4176,
          1255,
          1394,
          152,
          61,
          268,
          4414,
          493,
          1026,
          1917,
          225,
          691,
          109
         ],
         "xaxis": "x",
         "y": [
          501415,
          2103937,
          1835207,
          1871976,
          1729501,
          211944,
          5827039,
          1844903,
          866417,
          1837882,
          188385,
          5546984,
          2018008,
          269367,
          1681458,
          7633883,
          3554636,
          2370984,
          231893,
          853458,
          806622,
          1316230,
          1234922,
          30106646,
          546741,
          1160878,
          4074711,
          228490,
          1861965,
          3214566,
          3348675,
          2116905,
          5004675,
          93456,
          2057610,
          1220806,
          508914,
          4554853,
          2900702,
          16236845,
          6163849,
          2493035,
          223064,
          154648,
          435588,
          13609004,
          1452106,
          4715317,
          4474616,
          532261,
          1038455,
          154792
         ],
         "yaxis": "y"
        }
       ],
       "layout": {
        "legend": {
         "title": {
          "text": "sentiment_label"
         },
         "tracegroupgap": 0
        },
        "template": {
         "data": {
          "bar": [
           {
            "error_x": {
             "color": "#2a3f5f"
            },
            "error_y": {
             "color": "#2a3f5f"
            },
            "marker": {
             "line": {
              "color": "#E5ECF6",
              "width": 0.5
             },
             "pattern": {
              "fillmode": "overlay",
              "size": 10,
              "solidity": 0.2
             }
            },
            "type": "bar"
           }
          ],
          "barpolar": [
           {
            "marker": {
             "line": {
              "color": "#E5ECF6",
              "width": 0.5
             },
             "pattern": {
              "fillmode": "overlay",
              "size": 10,
              "solidity": 0.2
             }
            },
            "type": "barpolar"
           }
          ],
          "carpet": [
           {
            "aaxis": {
             "endlinecolor": "#2a3f5f",
             "gridcolor": "white",
             "linecolor": "white",
             "minorgridcolor": "white",
             "startlinecolor": "#2a3f5f"
            },
            "baxis": {
             "endlinecolor": "#2a3f5f",
             "gridcolor": "white",
             "linecolor": "white",
             "minorgridcolor": "white",
             "startlinecolor": "#2a3f5f"
            },
            "type": "carpet"
           }
          ],
          "choropleth": [
           {
            "colorbar": {
             "outlinewidth": 0,
             "ticks": ""
            },
            "type": "choropleth"
           }
          ],
          "contour": [
           {
            "colorbar": {
             "outlinewidth": 0,
             "ticks": ""
            },
            "colorscale": [
             [
              0,
              "#0d0887"
             ],
             [
              0.1111111111111111,
              "#46039f"
             ],
             [
              0.2222222222222222,
              "#7201a8"
             ],
             [
              0.3333333333333333,
              "#9c179e"
             ],
             [
              0.4444444444444444,
              "#bd3786"
             ],
             [
              0.5555555555555556,
              "#d8576b"
             ],
             [
              0.6666666666666666,
              "#ed7953"
             ],
             [
              0.7777777777777778,
              "#fb9f3a"
             ],
             [
              0.8888888888888888,
              "#fdca26"
             ],
             [
              1,
              "#f0f921"
             ]
            ],
            "type": "contour"
           }
          ],
          "contourcarpet": [
           {
            "colorbar": {
             "outlinewidth": 0,
             "ticks": ""
            },
            "type": "contourcarpet"
           }
          ],
          "heatmap": [
           {
            "colorbar": {
             "outlinewidth": 0,
             "ticks": ""
            },
            "colorscale": [
             [
              0,
              "#0d0887"
             ],
             [
              0.1111111111111111,
              "#46039f"
             ],
             [
              0.2222222222222222,
              "#7201a8"
             ],
             [
              0.3333333333333333,
              "#9c179e"
             ],
             [
              0.4444444444444444,
              "#bd3786"
             ],
             [
              0.5555555555555556,
              "#d8576b"
             ],
             [
              0.6666666666666666,
              "#ed7953"
             ],
             [
              0.7777777777777778,
              "#fb9f3a"
             ],
             [
              0.8888888888888888,
              "#fdca26"
             ],
             [
              1,
              "#f0f921"
             ]
            ],
            "type": "heatmap"
           }
          ],
          "heatmapgl": [
           {
            "colorbar": {
             "outlinewidth": 0,
             "ticks": ""
            },
            "colorscale": [
             [
              0,
              "#0d0887"
             ],
             [
              0.1111111111111111,
              "#46039f"
             ],
             [
              0.2222222222222222,
              "#7201a8"
             ],
             [
              0.3333333333333333,
              "#9c179e"
             ],
             [
              0.4444444444444444,
              "#bd3786"
             ],
             [
              0.5555555555555556,
              "#d8576b"
             ],
             [
              0.6666666666666666,
              "#ed7953"
             ],
             [
              0.7777777777777778,
              "#fb9f3a"
             ],
             [
              0.8888888888888888,
              "#fdca26"
             ],
             [
              1,
              "#f0f921"
             ]
            ],
            "type": "heatmapgl"
           }
          ],
          "histogram": [
           {
            "marker": {
             "pattern": {
              "fillmode": "overlay",
              "size": 10,
              "solidity": 0.2
             }
            },
            "type": "histogram"
           }
          ],
          "histogram2d": [
           {
            "colorbar": {
             "outlinewidth": 0,
             "ticks": ""
            },
            "colorscale": [
             [
              0,
              "#0d0887"
             ],
             [
              0.1111111111111111,
              "#46039f"
             ],
             [
              0.2222222222222222,
              "#7201a8"
             ],
             [
              0.3333333333333333,
              "#9c179e"
             ],
             [
              0.4444444444444444,
              "#bd3786"
             ],
             [
              0.5555555555555556,
              "#d8576b"
             ],
             [
              0.6666666666666666,
              "#ed7953"
             ],
             [
              0.7777777777777778,
              "#fb9f3a"
             ],
             [
              0.8888888888888888,
              "#fdca26"
             ],
             [
              1,
              "#f0f921"
             ]
            ],
            "type": "histogram2d"
           }
          ],
          "histogram2dcontour": [
           {
            "colorbar": {
             "outlinewidth": 0,
             "ticks": ""
            },
            "colorscale": [
             [
              0,
              "#0d0887"
             ],
             [
              0.1111111111111111,
              "#46039f"
             ],
             [
              0.2222222222222222,
              "#7201a8"
             ],
             [
              0.3333333333333333,
              "#9c179e"
             ],
             [
              0.4444444444444444,
              "#bd3786"
             ],
             [
              0.5555555555555556,
              "#d8576b"
             ],
             [
              0.6666666666666666,
              "#ed7953"
             ],
             [
              0.7777777777777778,
              "#fb9f3a"
             ],
             [
              0.8888888888888888,
              "#fdca26"
             ],
             [
              1,
              "#f0f921"
             ]
            ],
            "type": "histogram2dcontour"
           }
          ],
          "mesh3d": [
           {
            "colorbar": {
             "outlinewidth": 0,
             "ticks": ""
            },
            "type": "mesh3d"
           }
          ],
          "parcoords": [
           {
            "line": {
             "colorbar": {
              "outlinewidth": 0,
              "ticks": ""
             }
            },
            "type": "parcoords"
           }
          ],
          "pie": [
           {
            "automargin": true,
            "type": "pie"
           }
          ],
          "scatter": [
           {
            "fillpattern": {
             "fillmode": "overlay",
             "size": 10,
             "solidity": 0.2
            },
            "type": "scatter"
           }
          ],
          "scatter3d": [
           {
            "line": {
             "colorbar": {
              "outlinewidth": 0,
              "ticks": ""
             }
            },
            "marker": {
             "colorbar": {
              "outlinewidth": 0,
              "ticks": ""
             }
            },
            "type": "scatter3d"
           }
          ],
          "scattercarpet": [
           {
            "marker": {
             "colorbar": {
              "outlinewidth": 0,
              "ticks": ""
             }
            },
            "type": "scattercarpet"
           }
          ],
          "scattergeo": [
           {
            "marker": {
             "colorbar": {
              "outlinewidth": 0,
              "ticks": ""
             }
            },
            "type": "scattergeo"
           }
          ],
          "scattergl": [
           {
            "marker": {
             "colorbar": {
              "outlinewidth": 0,
              "ticks": ""
             }
            },
            "type": "scattergl"
           }
          ],
          "scattermapbox": [
           {
            "marker": {
             "colorbar": {
              "outlinewidth": 0,
              "ticks": ""
             }
            },
            "type": "scattermapbox"
           }
          ],
          "scatterpolar": [
           {
            "marker": {
             "colorbar": {
              "outlinewidth": 0,
              "ticks": ""
             }
            },
            "type": "scatterpolar"
           }
          ],
          "scatterpolargl": [
           {
            "marker": {
             "colorbar": {
              "outlinewidth": 0,
              "ticks": ""
             }
            },
            "type": "scatterpolargl"
           }
          ],
          "scatterternary": [
           {
            "marker": {
             "colorbar": {
              "outlinewidth": 0,
              "ticks": ""
             }
            },
            "type": "scatterternary"
           }
          ],
          "surface": [
           {
            "colorbar": {
             "outlinewidth": 0,
             "ticks": ""
            },
            "colorscale": [
             [
              0,
              "#0d0887"
             ],
             [
              0.1111111111111111,
              "#46039f"
             ],
             [
              0.2222222222222222,
              "#7201a8"
             ],
             [
              0.3333333333333333,
              "#9c179e"
             ],
             [
              0.4444444444444444,
              "#bd3786"
             ],
             [
              0.5555555555555556,
              "#d8576b"
             ],
             [
              0.6666666666666666,
              "#ed7953"
             ],
             [
              0.7777777777777778,
              "#fb9f3a"
             ],
             [
              0.8888888888888888,
              "#fdca26"
             ],
             [
              1,
              "#f0f921"
             ]
            ],
            "type": "surface"
           }
          ],
          "table": [
           {
            "cells": {
             "fill": {
              "color": "#EBF0F8"
             },
             "line": {
              "color": "white"
             }
            },
            "header": {
             "fill": {
              "color": "#C8D4E3"
             },
             "line": {
              "color": "white"
             }
            },
            "type": "table"
           }
          ]
         },
         "layout": {
          "annotationdefaults": {
           "arrowcolor": "#2a3f5f",
           "arrowhead": 0,
           "arrowwidth": 1
          },
          "autotypenumbers": "strict",
          "coloraxis": {
           "colorbar": {
            "outlinewidth": 0,
            "ticks": ""
           }
          },
          "colorscale": {
           "diverging": [
            [
             0,
             "#8e0152"
            ],
            [
             0.1,
             "#c51b7d"
            ],
            [
             0.2,
             "#de77ae"
            ],
            [
             0.3,
             "#f1b6da"
            ],
            [
             0.4,
             "#fde0ef"
            ],
            [
             0.5,
             "#f7f7f7"
            ],
            [
             0.6,
             "#e6f5d0"
            ],
            [
             0.7,
             "#b8e186"
            ],
            [
             0.8,
             "#7fbc41"
            ],
            [
             0.9,
             "#4d9221"
            ],
            [
             1,
             "#276419"
            ]
           ],
           "sequential": [
            [
             0,
             "#0d0887"
            ],
            [
             0.1111111111111111,
             "#46039f"
            ],
            [
             0.2222222222222222,
             "#7201a8"
            ],
            [
             0.3333333333333333,
             "#9c179e"
            ],
            [
             0.4444444444444444,
             "#bd3786"
            ],
            [
             0.5555555555555556,
             "#d8576b"
            ],
            [
             0.6666666666666666,
             "#ed7953"
            ],
            [
             0.7777777777777778,
             "#fb9f3a"
            ],
            [
             0.8888888888888888,
             "#fdca26"
            ],
            [
             1,
             "#f0f921"
            ]
           ],
           "sequentialminus": [
            [
             0,
             "#0d0887"
            ],
            [
             0.1111111111111111,
             "#46039f"
            ],
            [
             0.2222222222222222,
             "#7201a8"
            ],
            [
             0.3333333333333333,
             "#9c179e"
            ],
            [
             0.4444444444444444,
             "#bd3786"
            ],
            [
             0.5555555555555556,
             "#d8576b"
            ],
            [
             0.6666666666666666,
             "#ed7953"
            ],
            [
             0.7777777777777778,
             "#fb9f3a"
            ],
            [
             0.8888888888888888,
             "#fdca26"
            ],
            [
             1,
             "#f0f921"
            ]
           ]
          },
          "colorway": [
           "#636efa",
           "#EF553B",
           "#00cc96",
           "#ab63fa",
           "#FFA15A",
           "#19d3f3",
           "#FF6692",
           "#B6E880",
           "#FF97FF",
           "#FECB52"
          ],
          "font": {
           "color": "#2a3f5f"
          },
          "geo": {
           "bgcolor": "white",
           "lakecolor": "white",
           "landcolor": "#E5ECF6",
           "showlakes": true,
           "showland": true,
           "subunitcolor": "white"
          },
          "hoverlabel": {
           "align": "left"
          },
          "hovermode": "closest",
          "mapbox": {
           "style": "light"
          },
          "paper_bgcolor": "white",
          "plot_bgcolor": "#E5ECF6",
          "polar": {
           "angularaxis": {
            "gridcolor": "white",
            "linecolor": "white",
            "ticks": ""
           },
           "bgcolor": "#E5ECF6",
           "radialaxis": {
            "gridcolor": "white",
            "linecolor": "white",
            "ticks": ""
           }
          },
          "scene": {
           "xaxis": {
            "backgroundcolor": "#E5ECF6",
            "gridcolor": "white",
            "gridwidth": 2,
            "linecolor": "white",
            "showbackground": true,
            "ticks": "",
            "zerolinecolor": "white"
           },
           "yaxis": {
            "backgroundcolor": "#E5ECF6",
            "gridcolor": "white",
            "gridwidth": 2,
            "linecolor": "white",
            "showbackground": true,
            "ticks": "",
            "zerolinecolor": "white"
           },
           "zaxis": {
            "backgroundcolor": "#E5ECF6",
            "gridcolor": "white",
            "gridwidth": 2,
            "linecolor": "white",
            "showbackground": true,
            "ticks": "",
            "zerolinecolor": "white"
           }
          },
          "shapedefaults": {
           "line": {
            "color": "#2a3f5f"
           }
          },
          "ternary": {
           "aaxis": {
            "gridcolor": "white",
            "linecolor": "white",
            "ticks": ""
           },
           "baxis": {
            "gridcolor": "white",
            "linecolor": "white",
            "ticks": ""
           },
           "bgcolor": "#E5ECF6",
           "caxis": {
            "gridcolor": "white",
            "linecolor": "white",
            "ticks": ""
           }
          },
          "title": {
           "x": 0.05
          },
          "xaxis": {
           "automargin": true,
           "gridcolor": "white",
           "linecolor": "white",
           "ticks": "",
           "title": {
            "standoff": 15
           },
           "zerolinecolor": "white",
           "zerolinewidth": 2
          },
          "yaxis": {
           "automargin": true,
           "gridcolor": "white",
           "linecolor": "white",
           "ticks": "",
           "title": {
            "standoff": 15
           },
           "zerolinecolor": "white",
           "zerolinewidth": 2
          }
         }
        },
        "title": {
         "text": "Like Count and View Count Scatter for All Videos"
        },
        "xaxis": {
         "anchor": "y",
         "domain": [
          0,
          1
         ],
         "title": {
          "text": "comment_count"
         }
        },
        "yaxis": {
         "anchor": "x",
         "domain": [
          0,
          1
         ],
         "title": {
          "text": "view_count"
         }
        }
       }
      },
      "text/html": [
       "<div>                            <div id=\"131f35bc-0ee4-48e0-ab88-97150962888f\" class=\"plotly-graph-div\" style=\"height:525px; width:100%;\"></div>            <script type=\"text/javascript\">                require([\"plotly\"], function(Plotly) {                    window.PLOTLYENV=window.PLOTLYENV || {};                                    if (document.getElementById(\"131f35bc-0ee4-48e0-ab88-97150962888f\")) {                    Plotly.newPlot(                        \"131f35bc-0ee4-48e0-ab88-97150962888f\",                        [{\"customdata\":[[\"Confronting the seller of a questionable Kobe autograph\",\"2022-11-02\"],[\"I bought a $400 Kobe autographed basketball (sus?)\",\"2022-10-28\"],[\"I bought the cheapest Kobe autographed ball online\",\"2022-10-26\"],[\"I manufactured Yeezy sunglasses from scratch\",\"2022-10-12\"],[\"How I profited off the fidget spinner craze\",\"2022-10-04\"],[\"My best finds at the thrift store (as a reseller)\",\"2022-09-17\"],[\"Testing the world\\u2019s brightest flashlight OUTSIDE\",\"2022-09-08\"],[\"I paid an artist $20 to turn Yeezy sneakers into sunglasses\",\"2022-09-01\"],[\"The unfortunate truth of many US \\u201cfactories\\u201d\",\"2022-08-29\"],[\"Valuing the gold I found in Amazon pay dirt\",\"2022-08-24\"],[\"He sold me fake Pok\\u00e9mon cards\\u2026 maybe?\",\"2022-08-12\"],[\"He had 0 viewers\\u2026 so I sent him $ for bitcoin\",\"2022-08-11\"],[\"Revealing My Entire Pok\\u00e9mon Investment\",\"2022-08-08\"],[\"How she started a $10mil per year \\u201cside hustle\\u201d\",\"2022-07-28\"],[\"I bought a questionable pineapple\\u2026\",\"2022-07-20\"],[\"I paid Fiverr to redesign my product packaging\",\"2022-07-14\"],[\"I tried turning $21 into $100 in profit (30min challenge)\",\"2022-07-12\"],[\"Taste testing the most expensive water on Amazon\",\"2022-07-07\"],[\"I\\u2019m building a sunglasses brand to compete with Rayban (ep.2)\",\"2022-06-28\"],[\"I Bought The Cheapest Rolex On eBay\",\"2022-06-08\"],[\"Make this ONE change to 2x your eBay/Amazon sales\",\"2022-05-20\"],[\"I tried dropshipping\\u2026 here\\u2019s how much I made\",\"2022-05-10\"],[\"I bought a Pok\\u00e9mon collection to flip for profit (AGAIN)\",\"2022-04-29\"],[\"Jason Derulo DM\\u2019d me\\u2026 (here\\u2019s why)\",\"2022-04-22\"],[\"I tried making a pro commercial for under $500\",\"2022-04-21\"],[\"I upgraded my $ making hotspot (week 2 results)\",\"2022-03-10\"],[\"What influencers actually get for free\\u2026\",\"2022-03-08\"],[\"I built a sunglasses brand to compete with Ray-Ban\",\"2022-02-24\"],[\"How much my T-shirt store made from $100 in Fb ads\",\"2022-02-17\"],[\"Ranking side hustles I\\u2019ve tried from worst to best\",\"2022-02-14\"],[\"My funniest flip I\\u2019ve ever done (made good $ tho)\",\"2022-02-10\"],[\"I tried the golf club flipping side hustle (it works)\",\"2022-02-08\"],[\"How to grow $1k into $1mil online (what I did)\",\"2022-02-04\"],[\"I made a chain so I can wear my NFT\\u2019s\\u2026\",\"2022-02-02\"],[\"How much my Pok\\u00e9mon cards investment is worth \\ud83d\\udcb0\",\"2022-01-26\"],[\"At 25yo I was doing $100k per month on eBay\",\"2022-01-24\"],[\"I tried making $ with smaller NFT projects\\u2026\",\"2022-01-18\"],[\"My New Money Printing Tablet Farm\",\"2022-01-07\"],[\"I tried finding profitable sneakers at Kohl\\u2019s \\ud83d\\ude16\",\"2021-10-20\"],[\"Were these brand names from Fiverr worth $50? \\ud83d\\ude16\",\"2021-10-07\"]],\"hovertemplate\":\"sentiment_label=Neutral<br>comment_count=%{x}<br>view_count=%{y}<br>video_title=%{customdata[0]}<br>upload_date=%{customdata[1]}<extra></extra>\",\"legendgroup\":\"Neutral\",\"marker\":{\"color\":\"#636efa\",\"symbol\":\"circle\"},\"mode\":\"markers\",\"name\":\"Neutral\",\"orientation\":\"v\",\"showlegend\":true,\"x\":[447,88,68,203,260,67,135,645,62,255,493,87,830,116,4680,2753,414,1515,417,1410,202,91,457,55,105,204,116,1119,85,698,55,64,136,103,2566,164,83,245,150,63],\"xaxis\":\"x\",\"y\":[781610,1469829,455423,455182,3004250,96751,229984,4234596,200262,625339,421491,157334,2756855,180821,10616068,7941682,1952270,3095865,771667,221018,1075509,267343,1533920,149995,150244,541794,270517,2644327,396180,3036555,176373,201786,268687,98791,14570731,521855,141519,225342,650797,48474],\"yaxis\":\"y\",\"type\":\"scatter\"},{\"customdata\":[[\"Do experts think my cheap Kobe autograph is real?\",\"2022-11-01\"],[\"Anyone need a new camera?\",\"2022-11-01\"],[\"I asked collectors if my cheap Kobe autographs are real\",\"2022-10-31\"],[\"I bought $500 worth of G-Shock\\ufffc\\ufffc watches\",\"2022-10-14\"],[\"I Turned Yeezy Sneakers Into Sunglasses\",\"2022-10-06\"],[\"Easy Amazon side hustle - sell books with no words #ad\",\"2022-10-03\"],[\"I made a 3D printed 500k YouTube play button\",\"2022-10-01\"],[\"Make $1700 A Month Selling Books On Amazon - Easy Side Hustle - No Writing Required\",\"2022-09-28\"],[\"These boring glasses made me thousands online\",\"2022-09-14\"],[\"I bought the brightest flashlight in the world ($700)\",\"2022-09-07\"],[\"Unboxing the brightest flashlight in the world ($700)\",\"2022-09-07\"],[\"Picking the winner of the MacBook\\u2026\",\"2022-09-05\"],[\"I Bought Gold Pay Dirt And Made $______\",\"2022-08-19\"],[\"saying goodbye\\u2026\",\"2022-08-03\"],[\"I Tried The Amazon Affiliate Side Hustle (how much I made)\",\"2022-07-27\"],[\"I Tried Selling Amazon Products With Memes\",\"2022-07-25\"],[\"The science behind my new YouTube thumbnail\\u2026\",\"2022-07-11\"],[\"I Tried Relaunching My Failed Business - Ep.1\",\"2022-06-24\"],[\"I tried hyper realistic VR gaming (zombie edition)\",\"2022-06-16\"],[\"My Money Printing Tablet Farm Journey (How much I made)\",\"2022-05-24\"],[\"My sneaky plan to monetize my meme page\\u2026\",\"2022-05-18\"],[\"How my failed business started my new career\\u2026\",\"2022-05-11\"],[\"I bought a Crushmetric SwitchPen (for research)\",\"2022-05-02\"],[\"My biggest viral video flop all time\\u2026\",\"2022-04-26\"],[\"Jidion\\u2019s secret to growing 4mil subs in 1 year\\u2026\",\"2022-04-18\"],[\"How I used 1 viral video to grow my business FAST\",\"2022-04-13\"],[\"My biggest failure as an entrepreneur\\u2026\",\"2022-04-12\"],[\"Upgrading my office into a video studio for $100\",\"2022-04-08\"],[\"Giving streamers with 0 viewers $ to buy bitcoin\",\"2022-03-31\"],[\"Unboxing my 100k play button  my best YT advice\",\"2022-03-29\"],[\"I asked a $100m CEO: \\u201cis college worth it?\\u201d\",\"2022-03-26\"],[\"How I find niche $ making products on eBay\",\"2022-03-17\"],[\"How I grew from 1k-100k subscribers in 1 week\",\"2022-03-12\"],[\"I built a dropshipping store from a cozy cabin\",\"2022-03-09\"],[\"I tried starting a streetwear brand for $70\",\"2022-03-07\"],[\"I made a diamond play button out of paper\",\"2022-03-02\"],[\"I asked a 9 figure ecom CEO if FB ads still work\",\"2022-02-25\"],[\"A multimillionaire CEO\\u2019s secret manufacturing tip\",\"2022-02-18\"],[\"My biggest struggle as an entrepreneur\",\"2022-02-15\"],[\"It took me 1 year to get 1k YouTube subs\\u2026 \\ud83d\\ude2d\",\"2022-01-27\"],[\"I Paid Fiverr Video Editors To Make A Commercial\",\"2022-01-25\"],[\"I tried the print on demand t-shirt side hustle\",\"2022-01-20\"],[\"How I&#39;ve Been Doubling My Money With NFT&#39;s\",\"2022-01-19\"],[\"Dropshipping From A Cabin In The Woods (24HR Challenge)\",\"2021-10-15\"],[\"10k today or 1 Bitcoin in 5 years? (on Omegle\\u2026)\",\"2021-10-05\"],[\"The Trick To The YouTube Shorts Algorithm\\u2026\",\"2021-09-30\"],[\"My first product I designed  manufactured \\ud83d\\ude16\",\"2021-09-29\"],[\"My Day As A Small YouTuber Trying To Make It (Raw Footage)\",\"2021-09-25\"],[\"I Bought A Billboard To Grow My Instagram\",\"2021-09-07\"],[\"I Tried Making Money With Virtual Horse Racing\",\"2021-08-31\"],[\"I paid $1365 for a product commercial on Fiverr\\u2026 Was it worth it?\",\"2021-08-06\"],[\"I PAID someone on FIVERR to EDIT my commercial\",\"2021-07-26\"],[\"1 Hour Shopify Dropshipping Challenge (FROM SCRATCH)\",\"2021-06-23\"],[\"I Tried Dropshipping From Scratch (24HR CHALLENGE)\",\"2021-03-10\"],[\"How I Started A Million Dollar Business From My Mom&#39;s Basement\",\"2021-02-23\"]],\"hovertemplate\":\"sentiment_label=Positive<br>comment_count=%{x}<br>view_count=%{y}<br>video_title=%{customdata[0]}<br>upload_date=%{customdata[1]}<extra></extra>\",\"legendgroup\":\"Positive\",\"marker\":{\"color\":\"#EF553B\",\"symbol\":\"circle\"},\"mode\":\"markers\",\"name\":\"Positive\",\"orientation\":\"v\",\"showlegend\":true,\"x\":[57,3230,70,1536,70,30,39,90,32,53,35,59,230,2622,99,77,72,85,98,114,176,68,56,32,30,39,94,44,89,57,49,52,48,77,534,350,35,338,41,69,2473,40,53,44,38,70,65,40,31,32,40,31,30,55,37],\"xaxis\":\"x\",\"y\":[113539,40723,971564,1162979,9368,48959,49641,10834,91084,109407,50759,53219,37322,215543,385224,39091,183171,16078,453980,32861,252723,196201,192329,155055,96684,144830,113690,112897,122581,76442,103689,116564,88116,205689,530461,2674456,186803,1092992,199155,144452,1744928,104785,27500,13284,46069,71412,35346,4019,4684,12304,17177,26455,5155,7339,6467],\"yaxis\":\"y\",\"type\":\"scatter\"},{\"customdata\":[[\"Unboxing a $400 Kobe autographed ball (real?)\",\"2022-10-28\"],[\"Is the cheapest Kobe autographed ball online real?\",\"2022-10-26\"],[\"How much gold I found in $100 Amazon pay dirt\",\"2022-10-20\"],[\"I paid artists $200 to turn Yeezys into sunglasses (foam runners)\",\"2022-10-11\"],[\"How to make $200 a day with a drone\",\"2022-09-23\"],[\"I got a gadget filled mystery box in the mail #shorts #sponsored\",\"2022-08-31\"],[\"How much gold I found in Amazon pay dirt\",\"2022-08-23\"],[\"Is Gold Pay Dirt A Good Side Hustle?\",\"2022-08-22\"],[\"How much my money making hotspot has made\",\"2022-08-18\"],[\"I tested the midnight Walmart side hustle\",\"2022-08-05\"],[\"I started a clothing brand for under $100 #shorts #ad\",\"2022-08-04\"],[\"How much iPhone box costs to make in USA vs. China\",\"2022-07-30\"],[\"Is Amazon Affiliate Marketing a Good Side Hustle?\",\"2022-07-26\"],[\"I\\u2019m turning a meme page into a business\",\"2022-07-22\"],[\"I\\u2019m investing in $100 empty boxes #shorts #sponsored\",\"2022-07-18\"],[\"I bought the most expensive water on Amazon\",\"2022-07-05\"],[\"I tried going viral as a small brand\",\"2022-07-01\"],[\"I tried upgrading my money making hotspot (helium update PT.5)\",\"2022-06-25\"],[\"They were trying to disguise their side hustle\\u2026\",\"2022-06-24\"],[\"Did this seller scam me with her rolex?\",\"2022-06-22\"],[\"I tried finding profitable flips (ELON MUSK EDITION)\",\"2022-06-18\"],[\"Surprising her with the cheapest rolex on eBay\",\"2022-06-13\"],[\"Confronting the seller of the \\u201ccheapest rolex on ebay\\u201d\",\"2022-06-10\"],[\"Is the cheapest rolex on eBay real?\",\"2022-06-09\"],[\"Unboxing the cheapest rolex on eBay\",\"2022-06-03\"],[\"I bought the cheapest rolex on eBay\\u2026\",\"2022-06-02\"],[\"Did I find real Yeezy slides?\",\"2022-05-30\"],[\"Asking Rolex dealers if I can film in their store\",\"2022-05-28\"],[\"I looked for profit in a RICH CITY thrift store\",\"2022-05-27\"],[\"I tried making money with unclaimed mail\",\"2022-05-22\"],[\"I just UPGRADED my money making hotspot (helium update PT.4)\",\"2022-05-13\"],[\"I tried finding profitable flips at Walmart (in a RICH city \\ud83d\\udcb0)\",\"2022-05-06\"],[\"I tried flipping sneakers from the Nike outlet\",\"2022-04-15\"],[\"Comparing PRIME to Powerade (will this brand win?)\",\"2022-04-05\"],[\"I tried finding profitable flips at Walmart AGAIN\",\"2022-04-01\"],[\"I tried finding profitable flips at Goodwill\\u2026\",\"2022-03-24\"],[\"Why I spent $3k on a full send metacard NFT (Nelk)\",\"2022-03-15\"],[\"I spent $100 on Pok\\u00e9mon cards to flip for profit\",\"2022-03-03\"],[\"How much $ I\\u2019ve made helium mining (Week 1)\",\"2022-02-28\"],[\"I tried finding profitable flips at Walmart\\u2026\",\"2022-02-25\"],[\"I bought a wireless hotspot that makes me money\",\"2022-02-22\"],[\"I paid Fiverr $30 and $120 to design NFT\\u2019s (comparison)\",\"2022-02-11\"],[\"How I made my NFT chain (step by step)\",\"2022-02-07\"],[\"\\u201cDrama\\u201d YouTubers are making a lot of money rn\\u2026\",\"2022-02-05\"],[\"Why I\\u2019m not selling NFT\\u2019s ever again\\u2026\",\"2022-01-31\"],[\"How I built a tablet farm that makes me money\\u2026\",\"2022-01-28\"],[\"How much I made selling dollar store items online\\u2026\",\"2022-01-17\"],[\"Trying to turn $0 into $10k from scratch \\ud83d\\udcb0\",\"2021-10-28\"],[\"I tried flipping NFTs\\u2026 here\\u2019s how much I made.\",\"2021-10-27\"],[\"I got thumbnail advice from MrBeast \\ud83d\\ude0f\",\"2021-09-02\"],[\"How Yeti Charges $35 For A Cup\\u2026\",\"2021-08-04\"],[\"The genius marketing behind NELK  Full Send\\u2026\",\"2021-08-02\"]],\"hovertemplate\":\"sentiment_label=Negative<br>comment_count=%{x}<br>view_count=%{y}<br>video_title=%{customdata[0]}<br>upload_date=%{customdata[1]}<extra></extra>\",\"legendgroup\":\"Negative\",\"marker\":{\"color\":\"#00cc96\",\"symbol\":\"circle\"},\"mode\":\"markers\",\"name\":\"Negative\",\"orientation\":\"v\",\"showlegend\":true,\"x\":[70,220,606,213,814,154,778,420,246,686,98,5859,221,176,475,4078,536,651,33,152,173,1289,626,2162,234,293,549,67,744,728,774,567,852,66,470,785,441,1015,1206,4176,1255,1394,152,61,268,4414,493,1026,1917,225,691,109],\"xaxis\":\"x\",\"y\":[501415,2103937,1835207,1871976,1729501,211944,5827039,1844903,866417,1837882,188385,5546984,2018008,269367,1681458,7633883,3554636,2370984,231893,853458,806622,1316230,1234922,30106646,546741,1160878,4074711,228490,1861965,3214566,3348675,2116905,5004675,93456,2057610,1220806,508914,4554853,2900702,16236845,6163849,2493035,223064,154648,435588,13609004,1452106,4715317,4474616,532261,1038455,154792],\"yaxis\":\"y\",\"type\":\"scatter\"}],                        {\"template\":{\"data\":{\"histogram2dcontour\":[{\"type\":\"histogram2dcontour\",\"colorbar\":{\"outlinewidth\":0,\"ticks\":\"\"},\"colorscale\":[[0.0,\"#0d0887\"],[0.1111111111111111,\"#46039f\"],[0.2222222222222222,\"#7201a8\"],[0.3333333333333333,\"#9c179e\"],[0.4444444444444444,\"#bd3786\"],[0.5555555555555556,\"#d8576b\"],[0.6666666666666666,\"#ed7953\"],[0.7777777777777778,\"#fb9f3a\"],[0.8888888888888888,\"#fdca26\"],[1.0,\"#f0f921\"]]}],\"choropleth\":[{\"type\":\"choropleth\",\"colorbar\":{\"outlinewidth\":0,\"ticks\":\"\"}}],\"histogram2d\":[{\"type\":\"histogram2d\",\"colorbar\":{\"outlinewidth\":0,\"ticks\":\"\"},\"colorscale\":[[0.0,\"#0d0887\"],[0.1111111111111111,\"#46039f\"],[0.2222222222222222,\"#7201a8\"],[0.3333333333333333,\"#9c179e\"],[0.4444444444444444,\"#bd3786\"],[0.5555555555555556,\"#d8576b\"],[0.6666666666666666,\"#ed7953\"],[0.7777777777777778,\"#fb9f3a\"],[0.8888888888888888,\"#fdca26\"],[1.0,\"#f0f921\"]]}],\"heatmap\":[{\"type\":\"heatmap\",\"colorbar\":{\"outlinewidth\":0,\"ticks\":\"\"},\"colorscale\":[[0.0,\"#0d0887\"],[0.1111111111111111,\"#46039f\"],[0.2222222222222222,\"#7201a8\"],[0.3333333333333333,\"#9c179e\"],[0.4444444444444444,\"#bd3786\"],[0.5555555555555556,\"#d8576b\"],[0.6666666666666666,\"#ed7953\"],[0.7777777777777778,\"#fb9f3a\"],[0.8888888888888888,\"#fdca26\"],[1.0,\"#f0f921\"]]}],\"heatmapgl\":[{\"type\":\"heatmapgl\",\"colorbar\":{\"outlinewidth\":0,\"ticks\":\"\"},\"colorscale\":[[0.0,\"#0d0887\"],[0.1111111111111111,\"#46039f\"],[0.2222222222222222,\"#7201a8\"],[0.3333333333333333,\"#9c179e\"],[0.4444444444444444,\"#bd3786\"],[0.5555555555555556,\"#d8576b\"],[0.6666666666666666,\"#ed7953\"],[0.7777777777777778,\"#fb9f3a\"],[0.8888888888888888,\"#fdca26\"],[1.0,\"#f0f921\"]]}],\"contourcarpet\":[{\"type\":\"contourcarpet\",\"colorbar\":{\"outlinewidth\":0,\"ticks\":\"\"}}],\"contour\":[{\"type\":\"contour\",\"colorbar\":{\"outlinewidth\":0,\"ticks\":\"\"},\"colorscale\":[[0.0,\"#0d0887\"],[0.1111111111111111,\"#46039f\"],[0.2222222222222222,\"#7201a8\"],[0.3333333333333333,\"#9c179e\"],[0.4444444444444444,\"#bd3786\"],[0.5555555555555556,\"#d8576b\"],[0.6666666666666666,\"#ed7953\"],[0.7777777777777778,\"#fb9f3a\"],[0.8888888888888888,\"#fdca26\"],[1.0,\"#f0f921\"]]}],\"surface\":[{\"type\":\"surface\",\"colorbar\":{\"outlinewidth\":0,\"ticks\":\"\"},\"colorscale\":[[0.0,\"#0d0887\"],[0.1111111111111111,\"#46039f\"],[0.2222222222222222,\"#7201a8\"],[0.3333333333333333,\"#9c179e\"],[0.4444444444444444,\"#bd3786\"],[0.5555555555555556,\"#d8576b\"],[0.6666666666666666,\"#ed7953\"],[0.7777777777777778,\"#fb9f3a\"],[0.8888888888888888,\"#fdca26\"],[1.0,\"#f0f921\"]]}],\"mesh3d\":[{\"type\":\"mesh3d\",\"colorbar\":{\"outlinewidth\":0,\"ticks\":\"\"}}],\"scatter\":[{\"fillpattern\":{\"fillmode\":\"overlay\",\"size\":10,\"solidity\":0.2},\"type\":\"scatter\"}],\"parcoords\":[{\"type\":\"parcoords\",\"line\":{\"colorbar\":{\"outlinewidth\":0,\"ticks\":\"\"}}}],\"scatterpolargl\":[{\"type\":\"scatterpolargl\",\"marker\":{\"colorbar\":{\"outlinewidth\":0,\"ticks\":\"\"}}}],\"bar\":[{\"error_x\":{\"color\":\"#2a3f5f\"},\"error_y\":{\"color\":\"#2a3f5f\"},\"marker\":{\"line\":{\"color\":\"#E5ECF6\",\"width\":0.5},\"pattern\":{\"fillmode\":\"overlay\",\"size\":10,\"solidity\":0.2}},\"type\":\"bar\"}],\"scattergeo\":[{\"type\":\"scattergeo\",\"marker\":{\"colorbar\":{\"outlinewidth\":0,\"ticks\":\"\"}}}],\"scatterpolar\":[{\"type\":\"scatterpolar\",\"marker\":{\"colorbar\":{\"outlinewidth\":0,\"ticks\":\"\"}}}],\"histogram\":[{\"marker\":{\"pattern\":{\"fillmode\":\"overlay\",\"size\":10,\"solidity\":0.2}},\"type\":\"histogram\"}],\"scattergl\":[{\"type\":\"scattergl\",\"marker\":{\"colorbar\":{\"outlinewidth\":0,\"ticks\":\"\"}}}],\"scatter3d\":[{\"type\":\"scatter3d\",\"line\":{\"colorbar\":{\"outlinewidth\":0,\"ticks\":\"\"}},\"marker\":{\"colorbar\":{\"outlinewidth\":0,\"ticks\":\"\"}}}],\"scattermapbox\":[{\"type\":\"scattermapbox\",\"marker\":{\"colorbar\":{\"outlinewidth\":0,\"ticks\":\"\"}}}],\"scatterternary\":[{\"type\":\"scatterternary\",\"marker\":{\"colorbar\":{\"outlinewidth\":0,\"ticks\":\"\"}}}],\"scattercarpet\":[{\"type\":\"scattercarpet\",\"marker\":{\"colorbar\":{\"outlinewidth\":0,\"ticks\":\"\"}}}],\"carpet\":[{\"aaxis\":{\"endlinecolor\":\"#2a3f5f\",\"gridcolor\":\"white\",\"linecolor\":\"white\",\"minorgridcolor\":\"white\",\"startlinecolor\":\"#2a3f5f\"},\"baxis\":{\"endlinecolor\":\"#2a3f5f\",\"gridcolor\":\"white\",\"linecolor\":\"white\",\"minorgridcolor\":\"white\",\"startlinecolor\":\"#2a3f5f\"},\"type\":\"carpet\"}],\"table\":[{\"cells\":{\"fill\":{\"color\":\"#EBF0F8\"},\"line\":{\"color\":\"white\"}},\"header\":{\"fill\":{\"color\":\"#C8D4E3\"},\"line\":{\"color\":\"white\"}},\"type\":\"table\"}],\"barpolar\":[{\"marker\":{\"line\":{\"color\":\"#E5ECF6\",\"width\":0.5},\"pattern\":{\"fillmode\":\"overlay\",\"size\":10,\"solidity\":0.2}},\"type\":\"barpolar\"}],\"pie\":[{\"automargin\":true,\"type\":\"pie\"}]},\"layout\":{\"autotypenumbers\":\"strict\",\"colorway\":[\"#636efa\",\"#EF553B\",\"#00cc96\",\"#ab63fa\",\"#FFA15A\",\"#19d3f3\",\"#FF6692\",\"#B6E880\",\"#FF97FF\",\"#FECB52\"],\"font\":{\"color\":\"#2a3f5f\"},\"hovermode\":\"closest\",\"hoverlabel\":{\"align\":\"left\"},\"paper_bgcolor\":\"white\",\"plot_bgcolor\":\"#E5ECF6\",\"polar\":{\"bgcolor\":\"#E5ECF6\",\"angularaxis\":{\"gridcolor\":\"white\",\"linecolor\":\"white\",\"ticks\":\"\"},\"radialaxis\":{\"gridcolor\":\"white\",\"linecolor\":\"white\",\"ticks\":\"\"}},\"ternary\":{\"bgcolor\":\"#E5ECF6\",\"aaxis\":{\"gridcolor\":\"white\",\"linecolor\":\"white\",\"ticks\":\"\"},\"baxis\":{\"gridcolor\":\"white\",\"linecolor\":\"white\",\"ticks\":\"\"},\"caxis\":{\"gridcolor\":\"white\",\"linecolor\":\"white\",\"ticks\":\"\"}},\"coloraxis\":{\"colorbar\":{\"outlinewidth\":0,\"ticks\":\"\"}},\"colorscale\":{\"sequential\":[[0.0,\"#0d0887\"],[0.1111111111111111,\"#46039f\"],[0.2222222222222222,\"#7201a8\"],[0.3333333333333333,\"#9c179e\"],[0.4444444444444444,\"#bd3786\"],[0.5555555555555556,\"#d8576b\"],[0.6666666666666666,\"#ed7953\"],[0.7777777777777778,\"#fb9f3a\"],[0.8888888888888888,\"#fdca26\"],[1.0,\"#f0f921\"]],\"sequentialminus\":[[0.0,\"#0d0887\"],[0.1111111111111111,\"#46039f\"],[0.2222222222222222,\"#7201a8\"],[0.3333333333333333,\"#9c179e\"],[0.4444444444444444,\"#bd3786\"],[0.5555555555555556,\"#d8576b\"],[0.6666666666666666,\"#ed7953\"],[0.7777777777777778,\"#fb9f3a\"],[0.8888888888888888,\"#fdca26\"],[1.0,\"#f0f921\"]],\"diverging\":[[0,\"#8e0152\"],[0.1,\"#c51b7d\"],[0.2,\"#de77ae\"],[0.3,\"#f1b6da\"],[0.4,\"#fde0ef\"],[0.5,\"#f7f7f7\"],[0.6,\"#e6f5d0\"],[0.7,\"#b8e186\"],[0.8,\"#7fbc41\"],[0.9,\"#4d9221\"],[1,\"#276419\"]]},\"xaxis\":{\"gridcolor\":\"white\",\"linecolor\":\"white\",\"ticks\":\"\",\"title\":{\"standoff\":15},\"zerolinecolor\":\"white\",\"automargin\":true,\"zerolinewidth\":2},\"yaxis\":{\"gridcolor\":\"white\",\"linecolor\":\"white\",\"ticks\":\"\",\"title\":{\"standoff\":15},\"zerolinecolor\":\"white\",\"automargin\":true,\"zerolinewidth\":2},\"scene\":{\"xaxis\":{\"backgroundcolor\":\"#E5ECF6\",\"gridcolor\":\"white\",\"linecolor\":\"white\",\"showbackground\":true,\"ticks\":\"\",\"zerolinecolor\":\"white\",\"gridwidth\":2},\"yaxis\":{\"backgroundcolor\":\"#E5ECF6\",\"gridcolor\":\"white\",\"linecolor\":\"white\",\"showbackground\":true,\"ticks\":\"\",\"zerolinecolor\":\"white\",\"gridwidth\":2},\"zaxis\":{\"backgroundcolor\":\"#E5ECF6\",\"gridcolor\":\"white\",\"linecolor\":\"white\",\"showbackground\":true,\"ticks\":\"\",\"zerolinecolor\":\"white\",\"gridwidth\":2}},\"shapedefaults\":{\"line\":{\"color\":\"#2a3f5f\"}},\"annotationdefaults\":{\"arrowcolor\":\"#2a3f5f\",\"arrowhead\":0,\"arrowwidth\":1},\"geo\":{\"bgcolor\":\"white\",\"landcolor\":\"#E5ECF6\",\"subunitcolor\":\"white\",\"showland\":true,\"showlakes\":true,\"lakecolor\":\"white\"},\"title\":{\"x\":0.05},\"mapbox\":{\"style\":\"light\"}}},\"xaxis\":{\"anchor\":\"y\",\"domain\":[0.0,1.0],\"title\":{\"text\":\"comment_count\"}},\"yaxis\":{\"anchor\":\"x\",\"domain\":[0.0,1.0],\"title\":{\"text\":\"view_count\"}},\"legend\":{\"title\":{\"text\":\"sentiment_label\"},\"tracegroupgap\":0},\"title\":{\"text\":\"Like Count and View Count Scatter for All Videos\"}},                        {\"responsive\": true}                    ).then(function(){\n",
       "                            \n",
       "var gd = document.getElementById('131f35bc-0ee4-48e0-ab88-97150962888f');\n",
       "var x = new MutationObserver(function (mutations, observer) {{\n",
       "        var display = window.getComputedStyle(gd).display;\n",
       "        if (!display || display === 'none') {{\n",
       "            console.log([gd, 'removed!']);\n",
       "            Plotly.purge(gd);\n",
       "            observer.disconnect();\n",
       "        }}\n",
       "}});\n",
       "\n",
       "// Listen for the removal of the full notebook cells\n",
       "var notebookContainer = gd.closest('#notebook-container');\n",
       "if (notebookContainer) {{\n",
       "    x.observe(notebookContainer, {childList: true});\n",
       "}}\n",
       "\n",
       "// Listen for the clearing of the current output cell\n",
       "var outputEl = gd.closest('.output');\n",
       "if (outputEl) {{\n",
       "    x.observe(outputEl, {childList: true});\n",
       "}}\n",
       "\n",
       "                        })                };                });            </script>        </div>"
      ]
     },
     "metadata": {},
     "output_type": "display_data"
    }
   ],
   "source": [
    "import plotly.express as px\n",
    "\n",
    "fig = px.scatter(video_info_with_sentiment , x = 'comment_count' , y = 'view_count' , color = 'sentiment_label', hover_data = ['video_title' , 'comment_count' , 'upload_date'] , title= 'Like Count and View Count Scatter for All Videos')\n",
    "fig.show()"
   ]
  },
  {
   "cell_type": "code",
   "execution_count": 37,
   "id": "94b0f3ea",
   "metadata": {},
   "outputs": [
    {
     "data": {
      "application/vnd.plotly.v1+json": {
       "config": {
        "plotlyServerURL": "https://plot.ly"
       },
       "data": [
        {
         "customdata": [
          [
           "Confronting the seller of a questionable Kobe autograph",
           447,
           "2022-11-02",
           "DOtPOfeyJ4Q"
          ],
          [
           "I bought a $400 Kobe autographed basketball (sus?)",
           88,
           "2022-10-28",
           "IzbqWW52D6Y"
          ],
          [
           "I bought the cheapest Kobe autographed ball online",
           68,
           "2022-10-26",
           "i-EGeo6iLx0"
          ],
          [
           "I manufactured Yeezy sunglasses from scratch",
           203,
           "2022-10-12",
           "JZvrStxx2Z8"
          ],
          [
           "How I profited off the fidget spinner craze",
           260,
           "2022-10-04",
           "luDrIsXN2GI"
          ],
          [
           "My best finds at the thrift store (as a reseller)",
           67,
           "2022-09-17",
           "_v9TxKu5eHU"
          ],
          [
           "Testing the world’s brightest flashlight OUTSIDE",
           135,
           "2022-09-08",
           "2bMxiKefjHw"
          ],
          [
           "I paid an artist $20 to turn Yeezy sneakers into sunglasses",
           645,
           "2022-09-01",
           "oaoEYpKUaEA"
          ],
          [
           "The unfortunate truth of many US “factories”",
           62,
           "2022-08-29",
           "eSuFxZErf-c"
          ],
          [
           "Valuing the gold I found in Amazon pay dirt",
           255,
           "2022-08-24",
           "yYqWz-v9frA"
          ],
          [
           "He sold me fake Pokémon cards… maybe?",
           493,
           "2022-08-12",
           "AdMYj6_5PpA"
          ],
          [
           "He had 0 viewers… so I sent him $ for bitcoin",
           87,
           "2022-08-11",
           "wIKBjVd8Yrw"
          ],
          [
           "Revealing My Entire Pokémon Investment",
           830,
           "2022-08-08",
           "Rd5XQOrUSio"
          ],
          [
           "How she started a $10mil per year “side hustle”",
           116,
           "2022-07-28",
           "Feeh8hMClDU"
          ],
          [
           "I bought a questionable pineapple…",
           4680,
           "2022-07-20",
           "0luY8pOzNww"
          ],
          [
           "I paid Fiverr to redesign my product packaging",
           2753,
           "2022-07-14",
           "_G6Tvk5rJdc"
          ],
          [
           "I tried turning $21 into $100 in profit (30min challenge)",
           414,
           "2022-07-12",
           "-NeMQkXjzLQ"
          ],
          [
           "Taste testing the most expensive water on Amazon",
           1515,
           "2022-07-07",
           "jjhNrouKLQ4"
          ],
          [
           "I’m building a sunglasses brand to compete with Rayban (ep.2)",
           417,
           "2022-06-28",
           "INCQBEu_juI"
          ],
          [
           "I Bought The Cheapest Rolex On eBay",
           1410,
           "2022-06-08",
           "SHFWyvLzUxU"
          ],
          [
           "Make this ONE change to 2x your eBay/Amazon sales",
           202,
           "2022-05-20",
           "7s_gTXbXBcU"
          ],
          [
           "I tried dropshipping… here’s how much I made",
           91,
           "2022-05-10",
           "ZaxsNeUUoiM"
          ],
          [
           "I bought a Pokémon collection to flip for profit (AGAIN)",
           457,
           "2022-04-29",
           "9EzqbL7guy0"
          ],
          [
           "Jason Derulo DM’d me… (here’s why)",
           55,
           "2022-04-22",
           "pjmSeIDMKdY"
          ],
          [
           "I tried making a pro commercial for under $500",
           105,
           "2022-04-21",
           "bVn_DCwTG-w"
          ],
          [
           "I upgraded my $ making hotspot (week 2 results)",
           204,
           "2022-03-10",
           "_UR4m2qtRsI"
          ],
          [
           "What influencers actually get for free…",
           116,
           "2022-03-08",
           "5HwXYQO4aC8"
          ],
          [
           "I built a sunglasses brand to compete with Ray-Ban",
           1119,
           "2022-02-24",
           "dzCY_A1W2Wk"
          ],
          [
           "How much my T-shirt store made from $100 in Fb ads",
           85,
           "2022-02-17",
           "w9_og6FFEOY"
          ],
          [
           "Ranking side hustles I’ve tried from worst to best",
           698,
           "2022-02-14",
           "DitHFGQgqnY"
          ],
          [
           "My funniest flip I’ve ever done (made good $ tho)",
           55,
           "2022-02-10",
           "SPJ6Dfwja5w"
          ],
          [
           "I tried the golf club flipping side hustle (it works)",
           64,
           "2022-02-08",
           "o1R6m4vIJRY"
          ],
          [
           "How to grow $1k into $1mil online (what I did)",
           136,
           "2022-02-04",
           "JM2vkZBf0G4"
          ],
          [
           "I made a chain so I can wear my NFT’s…",
           103,
           "2022-02-02",
           "kFHPPvjvxxM"
          ],
          [
           "How much my Pokémon cards investment is worth 💰",
           2566,
           "2022-01-26",
           "uEaXu1m4R5Y"
          ],
          [
           "At 25yo I was doing $100k per month on eBay",
           164,
           "2022-01-24",
           "I4f0lEcZQII"
          ],
          [
           "I tried making $ with smaller NFT projects…",
           83,
           "2022-01-18",
           "UhiSRuk7Lfw"
          ],
          [
           "My New Money Printing Tablet Farm",
           245,
           "2022-01-07",
           "FzYz_NPwtq0"
          ],
          [
           "I tried finding profitable sneakers at Kohl’s 😖",
           150,
           "2021-10-20",
           "6hfjCpnlzDc"
          ],
          [
           "Were these brand names from Fiverr worth $50? 😖",
           63,
           "2021-10-07",
           "Euqcd4OmycE"
          ]
         ],
         "hovertemplate": "sentiment_label=Neutral<br>mean_weighted_sentiment_score=%{x}<br>view_count=%{y}<br>video_title=%{customdata[0]}<br>comment_count=%{customdata[1]}<br>upload_date=%{customdata[2]}<br>video_id=%{customdata[3]}<extra></extra>",
         "legendgroup": "Neutral",
         "marker": {
          "color": "#636efa",
          "symbol": "circle"
         },
         "mode": "markers",
         "name": "Neutral",
         "orientation": "v",
         "showlegend": true,
         "type": "scatter",
         "x": [
          0.060184885077662266,
          -0.08082417377403806,
          -0.05668020200729371,
          0.03405960838673477,
          -0.08499499636888505,
          -0.07427134223886439,
          -0.011980601806532267,
          -0.0654939779181182,
          0.09195497463911007,
          -0.04837678625776963,
          -0.05142784088452659,
          0.037738101822989326,
          0.013594636109249636,
          -0.09157240559657416,
          0.0038384703745377217,
          0.049881634433994744,
          -0.06642476111016377,
          0.06537737870587287,
          0.02200358474218808,
          0.09991127732284565,
          0.06804522380341577,
          -0.034448761508819925,
          -0.009381973511759909,
          -0.07093980709711711,
          0.027487576575506278,
          0.053792837203717685,
          0.050470296518747175,
          -0.017399842743737726,
          -0.07164414786710974,
          -0.026366412867116572,
          -0.07146765802587783,
          -0.04740549542687157,
          0.0038024889352993928,
          0.06136653331609871,
          -0.026410077660116257,
          -0.059676169759624614,
          -0.08674807658901923,
          0.09573011720833711,
          -0.09869412256611719,
          0.0947204325880323
         ],
         "xaxis": "x",
         "y": [
          781610,
          1469829,
          455423,
          455182,
          3004250,
          96751,
          229984,
          4234596,
          200262,
          625339,
          421491,
          157334,
          2756855,
          180821,
          10616068,
          7941682,
          1952270,
          3095865,
          771667,
          221018,
          1075509,
          267343,
          1533920,
          149995,
          150244,
          541794,
          270517,
          2644327,
          396180,
          3036555,
          176373,
          201786,
          268687,
          98791,
          14570731,
          521855,
          141519,
          225342,
          650797,
          48474
         ],
         "yaxis": "y"
        },
        {
         "customdata": [
          [
           "Do experts think my cheap Kobe autograph is real?",
           57,
           "2022-11-01",
           "ZrZVTAdSMl8"
          ],
          [
           "Anyone need a new camera?",
           3230,
           "2022-11-01",
           "_DcZFOirIDE"
          ],
          [
           "I asked collectors if my cheap Kobe autographs are real",
           70,
           "2022-10-31",
           "JVHboSk65-k"
          ],
          [
           "I bought $500 worth of G-Shock￼￼ watches",
           1536,
           "2022-10-14",
           "iwe3SuNkXbg"
          ],
          [
           "I Turned Yeezy Sneakers Into Sunglasses",
           70,
           "2022-10-06",
           "LidHyLEYw14"
          ],
          [
           "Easy Amazon side hustle - sell books with no words #ad",
           30,
           "2022-10-03",
           "PwAp8AaiOFU"
          ],
          [
           "I made a 3D printed 500k YouTube play button",
           39,
           "2022-10-01",
           "JSLsY0YdHrY"
          ],
          [
           "Make $1700 A Month Selling Books On Amazon - Easy Side Hustle - No Writing Required",
           90,
           "2022-09-28",
           "Yb8PBOMEKiE"
          ],
          [
           "These boring glasses made me thousands online",
           32,
           "2022-09-14",
           "i3PhipDbJec"
          ],
          [
           "I bought the brightest flashlight in the world ($700)",
           53,
           "2022-09-07",
           "j1u40MkqNZo"
          ],
          [
           "Unboxing the brightest flashlight in the world ($700)",
           35,
           "2022-09-07",
           "yELjMWa7Lq0"
          ],
          [
           "Picking the winner of the MacBook…",
           59,
           "2022-09-05",
           "WWvX_Ls1zd8"
          ],
          [
           "I Bought Gold Pay Dirt And Made $______",
           230,
           "2022-08-19",
           "_ysQw7k675o"
          ],
          [
           "saying goodbye…",
           2622,
           "2022-08-03",
           "G2ZwJE4Jm7U"
          ],
          [
           "I Tried The Amazon Affiliate Side Hustle (how much I made)",
           99,
           "2022-07-27",
           "sV76wNjPiuU"
          ],
          [
           "I Tried Selling Amazon Products With Memes",
           77,
           "2022-07-25",
           "sn8D5BMDPfg"
          ],
          [
           "The science behind my new YouTube thumbnail…",
           72,
           "2022-07-11",
           "XUKTNl8i9uk"
          ],
          [
           "I Tried Relaunching My Failed Business - Ep.1",
           85,
           "2022-06-24",
           "_4Q9pThNjL4"
          ],
          [
           "I tried hyper realistic VR gaming (zombie edition)",
           98,
           "2022-06-16",
           "3C-3pbYzPCg"
          ],
          [
           "My Money Printing Tablet Farm Journey (How much I made)",
           114,
           "2022-05-24",
           "IAI1UswVJGA"
          ],
          [
           "My sneaky plan to monetize my meme page…",
           176,
           "2022-05-18",
           "WW5xJ0yPdWE"
          ],
          [
           "How my failed business started my new career…",
           68,
           "2022-05-11",
           "eT60aL2ysCI"
          ],
          [
           "I bought a Crushmetric SwitchPen (for research)",
           56,
           "2022-05-02",
           "SI_89jAAohQ"
          ],
          [
           "My biggest viral video flop all time…",
           32,
           "2022-04-26",
           "2xQwD68FklU"
          ],
          [
           "Jidion’s secret to growing 4mil subs in 1 year…",
           30,
           "2022-04-18",
           "D2SYEbTGa7Q"
          ],
          [
           "How I used 1 viral video to grow my business FAST",
           39,
           "2022-04-13",
           "OnW8nR2t26o"
          ],
          [
           "My biggest failure as an entrepreneur…",
           94,
           "2022-04-12",
           "yLjzoQCsQ14"
          ],
          [
           "Upgrading my office into a video studio for $100",
           44,
           "2022-04-08",
           "fYOSzzEX8eU"
          ],
          [
           "Giving streamers with 0 viewers $ to buy bitcoin",
           89,
           "2022-03-31",
           "zKbnMJEpVkk"
          ],
          [
           "Unboxing my 100k play button  my best YT advice",
           57,
           "2022-03-29",
           "RQilDfdV1vg"
          ],
          [
           "I asked a $100m CEO: “is college worth it?”",
           49,
           "2022-03-26",
           "go1KYCtrl2Q"
          ],
          [
           "How I find niche $ making products on eBay",
           52,
           "2022-03-17",
           "CqwErPqMwew"
          ],
          [
           "How I grew from 1k-100k subscribers in 1 week",
           48,
           "2022-03-12",
           "K6TzzlrmSMA"
          ],
          [
           "I built a dropshipping store from a cozy cabin",
           77,
           "2022-03-09",
           "dPkIKNBQGuM"
          ],
          [
           "I tried starting a streetwear brand for $70",
           534,
           "2022-03-07",
           "D4UXIL3BHNs"
          ],
          [
           "I made a diamond play button out of paper",
           350,
           "2022-03-02",
           "J6C4ZLvt1Oo"
          ],
          [
           "I asked a 9 figure ecom CEO if FB ads still work",
           35,
           "2022-02-25",
           "0FXgNvNDqS8"
          ],
          [
           "A multimillionaire CEO’s secret manufacturing tip",
           338,
           "2022-02-18",
           "xED6b2rRHM8"
          ],
          [
           "My biggest struggle as an entrepreneur",
           41,
           "2022-02-15",
           "G-pn6BF-8DY"
          ],
          [
           "It took me 1 year to get 1k YouTube subs… 😭",
           69,
           "2022-01-27",
           "H-XflV-5OyI"
          ],
          [
           "I Paid Fiverr Video Editors To Make A Commercial",
           2473,
           "2022-01-25",
           "3S7lqhdaOZw"
          ],
          [
           "I tried the print on demand t-shirt side hustle",
           40,
           "2022-01-20",
           "MIIWbM_JkeI"
          ],
          [
           "How I&#39;ve Been Doubling My Money With NFT&#39;s",
           53,
           "2022-01-19",
           "K3cM2bwWwLw"
          ],
          [
           "Dropshipping From A Cabin In The Woods (24HR Challenge)",
           44,
           "2021-10-15",
           "U1-PcDFMq4s"
          ],
          [
           "10k today or 1 Bitcoin in 5 years? (on Omegle…)",
           38,
           "2021-10-05",
           "6srUHtjuqaU"
          ],
          [
           "The Trick To The YouTube Shorts Algorithm…",
           70,
           "2021-09-30",
           "bGMNgiIN6Wg"
          ],
          [
           "My first product I designed  manufactured 😖",
           65,
           "2021-09-29",
           "aTX1ICVgCBg"
          ],
          [
           "My Day As A Small YouTuber Trying To Make It (Raw Footage)",
           40,
           "2021-09-25",
           "MReS_0n_O_w"
          ],
          [
           "I Bought A Billboard To Grow My Instagram",
           31,
           "2021-09-07",
           "tGgbRYqcWd8"
          ],
          [
           "I Tried Making Money With Virtual Horse Racing",
           32,
           "2021-08-31",
           "iPqOKWMkylw"
          ],
          [
           "I paid $1365 for a product commercial on Fiverr… Was it worth it?",
           40,
           "2021-08-06",
           "x_-_IlJg60Y"
          ],
          [
           "I PAID someone on FIVERR to EDIT my commercial",
           31,
           "2021-07-26",
           "MZs3jKq9Vlk"
          ],
          [
           "1 Hour Shopify Dropshipping Challenge (FROM SCRATCH)",
           30,
           "2021-06-23",
           "HyEaPaXQUeI"
          ],
          [
           "I Tried Dropshipping From Scratch (24HR CHALLENGE)",
           55,
           "2021-03-10",
           "Kxxxtkioncc"
          ],
          [
           "How I Started A Million Dollar Business From My Mom&#39;s Basement",
           37,
           "2021-02-23",
           "-hQCZGiwyUA"
          ]
         ],
         "hovertemplate": "sentiment_label=Positive<br>mean_weighted_sentiment_score=%{x}<br>view_count=%{y}<br>video_title=%{customdata[0]}<br>comment_count=%{customdata[1]}<br>upload_date=%{customdata[2]}<br>video_id=%{customdata[3]}<extra></extra>",
         "legendgroup": "Positive",
         "marker": {
          "color": "#EF553B",
          "symbol": "circle"
         },
         "mode": "markers",
         "name": "Positive",
         "orientation": "v",
         "showlegend": true,
         "type": "scatter",
         "x": [
          0.11765456127397941,
          0.630732670561305,
          0.24372406158041446,
          0.3882925440704606,
          0.48446189919296573,
          0.11193122863769531,
          0.5578583070726105,
          0.24281877209158503,
          0.2504667587005175,
          0.18804068785646688,
          0.17735055446624756,
          0.3675026638385577,
          0.17758770178664812,
          0.440221734614151,
          0.10307398626678868,
          0.33394691322712183,
          0.18945942423560402,
          0.39527664020143705,
          0.3577919686541838,
          0.23508581496492215,
          0.3011921868069481,
          0.367862201907805,
          0.3712562016078404,
          0.16234897871812182,
          0.2227262270450592,
          0.19764262725566997,
          0.27415048032999034,
          0.5373979266732931,
          0.22679680161556953,
          0.5419730012615521,
          0.17595629096031187,
          0.1784214046266344,
          0.2771195530891418,
          0.1465904740910781,
          0.22845042910043728,
          0.4481391144982466,
          0.2870562219619751,
          0.10080873947294931,
          0.4128089986349407,
          0.5186748589530136,
          0.19079986704397178,
          0.39252316256364184,
          0.10951368723596845,
          0.4837064023371096,
          0.20545687705278395,
          0.2605693059662978,
          0.3478144404788812,
          0.5771151504733345,
          0.45109350184599556,
          0.17532507710986664,
          0.5159688644938999,
          0.2947717183828354,
          0.1716350331025965,
          0.41320926666259766,
          0.6502485709530966
         ],
         "xaxis": "x",
         "y": [
          113539,
          40723,
          971564,
          1162979,
          9368,
          48959,
          49641,
          10834,
          91084,
          109407,
          50759,
          53219,
          37322,
          215543,
          385224,
          39091,
          183171,
          16078,
          453980,
          32861,
          252723,
          196201,
          192329,
          155055,
          96684,
          144830,
          113690,
          112897,
          122581,
          76442,
          103689,
          116564,
          88116,
          205689,
          530461,
          2674456,
          186803,
          1092992,
          199155,
          144452,
          1744928,
          104785,
          27500,
          13284,
          46069,
          71412,
          35346,
          4019,
          4684,
          12304,
          17177,
          26455,
          5155,
          7339,
          6467
         ],
         "yaxis": "y"
        },
        {
         "customdata": [
          [
           "Unboxing a $400 Kobe autographed ball (real?)",
           70,
           "2022-10-28",
           "nxy-A8auW9U"
          ],
          [
           "Is the cheapest Kobe autographed ball online real?",
           220,
           "2022-10-26",
           "pNbLkQV3OkQ"
          ],
          [
           "How much gold I found in $100 Amazon pay dirt",
           606,
           "2022-10-20",
           "DfapVOpJdks"
          ],
          [
           "I paid artists $200 to turn Yeezys into sunglasses (foam runners)",
           213,
           "2022-10-11",
           "2iq9yJ_ptso"
          ],
          [
           "How to make $200 a day with a drone",
           814,
           "2022-09-23",
           "5fwdTOSCHXg"
          ],
          [
           "I got a gadget filled mystery box in the mail #shorts #sponsored",
           154,
           "2022-08-31",
           "7VuYOkPG4AE"
          ],
          [
           "How much gold I found in Amazon pay dirt",
           778,
           "2022-08-23",
           "3-V00ElEXig"
          ],
          [
           "Is Gold Pay Dirt A Good Side Hustle?",
           420,
           "2022-08-22",
           "7H0SC3a1J10"
          ],
          [
           "How much my money making hotspot has made",
           246,
           "2022-08-18",
           "9-_qO9MfTso"
          ],
          [
           "I tested the midnight Walmart side hustle",
           686,
           "2022-08-05",
           "1rST6dPtfcQ"
          ],
          [
           "I started a clothing brand for under $100 #shorts #ad",
           98,
           "2022-08-04",
           "NeY88HMi5wA"
          ],
          [
           "How much iPhone box costs to make in USA vs. China",
           5859,
           "2022-07-30",
           "MeR0neyhrEw"
          ],
          [
           "Is Amazon Affiliate Marketing a Good Side Hustle?",
           221,
           "2022-07-26",
           "ZkCZMeMBNS8"
          ],
          [
           "I’m turning a meme page into a business",
           176,
           "2022-07-22",
           "nwmvg6vpMns"
          ],
          [
           "I’m investing in $100 empty boxes #shorts #sponsored",
           475,
           "2022-07-18",
           "sZcgNlKA54k"
          ],
          [
           "I bought the most expensive water on Amazon",
           4078,
           "2022-07-05",
           "tFmEMzQFPYk"
          ],
          [
           "I tried going viral as a small brand",
           536,
           "2022-07-01",
           "gKACwcBbsQ4"
          ],
          [
           "I tried upgrading my money making hotspot (helium update PT.5)",
           651,
           "2022-06-25",
           "ER0Nmtf1ZMw"
          ],
          [
           "They were trying to disguise their side hustle…",
           33,
           "2022-06-24",
           "ADNuLSFOOXk"
          ],
          [
           "Did this seller scam me with her rolex?",
           152,
           "2022-06-22",
           "0JqbAZhncZ8"
          ],
          [
           "I tried finding profitable flips (ELON MUSK EDITION)",
           173,
           "2022-06-18",
           "HuzI5-Cz6sM"
          ],
          [
           "Surprising her with the cheapest rolex on eBay",
           1289,
           "2022-06-13",
           "tDEwiQlahfU"
          ],
          [
           "Confronting the seller of the “cheapest rolex on ebay”",
           626,
           "2022-06-10",
           "0gJlInD47gw"
          ],
          [
           "Is the cheapest rolex on eBay real?",
           2162,
           "2022-06-09",
           "auxv8xyea9c"
          ],
          [
           "Unboxing the cheapest rolex on eBay",
           234,
           "2022-06-03",
           "hMVUdFEN74U"
          ],
          [
           "I bought the cheapest rolex on eBay…",
           293,
           "2022-06-02",
           "KlTyRgVWqmI"
          ],
          [
           "Did I find real Yeezy slides?",
           549,
           "2022-05-30",
           "TaLnBn-qTAE"
          ],
          [
           "Asking Rolex dealers if I can film in their store",
           67,
           "2022-05-28",
           "MKD8iBdT2TQ"
          ],
          [
           "I looked for profit in a RICH CITY thrift store",
           744,
           "2022-05-27",
           "SX-An2mHmm0"
          ],
          [
           "I tried making money with unclaimed mail",
           728,
           "2022-05-22",
           "u6ZpmfV0Zck"
          ],
          [
           "I just UPGRADED my money making hotspot (helium update PT.4)",
           774,
           "2022-05-13",
           "nsvTEzFhwl4"
          ],
          [
           "I tried finding profitable flips at Walmart (in a RICH city 💰)",
           567,
           "2022-05-06",
           "dj9EQMAvrXQ"
          ],
          [
           "I tried flipping sneakers from the Nike outlet",
           852,
           "2022-04-15",
           "rrH1T6KWaYA"
          ],
          [
           "Comparing PRIME to Powerade (will this brand win?)",
           66,
           "2022-04-05",
           "tWFr9mWxoeA"
          ],
          [
           "I tried finding profitable flips at Walmart AGAIN",
           470,
           "2022-04-01",
           "nMCi9ByUtac"
          ],
          [
           "I tried finding profitable flips at Goodwill…",
           785,
           "2022-03-24",
           "m0PtxJF7Bh4"
          ],
          [
           "Why I spent $3k on a full send metacard NFT (Nelk)",
           441,
           "2022-03-15",
           "z9MWIpKlhG8"
          ],
          [
           "I spent $100 on Pokémon cards to flip for profit",
           1015,
           "2022-03-03",
           "ScJGWii1bwc"
          ],
          [
           "How much $ I’ve made helium mining (Week 1)",
           1206,
           "2022-02-28",
           "Ip2JJbz11h4"
          ],
          [
           "I tried finding profitable flips at Walmart…",
           4176,
           "2022-02-25",
           "x7EGS-QEqzA"
          ],
          [
           "I bought a wireless hotspot that makes me money",
           1255,
           "2022-02-22",
           "MHcoJWtSP3g"
          ],
          [
           "I paid Fiverr $30 and $120 to design NFT’s (comparison)",
           1394,
           "2022-02-11",
           "_k56dhmsU_0"
          ],
          [
           "How I made my NFT chain (step by step)",
           152,
           "2022-02-07",
           "vzAqjWPBdSc"
          ],
          [
           "“Drama” YouTubers are making a lot of money rn…",
           61,
           "2022-02-05",
           "PEvkwuJl-qg"
          ],
          [
           "Why I’m not selling NFT’s ever again…",
           268,
           "2022-01-31",
           "hqNw6WsmZeI"
          ],
          [
           "How I built a tablet farm that makes me money…",
           4414,
           "2022-01-28",
           "Nbrj0tIVXb0"
          ],
          [
           "How much I made selling dollar store items online…",
           493,
           "2022-01-17",
           "owD-CiSL80Y"
          ],
          [
           "Trying to turn $0 into $10k from scratch 💰",
           1026,
           "2021-10-28",
           "vraQBntRrPE"
          ],
          [
           "I tried flipping NFTs… here’s how much I made.",
           1917,
           "2021-10-27",
           "erni261z5wU"
          ],
          [
           "I got thumbnail advice from MrBeast 😏",
           225,
           "2021-09-02",
           "2yn9Pa2W_3w"
          ],
          [
           "How Yeti Charges $35 For A Cup…",
           691,
           "2021-08-04",
           "pnOtEPg1GAE"
          ],
          [
           "The genius marketing behind NELK  Full Send…",
           109,
           "2021-08-02",
           "Hz4bcxs7Vms"
          ]
         ],
         "hovertemplate": "sentiment_label=Negative<br>mean_weighted_sentiment_score=%{x}<br>view_count=%{y}<br>video_title=%{customdata[0]}<br>comment_count=%{customdata[1]}<br>upload_date=%{customdata[2]}<br>video_id=%{customdata[3]}<extra></extra>",
         "legendgroup": "Negative",
         "marker": {
          "color": "#00cc96",
          "symbol": "circle"
         },
         "mode": "markers",
         "name": "Negative",
         "orientation": "v",
         "showlegend": true,
         "type": "scatter",
         "x": [
          -0.30291875139722285,
          -0.14745416819643814,
          -0.14327442293183063,
          -0.1441106022437873,
          -0.15120927216642996,
          -0.13496870555058876,
          -0.1768413202378197,
          -0.20325650937348894,
          -0.3011059377134217,
          -0.2717567126198513,
          -0.16152922384666676,
          -0.3650025599342022,
          -0.11158729950266501,
          -0.33141768720313797,
          -0.24568356371977748,
          -0.20768288680440808,
          -0.21645471434975336,
          -0.22048412057569086,
          -0.10084575580226052,
          -0.2136794072445308,
          -0.13259713755244704,
          -0.16732594247086574,
          -0.26338030596810114,
          -0.2011166806387867,
          -0.12087305389441455,
          -0.230201967037161,
          -0.14027403899527327,
          -0.11408419596112294,
          -0.32913123292208335,
          -0.10218942335227155,
          -0.24249087970438404,
          -0.19781409153795762,
          -0.18343814255133722,
          -0.2515015417621249,
          -0.2479140062429752,
          -0.2901634307142715,
          -0.3237472745148759,
          -0.13931334872071335,
          -0.12462806220712334,
          -0.2590130625206691,
          -0.18570927983539495,
          -0.11962075688201805,
          -0.12735296326024192,
          -0.14874949182073274,
          -0.1687903635881164,
          -0.1442531075985692,
          -0.44701532690148604,
          -0.17173758763255495,
          -0.27351107102891675,
          -0.14759683081081937,
          -0.21512548850712024,
          -0.17659943912710466
         ],
         "xaxis": "x",
         "y": [
          501415,
          2103937,
          1835207,
          1871976,
          1729501,
          211944,
          5827039,
          1844903,
          866417,
          1837882,
          188385,
          5546984,
          2018008,
          269367,
          1681458,
          7633883,
          3554636,
          2370984,
          231893,
          853458,
          806622,
          1316230,
          1234922,
          30106646,
          546741,
          1160878,
          4074711,
          228490,
          1861965,
          3214566,
          3348675,
          2116905,
          5004675,
          93456,
          2057610,
          1220806,
          508914,
          4554853,
          2900702,
          16236845,
          6163849,
          2493035,
          223064,
          154648,
          435588,
          13609004,
          1452106,
          4715317,
          4474616,
          532261,
          1038455,
          154792
         ],
         "yaxis": "y"
        }
       ],
       "layout": {
        "legend": {
         "title": {
          "text": "sentiment_label"
         },
         "tracegroupgap": 0
        },
        "template": {
         "data": {
          "bar": [
           {
            "error_x": {
             "color": "#2a3f5f"
            },
            "error_y": {
             "color": "#2a3f5f"
            },
            "marker": {
             "line": {
              "color": "#E5ECF6",
              "width": 0.5
             },
             "pattern": {
              "fillmode": "overlay",
              "size": 10,
              "solidity": 0.2
             }
            },
            "type": "bar"
           }
          ],
          "barpolar": [
           {
            "marker": {
             "line": {
              "color": "#E5ECF6",
              "width": 0.5
             },
             "pattern": {
              "fillmode": "overlay",
              "size": 10,
              "solidity": 0.2
             }
            },
            "type": "barpolar"
           }
          ],
          "carpet": [
           {
            "aaxis": {
             "endlinecolor": "#2a3f5f",
             "gridcolor": "white",
             "linecolor": "white",
             "minorgridcolor": "white",
             "startlinecolor": "#2a3f5f"
            },
            "baxis": {
             "endlinecolor": "#2a3f5f",
             "gridcolor": "white",
             "linecolor": "white",
             "minorgridcolor": "white",
             "startlinecolor": "#2a3f5f"
            },
            "type": "carpet"
           }
          ],
          "choropleth": [
           {
            "colorbar": {
             "outlinewidth": 0,
             "ticks": ""
            },
            "type": "choropleth"
           }
          ],
          "contour": [
           {
            "colorbar": {
             "outlinewidth": 0,
             "ticks": ""
            },
            "colorscale": [
             [
              0,
              "#0d0887"
             ],
             [
              0.1111111111111111,
              "#46039f"
             ],
             [
              0.2222222222222222,
              "#7201a8"
             ],
             [
              0.3333333333333333,
              "#9c179e"
             ],
             [
              0.4444444444444444,
              "#bd3786"
             ],
             [
              0.5555555555555556,
              "#d8576b"
             ],
             [
              0.6666666666666666,
              "#ed7953"
             ],
             [
              0.7777777777777778,
              "#fb9f3a"
             ],
             [
              0.8888888888888888,
              "#fdca26"
             ],
             [
              1,
              "#f0f921"
             ]
            ],
            "type": "contour"
           }
          ],
          "contourcarpet": [
           {
            "colorbar": {
             "outlinewidth": 0,
             "ticks": ""
            },
            "type": "contourcarpet"
           }
          ],
          "heatmap": [
           {
            "colorbar": {
             "outlinewidth": 0,
             "ticks": ""
            },
            "colorscale": [
             [
              0,
              "#0d0887"
             ],
             [
              0.1111111111111111,
              "#46039f"
             ],
             [
              0.2222222222222222,
              "#7201a8"
             ],
             [
              0.3333333333333333,
              "#9c179e"
             ],
             [
              0.4444444444444444,
              "#bd3786"
             ],
             [
              0.5555555555555556,
              "#d8576b"
             ],
             [
              0.6666666666666666,
              "#ed7953"
             ],
             [
              0.7777777777777778,
              "#fb9f3a"
             ],
             [
              0.8888888888888888,
              "#fdca26"
             ],
             [
              1,
              "#f0f921"
             ]
            ],
            "type": "heatmap"
           }
          ],
          "heatmapgl": [
           {
            "colorbar": {
             "outlinewidth": 0,
             "ticks": ""
            },
            "colorscale": [
             [
              0,
              "#0d0887"
             ],
             [
              0.1111111111111111,
              "#46039f"
             ],
             [
              0.2222222222222222,
              "#7201a8"
             ],
             [
              0.3333333333333333,
              "#9c179e"
             ],
             [
              0.4444444444444444,
              "#bd3786"
             ],
             [
              0.5555555555555556,
              "#d8576b"
             ],
             [
              0.6666666666666666,
              "#ed7953"
             ],
             [
              0.7777777777777778,
              "#fb9f3a"
             ],
             [
              0.8888888888888888,
              "#fdca26"
             ],
             [
              1,
              "#f0f921"
             ]
            ],
            "type": "heatmapgl"
           }
          ],
          "histogram": [
           {
            "marker": {
             "pattern": {
              "fillmode": "overlay",
              "size": 10,
              "solidity": 0.2
             }
            },
            "type": "histogram"
           }
          ],
          "histogram2d": [
           {
            "colorbar": {
             "outlinewidth": 0,
             "ticks": ""
            },
            "colorscale": [
             [
              0,
              "#0d0887"
             ],
             [
              0.1111111111111111,
              "#46039f"
             ],
             [
              0.2222222222222222,
              "#7201a8"
             ],
             [
              0.3333333333333333,
              "#9c179e"
             ],
             [
              0.4444444444444444,
              "#bd3786"
             ],
             [
              0.5555555555555556,
              "#d8576b"
             ],
             [
              0.6666666666666666,
              "#ed7953"
             ],
             [
              0.7777777777777778,
              "#fb9f3a"
             ],
             [
              0.8888888888888888,
              "#fdca26"
             ],
             [
              1,
              "#f0f921"
             ]
            ],
            "type": "histogram2d"
           }
          ],
          "histogram2dcontour": [
           {
            "colorbar": {
             "outlinewidth": 0,
             "ticks": ""
            },
            "colorscale": [
             [
              0,
              "#0d0887"
             ],
             [
              0.1111111111111111,
              "#46039f"
             ],
             [
              0.2222222222222222,
              "#7201a8"
             ],
             [
              0.3333333333333333,
              "#9c179e"
             ],
             [
              0.4444444444444444,
              "#bd3786"
             ],
             [
              0.5555555555555556,
              "#d8576b"
             ],
             [
              0.6666666666666666,
              "#ed7953"
             ],
             [
              0.7777777777777778,
              "#fb9f3a"
             ],
             [
              0.8888888888888888,
              "#fdca26"
             ],
             [
              1,
              "#f0f921"
             ]
            ],
            "type": "histogram2dcontour"
           }
          ],
          "mesh3d": [
           {
            "colorbar": {
             "outlinewidth": 0,
             "ticks": ""
            },
            "type": "mesh3d"
           }
          ],
          "parcoords": [
           {
            "line": {
             "colorbar": {
              "outlinewidth": 0,
              "ticks": ""
             }
            },
            "type": "parcoords"
           }
          ],
          "pie": [
           {
            "automargin": true,
            "type": "pie"
           }
          ],
          "scatter": [
           {
            "fillpattern": {
             "fillmode": "overlay",
             "size": 10,
             "solidity": 0.2
            },
            "type": "scatter"
           }
          ],
          "scatter3d": [
           {
            "line": {
             "colorbar": {
              "outlinewidth": 0,
              "ticks": ""
             }
            },
            "marker": {
             "colorbar": {
              "outlinewidth": 0,
              "ticks": ""
             }
            },
            "type": "scatter3d"
           }
          ],
          "scattercarpet": [
           {
            "marker": {
             "colorbar": {
              "outlinewidth": 0,
              "ticks": ""
             }
            },
            "type": "scattercarpet"
           }
          ],
          "scattergeo": [
           {
            "marker": {
             "colorbar": {
              "outlinewidth": 0,
              "ticks": ""
             }
            },
            "type": "scattergeo"
           }
          ],
          "scattergl": [
           {
            "marker": {
             "colorbar": {
              "outlinewidth": 0,
              "ticks": ""
             }
            },
            "type": "scattergl"
           }
          ],
          "scattermapbox": [
           {
            "marker": {
             "colorbar": {
              "outlinewidth": 0,
              "ticks": ""
             }
            },
            "type": "scattermapbox"
           }
          ],
          "scatterpolar": [
           {
            "marker": {
             "colorbar": {
              "outlinewidth": 0,
              "ticks": ""
             }
            },
            "type": "scatterpolar"
           }
          ],
          "scatterpolargl": [
           {
            "marker": {
             "colorbar": {
              "outlinewidth": 0,
              "ticks": ""
             }
            },
            "type": "scatterpolargl"
           }
          ],
          "scatterternary": [
           {
            "marker": {
             "colorbar": {
              "outlinewidth": 0,
              "ticks": ""
             }
            },
            "type": "scatterternary"
           }
          ],
          "surface": [
           {
            "colorbar": {
             "outlinewidth": 0,
             "ticks": ""
            },
            "colorscale": [
             [
              0,
              "#0d0887"
             ],
             [
              0.1111111111111111,
              "#46039f"
             ],
             [
              0.2222222222222222,
              "#7201a8"
             ],
             [
              0.3333333333333333,
              "#9c179e"
             ],
             [
              0.4444444444444444,
              "#bd3786"
             ],
             [
              0.5555555555555556,
              "#d8576b"
             ],
             [
              0.6666666666666666,
              "#ed7953"
             ],
             [
              0.7777777777777778,
              "#fb9f3a"
             ],
             [
              0.8888888888888888,
              "#fdca26"
             ],
             [
              1,
              "#f0f921"
             ]
            ],
            "type": "surface"
           }
          ],
          "table": [
           {
            "cells": {
             "fill": {
              "color": "#EBF0F8"
             },
             "line": {
              "color": "white"
             }
            },
            "header": {
             "fill": {
              "color": "#C8D4E3"
             },
             "line": {
              "color": "white"
             }
            },
            "type": "table"
           }
          ]
         },
         "layout": {
          "annotationdefaults": {
           "arrowcolor": "#2a3f5f",
           "arrowhead": 0,
           "arrowwidth": 1
          },
          "autotypenumbers": "strict",
          "coloraxis": {
           "colorbar": {
            "outlinewidth": 0,
            "ticks": ""
           }
          },
          "colorscale": {
           "diverging": [
            [
             0,
             "#8e0152"
            ],
            [
             0.1,
             "#c51b7d"
            ],
            [
             0.2,
             "#de77ae"
            ],
            [
             0.3,
             "#f1b6da"
            ],
            [
             0.4,
             "#fde0ef"
            ],
            [
             0.5,
             "#f7f7f7"
            ],
            [
             0.6,
             "#e6f5d0"
            ],
            [
             0.7,
             "#b8e186"
            ],
            [
             0.8,
             "#7fbc41"
            ],
            [
             0.9,
             "#4d9221"
            ],
            [
             1,
             "#276419"
            ]
           ],
           "sequential": [
            [
             0,
             "#0d0887"
            ],
            [
             0.1111111111111111,
             "#46039f"
            ],
            [
             0.2222222222222222,
             "#7201a8"
            ],
            [
             0.3333333333333333,
             "#9c179e"
            ],
            [
             0.4444444444444444,
             "#bd3786"
            ],
            [
             0.5555555555555556,
             "#d8576b"
            ],
            [
             0.6666666666666666,
             "#ed7953"
            ],
            [
             0.7777777777777778,
             "#fb9f3a"
            ],
            [
             0.8888888888888888,
             "#fdca26"
            ],
            [
             1,
             "#f0f921"
            ]
           ],
           "sequentialminus": [
            [
             0,
             "#0d0887"
            ],
            [
             0.1111111111111111,
             "#46039f"
            ],
            [
             0.2222222222222222,
             "#7201a8"
            ],
            [
             0.3333333333333333,
             "#9c179e"
            ],
            [
             0.4444444444444444,
             "#bd3786"
            ],
            [
             0.5555555555555556,
             "#d8576b"
            ],
            [
             0.6666666666666666,
             "#ed7953"
            ],
            [
             0.7777777777777778,
             "#fb9f3a"
            ],
            [
             0.8888888888888888,
             "#fdca26"
            ],
            [
             1,
             "#f0f921"
            ]
           ]
          },
          "colorway": [
           "#636efa",
           "#EF553B",
           "#00cc96",
           "#ab63fa",
           "#FFA15A",
           "#19d3f3",
           "#FF6692",
           "#B6E880",
           "#FF97FF",
           "#FECB52"
          ],
          "font": {
           "color": "#2a3f5f"
          },
          "geo": {
           "bgcolor": "white",
           "lakecolor": "white",
           "landcolor": "#E5ECF6",
           "showlakes": true,
           "showland": true,
           "subunitcolor": "white"
          },
          "hoverlabel": {
           "align": "left"
          },
          "hovermode": "closest",
          "mapbox": {
           "style": "light"
          },
          "paper_bgcolor": "white",
          "plot_bgcolor": "#E5ECF6",
          "polar": {
           "angularaxis": {
            "gridcolor": "white",
            "linecolor": "white",
            "ticks": ""
           },
           "bgcolor": "#E5ECF6",
           "radialaxis": {
            "gridcolor": "white",
            "linecolor": "white",
            "ticks": ""
           }
          },
          "scene": {
           "xaxis": {
            "backgroundcolor": "#E5ECF6",
            "gridcolor": "white",
            "gridwidth": 2,
            "linecolor": "white",
            "showbackground": true,
            "ticks": "",
            "zerolinecolor": "white"
           },
           "yaxis": {
            "backgroundcolor": "#E5ECF6",
            "gridcolor": "white",
            "gridwidth": 2,
            "linecolor": "white",
            "showbackground": true,
            "ticks": "",
            "zerolinecolor": "white"
           },
           "zaxis": {
            "backgroundcolor": "#E5ECF6",
            "gridcolor": "white",
            "gridwidth": 2,
            "linecolor": "white",
            "showbackground": true,
            "ticks": "",
            "zerolinecolor": "white"
           }
          },
          "shapedefaults": {
           "line": {
            "color": "#2a3f5f"
           }
          },
          "ternary": {
           "aaxis": {
            "gridcolor": "white",
            "linecolor": "white",
            "ticks": ""
           },
           "baxis": {
            "gridcolor": "white",
            "linecolor": "white",
            "ticks": ""
           },
           "bgcolor": "#E5ECF6",
           "caxis": {
            "gridcolor": "white",
            "linecolor": "white",
            "ticks": ""
           }
          },
          "title": {
           "x": 0.05
          },
          "xaxis": {
           "automargin": true,
           "gridcolor": "white",
           "linecolor": "white",
           "ticks": "",
           "title": {
            "standoff": 15
           },
           "zerolinecolor": "white",
           "zerolinewidth": 2
          },
          "yaxis": {
           "automargin": true,
           "gridcolor": "white",
           "linecolor": "white",
           "ticks": "",
           "title": {
            "standoff": 15
           },
           "zerolinecolor": "white",
           "zerolinewidth": 2
          }
         }
        },
        "title": {
         "text": "Mean Weighted Sentiment Score and View Count Scatter for All Videos"
        },
        "xaxis": {
         "anchor": "y",
         "domain": [
          0,
          1
         ],
         "title": {
          "text": "mean_weighted_sentiment_score"
         }
        },
        "yaxis": {
         "anchor": "x",
         "domain": [
          0,
          1
         ],
         "title": {
          "text": "view_count"
         }
        }
       }
      },
      "text/html": [
       "<div>                            <div id=\"a1577052-ac0b-442e-9232-72540cca31f3\" class=\"plotly-graph-div\" style=\"height:525px; width:100%;\"></div>            <script type=\"text/javascript\">                require([\"plotly\"], function(Plotly) {                    window.PLOTLYENV=window.PLOTLYENV || {};                                    if (document.getElementById(\"a1577052-ac0b-442e-9232-72540cca31f3\")) {                    Plotly.newPlot(                        \"a1577052-ac0b-442e-9232-72540cca31f3\",                        [{\"customdata\":[[\"Confronting the seller of a questionable Kobe autograph\",447,\"2022-11-02\",\"DOtPOfeyJ4Q\"],[\"I bought a $400 Kobe autographed basketball (sus?)\",88,\"2022-10-28\",\"IzbqWW52D6Y\"],[\"I bought the cheapest Kobe autographed ball online\",68,\"2022-10-26\",\"i-EGeo6iLx0\"],[\"I manufactured Yeezy sunglasses from scratch\",203,\"2022-10-12\",\"JZvrStxx2Z8\"],[\"How I profited off the fidget spinner craze\",260,\"2022-10-04\",\"luDrIsXN2GI\"],[\"My best finds at the thrift store (as a reseller)\",67,\"2022-09-17\",\"_v9TxKu5eHU\"],[\"Testing the world\\u2019s brightest flashlight OUTSIDE\",135,\"2022-09-08\",\"2bMxiKefjHw\"],[\"I paid an artist $20 to turn Yeezy sneakers into sunglasses\",645,\"2022-09-01\",\"oaoEYpKUaEA\"],[\"The unfortunate truth of many US \\u201cfactories\\u201d\",62,\"2022-08-29\",\"eSuFxZErf-c\"],[\"Valuing the gold I found in Amazon pay dirt\",255,\"2022-08-24\",\"yYqWz-v9frA\"],[\"He sold me fake Pok\\u00e9mon cards\\u2026 maybe?\",493,\"2022-08-12\",\"AdMYj6_5PpA\"],[\"He had 0 viewers\\u2026 so I sent him $ for bitcoin\",87,\"2022-08-11\",\"wIKBjVd8Yrw\"],[\"Revealing My Entire Pok\\u00e9mon Investment\",830,\"2022-08-08\",\"Rd5XQOrUSio\"],[\"How she started a $10mil per year \\u201cside hustle\\u201d\",116,\"2022-07-28\",\"Feeh8hMClDU\"],[\"I bought a questionable pineapple\\u2026\",4680,\"2022-07-20\",\"0luY8pOzNww\"],[\"I paid Fiverr to redesign my product packaging\",2753,\"2022-07-14\",\"_G6Tvk5rJdc\"],[\"I tried turning $21 into $100 in profit (30min challenge)\",414,\"2022-07-12\",\"-NeMQkXjzLQ\"],[\"Taste testing the most expensive water on Amazon\",1515,\"2022-07-07\",\"jjhNrouKLQ4\"],[\"I\\u2019m building a sunglasses brand to compete with Rayban (ep.2)\",417,\"2022-06-28\",\"INCQBEu_juI\"],[\"I Bought The Cheapest Rolex On eBay\",1410,\"2022-06-08\",\"SHFWyvLzUxU\"],[\"Make this ONE change to 2x your eBay/Amazon sales\",202,\"2022-05-20\",\"7s_gTXbXBcU\"],[\"I tried dropshipping\\u2026 here\\u2019s how much I made\",91,\"2022-05-10\",\"ZaxsNeUUoiM\"],[\"I bought a Pok\\u00e9mon collection to flip for profit (AGAIN)\",457,\"2022-04-29\",\"9EzqbL7guy0\"],[\"Jason Derulo DM\\u2019d me\\u2026 (here\\u2019s why)\",55,\"2022-04-22\",\"pjmSeIDMKdY\"],[\"I tried making a pro commercial for under $500\",105,\"2022-04-21\",\"bVn_DCwTG-w\"],[\"I upgraded my $ making hotspot (week 2 results)\",204,\"2022-03-10\",\"_UR4m2qtRsI\"],[\"What influencers actually get for free\\u2026\",116,\"2022-03-08\",\"5HwXYQO4aC8\"],[\"I built a sunglasses brand to compete with Ray-Ban\",1119,\"2022-02-24\",\"dzCY_A1W2Wk\"],[\"How much my T-shirt store made from $100 in Fb ads\",85,\"2022-02-17\",\"w9_og6FFEOY\"],[\"Ranking side hustles I\\u2019ve tried from worst to best\",698,\"2022-02-14\",\"DitHFGQgqnY\"],[\"My funniest flip I\\u2019ve ever done (made good $ tho)\",55,\"2022-02-10\",\"SPJ6Dfwja5w\"],[\"I tried the golf club flipping side hustle (it works)\",64,\"2022-02-08\",\"o1R6m4vIJRY\"],[\"How to grow $1k into $1mil online (what I did)\",136,\"2022-02-04\",\"JM2vkZBf0G4\"],[\"I made a chain so I can wear my NFT\\u2019s\\u2026\",103,\"2022-02-02\",\"kFHPPvjvxxM\"],[\"How much my Pok\\u00e9mon cards investment is worth \\ud83d\\udcb0\",2566,\"2022-01-26\",\"uEaXu1m4R5Y\"],[\"At 25yo I was doing $100k per month on eBay\",164,\"2022-01-24\",\"I4f0lEcZQII\"],[\"I tried making $ with smaller NFT projects\\u2026\",83,\"2022-01-18\",\"UhiSRuk7Lfw\"],[\"My New Money Printing Tablet Farm\",245,\"2022-01-07\",\"FzYz_NPwtq0\"],[\"I tried finding profitable sneakers at Kohl\\u2019s \\ud83d\\ude16\",150,\"2021-10-20\",\"6hfjCpnlzDc\"],[\"Were these brand names from Fiverr worth $50? \\ud83d\\ude16\",63,\"2021-10-07\",\"Euqcd4OmycE\"]],\"hovertemplate\":\"sentiment_label=Neutral<br>mean_weighted_sentiment_score=%{x}<br>view_count=%{y}<br>video_title=%{customdata[0]}<br>comment_count=%{customdata[1]}<br>upload_date=%{customdata[2]}<br>video_id=%{customdata[3]}<extra></extra>\",\"legendgroup\":\"Neutral\",\"marker\":{\"color\":\"#636efa\",\"symbol\":\"circle\"},\"mode\":\"markers\",\"name\":\"Neutral\",\"orientation\":\"v\",\"showlegend\":true,\"x\":[0.060184885077662266,-0.08082417377403806,-0.05668020200729371,0.03405960838673477,-0.08499499636888505,-0.07427134223886439,-0.011980601806532267,-0.0654939779181182,0.09195497463911007,-0.04837678625776963,-0.05142784088452659,0.037738101822989326,0.013594636109249636,-0.09157240559657416,0.0038384703745377217,0.049881634433994744,-0.06642476111016377,0.06537737870587287,0.02200358474218808,0.09991127732284565,0.06804522380341577,-0.034448761508819925,-0.009381973511759909,-0.07093980709711711,0.027487576575506278,0.053792837203717685,0.050470296518747175,-0.017399842743737726,-0.07164414786710974,-0.026366412867116572,-0.07146765802587783,-0.04740549542687157,0.0038024889352993928,0.06136653331609871,-0.026410077660116257,-0.059676169759624614,-0.08674807658901923,0.09573011720833711,-0.09869412256611719,0.0947204325880323],\"xaxis\":\"x\",\"y\":[781610,1469829,455423,455182,3004250,96751,229984,4234596,200262,625339,421491,157334,2756855,180821,10616068,7941682,1952270,3095865,771667,221018,1075509,267343,1533920,149995,150244,541794,270517,2644327,396180,3036555,176373,201786,268687,98791,14570731,521855,141519,225342,650797,48474],\"yaxis\":\"y\",\"type\":\"scatter\"},{\"customdata\":[[\"Do experts think my cheap Kobe autograph is real?\",57,\"2022-11-01\",\"ZrZVTAdSMl8\"],[\"Anyone need a new camera?\",3230,\"2022-11-01\",\"_DcZFOirIDE\"],[\"I asked collectors if my cheap Kobe autographs are real\",70,\"2022-10-31\",\"JVHboSk65-k\"],[\"I bought $500 worth of G-Shock\\ufffc\\ufffc watches\",1536,\"2022-10-14\",\"iwe3SuNkXbg\"],[\"I Turned Yeezy Sneakers Into Sunglasses\",70,\"2022-10-06\",\"LidHyLEYw14\"],[\"Easy Amazon side hustle - sell books with no words #ad\",30,\"2022-10-03\",\"PwAp8AaiOFU\"],[\"I made a 3D printed 500k YouTube play button\",39,\"2022-10-01\",\"JSLsY0YdHrY\"],[\"Make $1700 A Month Selling Books On Amazon - Easy Side Hustle - No Writing Required\",90,\"2022-09-28\",\"Yb8PBOMEKiE\"],[\"These boring glasses made me thousands online\",32,\"2022-09-14\",\"i3PhipDbJec\"],[\"I bought the brightest flashlight in the world ($700)\",53,\"2022-09-07\",\"j1u40MkqNZo\"],[\"Unboxing the brightest flashlight in the world ($700)\",35,\"2022-09-07\",\"yELjMWa7Lq0\"],[\"Picking the winner of the MacBook\\u2026\",59,\"2022-09-05\",\"WWvX_Ls1zd8\"],[\"I Bought Gold Pay Dirt And Made $______\",230,\"2022-08-19\",\"_ysQw7k675o\"],[\"saying goodbye\\u2026\",2622,\"2022-08-03\",\"G2ZwJE4Jm7U\"],[\"I Tried The Amazon Affiliate Side Hustle (how much I made)\",99,\"2022-07-27\",\"sV76wNjPiuU\"],[\"I Tried Selling Amazon Products With Memes\",77,\"2022-07-25\",\"sn8D5BMDPfg\"],[\"The science behind my new YouTube thumbnail\\u2026\",72,\"2022-07-11\",\"XUKTNl8i9uk\"],[\"I Tried Relaunching My Failed Business - Ep.1\",85,\"2022-06-24\",\"_4Q9pThNjL4\"],[\"I tried hyper realistic VR gaming (zombie edition)\",98,\"2022-06-16\",\"3C-3pbYzPCg\"],[\"My Money Printing Tablet Farm Journey (How much I made)\",114,\"2022-05-24\",\"IAI1UswVJGA\"],[\"My sneaky plan to monetize my meme page\\u2026\",176,\"2022-05-18\",\"WW5xJ0yPdWE\"],[\"How my failed business started my new career\\u2026\",68,\"2022-05-11\",\"eT60aL2ysCI\"],[\"I bought a Crushmetric SwitchPen (for research)\",56,\"2022-05-02\",\"SI_89jAAohQ\"],[\"My biggest viral video flop all time\\u2026\",32,\"2022-04-26\",\"2xQwD68FklU\"],[\"Jidion\\u2019s secret to growing 4mil subs in 1 year\\u2026\",30,\"2022-04-18\",\"D2SYEbTGa7Q\"],[\"How I used 1 viral video to grow my business FAST\",39,\"2022-04-13\",\"OnW8nR2t26o\"],[\"My biggest failure as an entrepreneur\\u2026\",94,\"2022-04-12\",\"yLjzoQCsQ14\"],[\"Upgrading my office into a video studio for $100\",44,\"2022-04-08\",\"fYOSzzEX8eU\"],[\"Giving streamers with 0 viewers $ to buy bitcoin\",89,\"2022-03-31\",\"zKbnMJEpVkk\"],[\"Unboxing my 100k play button  my best YT advice\",57,\"2022-03-29\",\"RQilDfdV1vg\"],[\"I asked a $100m CEO: \\u201cis college worth it?\\u201d\",49,\"2022-03-26\",\"go1KYCtrl2Q\"],[\"How I find niche $ making products on eBay\",52,\"2022-03-17\",\"CqwErPqMwew\"],[\"How I grew from 1k-100k subscribers in 1 week\",48,\"2022-03-12\",\"K6TzzlrmSMA\"],[\"I built a dropshipping store from a cozy cabin\",77,\"2022-03-09\",\"dPkIKNBQGuM\"],[\"I tried starting a streetwear brand for $70\",534,\"2022-03-07\",\"D4UXIL3BHNs\"],[\"I made a diamond play button out of paper\",350,\"2022-03-02\",\"J6C4ZLvt1Oo\"],[\"I asked a 9 figure ecom CEO if FB ads still work\",35,\"2022-02-25\",\"0FXgNvNDqS8\"],[\"A multimillionaire CEO\\u2019s secret manufacturing tip\",338,\"2022-02-18\",\"xED6b2rRHM8\"],[\"My biggest struggle as an entrepreneur\",41,\"2022-02-15\",\"G-pn6BF-8DY\"],[\"It took me 1 year to get 1k YouTube subs\\u2026 \\ud83d\\ude2d\",69,\"2022-01-27\",\"H-XflV-5OyI\"],[\"I Paid Fiverr Video Editors To Make A Commercial\",2473,\"2022-01-25\",\"3S7lqhdaOZw\"],[\"I tried the print on demand t-shirt side hustle\",40,\"2022-01-20\",\"MIIWbM_JkeI\"],[\"How I&#39;ve Been Doubling My Money With NFT&#39;s\",53,\"2022-01-19\",\"K3cM2bwWwLw\"],[\"Dropshipping From A Cabin In The Woods (24HR Challenge)\",44,\"2021-10-15\",\"U1-PcDFMq4s\"],[\"10k today or 1 Bitcoin in 5 years? (on Omegle\\u2026)\",38,\"2021-10-05\",\"6srUHtjuqaU\"],[\"The Trick To The YouTube Shorts Algorithm\\u2026\",70,\"2021-09-30\",\"bGMNgiIN6Wg\"],[\"My first product I designed  manufactured \\ud83d\\ude16\",65,\"2021-09-29\",\"aTX1ICVgCBg\"],[\"My Day As A Small YouTuber Trying To Make It (Raw Footage)\",40,\"2021-09-25\",\"MReS_0n_O_w\"],[\"I Bought A Billboard To Grow My Instagram\",31,\"2021-09-07\",\"tGgbRYqcWd8\"],[\"I Tried Making Money With Virtual Horse Racing\",32,\"2021-08-31\",\"iPqOKWMkylw\"],[\"I paid $1365 for a product commercial on Fiverr\\u2026 Was it worth it?\",40,\"2021-08-06\",\"x_-_IlJg60Y\"],[\"I PAID someone on FIVERR to EDIT my commercial\",31,\"2021-07-26\",\"MZs3jKq9Vlk\"],[\"1 Hour Shopify Dropshipping Challenge (FROM SCRATCH)\",30,\"2021-06-23\",\"HyEaPaXQUeI\"],[\"I Tried Dropshipping From Scratch (24HR CHALLENGE)\",55,\"2021-03-10\",\"Kxxxtkioncc\"],[\"How I Started A Million Dollar Business From My Mom&#39;s Basement\",37,\"2021-02-23\",\"-hQCZGiwyUA\"]],\"hovertemplate\":\"sentiment_label=Positive<br>mean_weighted_sentiment_score=%{x}<br>view_count=%{y}<br>video_title=%{customdata[0]}<br>comment_count=%{customdata[1]}<br>upload_date=%{customdata[2]}<br>video_id=%{customdata[3]}<extra></extra>\",\"legendgroup\":\"Positive\",\"marker\":{\"color\":\"#EF553B\",\"symbol\":\"circle\"},\"mode\":\"markers\",\"name\":\"Positive\",\"orientation\":\"v\",\"showlegend\":true,\"x\":[0.11765456127397941,0.630732670561305,0.24372406158041446,0.3882925440704606,0.48446189919296573,0.11193122863769531,0.5578583070726105,0.24281877209158503,0.2504667587005175,0.18804068785646688,0.17735055446624756,0.3675026638385577,0.17758770178664812,0.440221734614151,0.10307398626678868,0.33394691322712183,0.18945942423560402,0.39527664020143705,0.3577919686541838,0.23508581496492215,0.3011921868069481,0.367862201907805,0.3712562016078404,0.16234897871812182,0.2227262270450592,0.19764262725566997,0.27415048032999034,0.5373979266732931,0.22679680161556953,0.5419730012615521,0.17595629096031187,0.1784214046266344,0.2771195530891418,0.1465904740910781,0.22845042910043728,0.4481391144982466,0.2870562219619751,0.10080873947294931,0.4128089986349407,0.5186748589530136,0.19079986704397178,0.39252316256364184,0.10951368723596845,0.4837064023371096,0.20545687705278395,0.2605693059662978,0.3478144404788812,0.5771151504733345,0.45109350184599556,0.17532507710986664,0.5159688644938999,0.2947717183828354,0.1716350331025965,0.41320926666259766,0.6502485709530966],\"xaxis\":\"x\",\"y\":[113539,40723,971564,1162979,9368,48959,49641,10834,91084,109407,50759,53219,37322,215543,385224,39091,183171,16078,453980,32861,252723,196201,192329,155055,96684,144830,113690,112897,122581,76442,103689,116564,88116,205689,530461,2674456,186803,1092992,199155,144452,1744928,104785,27500,13284,46069,71412,35346,4019,4684,12304,17177,26455,5155,7339,6467],\"yaxis\":\"y\",\"type\":\"scatter\"},{\"customdata\":[[\"Unboxing a $400 Kobe autographed ball (real?)\",70,\"2022-10-28\",\"nxy-A8auW9U\"],[\"Is the cheapest Kobe autographed ball online real?\",220,\"2022-10-26\",\"pNbLkQV3OkQ\"],[\"How much gold I found in $100 Amazon pay dirt\",606,\"2022-10-20\",\"DfapVOpJdks\"],[\"I paid artists $200 to turn Yeezys into sunglasses (foam runners)\",213,\"2022-10-11\",\"2iq9yJ_ptso\"],[\"How to make $200 a day with a drone\",814,\"2022-09-23\",\"5fwdTOSCHXg\"],[\"I got a gadget filled mystery box in the mail #shorts #sponsored\",154,\"2022-08-31\",\"7VuYOkPG4AE\"],[\"How much gold I found in Amazon pay dirt\",778,\"2022-08-23\",\"3-V00ElEXig\"],[\"Is Gold Pay Dirt A Good Side Hustle?\",420,\"2022-08-22\",\"7H0SC3a1J10\"],[\"How much my money making hotspot has made\",246,\"2022-08-18\",\"9-_qO9MfTso\"],[\"I tested the midnight Walmart side hustle\",686,\"2022-08-05\",\"1rST6dPtfcQ\"],[\"I started a clothing brand for under $100 #shorts #ad\",98,\"2022-08-04\",\"NeY88HMi5wA\"],[\"How much iPhone box costs to make in USA vs. China\",5859,\"2022-07-30\",\"MeR0neyhrEw\"],[\"Is Amazon Affiliate Marketing a Good Side Hustle?\",221,\"2022-07-26\",\"ZkCZMeMBNS8\"],[\"I\\u2019m turning a meme page into a business\",176,\"2022-07-22\",\"nwmvg6vpMns\"],[\"I\\u2019m investing in $100 empty boxes #shorts #sponsored\",475,\"2022-07-18\",\"sZcgNlKA54k\"],[\"I bought the most expensive water on Amazon\",4078,\"2022-07-05\",\"tFmEMzQFPYk\"],[\"I tried going viral as a small brand\",536,\"2022-07-01\",\"gKACwcBbsQ4\"],[\"I tried upgrading my money making hotspot (helium update PT.5)\",651,\"2022-06-25\",\"ER0Nmtf1ZMw\"],[\"They were trying to disguise their side hustle\\u2026\",33,\"2022-06-24\",\"ADNuLSFOOXk\"],[\"Did this seller scam me with her rolex?\",152,\"2022-06-22\",\"0JqbAZhncZ8\"],[\"I tried finding profitable flips (ELON MUSK EDITION)\",173,\"2022-06-18\",\"HuzI5-Cz6sM\"],[\"Surprising her with the cheapest rolex on eBay\",1289,\"2022-06-13\",\"tDEwiQlahfU\"],[\"Confronting the seller of the \\u201ccheapest rolex on ebay\\u201d\",626,\"2022-06-10\",\"0gJlInD47gw\"],[\"Is the cheapest rolex on eBay real?\",2162,\"2022-06-09\",\"auxv8xyea9c\"],[\"Unboxing the cheapest rolex on eBay\",234,\"2022-06-03\",\"hMVUdFEN74U\"],[\"I bought the cheapest rolex on eBay\\u2026\",293,\"2022-06-02\",\"KlTyRgVWqmI\"],[\"Did I find real Yeezy slides?\",549,\"2022-05-30\",\"TaLnBn-qTAE\"],[\"Asking Rolex dealers if I can film in their store\",67,\"2022-05-28\",\"MKD8iBdT2TQ\"],[\"I looked for profit in a RICH CITY thrift store\",744,\"2022-05-27\",\"SX-An2mHmm0\"],[\"I tried making money with unclaimed mail\",728,\"2022-05-22\",\"u6ZpmfV0Zck\"],[\"I just UPGRADED my money making hotspot (helium update PT.4)\",774,\"2022-05-13\",\"nsvTEzFhwl4\"],[\"I tried finding profitable flips at Walmart (in a RICH city \\ud83d\\udcb0)\",567,\"2022-05-06\",\"dj9EQMAvrXQ\"],[\"I tried flipping sneakers from the Nike outlet\",852,\"2022-04-15\",\"rrH1T6KWaYA\"],[\"Comparing PRIME to Powerade (will this brand win?)\",66,\"2022-04-05\",\"tWFr9mWxoeA\"],[\"I tried finding profitable flips at Walmart AGAIN\",470,\"2022-04-01\",\"nMCi9ByUtac\"],[\"I tried finding profitable flips at Goodwill\\u2026\",785,\"2022-03-24\",\"m0PtxJF7Bh4\"],[\"Why I spent $3k on a full send metacard NFT (Nelk)\",441,\"2022-03-15\",\"z9MWIpKlhG8\"],[\"I spent $100 on Pok\\u00e9mon cards to flip for profit\",1015,\"2022-03-03\",\"ScJGWii1bwc\"],[\"How much $ I\\u2019ve made helium mining (Week 1)\",1206,\"2022-02-28\",\"Ip2JJbz11h4\"],[\"I tried finding profitable flips at Walmart\\u2026\",4176,\"2022-02-25\",\"x7EGS-QEqzA\"],[\"I bought a wireless hotspot that makes me money\",1255,\"2022-02-22\",\"MHcoJWtSP3g\"],[\"I paid Fiverr $30 and $120 to design NFT\\u2019s (comparison)\",1394,\"2022-02-11\",\"_k56dhmsU_0\"],[\"How I made my NFT chain (step by step)\",152,\"2022-02-07\",\"vzAqjWPBdSc\"],[\"\\u201cDrama\\u201d YouTubers are making a lot of money rn\\u2026\",61,\"2022-02-05\",\"PEvkwuJl-qg\"],[\"Why I\\u2019m not selling NFT\\u2019s ever again\\u2026\",268,\"2022-01-31\",\"hqNw6WsmZeI\"],[\"How I built a tablet farm that makes me money\\u2026\",4414,\"2022-01-28\",\"Nbrj0tIVXb0\"],[\"How much I made selling dollar store items online\\u2026\",493,\"2022-01-17\",\"owD-CiSL80Y\"],[\"Trying to turn $0 into $10k from scratch \\ud83d\\udcb0\",1026,\"2021-10-28\",\"vraQBntRrPE\"],[\"I tried flipping NFTs\\u2026 here\\u2019s how much I made.\",1917,\"2021-10-27\",\"erni261z5wU\"],[\"I got thumbnail advice from MrBeast \\ud83d\\ude0f\",225,\"2021-09-02\",\"2yn9Pa2W_3w\"],[\"How Yeti Charges $35 For A Cup\\u2026\",691,\"2021-08-04\",\"pnOtEPg1GAE\"],[\"The genius marketing behind NELK  Full Send\\u2026\",109,\"2021-08-02\",\"Hz4bcxs7Vms\"]],\"hovertemplate\":\"sentiment_label=Negative<br>mean_weighted_sentiment_score=%{x}<br>view_count=%{y}<br>video_title=%{customdata[0]}<br>comment_count=%{customdata[1]}<br>upload_date=%{customdata[2]}<br>video_id=%{customdata[3]}<extra></extra>\",\"legendgroup\":\"Negative\",\"marker\":{\"color\":\"#00cc96\",\"symbol\":\"circle\"},\"mode\":\"markers\",\"name\":\"Negative\",\"orientation\":\"v\",\"showlegend\":true,\"x\":[-0.30291875139722285,-0.14745416819643814,-0.14327442293183063,-0.1441106022437873,-0.15120927216642996,-0.13496870555058876,-0.1768413202378197,-0.20325650937348894,-0.3011059377134217,-0.2717567126198513,-0.16152922384666676,-0.3650025599342022,-0.11158729950266501,-0.33141768720313797,-0.24568356371977748,-0.20768288680440808,-0.21645471434975336,-0.22048412057569086,-0.10084575580226052,-0.2136794072445308,-0.13259713755244704,-0.16732594247086574,-0.26338030596810114,-0.2011166806387867,-0.12087305389441455,-0.230201967037161,-0.14027403899527327,-0.11408419596112294,-0.32913123292208335,-0.10218942335227155,-0.24249087970438404,-0.19781409153795762,-0.18343814255133722,-0.2515015417621249,-0.2479140062429752,-0.2901634307142715,-0.3237472745148759,-0.13931334872071335,-0.12462806220712334,-0.2590130625206691,-0.18570927983539495,-0.11962075688201805,-0.12735296326024192,-0.14874949182073274,-0.1687903635881164,-0.1442531075985692,-0.44701532690148604,-0.17173758763255495,-0.27351107102891675,-0.14759683081081937,-0.21512548850712024,-0.17659943912710466],\"xaxis\":\"x\",\"y\":[501415,2103937,1835207,1871976,1729501,211944,5827039,1844903,866417,1837882,188385,5546984,2018008,269367,1681458,7633883,3554636,2370984,231893,853458,806622,1316230,1234922,30106646,546741,1160878,4074711,228490,1861965,3214566,3348675,2116905,5004675,93456,2057610,1220806,508914,4554853,2900702,16236845,6163849,2493035,223064,154648,435588,13609004,1452106,4715317,4474616,532261,1038455,154792],\"yaxis\":\"y\",\"type\":\"scatter\"}],                        {\"template\":{\"data\":{\"histogram2dcontour\":[{\"type\":\"histogram2dcontour\",\"colorbar\":{\"outlinewidth\":0,\"ticks\":\"\"},\"colorscale\":[[0.0,\"#0d0887\"],[0.1111111111111111,\"#46039f\"],[0.2222222222222222,\"#7201a8\"],[0.3333333333333333,\"#9c179e\"],[0.4444444444444444,\"#bd3786\"],[0.5555555555555556,\"#d8576b\"],[0.6666666666666666,\"#ed7953\"],[0.7777777777777778,\"#fb9f3a\"],[0.8888888888888888,\"#fdca26\"],[1.0,\"#f0f921\"]]}],\"choropleth\":[{\"type\":\"choropleth\",\"colorbar\":{\"outlinewidth\":0,\"ticks\":\"\"}}],\"histogram2d\":[{\"type\":\"histogram2d\",\"colorbar\":{\"outlinewidth\":0,\"ticks\":\"\"},\"colorscale\":[[0.0,\"#0d0887\"],[0.1111111111111111,\"#46039f\"],[0.2222222222222222,\"#7201a8\"],[0.3333333333333333,\"#9c179e\"],[0.4444444444444444,\"#bd3786\"],[0.5555555555555556,\"#d8576b\"],[0.6666666666666666,\"#ed7953\"],[0.7777777777777778,\"#fb9f3a\"],[0.8888888888888888,\"#fdca26\"],[1.0,\"#f0f921\"]]}],\"heatmap\":[{\"type\":\"heatmap\",\"colorbar\":{\"outlinewidth\":0,\"ticks\":\"\"},\"colorscale\":[[0.0,\"#0d0887\"],[0.1111111111111111,\"#46039f\"],[0.2222222222222222,\"#7201a8\"],[0.3333333333333333,\"#9c179e\"],[0.4444444444444444,\"#bd3786\"],[0.5555555555555556,\"#d8576b\"],[0.6666666666666666,\"#ed7953\"],[0.7777777777777778,\"#fb9f3a\"],[0.8888888888888888,\"#fdca26\"],[1.0,\"#f0f921\"]]}],\"heatmapgl\":[{\"type\":\"heatmapgl\",\"colorbar\":{\"outlinewidth\":0,\"ticks\":\"\"},\"colorscale\":[[0.0,\"#0d0887\"],[0.1111111111111111,\"#46039f\"],[0.2222222222222222,\"#7201a8\"],[0.3333333333333333,\"#9c179e\"],[0.4444444444444444,\"#bd3786\"],[0.5555555555555556,\"#d8576b\"],[0.6666666666666666,\"#ed7953\"],[0.7777777777777778,\"#fb9f3a\"],[0.8888888888888888,\"#fdca26\"],[1.0,\"#f0f921\"]]}],\"contourcarpet\":[{\"type\":\"contourcarpet\",\"colorbar\":{\"outlinewidth\":0,\"ticks\":\"\"}}],\"contour\":[{\"type\":\"contour\",\"colorbar\":{\"outlinewidth\":0,\"ticks\":\"\"},\"colorscale\":[[0.0,\"#0d0887\"],[0.1111111111111111,\"#46039f\"],[0.2222222222222222,\"#7201a8\"],[0.3333333333333333,\"#9c179e\"],[0.4444444444444444,\"#bd3786\"],[0.5555555555555556,\"#d8576b\"],[0.6666666666666666,\"#ed7953\"],[0.7777777777777778,\"#fb9f3a\"],[0.8888888888888888,\"#fdca26\"],[1.0,\"#f0f921\"]]}],\"surface\":[{\"type\":\"surface\",\"colorbar\":{\"outlinewidth\":0,\"ticks\":\"\"},\"colorscale\":[[0.0,\"#0d0887\"],[0.1111111111111111,\"#46039f\"],[0.2222222222222222,\"#7201a8\"],[0.3333333333333333,\"#9c179e\"],[0.4444444444444444,\"#bd3786\"],[0.5555555555555556,\"#d8576b\"],[0.6666666666666666,\"#ed7953\"],[0.7777777777777778,\"#fb9f3a\"],[0.8888888888888888,\"#fdca26\"],[1.0,\"#f0f921\"]]}],\"mesh3d\":[{\"type\":\"mesh3d\",\"colorbar\":{\"outlinewidth\":0,\"ticks\":\"\"}}],\"scatter\":[{\"fillpattern\":{\"fillmode\":\"overlay\",\"size\":10,\"solidity\":0.2},\"type\":\"scatter\"}],\"parcoords\":[{\"type\":\"parcoords\",\"line\":{\"colorbar\":{\"outlinewidth\":0,\"ticks\":\"\"}}}],\"scatterpolargl\":[{\"type\":\"scatterpolargl\",\"marker\":{\"colorbar\":{\"outlinewidth\":0,\"ticks\":\"\"}}}],\"bar\":[{\"error_x\":{\"color\":\"#2a3f5f\"},\"error_y\":{\"color\":\"#2a3f5f\"},\"marker\":{\"line\":{\"color\":\"#E5ECF6\",\"width\":0.5},\"pattern\":{\"fillmode\":\"overlay\",\"size\":10,\"solidity\":0.2}},\"type\":\"bar\"}],\"scattergeo\":[{\"type\":\"scattergeo\",\"marker\":{\"colorbar\":{\"outlinewidth\":0,\"ticks\":\"\"}}}],\"scatterpolar\":[{\"type\":\"scatterpolar\",\"marker\":{\"colorbar\":{\"outlinewidth\":0,\"ticks\":\"\"}}}],\"histogram\":[{\"marker\":{\"pattern\":{\"fillmode\":\"overlay\",\"size\":10,\"solidity\":0.2}},\"type\":\"histogram\"}],\"scattergl\":[{\"type\":\"scattergl\",\"marker\":{\"colorbar\":{\"outlinewidth\":0,\"ticks\":\"\"}}}],\"scatter3d\":[{\"type\":\"scatter3d\",\"line\":{\"colorbar\":{\"outlinewidth\":0,\"ticks\":\"\"}},\"marker\":{\"colorbar\":{\"outlinewidth\":0,\"ticks\":\"\"}}}],\"scattermapbox\":[{\"type\":\"scattermapbox\",\"marker\":{\"colorbar\":{\"outlinewidth\":0,\"ticks\":\"\"}}}],\"scatterternary\":[{\"type\":\"scatterternary\",\"marker\":{\"colorbar\":{\"outlinewidth\":0,\"ticks\":\"\"}}}],\"scattercarpet\":[{\"type\":\"scattercarpet\",\"marker\":{\"colorbar\":{\"outlinewidth\":0,\"ticks\":\"\"}}}],\"carpet\":[{\"aaxis\":{\"endlinecolor\":\"#2a3f5f\",\"gridcolor\":\"white\",\"linecolor\":\"white\",\"minorgridcolor\":\"white\",\"startlinecolor\":\"#2a3f5f\"},\"baxis\":{\"endlinecolor\":\"#2a3f5f\",\"gridcolor\":\"white\",\"linecolor\":\"white\",\"minorgridcolor\":\"white\",\"startlinecolor\":\"#2a3f5f\"},\"type\":\"carpet\"}],\"table\":[{\"cells\":{\"fill\":{\"color\":\"#EBF0F8\"},\"line\":{\"color\":\"white\"}},\"header\":{\"fill\":{\"color\":\"#C8D4E3\"},\"line\":{\"color\":\"white\"}},\"type\":\"table\"}],\"barpolar\":[{\"marker\":{\"line\":{\"color\":\"#E5ECF6\",\"width\":0.5},\"pattern\":{\"fillmode\":\"overlay\",\"size\":10,\"solidity\":0.2}},\"type\":\"barpolar\"}],\"pie\":[{\"automargin\":true,\"type\":\"pie\"}]},\"layout\":{\"autotypenumbers\":\"strict\",\"colorway\":[\"#636efa\",\"#EF553B\",\"#00cc96\",\"#ab63fa\",\"#FFA15A\",\"#19d3f3\",\"#FF6692\",\"#B6E880\",\"#FF97FF\",\"#FECB52\"],\"font\":{\"color\":\"#2a3f5f\"},\"hovermode\":\"closest\",\"hoverlabel\":{\"align\":\"left\"},\"paper_bgcolor\":\"white\",\"plot_bgcolor\":\"#E5ECF6\",\"polar\":{\"bgcolor\":\"#E5ECF6\",\"angularaxis\":{\"gridcolor\":\"white\",\"linecolor\":\"white\",\"ticks\":\"\"},\"radialaxis\":{\"gridcolor\":\"white\",\"linecolor\":\"white\",\"ticks\":\"\"}},\"ternary\":{\"bgcolor\":\"#E5ECF6\",\"aaxis\":{\"gridcolor\":\"white\",\"linecolor\":\"white\",\"ticks\":\"\"},\"baxis\":{\"gridcolor\":\"white\",\"linecolor\":\"white\",\"ticks\":\"\"},\"caxis\":{\"gridcolor\":\"white\",\"linecolor\":\"white\",\"ticks\":\"\"}},\"coloraxis\":{\"colorbar\":{\"outlinewidth\":0,\"ticks\":\"\"}},\"colorscale\":{\"sequential\":[[0.0,\"#0d0887\"],[0.1111111111111111,\"#46039f\"],[0.2222222222222222,\"#7201a8\"],[0.3333333333333333,\"#9c179e\"],[0.4444444444444444,\"#bd3786\"],[0.5555555555555556,\"#d8576b\"],[0.6666666666666666,\"#ed7953\"],[0.7777777777777778,\"#fb9f3a\"],[0.8888888888888888,\"#fdca26\"],[1.0,\"#f0f921\"]],\"sequentialminus\":[[0.0,\"#0d0887\"],[0.1111111111111111,\"#46039f\"],[0.2222222222222222,\"#7201a8\"],[0.3333333333333333,\"#9c179e\"],[0.4444444444444444,\"#bd3786\"],[0.5555555555555556,\"#d8576b\"],[0.6666666666666666,\"#ed7953\"],[0.7777777777777778,\"#fb9f3a\"],[0.8888888888888888,\"#fdca26\"],[1.0,\"#f0f921\"]],\"diverging\":[[0,\"#8e0152\"],[0.1,\"#c51b7d\"],[0.2,\"#de77ae\"],[0.3,\"#f1b6da\"],[0.4,\"#fde0ef\"],[0.5,\"#f7f7f7\"],[0.6,\"#e6f5d0\"],[0.7,\"#b8e186\"],[0.8,\"#7fbc41\"],[0.9,\"#4d9221\"],[1,\"#276419\"]]},\"xaxis\":{\"gridcolor\":\"white\",\"linecolor\":\"white\",\"ticks\":\"\",\"title\":{\"standoff\":15},\"zerolinecolor\":\"white\",\"automargin\":true,\"zerolinewidth\":2},\"yaxis\":{\"gridcolor\":\"white\",\"linecolor\":\"white\",\"ticks\":\"\",\"title\":{\"standoff\":15},\"zerolinecolor\":\"white\",\"automargin\":true,\"zerolinewidth\":2},\"scene\":{\"xaxis\":{\"backgroundcolor\":\"#E5ECF6\",\"gridcolor\":\"white\",\"linecolor\":\"white\",\"showbackground\":true,\"ticks\":\"\",\"zerolinecolor\":\"white\",\"gridwidth\":2},\"yaxis\":{\"backgroundcolor\":\"#E5ECF6\",\"gridcolor\":\"white\",\"linecolor\":\"white\",\"showbackground\":true,\"ticks\":\"\",\"zerolinecolor\":\"white\",\"gridwidth\":2},\"zaxis\":{\"backgroundcolor\":\"#E5ECF6\",\"gridcolor\":\"white\",\"linecolor\":\"white\",\"showbackground\":true,\"ticks\":\"\",\"zerolinecolor\":\"white\",\"gridwidth\":2}},\"shapedefaults\":{\"line\":{\"color\":\"#2a3f5f\"}},\"annotationdefaults\":{\"arrowcolor\":\"#2a3f5f\",\"arrowhead\":0,\"arrowwidth\":1},\"geo\":{\"bgcolor\":\"white\",\"landcolor\":\"#E5ECF6\",\"subunitcolor\":\"white\",\"showland\":true,\"showlakes\":true,\"lakecolor\":\"white\"},\"title\":{\"x\":0.05},\"mapbox\":{\"style\":\"light\"}}},\"xaxis\":{\"anchor\":\"y\",\"domain\":[0.0,1.0],\"title\":{\"text\":\"mean_weighted_sentiment_score\"}},\"yaxis\":{\"anchor\":\"x\",\"domain\":[0.0,1.0],\"title\":{\"text\":\"view_count\"}},\"legend\":{\"title\":{\"text\":\"sentiment_label\"},\"tracegroupgap\":0},\"title\":{\"text\":\"Mean Weighted Sentiment Score and View Count Scatter for All Videos\"}},                        {\"responsive\": true}                    ).then(function(){\n",
       "                            \n",
       "var gd = document.getElementById('a1577052-ac0b-442e-9232-72540cca31f3');\n",
       "var x = new MutationObserver(function (mutations, observer) {{\n",
       "        var display = window.getComputedStyle(gd).display;\n",
       "        if (!display || display === 'none') {{\n",
       "            console.log([gd, 'removed!']);\n",
       "            Plotly.purge(gd);\n",
       "            observer.disconnect();\n",
       "        }}\n",
       "}});\n",
       "\n",
       "// Listen for the removal of the full notebook cells\n",
       "var notebookContainer = gd.closest('#notebook-container');\n",
       "if (notebookContainer) {{\n",
       "    x.observe(notebookContainer, {childList: true});\n",
       "}}\n",
       "\n",
       "// Listen for the clearing of the current output cell\n",
       "var outputEl = gd.closest('.output');\n",
       "if (outputEl) {{\n",
       "    x.observe(outputEl, {childList: true});\n",
       "}}\n",
       "\n",
       "                        })                };                });            </script>        </div>"
      ]
     },
     "metadata": {},
     "output_type": "display_data"
    }
   ],
   "source": [
    "fig = px.scatter(video_info_with_sentiment , x = 'mean_weighted_sentiment_score' , y = 'view_count' , color = 'sentiment_label', hover_data = ['video_title' , 'comment_count' , 'upload_date' , 'video_id'] , title= 'Mean Weighted Sentiment Score and View Count Scatter for All Videos')\n",
    "fig.show()"
   ]
  },
  {
   "cell_type": "code",
   "execution_count": 40,
   "id": "597a0f5e",
   "metadata": {},
   "outputs": [
    {
     "data": {
      "text/plain": [
       "Index(['Unnamed: 0.1', 'Unnamed: 0', 'Video Id', 'comment', 'time',\n",
       "       'displayID', 'id', 'comment_length', 'label', 'score', 'sentiment_map',\n",
       "       'weighted_sentiment'],\n",
       "      dtype='object')"
      ]
     },
     "execution_count": 40,
     "metadata": {},
     "output_type": "execute_result"
    }
   ],
   "source": [
    "df.columns"
   ]
  },
  {
   "cell_type": "code",
   "execution_count": 41,
   "id": "c300ba11",
   "metadata": {},
   "outputs": [
    {
     "data": {
      "text/plain": [
       "<AxesSubplot:xlabel='weighted_sentiment', ylabel='Density'>"
      ]
     },
     "execution_count": 41,
     "metadata": {},
     "output_type": "execute_result"
    },
    {
     "data": {
      "image/png": "[encoded data removed]",
      "text/plain": [
       "<Figure size 432x288 with 1 Axes>"
      ]
     },
     "metadata": {
      "needs_background": "light"
     },
     "output_type": "display_data"
    }
   ],
   "source": [
    "import seaborn as sns\n",
    "\n",
    "sns.kdeplot(df[df['Video Id'] == 'auxv8xyea9c']['weighted_sentiment'])"
   ]
  },
  {
   "cell_type": "code",
   "execution_count": 42,
   "id": "4c7849d1",
   "metadata": {},
   "outputs": [
    {
     "data": {
      "text/plain": [
       "<AxesSubplot:xlabel='weighted_sentiment', ylabel='Density'>"
      ]
     },
     "execution_count": 42,
     "metadata": {},
     "output_type": "execute_result"
    },
    {
     "data": {
      "image/png": "[encoded data removed]",
      "text/plain": [
       "<Figure size 432x288 with 1 Axes>"
      ]
     },
     "metadata": {
      "needs_background": "light"
     },
     "output_type": "display_data"
    }
   ],
   "source": [
    "sns.kdeplot(df[df['Video Id'] == 'MeR0neyhrEw']['weighted_sentiment'])"
   ]
  },
  {
   "cell_type": "code",
   "execution_count": 43,
   "id": "8a88b82f",
   "metadata": {},
   "outputs": [
    {
     "data": {
      "text/plain": [
       "<AxesSubplot:xlabel='weighted_sentiment', ylabel='Density'>"
      ]
     },
     "execution_count": 43,
     "metadata": {},
     "output_type": "execute_result"
    },
    {
     "data": {
      "image/png": "[encoded data removed]",
      "text/plain": [
       "<Figure size 432x288 with 1 Axes>"
      ]
     },
     "metadata": {
      "needs_background": "light"
     },
     "output_type": "display_data"
    }
   ],
   "source": [
    "sns.kdeplot(df[df['Video Id'] == 'x7EGS-QEqzA']['weighted_sentiment'])"
   ]
  },
  {
   "cell_type": "code",
   "execution_count": null,
   "id": "806b6516",
   "metadata": {},
   "outputs": [],
   "source": []
  }
 ],
 "metadata": {
  "kernelspec": {
   "display_name": "Python 3 (ipykernel)",
   "language": "python",
   "name": "python3"
  },
  "language_info": {
   "codemirror_mode": {
    "name": "ipython",
    "version": 3
   },
   "file_extension": ".py",
   "mimetype": "text/x-python",
   "name": "python",
   "nbconvert_exporter": "python",
   "pygments_lexer": "ipython3",
   "version": "3.8.8"
  }
 },
 "nbformat": 4,
 "nbformat_minor": 5
}
