{
 "cells": [
  {
   "cell_type": "code",
   "execution_count": 1,
   "id": "bc543a06",
   "metadata": {},
   "outputs": [
    {
     "name": "stdout",
     "output_type": "stream",
     "text": [
      "Requirement already satisfied: transformers in c:\\users\\salaz\\anaconda3\\envs\\youtube_comments_project\\lib\\site-packages (4.21.2)\n",
      "Requirement already satisfied: pyyaml>=5.1 in c:\\users\\salaz\\anaconda3\\envs\\youtube_comments_project\\lib\\site-packages (from transformers) (6.0)\n",
      "Requirement already satisfied: huggingface-hub<1.0,>=0.1.0 in c:\\users\\salaz\\anaconda3\\envs\\youtube_comments_project\\lib\\site-packages (from transformers) (0.9.1)\n",
      "Requirement already satisfied: regex!=2019.12.17 in c:\\users\\salaz\\anaconda3\\envs\\youtube_comments_project\\lib\\site-packages (from transformers) (2021.8.3)\n",
      "Requirement already satisfied: tqdm>=4.27 in c:\\users\\salaz\\anaconda3\\envs\\youtube_comments_project\\lib\\site-packages (from transformers) (4.63.0)\n",
      "Requirement already satisfied: requests in c:\\users\\salaz\\anaconda3\\envs\\youtube_comments_project\\lib\\site-packages (from transformers) (2.27.1)\n",
      "Requirement already satisfied: numpy>=1.17 in c:\\users\\salaz\\anaconda3\\envs\\youtube_comments_project\\lib\\site-packages (from transformers) (1.23.2)\n",
      "Requirement already satisfied: tokenizers!=0.11.3,<0.13,>=0.11.1 in c:\\users\\salaz\\anaconda3\\envs\\youtube_comments_project\\lib\\site-packages (from transformers) (0.12.1)\n",
      "Requirement already satisfied: filelock in c:\\users\\salaz\\anaconda3\\envs\\youtube_comments_project\\lib\\site-packages (from transformers) (3.6.0)\n",
      "Requirement already satisfied: packaging>=20.0 in c:\\users\\salaz\\anaconda3\\envs\\youtube_comments_project\\lib\\site-packages (from transformers) (21.3)\n",
      "Requirement already satisfied: typing-extensions>=3.7.4.3 in c:\\users\\salaz\\anaconda3\\envs\\youtube_comments_project\\lib\\site-packages (from huggingface-hub<1.0,>=0.1.0->transformers) (4.1.1)\n",
      "Requirement already satisfied: pyparsing!=3.0.5,>=2.0.2 in c:\\users\\salaz\\anaconda3\\envs\\youtube_comments_project\\lib\\site-packages (from packaging>=20.0->transformers) (3.0.4)\n",
      "Requirement already satisfied: colorama in c:\\users\\salaz\\anaconda3\\envs\\youtube_comments_project\\lib\\site-packages (from tqdm>=4.27->transformers) (0.4.4)\n",
      "Requirement already satisfied: idna<4,>=2.5 in c:\\users\\salaz\\anaconda3\\envs\\youtube_comments_project\\lib\\site-packages (from requests->transformers) (3.3)\n",
      "Requirement already satisfied: urllib3<1.27,>=1.21.1 in c:\\users\\salaz\\anaconda3\\envs\\youtube_comments_project\\lib\\site-packages (from requests->transformers) (1.26.8)\n",
      "Requirement already satisfied: certifi>=2017.4.17 in c:\\users\\salaz\\anaconda3\\envs\\youtube_comments_project\\lib\\site-packages (from requests->transformers) (2021.10.8)\n",
      "Requirement already satisfied: charset-normalizer~=2.0.0 in c:\\users\\salaz\\anaconda3\\envs\\youtube_comments_project\\lib\\site-packages (from requests->transformers) (2.0.4)\n"
     ]
    }
   ],
   "source": [
    "!pip install transformers"
   ]
  },
  {
   "cell_type": "code",
   "execution_count": 3,
   "id": "7bec00aa",
   "metadata": {},
   "outputs": [],
   "source": [
    "from transformers import pipeline, AutoModelForTokenClassification, AutoTokenizer\n",
    "import pandas as pd\n",
    "import numpy as np\n",
    "import matplotlib.pyplot as plt\n",
    "import seaborn as sns"
   ]
  },
  {
   "cell_type": "code",
   "execution_count": 5,
   "id": "468e88a7",
   "metadata": {},
   "outputs": [
    {
     "data": {
      "text/plain": [
       "(58561, 5)"
      ]
     },
     "execution_count": 5,
     "metadata": {},
     "output_type": "execute_result"
    }
   ],
   "source": [
    "comments_df = pd.read_csv('comments_df_11-4-2022.csv')\n",
    "video_df = pd.read_csv('video_info.csv')\n",
    "comments_df.shape"
   ]
  },
  {
   "cell_type": "code",
   "execution_count": 6,
   "id": "78aadb96",
   "metadata": {},
   "outputs": [
    {
     "data": {
      "text/html": [
       "<div>\n",
       "<style scoped>\n",
       "    .dataframe tbody tr th:only-of-type {\n",
       "        vertical-align: middle;\n",
       "    }\n",
       "\n",
       "    .dataframe tbody tr th {\n",
       "        vertical-align: top;\n",
       "    }\n",
       "\n",
       "    .dataframe thead th {\n",
       "        text-align: right;\n",
       "    }\n",
       "</style>\n",
       "<table border=\"1\" class=\"dataframe\">\n",
       "  <thead>\n",
       "    <tr style=\"text-align: right;\">\n",
       "      <th></th>\n",
       "      <th>Video Id</th>\n",
       "      <th>text</th>\n",
       "      <th>time</th>\n",
       "      <th>displayID</th>\n",
       "      <th>id</th>\n",
       "    </tr>\n",
       "  </thead>\n",
       "  <tbody>\n",
       "    <tr>\n",
       "      <th>0</th>\n",
       "      <td>DOtPOfeyJ4Q</td>\n",
       "      <td>Don't send it back. This video is a gem. Bro, ...</td>\n",
       "      <td>2022-11-04T15:41:35Z</td>\n",
       "      <td>Tim Gibson</td>\n",
       "      <td>UC8DCyaImyGP2jrJOdD64Efg</td>\n",
       "    </tr>\n",
       "    <tr>\n",
       "      <th>1</th>\n",
       "      <td>DOtPOfeyJ4Q</td>\n",
       "      <td>Hes not scamming his sister probably got it fo...</td>\n",
       "      <td>2022-11-04T15:04:13Z</td>\n",
       "      <td>The guy who asked</td>\n",
       "      <td>UCNijoEJw5z3p4689tey5oYw</td>\n",
       "    </tr>\n",
       "    <tr>\n",
       "      <th>2</th>\n",
       "      <td>DOtPOfeyJ4Q</td>\n",
       "      <td>He offered your money back definitely not a sc...</td>\n",
       "      <td>2022-11-04T14:57:57Z</td>\n",
       "      <td>F.B.I</td>\n",
       "      <td>UCXbuhDqmdm_M8UEOrQ77w6w</td>\n",
       "    </tr>\n",
       "    <tr>\n",
       "      <th>3</th>\n",
       "      <td>DOtPOfeyJ4Q</td>\n",
       "      <td>Isn’t it hard authenticate a signature. If Kob...</td>\n",
       "      <td>2022-11-04T14:54:47Z</td>\n",
       "      <td>Olti Hajdaraj</td>\n",
       "      <td>UCPOYMbZKAIN39YFsvMTZ-Uw</td>\n",
       "    </tr>\n",
       "    <tr>\n",
       "      <th>4</th>\n",
       "      <td>DOtPOfeyJ4Q</td>\n",
       "      <td>He answered the phone, definitely not trying t...</td>\n",
       "      <td>2022-11-04T14:49:10Z</td>\n",
       "      <td>Jordan</td>\n",
       "      <td>UCga1Isau1iPAlrezA6xoYSQ</td>\n",
       "    </tr>\n",
       "  </tbody>\n",
       "</table>\n",
       "</div>"
      ],
      "text/plain": [
       "      Video Id                                               text  \\\n",
       "0  DOtPOfeyJ4Q  Don't send it back. This video is a gem. Bro, ...   \n",
       "1  DOtPOfeyJ4Q  Hes not scamming his sister probably got it fo...   \n",
       "2  DOtPOfeyJ4Q  He offered your money back definitely not a sc...   \n",
       "3  DOtPOfeyJ4Q  Isn’t it hard authenticate a signature. If Kob...   \n",
       "4  DOtPOfeyJ4Q  He answered the phone, definitely not trying t...   \n",
       "\n",
       "                   time          displayID                        id  \n",
       "0  2022-11-04T15:41:35Z         Tim Gibson  UC8DCyaImyGP2jrJOdD64Efg  \n",
       "1  2022-11-04T15:04:13Z  The guy who asked  UCNijoEJw5z3p4689tey5oYw  \n",
       "2  2022-11-04T14:57:57Z              F.B.I  UCXbuhDqmdm_M8UEOrQ77w6w  \n",
       "3  2022-11-04T14:54:47Z      Olti Hajdaraj  UCPOYMbZKAIN39YFsvMTZ-Uw  \n",
       "4  2022-11-04T14:49:10Z             Jordan  UCga1Isau1iPAlrezA6xoYSQ  "
      ]
     },
     "execution_count": 6,
     "metadata": {},
     "output_type": "execute_result"
    }
   ],
   "source": [
    "comments_df.head()"
   ]
  },
  {
   "cell_type": "code",
   "execution_count": 7,
   "id": "6887eefa",
   "metadata": {},
   "outputs": [
    {
     "name": "stdout",
     "output_type": "stream",
     "text": [
      "<class 'pandas.core.frame.DataFrame'>\n",
      "RangeIndex: 58561 entries, 0 to 58560\n",
      "Data columns (total 5 columns):\n",
      " #   Column     Non-Null Count  Dtype \n",
      "---  ------     --------------  ----- \n",
      " 0   Video Id   58561 non-null  object\n",
      " 1   text       58559 non-null  object\n",
      " 2   time       58561 non-null  object\n",
      " 3   displayID  58555 non-null  object\n",
      " 4   id         58561 non-null  object\n",
      "dtypes: object(5)\n",
      "memory usage: 2.2+ MB\n"
     ]
    }
   ],
   "source": [
    "comments_df.info()"
   ]
  },
  {
   "cell_type": "code",
   "execution_count": 9,
   "id": "38fc27c7",
   "metadata": {},
   "outputs": [
    {
     "name": "stdout",
     "output_type": "stream",
     "text": [
      "<class 'pandas.core.frame.DataFrame'>\n",
      "Int64Index: 58553 entries, 0 to 58560\n",
      "Data columns (total 5 columns):\n",
      " #   Column     Non-Null Count  Dtype \n",
      "---  ------     --------------  ----- \n",
      " 0   Video Id   58553 non-null  object\n",
      " 1   text       58553 non-null  object\n",
      " 2   time       58553 non-null  object\n",
      " 3   displayID  58553 non-null  object\n",
      " 4   id         58553 non-null  object\n",
      "dtypes: object(5)\n",
      "memory usage: 2.7+ MB\n"
     ]
    }
   ],
   "source": [
    "comments_df = comments_df.dropna()\n",
    "comments_df.info()"
   ]
  },
  {
   "cell_type": "code",
   "execution_count": 11,
   "id": "3d01b231",
   "metadata": {},
   "outputs": [
    {
     "data": {
      "text/plain": [
       "Video Id                  object\n",
       "text                      object\n",
       "time         datetime64[ns, UTC]\n",
       "displayID                 object\n",
       "id                        object\n",
       "dtype: object"
      ]
     },
     "execution_count": 11,
     "metadata": {},
     "output_type": "execute_result"
    }
   ],
   "source": [
    "comments_df['time'] = pd.to_datetime(comments_df['time'])\n",
    "comments_df.dtypes"
   ]
  },
  {
   "cell_type": "code",
   "execution_count": 14,
   "id": "5b213498",
   "metadata": {},
   "outputs": [],
   "source": [
    "comments_df['discrete_hour'] = comments_df['time'].dt.hour\n",
    "comments_df['discrete_dow'] = comments_df['time'].dt.dayofweek\n",
    "comments_df['discrete_month'] = comments_df['time'].dt.month\n",
    "comments_df['discrete_year'] = comments_df['time'].dt.year"
   ]
  },
  {
   "cell_type": "code",
   "execution_count": null,
   "id": "3b417ccc",
   "metadata": {},
   "outputs": [],
   "source": []
  },
  {
   "cell_type": "markdown",
   "id": "8c36dfdf",
   "metadata": {},
   "source": [
    "## Sentiment Analysis"
   ]
  },
  {
   "cell_type": "code",
   "execution_count": 18,
   "id": "b4cc118b",
   "metadata": {},
   "outputs": [],
   "source": [
    "text_lst = comments_df['text'].tolist()"
   ]
  },
  {
   "cell_type": "code",
   "execution_count": 30,
   "id": "317d78d9",
   "metadata": {},
   "outputs": [
    {
     "name": "stderr",
     "output_type": "stream",
     "text": [
      "No model was supplied, defaulted to distilbert-base-uncased-finetuned-sst-2-english and revision af0f99b (https://huggingface.co/distilbert-base-uncased-finetuned-sst-2-english).\n",
      "Using a pipeline without specifying a model name and revision in production is not recommended.\n"
     ]
    }
   ],
   "source": [
    "pipe = pipeline(\"sentiment-analysis\")"
   ]
  },
  {
   "cell_type": "code",
   "execution_count": 31,
   "id": "50e6f8bb",
   "metadata": {},
   "outputs": [
    {
     "data": {
      "text/plain": [
       "[{'label': 'POSITIVE', 'score': 0.9970372915267944},\n",
       " {'label': 'NEGATIVE', 'score': 0.9692808389663696},\n",
       " {'label': 'NEGATIVE', 'score': 0.9925335645675659},\n",
       " {'label': 'NEGATIVE', 'score': 0.9996565580368042},\n",
       " {'label': 'POSITIVE', 'score': 0.9725000262260437},\n",
       " {'label': 'POSITIVE', 'score': 0.9638515114784241},\n",
       " {'label': 'POSITIVE', 'score': 0.9992884397506714},\n",
       " {'label': 'POSITIVE', 'score': 0.999085545539856},\n",
       " {'label': 'NEGATIVE', 'score': 0.9602643251419067},\n",
       " {'label': 'NEGATIVE', 'score': 0.9221055507659912},\n",
       " {'label': 'NEGATIVE', 'score': 0.9741030335426331},\n",
       " {'label': 'NEGATIVE', 'score': 0.9953906536102295},\n",
       " {'label': 'NEGATIVE', 'score': 0.9995229244232178},\n",
       " {'label': 'POSITIVE', 'score': 0.9921597838401794},\n",
       " {'label': 'POSITIVE', 'score': 0.9889706373214722},\n",
       " {'label': 'NEGATIVE', 'score': 0.6086145043373108},\n",
       " {'label': 'NEGATIVE', 'score': 0.9932456612586975},\n",
       " {'label': 'NEGATIVE', 'score': 0.9336229562759399},\n",
       " {'label': 'POSITIVE', 'score': 0.9957643747329712},\n",
       " {'label': 'NEGATIVE', 'score': 0.9997686743736267},\n",
       " {'label': 'POSITIVE', 'score': 0.991487979888916},\n",
       " {'label': 'NEGATIVE', 'score': 0.9936089515686035},\n",
       " {'label': 'POSITIVE', 'score': 0.9996200799942017},\n",
       " {'label': 'POSITIVE', 'score': 0.9671036601066589},\n",
       " {'label': 'NEGATIVE', 'score': 0.9971327781677246},\n",
       " {'label': 'NEGATIVE', 'score': 0.9989696741104126},\n",
       " {'label': 'POSITIVE', 'score': 0.8657309412956238},\n",
       " {'label': 'NEGATIVE', 'score': 0.986961841583252},\n",
       " {'label': 'NEGATIVE', 'score': 0.9996821880340576},\n",
       " {'label': 'NEGATIVE', 'score': 0.998261034488678},\n",
       " {'label': 'NEGATIVE', 'score': 0.9994686245918274},\n",
       " {'label': 'NEGATIVE', 'score': 0.9986193180084229},\n",
       " {'label': 'POSITIVE', 'score': 0.9978883862495422},\n",
       " {'label': 'NEGATIVE', 'score': 0.9992998838424683},\n",
       " {'label': 'NEGATIVE', 'score': 0.9972917437553406},\n",
       " {'label': 'POSITIVE', 'score': 0.9998169541358948},\n",
       " {'label': 'POSITIVE', 'score': 0.7899290919303894},\n",
       " {'label': 'POSITIVE', 'score': 0.9724121689796448},\n",
       " {'label': 'NEGATIVE', 'score': 0.9800422787666321},\n",
       " {'label': 'NEGATIVE', 'score': 0.9697339534759521},\n",
       " {'label': 'POSITIVE', 'score': 0.9995737671852112},\n",
       " {'label': 'NEGATIVE', 'score': 0.9678164124488831},\n",
       " {'label': 'POSITIVE', 'score': 0.9991748929023743},\n",
       " {'label': 'POSITIVE', 'score': 0.9996591806411743},\n",
       " {'label': 'POSITIVE', 'score': 0.9872289896011353},\n",
       " {'label': 'NEGATIVE', 'score': 0.9619253873825073},\n",
       " {'label': 'NEGATIVE', 'score': 0.9979689717292786},\n",
       " {'label': 'POSITIVE', 'score': 0.9868293404579163},\n",
       " {'label': 'NEGATIVE', 'score': 0.9976183772087097},\n",
       " {'label': 'NEGATIVE', 'score': 0.9997075200080872},\n",
       " {'label': 'NEGATIVE', 'score': 0.9995610117912292},\n",
       " {'label': 'NEGATIVE', 'score': 0.9991559982299805},\n",
       " {'label': 'NEGATIVE', 'score': 0.8858442306518555},\n",
       " {'label': 'NEGATIVE', 'score': 0.9970460534095764},\n",
       " {'label': 'POSITIVE', 'score': 0.9997465014457703},\n",
       " {'label': 'POSITIVE', 'score': 0.9986764788627625},\n",
       " {'label': 'NEGATIVE', 'score': 0.9637803435325623},\n",
       " {'label': 'POSITIVE', 'score': 0.9998512268066406},\n",
       " {'label': 'NEGATIVE', 'score': 0.997481644153595},\n",
       " {'label': 'POSITIVE', 'score': 0.9888867735862732},\n",
       " {'label': 'POSITIVE', 'score': 0.9987952709197998},\n",
       " {'label': 'NEGATIVE', 'score': 0.9996211528778076},\n",
       " {'label': 'POSITIVE', 'score': 0.9979345798492432},\n",
       " {'label': 'NEGATIVE', 'score': 0.9991146922111511},\n",
       " {'label': 'NEGATIVE', 'score': 0.605482280254364},\n",
       " {'label': 'NEGATIVE', 'score': 0.9994107484817505},\n",
       " {'label': 'NEGATIVE', 'score': 0.995208203792572},\n",
       " {'label': 'POSITIVE', 'score': 0.9996151924133301},\n",
       " {'label': 'NEGATIVE', 'score': 0.9983689188957214},\n",
       " {'label': 'NEGATIVE', 'score': 0.9997237324714661},\n",
       " {'label': 'NEGATIVE', 'score': 0.8602465987205505},\n",
       " {'label': 'NEGATIVE', 'score': 0.9979609251022339},\n",
       " {'label': 'NEGATIVE', 'score': 0.9985305070877075},\n",
       " {'label': 'POSITIVE', 'score': 0.7960264682769775},\n",
       " {'label': 'POSITIVE', 'score': 0.9569733142852783},\n",
       " {'label': 'POSITIVE', 'score': 0.9963783621788025},\n",
       " {'label': 'NEGATIVE', 'score': 0.9977723956108093},\n",
       " {'label': 'NEGATIVE', 'score': 0.9948114156723022},\n",
       " {'label': 'NEGATIVE', 'score': 0.9970519542694092},\n",
       " {'label': 'NEGATIVE', 'score': 0.9988996982574463},\n",
       " {'label': 'NEGATIVE', 'score': 0.9728115200996399},\n",
       " {'label': 'NEGATIVE', 'score': 0.9763337969779968},\n",
       " {'label': 'NEGATIVE', 'score': 0.9745201468467712},\n",
       " {'label': 'NEGATIVE', 'score': 0.9937435984611511},\n",
       " {'label': 'NEGATIVE', 'score': 0.9856582283973694},\n",
       " {'label': 'POSITIVE', 'score': 0.9996650218963623},\n",
       " {'label': 'POSITIVE', 'score': 0.985403299331665},\n",
       " {'label': 'POSITIVE', 'score': 0.9998652935028076},\n",
       " {'label': 'NEGATIVE', 'score': 0.6970565319061279},\n",
       " {'label': 'POSITIVE', 'score': 0.9993987083435059},\n",
       " {'label': 'NEGATIVE', 'score': 0.9546405673027039},\n",
       " {'label': 'NEGATIVE', 'score': 0.995786726474762},\n",
       " {'label': 'POSITIVE', 'score': 0.91628497838974},\n",
       " {'label': 'POSITIVE', 'score': 0.9998656511306763},\n",
       " {'label': 'POSITIVE', 'score': 0.9998643398284912},\n",
       " {'label': 'NEGATIVE', 'score': 0.999765932559967},\n",
       " {'label': 'NEGATIVE', 'score': 0.9918215870857239},\n",
       " {'label': 'NEGATIVE', 'score': 0.9983376264572144},\n",
       " {'label': 'NEGATIVE', 'score': 0.9866194128990173},\n",
       " {'label': 'NEGATIVE', 'score': 0.998985230922699}]"
      ]
     },
     "execution_count": 31,
     "metadata": {},
     "output_type": "execute_result"
    }
   ],
   "source": [
    "sent_dict = pipe(text_lst[:100])\n",
    "sent_dict"
   ]
  },
  {
   "cell_type": "code",
   "execution_count": 38,
   "id": "2862d98f",
   "metadata": {},
   "outputs": [
    {
     "data": {
      "text/plain": [
       "'this is great, and yeah Myspace was was interesting it definitely had a music element and worked super well for bands. I can remember we even had more of a local band scene back then around 05.. we are talking peak scene/emo years. All the coolest local bands were on Myspace. Myspace was also a more innocent time in social media.. they had not yet gained the cold surgical precision and nefarious methods social media companies use now. Now everything is geared towards retention and advertising and profit (which is s natural progression in a capitalist society) Myspace just had a certain innocence to it back then. Plus back then if you get pissed at your buddy you just kick him out of your top 8 and let him suffer for a week or two.'"
      ]
     },
     "execution_count": 38,
     "metadata": {},
     "output_type": "execute_result"
    }
   ],
   "source": [
    "text_lst[-12]"
   ]
  },
  {
   "cell_type": "code",
   "execution_count": null,
   "id": "72781d45",
   "metadata": {},
   "outputs": [],
   "source": []
  }
 ],
 "metadata": {
  "kernelspec": {
   "display_name": "Python 3 (ipykernel)",
   "language": "python",
   "name": "python3"
  },
  "language_info": {
   "codemirror_mode": {
    "name": "ipython",
    "version": 3
   },
   "file_extension": ".py",
   "mimetype": "text/x-python",
   "name": "python",
   "nbconvert_exporter": "python",
   "pygments_lexer": "ipython3",
   "version": "3.8.8"
  }
 },
 "nbformat": 4,
 "nbformat_minor": 5
}
