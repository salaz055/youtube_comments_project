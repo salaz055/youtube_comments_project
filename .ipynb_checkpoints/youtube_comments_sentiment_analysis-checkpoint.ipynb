{
 "cells": [
  {
   "cell_type": "code",
   "execution_count": 1,
   "id": "bc543a06",
   "metadata": {},
   "outputs": [
    {
     "name": "stdout",
     "output_type": "stream",
     "text": [
      "Requirement already satisfied: transformers in c:\\users\\salaz\\anaconda3\\envs\\youtube_comments_project\\lib\\site-packages (4.21.2)\n",
      "Requirement already satisfied: pyyaml>=5.1 in c:\\users\\salaz\\anaconda3\\envs\\youtube_comments_project\\lib\\site-packages (from transformers) (6.0)\n",
      "Requirement already satisfied: huggingface-hub<1.0,>=0.1.0 in c:\\users\\salaz\\anaconda3\\envs\\youtube_comments_project\\lib\\site-packages (from transformers) (0.9.1)\n",
      "Requirement already satisfied: regex!=2019.12.17 in c:\\users\\salaz\\anaconda3\\envs\\youtube_comments_project\\lib\\site-packages (from transformers) (2021.8.3)\n",
      "Requirement already satisfied: tqdm>=4.27 in c:\\users\\salaz\\anaconda3\\envs\\youtube_comments_project\\lib\\site-packages (from transformers) (4.63.0)\n",
      "Requirement already satisfied: requests in c:\\users\\salaz\\anaconda3\\envs\\youtube_comments_project\\lib\\site-packages (from transformers) (2.27.1)\n",
      "Requirement already satisfied: numpy>=1.17 in c:\\users\\salaz\\anaconda3\\envs\\youtube_comments_project\\lib\\site-packages (from transformers) (1.23.2)\n",
      "Requirement already satisfied: tokenizers!=0.11.3,<0.13,>=0.11.1 in c:\\users\\salaz\\anaconda3\\envs\\youtube_comments_project\\lib\\site-packages (from transformers) (0.12.1)\n",
      "Requirement already satisfied: filelock in c:\\users\\salaz\\anaconda3\\envs\\youtube_comments_project\\lib\\site-packages (from transformers) (3.6.0)\n",
      "Requirement already satisfied: packaging>=20.0 in c:\\users\\salaz\\anaconda3\\envs\\youtube_comments_project\\lib\\site-packages (from transformers) (21.3)\n",
      "Requirement already satisfied: typing-extensions>=3.7.4.3 in c:\\users\\salaz\\anaconda3\\envs\\youtube_comments_project\\lib\\site-packages (from huggingface-hub<1.0,>=0.1.0->transformers) (4.1.1)\n",
      "Requirement already satisfied: pyparsing!=3.0.5,>=2.0.2 in c:\\users\\salaz\\anaconda3\\envs\\youtube_comments_project\\lib\\site-packages (from packaging>=20.0->transformers) (3.0.4)\n",
      "Requirement already satisfied: colorama in c:\\users\\salaz\\anaconda3\\envs\\youtube_comments_project\\lib\\site-packages (from tqdm>=4.27->transformers) (0.4.4)\n",
      "Requirement already satisfied: idna<4,>=2.5 in c:\\users\\salaz\\anaconda3\\envs\\youtube_comments_project\\lib\\site-packages (from requests->transformers) (3.3)\n",
      "Requirement already satisfied: urllib3<1.27,>=1.21.1 in c:\\users\\salaz\\anaconda3\\envs\\youtube_comments_project\\lib\\site-packages (from requests->transformers) (1.26.8)\n",
      "Requirement already satisfied: certifi>=2017.4.17 in c:\\users\\salaz\\anaconda3\\envs\\youtube_comments_project\\lib\\site-packages (from requests->transformers) (2021.10.8)\n",
      "Requirement already satisfied: charset-normalizer~=2.0.0 in c:\\users\\salaz\\anaconda3\\envs\\youtube_comments_project\\lib\\site-packages (from requests->transformers) (2.0.4)\n"
     ]
    }
   ],
   "source": [
    "!pip install transformers"
   ]
  },
  {
   "cell_type": "code",
   "execution_count": 1,
   "id": "7bec00aa",
   "metadata": {},
   "outputs": [],
   "source": [
    "from transformers import pipeline, AutoModelForTokenClassification, AutoTokenizer\n",
    "import pandas as pd\n",
    "import numpy as np\n",
    "import matplotlib.pyplot as plt\n",
    "import seaborn as sns"
   ]
  },
  {
   "cell_type": "code",
   "execution_count": 2,
   "id": "468e88a7",
   "metadata": {},
   "outputs": [
    {
     "data": {
      "text/plain": [
       "(58561, 5)"
      ]
     },
     "execution_count": 2,
     "metadata": {},
     "output_type": "execute_result"
    }
   ],
   "source": [
    "comments_df = pd.read_csv('comments_df_11-4-2022.csv')\n",
    "video_df = pd.read_csv('video_info.csv')\n",
    "comments_df.shape"
   ]
  },
  {
   "cell_type": "code",
   "execution_count": 3,
   "id": "78aadb96",
   "metadata": {},
   "outputs": [
    {
     "data": {
      "text/html": [
       "<div>\n",
       "<style scoped>\n",
       "    .dataframe tbody tr th:only-of-type {\n",
       "        vertical-align: middle;\n",
       "    }\n",
       "\n",
       "    .dataframe tbody tr th {\n",
       "        vertical-align: top;\n",
       "    }\n",
       "\n",
       "    .dataframe thead th {\n",
       "        text-align: right;\n",
       "    }\n",
       "</style>\n",
       "<table border=\"1\" class=\"dataframe\">\n",
       "  <thead>\n",
       "    <tr style=\"text-align: right;\">\n",
       "      <th></th>\n",
       "      <th>Video Id</th>\n",
       "      <th>text</th>\n",
       "      <th>time</th>\n",
       "      <th>displayID</th>\n",
       "      <th>id</th>\n",
       "    </tr>\n",
       "  </thead>\n",
       "  <tbody>\n",
       "    <tr>\n",
       "      <th>0</th>\n",
       "      <td>DOtPOfeyJ4Q</td>\n",
       "      <td>Don't send it back. This video is a gem. Bro, ...</td>\n",
       "      <td>2022-11-04T15:41:35Z</td>\n",
       "      <td>Tim Gibson</td>\n",
       "      <td>UC8DCyaImyGP2jrJOdD64Efg</td>\n",
       "    </tr>\n",
       "    <tr>\n",
       "      <th>1</th>\n",
       "      <td>DOtPOfeyJ4Q</td>\n",
       "      <td>Hes not scamming his sister probably got it fo...</td>\n",
       "      <td>2022-11-04T15:04:13Z</td>\n",
       "      <td>The guy who asked</td>\n",
       "      <td>UCNijoEJw5z3p4689tey5oYw</td>\n",
       "    </tr>\n",
       "    <tr>\n",
       "      <th>2</th>\n",
       "      <td>DOtPOfeyJ4Q</td>\n",
       "      <td>He offered your money back definitely not a sc...</td>\n",
       "      <td>2022-11-04T14:57:57Z</td>\n",
       "      <td>F.B.I</td>\n",
       "      <td>UCXbuhDqmdm_M8UEOrQ77w6w</td>\n",
       "    </tr>\n",
       "    <tr>\n",
       "      <th>3</th>\n",
       "      <td>DOtPOfeyJ4Q</td>\n",
       "      <td>Isn’t it hard authenticate a signature. If Kob...</td>\n",
       "      <td>2022-11-04T14:54:47Z</td>\n",
       "      <td>Olti Hajdaraj</td>\n",
       "      <td>UCPOYMbZKAIN39YFsvMTZ-Uw</td>\n",
       "    </tr>\n",
       "    <tr>\n",
       "      <th>4</th>\n",
       "      <td>DOtPOfeyJ4Q</td>\n",
       "      <td>He answered the phone, definitely not trying t...</td>\n",
       "      <td>2022-11-04T14:49:10Z</td>\n",
       "      <td>Jordan</td>\n",
       "      <td>UCga1Isau1iPAlrezA6xoYSQ</td>\n",
       "    </tr>\n",
       "  </tbody>\n",
       "</table>\n",
       "</div>"
      ],
      "text/plain": [
       "      Video Id                                               text  \\\n",
       "0  DOtPOfeyJ4Q  Don't send it back. This video is a gem. Bro, ...   \n",
       "1  DOtPOfeyJ4Q  Hes not scamming his sister probably got it fo...   \n",
       "2  DOtPOfeyJ4Q  He offered your money back definitely not a sc...   \n",
       "3  DOtPOfeyJ4Q  Isn’t it hard authenticate a signature. If Kob...   \n",
       "4  DOtPOfeyJ4Q  He answered the phone, definitely not trying t...   \n",
       "\n",
       "                   time          displayID                        id  \n",
       "0  2022-11-04T15:41:35Z         Tim Gibson  UC8DCyaImyGP2jrJOdD64Efg  \n",
       "1  2022-11-04T15:04:13Z  The guy who asked  UCNijoEJw5z3p4689tey5oYw  \n",
       "2  2022-11-04T14:57:57Z              F.B.I  UCXbuhDqmdm_M8UEOrQ77w6w  \n",
       "3  2022-11-04T14:54:47Z      Olti Hajdaraj  UCPOYMbZKAIN39YFsvMTZ-Uw  \n",
       "4  2022-11-04T14:49:10Z             Jordan  UCga1Isau1iPAlrezA6xoYSQ  "
      ]
     },
     "execution_count": 3,
     "metadata": {},
     "output_type": "execute_result"
    }
   ],
   "source": [
    "comments_df.head()"
   ]
  },
  {
   "cell_type": "code",
   "execution_count": 4,
   "id": "6887eefa",
   "metadata": {},
   "outputs": [
    {
     "name": "stdout",
     "output_type": "stream",
     "text": [
      "<class 'pandas.core.frame.DataFrame'>\n",
      "RangeIndex: 58561 entries, 0 to 58560\n",
      "Data columns (total 5 columns):\n",
      " #   Column     Non-Null Count  Dtype \n",
      "---  ------     --------------  ----- \n",
      " 0   Video Id   58561 non-null  object\n",
      " 1   text       58559 non-null  object\n",
      " 2   time       58561 non-null  object\n",
      " 3   displayID  58555 non-null  object\n",
      " 4   id         58561 non-null  object\n",
      "dtypes: object(5)\n",
      "memory usage: 2.2+ MB\n"
     ]
    }
   ],
   "source": [
    "comments_df.info()"
   ]
  },
  {
   "cell_type": "code",
   "execution_count": 5,
   "id": "38fc27c7",
   "metadata": {},
   "outputs": [
    {
     "name": "stdout",
     "output_type": "stream",
     "text": [
      "<class 'pandas.core.frame.DataFrame'>\n",
      "Int64Index: 58553 entries, 0 to 58560\n",
      "Data columns (total 5 columns):\n",
      " #   Column     Non-Null Count  Dtype \n",
      "---  ------     --------------  ----- \n",
      " 0   Video Id   58553 non-null  object\n",
      " 1   text       58553 non-null  object\n",
      " 2   time       58553 non-null  object\n",
      " 3   displayID  58553 non-null  object\n",
      " 4   id         58553 non-null  object\n",
      "dtypes: object(5)\n",
      "memory usage: 2.7+ MB\n"
     ]
    }
   ],
   "source": [
    "comments_df = comments_df.dropna()\n",
    "comments_df.info()"
   ]
  },
  {
   "cell_type": "code",
   "execution_count": 6,
   "id": "3d01b231",
   "metadata": {},
   "outputs": [
    {
     "data": {
      "text/plain": [
       "Video Id                  object\n",
       "text                      object\n",
       "time         datetime64[ns, UTC]\n",
       "displayID                 object\n",
       "id                        object\n",
       "dtype: object"
      ]
     },
     "execution_count": 6,
     "metadata": {},
     "output_type": "execute_result"
    }
   ],
   "source": [
    "comments_df['time'] = pd.to_datetime(comments_df['time'])\n",
    "comments_df.dtypes"
   ]
  },
  {
   "cell_type": "code",
   "execution_count": 7,
   "id": "5b213498",
   "metadata": {},
   "outputs": [],
   "source": [
    "comments_df['discrete_hour'] = comments_df['time'].dt.hour\n",
    "comments_df['discrete_dow'] = comments_df['time'].dt.dayofweek\n",
    "comments_df['discrete_month'] = comments_df['time'].dt.month\n",
    "comments_df['discrete_year'] = comments_df['time'].dt.year"
   ]
  },
  {
   "cell_type": "code",
   "execution_count": 8,
   "id": "3b417ccc",
   "metadata": {},
   "outputs": [
    {
     "data": {
      "text/plain": [
       "Index(['Video Id', 'text', 'time', 'displayID', 'id', 'discrete_hour',\n",
       "       'discrete_dow', 'discrete_month', 'discrete_year'],\n",
       "      dtype='object')"
      ]
     },
     "execution_count": 8,
     "metadata": {},
     "output_type": "execute_result"
    }
   ],
   "source": [
    "comments_df.columns"
   ]
  },
  {
   "cell_type": "code",
   "execution_count": 14,
   "id": "9407810c",
   "metadata": {},
   "outputs": [],
   "source": [
    "comments_df_copy = comments_df.copy()"
   ]
  },
  {
   "cell_type": "code",
   "execution_count": 15,
   "id": "0a9bd5bd",
   "metadata": {},
   "outputs": [
    {
     "data": {
      "text/plain": [
       "58553"
      ]
     },
     "execution_count": 15,
     "metadata": {},
     "output_type": "execute_result"
    }
   ],
   "source": [
    "comments_df_copy['count'] = 1\n",
    "comments_df_copy['count'].sum()"
   ]
  },
  {
   "cell_type": "code",
   "execution_count": 16,
   "id": "9232ff9e",
   "metadata": {},
   "outputs": [
    {
     "data": {
      "text/plain": [
       "<AxesSubplot:xlabel='time'>"
      ]
     },
     "execution_count": 16,
     "metadata": {},
     "output_type": "execute_result"
    },
    {
     "data": {
      "image/png": "[encoded data removed]",
      "text/plain": [
       "<Figure size 432x288 with 1 Axes>"
      ]
     },
     "metadata": {
      "needs_background": "light"
     },
     "output_type": "display_data"
    }
   ],
   "source": [
    "comments_df_copy = comments_df_copy.set_index('time').resample('7d').sum()"
   ]
  },
  {
   "cell_type": "code",
   "execution_count": 17,
   "id": "7191eb01",
   "metadata": {},
   "outputs": [
    {
     "data": {
      "text/plain": [
       "<AxesSubplot:xlabel='time'>"
      ]
     },
     "execution_count": 17,
     "metadata": {},
     "output_type": "execute_result"
    },
    {
     "data": {
      "image/png": "[encoded data removed]",
      "text/plain": [
       "<Figure size 720x504 with 1 Axes>"
      ]
     },
     "metadata": {
      "needs_background": "light"
     },
     "output_type": "display_data"
    }
   ],
   "source": [
    "plt.figure(figsize = (10 , 7))\n",
    "comments_df_copy['count'].plot()"
   ]
  },
  {
   "cell_type": "code",
   "execution_count": 30,
   "id": "75a5555a",
   "metadata": {},
   "outputs": [
    {
     "data": {
      "image/png": "[encoded data removed]",
      "text/plain": [
       "<Figure size 432x288 with 1 Axes>"
      ]
     },
     "metadata": {
      "needs_background": "light"
     },
     "output_type": "display_data"
    }
   ],
   "source": [
    "comments_df_grouped = comments_df.groupby('discrete_hour')['id'].size()\n",
    "sns.barplot(x  = comments_df_grouped.index  , y = comments_df_grouped.values , color = 'blue')\n",
    "plt.axhline(y = np.mean(comments_df_grouped.values) , color = 'black' , linestyle = '--');"
   ]
  },
  {
   "cell_type": "markdown",
   "id": "8c36dfdf",
   "metadata": {},
   "source": [
    "## Sentiment Analysis"
   ]
  },
  {
   "cell_type": "code",
   "execution_count": 31,
   "id": "b4cc118b",
   "metadata": {},
   "outputs": [],
   "source": [
    "text_lst = comments_df['text'].tolist()"
   ]
  },
  {
   "cell_type": "code",
   "execution_count": 42,
   "id": "317d78d9",
   "metadata": {},
   "outputs": [
    {
     "data": {
      "application/vnd.jupyter.widget-view+json": {
       "model_id": "6e96b22fec414bbfb7f741d219aeb6f0",
       "version_major": 2,
       "version_minor": 0
      },
      "text/plain": [
       "Downloading config.json:   0%|          | 0.00/929 [00:00<?, ?B/s]"
      ]
     },
     "metadata": {},
     "output_type": "display_data"
    },
    {
     "data": {
      "application/vnd.jupyter.widget-view+json": {
       "model_id": "385af4cc12964614ba70f8959752b6ea",
       "version_major": 2,
       "version_minor": 0
      },
      "text/plain": [
       "Downloading:   0%|          | 0.00/1.40k [00:00<?, ?B/s]"
      ]
     },
     "metadata": {},
     "output_type": "display_data"
    },
    {
     "data": {
      "application/vnd.jupyter.widget-view+json": {
       "model_id": "ba57187c54cb478b9e641ad48d42be59",
       "version_major": 2,
       "version_minor": 0
      },
      "text/plain": [
       "Downloading pytorch_model.bin:   0%|          | 0.00/478M [00:00<?, ?B/s]"
      ]
     },
     "metadata": {},
     "output_type": "display_data"
    },
    {
     "name": "stderr",
     "output_type": "stream",
     "text": [
      "Some weights of the model checkpoint at cardiffnlp/twitter-roberta-base-sentiment-latest were not used when initializing RobertaForSequenceClassification: ['roberta.pooler.dense.bias', 'roberta.pooler.dense.weight']\n",
      "- This IS expected if you are initializing RobertaForSequenceClassification from the checkpoint of a model trained on another task or with another architecture (e.g. initializing a BertForSequenceClassification model from a BertForPreTraining model).\n",
      "- This IS NOT expected if you are initializing RobertaForSequenceClassification from the checkpoint of a model that you expect to be exactly identical (initializing a BertForSequenceClassification model from a BertForSequenceClassification model).\n"
     ]
    },
    {
     "data": {
      "application/vnd.jupyter.widget-view+json": {
       "model_id": "5ed98dd84f0f428d956e3a51f8a19223",
       "version_major": 2,
       "version_minor": 0
      },
      "text/plain": [
       "Downloading vocab.json:   0%|          | 0.00/878k [00:00<?, ?B/s]"
      ]
     },
     "metadata": {},
     "output_type": "display_data"
    },
    {
     "data": {
      "application/vnd.jupyter.widget-view+json": {
       "model_id": "a3495b3ec4a342cb961a0c8c6be26f25",
       "version_major": 2,
       "version_minor": 0
      },
      "text/plain": [
       "Downloading merges.txt:   0%|          | 0.00/446k [00:00<?, ?B/s]"
      ]
     },
     "metadata": {},
     "output_type": "display_data"
    },
    {
     "data": {
      "application/vnd.jupyter.widget-view+json": {
       "model_id": "8302d823baa64fa7a517f68141513d38",
       "version_major": 2,
       "version_minor": 0
      },
      "text/plain": [
       "Downloading special_tokens_map.json:   0%|          | 0.00/239 [00:00<?, ?B/s]"
      ]
     },
     "metadata": {},
     "output_type": "display_data"
    }
   ],
   "source": [
    "pipe = pipeline(model = 'cardiffnlp/twitter-roberta-base-sentiment-latest')"
   ]
  },
  {
   "cell_type": "code",
   "execution_count": 60,
   "id": "50e6f8bb",
   "metadata": {},
   "outputs": [
    {
     "ename": "RuntimeError",
     "evalue": "The expanded size of the tensor (588) must match the existing size (514) at non-singleton dimension 1.  Target sizes: [1, 588].  Tensor sizes: [1, 514]",
     "output_type": "error",
     "traceback": [
      "\u001b[1;31m---------------------------------------------------------------------------\u001b[0m",
      "\u001b[1;31mRuntimeError\u001b[0m                              Traceback (most recent call last)",
      "Input \u001b[1;32mIn [60]\u001b[0m, in \u001b[0;36m<cell line: 1>\u001b[1;34m()\u001b[0m\n\u001b[1;32m----> 1\u001b[0m sent_dicts \u001b[38;5;241m=\u001b[39m \u001b[43mpipe\u001b[49m\u001b[43m(\u001b[49m\u001b[43mtext_lst\u001b[49m\u001b[43m)\u001b[49m\n\u001b[0;32m      2\u001b[0m \u001b[38;5;28mlen\u001b[39m(sent_dicts)\n",
      "File \u001b[1;32m~\\anaconda3\\lib\\site-packages\\transformers\\pipelines\\text_classification.py:138\u001b[0m, in \u001b[0;36mTextClassificationPipeline.__call__\u001b[1;34m(self, *args, **kwargs)\u001b[0m\n\u001b[0;32m    104\u001b[0m \u001b[38;5;28;01mdef\u001b[39;00m \u001b[38;5;21m__call__\u001b[39m(\u001b[38;5;28mself\u001b[39m, \u001b[38;5;241m*\u001b[39margs, \u001b[38;5;241m*\u001b[39m\u001b[38;5;241m*\u001b[39mkwargs):\n\u001b[0;32m    105\u001b[0m     \u001b[38;5;124;03m\"\"\"\u001b[39;00m\n\u001b[0;32m    106\u001b[0m \u001b[38;5;124;03m    Classify the text(s) given as inputs.\u001b[39;00m\n\u001b[0;32m    107\u001b[0m \n\u001b[1;32m   (...)\u001b[0m\n\u001b[0;32m    136\u001b[0m \u001b[38;5;124;03m        If `top_k` is used, one such dictionary is returned per label.\u001b[39;00m\n\u001b[0;32m    137\u001b[0m \u001b[38;5;124;03m    \"\"\"\u001b[39;00m\n\u001b[1;32m--> 138\u001b[0m     result \u001b[38;5;241m=\u001b[39m \u001b[38;5;28;43msuper\u001b[39;49m\u001b[43m(\u001b[49m\u001b[43m)\u001b[49m\u001b[38;5;241;43m.\u001b[39;49m\u001b[38;5;21;43m__call__\u001b[39;49m\u001b[43m(\u001b[49m\u001b[38;5;241;43m*\u001b[39;49m\u001b[43margs\u001b[49m\u001b[43m,\u001b[49m\u001b[43m \u001b[49m\u001b[38;5;241;43m*\u001b[39;49m\u001b[38;5;241;43m*\u001b[39;49m\u001b[43mkwargs\u001b[49m\u001b[43m)\u001b[49m\n\u001b[0;32m    139\u001b[0m     \u001b[38;5;66;03m# TODO try and retrieve it in a nicer way from _sanitize_parameters.\u001b[39;00m\n\u001b[0;32m    140\u001b[0m     _legacy \u001b[38;5;241m=\u001b[39m \u001b[38;5;124m\"\u001b[39m\u001b[38;5;124mtop_k\u001b[39m\u001b[38;5;124m\"\u001b[39m \u001b[38;5;129;01mnot\u001b[39;00m \u001b[38;5;129;01min\u001b[39;00m kwargs\n",
      "File \u001b[1;32m~\\anaconda3\\lib\\site-packages\\transformers\\pipelines\\base.py:1056\u001b[0m, in \u001b[0;36mPipeline.__call__\u001b[1;34m(self, inputs, num_workers, batch_size, *args, **kwargs)\u001b[0m\n\u001b[0;32m   1052\u001b[0m \u001b[38;5;28;01mif\u001b[39;00m can_use_iterator:\n\u001b[0;32m   1053\u001b[0m     final_iterator \u001b[38;5;241m=\u001b[39m \u001b[38;5;28mself\u001b[39m\u001b[38;5;241m.\u001b[39mget_iterator(\n\u001b[0;32m   1054\u001b[0m         inputs, num_workers, batch_size, preprocess_params, forward_params, postprocess_params\n\u001b[0;32m   1055\u001b[0m     )\n\u001b[1;32m-> 1056\u001b[0m     outputs \u001b[38;5;241m=\u001b[39m [output \u001b[38;5;28;01mfor\u001b[39;00m output \u001b[38;5;129;01min\u001b[39;00m final_iterator]\n\u001b[0;32m   1057\u001b[0m     \u001b[38;5;28;01mreturn\u001b[39;00m outputs\n\u001b[0;32m   1058\u001b[0m \u001b[38;5;28;01melse\u001b[39;00m:\n",
      "File \u001b[1;32m~\\anaconda3\\lib\\site-packages\\transformers\\pipelines\\base.py:1056\u001b[0m, in \u001b[0;36m<listcomp>\u001b[1;34m(.0)\u001b[0m\n\u001b[0;32m   1052\u001b[0m \u001b[38;5;28;01mif\u001b[39;00m can_use_iterator:\n\u001b[0;32m   1053\u001b[0m     final_iterator \u001b[38;5;241m=\u001b[39m \u001b[38;5;28mself\u001b[39m\u001b[38;5;241m.\u001b[39mget_iterator(\n\u001b[0;32m   1054\u001b[0m         inputs, num_workers, batch_size, preprocess_params, forward_params, postprocess_params\n\u001b[0;32m   1055\u001b[0m     )\n\u001b[1;32m-> 1056\u001b[0m     outputs \u001b[38;5;241m=\u001b[39m [output \u001b[38;5;28;01mfor\u001b[39;00m output \u001b[38;5;129;01min\u001b[39;00m final_iterator]\n\u001b[0;32m   1057\u001b[0m     \u001b[38;5;28;01mreturn\u001b[39;00m outputs\n\u001b[0;32m   1058\u001b[0m \u001b[38;5;28;01melse\u001b[39;00m:\n",
      "File \u001b[1;32m~\\anaconda3\\lib\\site-packages\\transformers\\pipelines\\pt_utils.py:111\u001b[0m, in \u001b[0;36mPipelineIterator.__next__\u001b[1;34m(self)\u001b[0m\n\u001b[0;32m    108\u001b[0m     \u001b[38;5;28;01mreturn\u001b[39;00m \u001b[38;5;28mself\u001b[39m\u001b[38;5;241m.\u001b[39mloader_batch_item()\n\u001b[0;32m    110\u001b[0m \u001b[38;5;66;03m# We're out of items within a batch\u001b[39;00m\n\u001b[1;32m--> 111\u001b[0m item \u001b[38;5;241m=\u001b[39m \u001b[38;5;28;43mnext\u001b[39;49m\u001b[43m(\u001b[49m\u001b[38;5;28;43mself\u001b[39;49m\u001b[38;5;241;43m.\u001b[39;49m\u001b[43miterator\u001b[49m\u001b[43m)\u001b[49m\n\u001b[0;32m    112\u001b[0m processed \u001b[38;5;241m=\u001b[39m \u001b[38;5;28mself\u001b[39m\u001b[38;5;241m.\u001b[39minfer(item, \u001b[38;5;241m*\u001b[39m\u001b[38;5;241m*\u001b[39m\u001b[38;5;28mself\u001b[39m\u001b[38;5;241m.\u001b[39mparams)\n\u001b[0;32m    113\u001b[0m \u001b[38;5;66;03m# We now have a batch of \"inferred things\".\u001b[39;00m\n",
      "File \u001b[1;32m~\\anaconda3\\lib\\site-packages\\transformers\\pipelines\\pt_utils.py:112\u001b[0m, in \u001b[0;36mPipelineIterator.__next__\u001b[1;34m(self)\u001b[0m\n\u001b[0;32m    110\u001b[0m \u001b[38;5;66;03m# We're out of items within a batch\u001b[39;00m\n\u001b[0;32m    111\u001b[0m item \u001b[38;5;241m=\u001b[39m \u001b[38;5;28mnext\u001b[39m(\u001b[38;5;28mself\u001b[39m\u001b[38;5;241m.\u001b[39miterator)\n\u001b[1;32m--> 112\u001b[0m processed \u001b[38;5;241m=\u001b[39m \u001b[38;5;28;43mself\u001b[39;49m\u001b[38;5;241;43m.\u001b[39;49m\u001b[43minfer\u001b[49m\u001b[43m(\u001b[49m\u001b[43mitem\u001b[49m\u001b[43m,\u001b[49m\u001b[43m \u001b[49m\u001b[38;5;241;43m*\u001b[39;49m\u001b[38;5;241;43m*\u001b[39;49m\u001b[38;5;28;43mself\u001b[39;49m\u001b[38;5;241;43m.\u001b[39;49m\u001b[43mparams\u001b[49m\u001b[43m)\u001b[49m\n\u001b[0;32m    113\u001b[0m \u001b[38;5;66;03m# We now have a batch of \"inferred things\".\u001b[39;00m\n\u001b[0;32m    114\u001b[0m \u001b[38;5;28;01mif\u001b[39;00m \u001b[38;5;28mself\u001b[39m\u001b[38;5;241m.\u001b[39mloader_batch_size \u001b[38;5;129;01mis\u001b[39;00m \u001b[38;5;129;01mnot\u001b[39;00m \u001b[38;5;28;01mNone\u001b[39;00m:\n\u001b[0;32m    115\u001b[0m     \u001b[38;5;66;03m# Try to infer the size of the batch\u001b[39;00m\n",
      "File \u001b[1;32m~\\anaconda3\\lib\\site-packages\\transformers\\pipelines\\base.py:983\u001b[0m, in \u001b[0;36mPipeline.forward\u001b[1;34m(self, model_inputs, **forward_params)\u001b[0m\n\u001b[0;32m    981\u001b[0m     \u001b[38;5;28;01mwith\u001b[39;00m inference_context():\n\u001b[0;32m    982\u001b[0m         model_inputs \u001b[38;5;241m=\u001b[39m \u001b[38;5;28mself\u001b[39m\u001b[38;5;241m.\u001b[39m_ensure_tensor_on_device(model_inputs, device\u001b[38;5;241m=\u001b[39m\u001b[38;5;28mself\u001b[39m\u001b[38;5;241m.\u001b[39mdevice)\n\u001b[1;32m--> 983\u001b[0m         model_outputs \u001b[38;5;241m=\u001b[39m \u001b[38;5;28;43mself\u001b[39;49m\u001b[38;5;241;43m.\u001b[39;49m\u001b[43m_forward\u001b[49m\u001b[43m(\u001b[49m\u001b[43mmodel_inputs\u001b[49m\u001b[43m,\u001b[49m\u001b[43m \u001b[49m\u001b[38;5;241;43m*\u001b[39;49m\u001b[38;5;241;43m*\u001b[39;49m\u001b[43mforward_params\u001b[49m\u001b[43m)\u001b[49m\n\u001b[0;32m    984\u001b[0m         model_outputs \u001b[38;5;241m=\u001b[39m \u001b[38;5;28mself\u001b[39m\u001b[38;5;241m.\u001b[39m_ensure_tensor_on_device(model_outputs, device\u001b[38;5;241m=\u001b[39mtorch\u001b[38;5;241m.\u001b[39mdevice(\u001b[38;5;124m\"\u001b[39m\u001b[38;5;124mcpu\u001b[39m\u001b[38;5;124m\"\u001b[39m))\n\u001b[0;32m    985\u001b[0m \u001b[38;5;28;01melse\u001b[39;00m:\n",
      "File \u001b[1;32m~\\anaconda3\\lib\\site-packages\\transformers\\pipelines\\text_classification.py:165\u001b[0m, in \u001b[0;36mTextClassificationPipeline._forward\u001b[1;34m(self, model_inputs)\u001b[0m\n\u001b[0;32m    164\u001b[0m \u001b[38;5;28;01mdef\u001b[39;00m \u001b[38;5;21m_forward\u001b[39m(\u001b[38;5;28mself\u001b[39m, model_inputs):\n\u001b[1;32m--> 165\u001b[0m     \u001b[38;5;28;01mreturn\u001b[39;00m \u001b[38;5;28;43mself\u001b[39;49m\u001b[38;5;241;43m.\u001b[39;49m\u001b[43mmodel\u001b[49m\u001b[43m(\u001b[49m\u001b[38;5;241;43m*\u001b[39;49m\u001b[38;5;241;43m*\u001b[39;49m\u001b[43mmodel_inputs\u001b[49m\u001b[43m)\u001b[49m\n",
      "File \u001b[1;32m~\\anaconda3\\lib\\site-packages\\torch\\nn\\modules\\module.py:1130\u001b[0m, in \u001b[0;36mModule._call_impl\u001b[1;34m(self, *input, **kwargs)\u001b[0m\n\u001b[0;32m   1126\u001b[0m \u001b[38;5;66;03m# If we don't have any hooks, we want to skip the rest of the logic in\u001b[39;00m\n\u001b[0;32m   1127\u001b[0m \u001b[38;5;66;03m# this function, and just call forward.\u001b[39;00m\n\u001b[0;32m   1128\u001b[0m \u001b[38;5;28;01mif\u001b[39;00m \u001b[38;5;129;01mnot\u001b[39;00m (\u001b[38;5;28mself\u001b[39m\u001b[38;5;241m.\u001b[39m_backward_hooks \u001b[38;5;129;01mor\u001b[39;00m \u001b[38;5;28mself\u001b[39m\u001b[38;5;241m.\u001b[39m_forward_hooks \u001b[38;5;129;01mor\u001b[39;00m \u001b[38;5;28mself\u001b[39m\u001b[38;5;241m.\u001b[39m_forward_pre_hooks \u001b[38;5;129;01mor\u001b[39;00m _global_backward_hooks\n\u001b[0;32m   1129\u001b[0m         \u001b[38;5;129;01mor\u001b[39;00m _global_forward_hooks \u001b[38;5;129;01mor\u001b[39;00m _global_forward_pre_hooks):\n\u001b[1;32m-> 1130\u001b[0m     \u001b[38;5;28;01mreturn\u001b[39;00m \u001b[43mforward_call\u001b[49m\u001b[43m(\u001b[49m\u001b[38;5;241;43m*\u001b[39;49m\u001b[38;5;28;43minput\u001b[39;49m\u001b[43m,\u001b[49m\u001b[43m \u001b[49m\u001b[38;5;241;43m*\u001b[39;49m\u001b[38;5;241;43m*\u001b[39;49m\u001b[43mkwargs\u001b[49m\u001b[43m)\u001b[49m\n\u001b[0;32m   1131\u001b[0m \u001b[38;5;66;03m# Do not call functions when jit is used\u001b[39;00m\n\u001b[0;32m   1132\u001b[0m full_backward_hooks, non_full_backward_hooks \u001b[38;5;241m=\u001b[39m [], []\n",
      "File \u001b[1;32m~\\anaconda3\\lib\\site-packages\\transformers\\models\\roberta\\modeling_roberta.py:1206\u001b[0m, in \u001b[0;36mRobertaForSequenceClassification.forward\u001b[1;34m(self, input_ids, attention_mask, token_type_ids, position_ids, head_mask, inputs_embeds, labels, output_attentions, output_hidden_states, return_dict)\u001b[0m\n\u001b[0;32m   1198\u001b[0m \u001b[38;5;124mr\u001b[39m\u001b[38;5;124;03m\"\"\"\u001b[39;00m\n\u001b[0;32m   1199\u001b[0m \u001b[38;5;124;03mlabels (`torch.LongTensor` of shape `(batch_size,)`, *optional*):\u001b[39;00m\n\u001b[0;32m   1200\u001b[0m \u001b[38;5;124;03m    Labels for computing the sequence classification/regression loss. Indices should be in `[0, ...,\u001b[39;00m\n\u001b[0;32m   1201\u001b[0m \u001b[38;5;124;03m    config.num_labels - 1]`. If `config.num_labels == 1` a regression loss is computed (Mean-Square loss), If\u001b[39;00m\n\u001b[0;32m   1202\u001b[0m \u001b[38;5;124;03m    `config.num_labels > 1` a classification loss is computed (Cross-Entropy).\u001b[39;00m\n\u001b[0;32m   1203\u001b[0m \u001b[38;5;124;03m\"\"\"\u001b[39;00m\n\u001b[0;32m   1204\u001b[0m return_dict \u001b[38;5;241m=\u001b[39m return_dict \u001b[38;5;28;01mif\u001b[39;00m return_dict \u001b[38;5;129;01mis\u001b[39;00m \u001b[38;5;129;01mnot\u001b[39;00m \u001b[38;5;28;01mNone\u001b[39;00m \u001b[38;5;28;01melse\u001b[39;00m \u001b[38;5;28mself\u001b[39m\u001b[38;5;241m.\u001b[39mconfig\u001b[38;5;241m.\u001b[39muse_return_dict\n\u001b[1;32m-> 1206\u001b[0m outputs \u001b[38;5;241m=\u001b[39m \u001b[38;5;28;43mself\u001b[39;49m\u001b[38;5;241;43m.\u001b[39;49m\u001b[43mroberta\u001b[49m\u001b[43m(\u001b[49m\n\u001b[0;32m   1207\u001b[0m \u001b[43m    \u001b[49m\u001b[43minput_ids\u001b[49m\u001b[43m,\u001b[49m\n\u001b[0;32m   1208\u001b[0m \u001b[43m    \u001b[49m\u001b[43mattention_mask\u001b[49m\u001b[38;5;241;43m=\u001b[39;49m\u001b[43mattention_mask\u001b[49m\u001b[43m,\u001b[49m\n\u001b[0;32m   1209\u001b[0m \u001b[43m    \u001b[49m\u001b[43mtoken_type_ids\u001b[49m\u001b[38;5;241;43m=\u001b[39;49m\u001b[43mtoken_type_ids\u001b[49m\u001b[43m,\u001b[49m\n\u001b[0;32m   1210\u001b[0m \u001b[43m    \u001b[49m\u001b[43mposition_ids\u001b[49m\u001b[38;5;241;43m=\u001b[39;49m\u001b[43mposition_ids\u001b[49m\u001b[43m,\u001b[49m\n\u001b[0;32m   1211\u001b[0m \u001b[43m    \u001b[49m\u001b[43mhead_mask\u001b[49m\u001b[38;5;241;43m=\u001b[39;49m\u001b[43mhead_mask\u001b[49m\u001b[43m,\u001b[49m\n\u001b[0;32m   1212\u001b[0m \u001b[43m    \u001b[49m\u001b[43minputs_embeds\u001b[49m\u001b[38;5;241;43m=\u001b[39;49m\u001b[43minputs_embeds\u001b[49m\u001b[43m,\u001b[49m\n\u001b[0;32m   1213\u001b[0m \u001b[43m    \u001b[49m\u001b[43moutput_attentions\u001b[49m\u001b[38;5;241;43m=\u001b[39;49m\u001b[43moutput_attentions\u001b[49m\u001b[43m,\u001b[49m\n\u001b[0;32m   1214\u001b[0m \u001b[43m    \u001b[49m\u001b[43moutput_hidden_states\u001b[49m\u001b[38;5;241;43m=\u001b[39;49m\u001b[43moutput_hidden_states\u001b[49m\u001b[43m,\u001b[49m\n\u001b[0;32m   1215\u001b[0m \u001b[43m    \u001b[49m\u001b[43mreturn_dict\u001b[49m\u001b[38;5;241;43m=\u001b[39;49m\u001b[43mreturn_dict\u001b[49m\u001b[43m,\u001b[49m\n\u001b[0;32m   1216\u001b[0m \u001b[43m\u001b[49m\u001b[43m)\u001b[49m\n\u001b[0;32m   1217\u001b[0m sequence_output \u001b[38;5;241m=\u001b[39m outputs[\u001b[38;5;241m0\u001b[39m]\n\u001b[0;32m   1218\u001b[0m logits \u001b[38;5;241m=\u001b[39m \u001b[38;5;28mself\u001b[39m\u001b[38;5;241m.\u001b[39mclassifier(sequence_output)\n",
      "File \u001b[1;32m~\\anaconda3\\lib\\site-packages\\torch\\nn\\modules\\module.py:1130\u001b[0m, in \u001b[0;36mModule._call_impl\u001b[1;34m(self, *input, **kwargs)\u001b[0m\n\u001b[0;32m   1126\u001b[0m \u001b[38;5;66;03m# If we don't have any hooks, we want to skip the rest of the logic in\u001b[39;00m\n\u001b[0;32m   1127\u001b[0m \u001b[38;5;66;03m# this function, and just call forward.\u001b[39;00m\n\u001b[0;32m   1128\u001b[0m \u001b[38;5;28;01mif\u001b[39;00m \u001b[38;5;129;01mnot\u001b[39;00m (\u001b[38;5;28mself\u001b[39m\u001b[38;5;241m.\u001b[39m_backward_hooks \u001b[38;5;129;01mor\u001b[39;00m \u001b[38;5;28mself\u001b[39m\u001b[38;5;241m.\u001b[39m_forward_hooks \u001b[38;5;129;01mor\u001b[39;00m \u001b[38;5;28mself\u001b[39m\u001b[38;5;241m.\u001b[39m_forward_pre_hooks \u001b[38;5;129;01mor\u001b[39;00m _global_backward_hooks\n\u001b[0;32m   1129\u001b[0m         \u001b[38;5;129;01mor\u001b[39;00m _global_forward_hooks \u001b[38;5;129;01mor\u001b[39;00m _global_forward_pre_hooks):\n\u001b[1;32m-> 1130\u001b[0m     \u001b[38;5;28;01mreturn\u001b[39;00m \u001b[43mforward_call\u001b[49m\u001b[43m(\u001b[49m\u001b[38;5;241;43m*\u001b[39;49m\u001b[38;5;28;43minput\u001b[39;49m\u001b[43m,\u001b[49m\u001b[43m \u001b[49m\u001b[38;5;241;43m*\u001b[39;49m\u001b[38;5;241;43m*\u001b[39;49m\u001b[43mkwargs\u001b[49m\u001b[43m)\u001b[49m\n\u001b[0;32m   1131\u001b[0m \u001b[38;5;66;03m# Do not call functions when jit is used\u001b[39;00m\n\u001b[0;32m   1132\u001b[0m full_backward_hooks, non_full_backward_hooks \u001b[38;5;241m=\u001b[39m [], []\n",
      "File \u001b[1;32m~\\anaconda3\\lib\\site-packages\\transformers\\models\\roberta\\modeling_roberta.py:814\u001b[0m, in \u001b[0;36mRobertaModel.forward\u001b[1;34m(self, input_ids, attention_mask, token_type_ids, position_ids, head_mask, inputs_embeds, encoder_hidden_states, encoder_attention_mask, past_key_values, use_cache, output_attentions, output_hidden_states, return_dict)\u001b[0m\n\u001b[0;32m    812\u001b[0m \u001b[38;5;28;01mif\u001b[39;00m \u001b[38;5;28mhasattr\u001b[39m(\u001b[38;5;28mself\u001b[39m\u001b[38;5;241m.\u001b[39membeddings, \u001b[38;5;124m\"\u001b[39m\u001b[38;5;124mtoken_type_ids\u001b[39m\u001b[38;5;124m\"\u001b[39m):\n\u001b[0;32m    813\u001b[0m     buffered_token_type_ids \u001b[38;5;241m=\u001b[39m \u001b[38;5;28mself\u001b[39m\u001b[38;5;241m.\u001b[39membeddings\u001b[38;5;241m.\u001b[39mtoken_type_ids[:, :seq_length]\n\u001b[1;32m--> 814\u001b[0m     buffered_token_type_ids_expanded \u001b[38;5;241m=\u001b[39m \u001b[43mbuffered_token_type_ids\u001b[49m\u001b[38;5;241;43m.\u001b[39;49m\u001b[43mexpand\u001b[49m\u001b[43m(\u001b[49m\u001b[43mbatch_size\u001b[49m\u001b[43m,\u001b[49m\u001b[43m \u001b[49m\u001b[43mseq_length\u001b[49m\u001b[43m)\u001b[49m\n\u001b[0;32m    815\u001b[0m     token_type_ids \u001b[38;5;241m=\u001b[39m buffered_token_type_ids_expanded\n\u001b[0;32m    816\u001b[0m \u001b[38;5;28;01melse\u001b[39;00m:\n",
      "\u001b[1;31mRuntimeError\u001b[0m: The expanded size of the tensor (588) must match the existing size (514) at non-singleton dimension 1.  Target sizes: [1, 588].  Tensor sizes: [1, 514]"
     ]
    }
   ],
   "source": [
    "sent_dicts = pipe(text_lst)\n",
    "len(sent_dicts)"
   ]
  },
  {
   "cell_type": "code",
   "execution_count": 59,
   "id": "2862d98f",
   "metadata": {},
   "outputs": [
    {
     "data": {
      "text/plain": [
       "'Hey guys! Be sure to check out the rest of this series on my channel. Hope you guys have been enjoying it! Been a super interesting process 🔥. Thanks for being here! 🙏'"
      ]
     },
     "execution_count": 59,
     "metadata": {},
     "output_type": "execute_result"
    }
   ],
   "source": [
    "text_lst[:100][-11]"
   ]
  },
  {
   "cell_type": "code",
   "execution_count": 64,
   "id": "72781d45",
   "metadata": {},
   "outputs": [
    {
     "data": {
      "text/html": [
       "<div>\n",
       "<style scoped>\n",
       "    .dataframe tbody tr th:only-of-type {\n",
       "        vertical-align: middle;\n",
       "    }\n",
       "\n",
       "    .dataframe tbody tr th {\n",
       "        vertical-align: top;\n",
       "    }\n",
       "\n",
       "    .dataframe thead th {\n",
       "        text-align: right;\n",
       "    }\n",
       "</style>\n",
       "<table border=\"1\" class=\"dataframe\">\n",
       "  <thead>\n",
       "    <tr style=\"text-align: right;\">\n",
       "      <th></th>\n",
       "      <th>Unnamed: 0</th>\n",
       "      <th>video_id</th>\n",
       "      <th>video_title</th>\n",
       "      <th>upload_date</th>\n",
       "      <th>view_count</th>\n",
       "      <th>like_count</th>\n",
       "      <th>comment_count</th>\n",
       "    </tr>\n",
       "  </thead>\n",
       "  <tbody>\n",
       "    <tr>\n",
       "      <th>0</th>\n",
       "      <td>0</td>\n",
       "      <td>DOtPOfeyJ4Q</td>\n",
       "      <td>Confronting the seller of a questionable Kobe ...</td>\n",
       "      <td>2022-11-02</td>\n",
       "      <td>781610</td>\n",
       "      <td>62761</td>\n",
       "      <td>447</td>\n",
       "    </tr>\n",
       "    <tr>\n",
       "      <th>1</th>\n",
       "      <td>1</td>\n",
       "      <td>ZrZVTAdSMl8</td>\n",
       "      <td>Do experts think my cheap Kobe autograph is real?</td>\n",
       "      <td>2022-11-01</td>\n",
       "      <td>113539</td>\n",
       "      <td>9483</td>\n",
       "      <td>57</td>\n",
       "    </tr>\n",
       "    <tr>\n",
       "      <th>2</th>\n",
       "      <td>2</td>\n",
       "      <td>_DcZFOirIDE</td>\n",
       "      <td>Anyone need a new camera?</td>\n",
       "      <td>2022-11-01</td>\n",
       "      <td>40723</td>\n",
       "      <td>3162</td>\n",
       "      <td>3230</td>\n",
       "    </tr>\n",
       "    <tr>\n",
       "      <th>3</th>\n",
       "      <td>3</td>\n",
       "      <td>JVHboSk65-k</td>\n",
       "      <td>I asked collectors if my cheap Kobe autographs...</td>\n",
       "      <td>2022-10-31</td>\n",
       "      <td>971564</td>\n",
       "      <td>78562</td>\n",
       "      <td>70</td>\n",
       "    </tr>\n",
       "    <tr>\n",
       "      <th>4</th>\n",
       "      <td>4</td>\n",
       "      <td>nxy-A8auW9U</td>\n",
       "      <td>Unboxing a $400 Kobe autographed ball (real?)</td>\n",
       "      <td>2022-10-28</td>\n",
       "      <td>501415</td>\n",
       "      <td>46803</td>\n",
       "      <td>70</td>\n",
       "    </tr>\n",
       "    <tr>\n",
       "      <th>...</th>\n",
       "      <td>...</td>\n",
       "      <td>...</td>\n",
       "      <td>...</td>\n",
       "      <td>...</td>\n",
       "      <td>...</td>\n",
       "      <td>...</td>\n",
       "      <td>...</td>\n",
       "    </tr>\n",
       "    <tr>\n",
       "      <th>179</th>\n",
       "      <td>179</td>\n",
       "      <td>G64RvvjWadc</td>\n",
       "      <td>9 Side Hustles That Are Slept On In 2021 ($200...</td>\n",
       "      <td>2021-05-27</td>\n",
       "      <td>3058</td>\n",
       "      <td>175</td>\n",
       "      <td>9</td>\n",
       "    </tr>\n",
       "    <tr>\n",
       "      <th>180</th>\n",
       "      <td>180</td>\n",
       "      <td>qlPG818l_Yc</td>\n",
       "      <td>I Tried Dropshipping A Dollar Tree Product (72...</td>\n",
       "      <td>2021-04-30</td>\n",
       "      <td>2206</td>\n",
       "      <td>95</td>\n",
       "      <td>10</td>\n",
       "    </tr>\n",
       "    <tr>\n",
       "      <th>181</th>\n",
       "      <td>181</td>\n",
       "      <td>GKgZiqBsxds</td>\n",
       "      <td>Zero To 500k On Facebook In 1 Year | Full Step...</td>\n",
       "      <td>2021-03-30</td>\n",
       "      <td>1080</td>\n",
       "      <td>81</td>\n",
       "      <td>10</td>\n",
       "    </tr>\n",
       "    <tr>\n",
       "      <th>182</th>\n",
       "      <td>182</td>\n",
       "      <td>Kxxxtkioncc</td>\n",
       "      <td>I Tried Dropshipping From Scratch (24HR CHALLE...</td>\n",
       "      <td>2021-03-10</td>\n",
       "      <td>7339</td>\n",
       "      <td>397</td>\n",
       "      <td>55</td>\n",
       "    </tr>\n",
       "    <tr>\n",
       "      <th>183</th>\n",
       "      <td>183</td>\n",
       "      <td>-hQCZGiwyUA</td>\n",
       "      <td>How I Started A Million Dollar Business From M...</td>\n",
       "      <td>2021-02-23</td>\n",
       "      <td>6467</td>\n",
       "      <td>405</td>\n",
       "      <td>37</td>\n",
       "    </tr>\n",
       "  </tbody>\n",
       "</table>\n",
       "<p>184 rows × 7 columns</p>\n",
       "</div>"
      ],
      "text/plain": [
       "     Unnamed: 0     video_id  \\\n",
       "0             0  DOtPOfeyJ4Q   \n",
       "1             1  ZrZVTAdSMl8   \n",
       "2             2  _DcZFOirIDE   \n",
       "3             3  JVHboSk65-k   \n",
       "4             4  nxy-A8auW9U   \n",
       "..          ...          ...   \n",
       "179         179  G64RvvjWadc   \n",
       "180         180  qlPG818l_Yc   \n",
       "181         181  GKgZiqBsxds   \n",
       "182         182  Kxxxtkioncc   \n",
       "183         183  -hQCZGiwyUA   \n",
       "\n",
       "                                           video_title upload_date  \\\n",
       "0    Confronting the seller of a questionable Kobe ...  2022-11-02   \n",
       "1    Do experts think my cheap Kobe autograph is real?  2022-11-01   \n",
       "2                            Anyone need a new camera?  2022-11-01   \n",
       "3    I asked collectors if my cheap Kobe autographs...  2022-10-31   \n",
       "4        Unboxing a $400 Kobe autographed ball (real?)  2022-10-28   \n",
       "..                                                 ...         ...   \n",
       "179  9 Side Hustles That Are Slept On In 2021 ($200...  2021-05-27   \n",
       "180  I Tried Dropshipping A Dollar Tree Product (72...  2021-04-30   \n",
       "181  Zero To 500k On Facebook In 1 Year | Full Step...  2021-03-30   \n",
       "182  I Tried Dropshipping From Scratch (24HR CHALLE...  2021-03-10   \n",
       "183  How I Started A Million Dollar Business From M...  2021-02-23   \n",
       "\n",
       "     view_count  like_count  comment_count  \n",
       "0        781610       62761            447  \n",
       "1        113539        9483             57  \n",
       "2         40723        3162           3230  \n",
       "3        971564       78562             70  \n",
       "4        501415       46803             70  \n",
       "..          ...         ...            ...  \n",
       "179        3058         175              9  \n",
       "180        2206          95             10  \n",
       "181        1080          81             10  \n",
       "182        7339         397             55  \n",
       "183        6467         405             37  \n",
       "\n",
       "[184 rows x 7 columns]"
      ]
     },
     "execution_count": 64,
     "metadata": {},
     "output_type": "execute_result"
    }
   ],
   "source": [
    "video_df['upload_date'] = pd.to_datetime(video_df['upload_date'])\n",
    "video_df.sort_values('upload_date' , ascending = False)\n",
    "video_df"
   ]
  },
  {
   "cell_type": "code",
   "execution_count": 66,
   "id": "a0b594af",
   "metadata": {},
   "outputs": [
    {
     "data": {
      "text/plain": [
       "(84, 7)"
      ]
     },
     "execution_count": 66,
     "metadata": {},
     "output_type": "execute_result"
    }
   ],
   "source": [
    "video_df_100_comments = video_df[video_df['comment_count'] >= 100]\n",
    "video_df_100_comments.shape"
   ]
  },
  {
   "cell_type": "code",
   "execution_count": 67,
   "id": "80488653",
   "metadata": {},
   "outputs": [
    {
     "name": "stdout",
     "output_type": "stream",
     "text": [
      "['Confronting the seller of a questionable Kobe autograph', 'Anyone need a new camera?', 'Is the cheapest Kobe autographed ball online real?', 'How much gold I found in $100 Amazon pay dirt', 'I bought $500 worth of G-Shock￼￼ watches', 'I manufactured Yeezy sunglasses from scratch', 'I paid artists $200 to turn Yeezys into sunglasses (foam runners)', 'How I profited off the fidget spinner craze', 'How to make $200 a day with a drone', 'Testing the world’s brightest flashlight OUTSIDE', 'I paid an artist $20 to turn Yeezy sneakers into sunglasses', 'I got a gadget filled mystery box in the mail #shorts #sponsored', 'Valuing the gold I found in Amazon pay dirt', 'How much gold I found in Amazon pay dirt', 'Is Gold Pay Dirt A Good Side Hustle?', 'I Bought Gold Pay Dirt And Made $______', 'How much my money making hotspot has made', 'He sold me fake Pokémon cards… maybe?', 'Revealing My Entire Pokémon Investment', 'I tested the midnight Walmart side hustle', 'saying goodbye…', 'How much iPhone box costs to make in USA vs. China', 'How she started a $10mil per year “side hustle”', 'Is Amazon Affiliate Marketing a Good Side Hustle?', 'I’m turning a meme page into a business', 'I bought a questionable pineapple…', 'I’m investing in $100 empty boxes #shorts #sponsored', 'I paid Fiverr to redesign my product packaging', 'I tried turning $21 into $100 in profit (30min challenge)', 'Taste testing the most expensive water on Amazon', 'I bought the most expensive water on Amazon', 'I tried going viral as a small brand', 'I’m building a sunglasses brand to compete with Rayban (ep.2)', 'I tried upgrading my money making hotspot (helium update PT.5)', 'Did this seller scam me with her rolex?', 'I tried finding profitable flips (ELON MUSK EDITION)', 'Surprising her with the cheapest rolex on eBay', 'Confronting the seller of the “cheapest rolex on ebay”', 'Is the cheapest rolex on eBay real?', 'I Bought The Cheapest Rolex On eBay', 'Unboxing the cheapest rolex on eBay', 'I bought the cheapest rolex on eBay…', 'Did I find real Yeezy slides?', 'I looked for profit in a RICH CITY thrift store', 'My Money Printing Tablet Farm Journey (How much I made)', 'I tried making money with unclaimed mail', 'Make this ONE change to 2x your eBay/Amazon sales', 'My sneaky plan to monetize my meme page…', 'I just UPGRADED my money making hotspot (helium update PT.4)', 'I tried finding profitable flips at Walmart (in a RICH city 💰)', 'I bought a Pokémon collection to flip for profit (AGAIN)', 'I tried making a pro commercial for under $500', 'I tried flipping sneakers from the Nike outlet', 'I tried finding profitable flips at Walmart AGAIN', 'I tried finding profitable flips at Goodwill…', 'Why I spent $3k on a full send metacard NFT (Nelk)', 'I upgraded my $ making hotspot (week 2 results)', 'What influencers actually get for free…', 'I tried starting a streetwear brand for $70', 'I spent $100 on Pokémon cards to flip for profit', 'I made a diamond play button out of paper', 'How much $ I’ve made helium mining (Week 1)', 'I tried finding profitable flips at Walmart…', 'I built a sunglasses brand to compete with Ray-Ban', 'I bought a wireless hotspot that makes me money', 'A multimillionaire CEO’s secret manufacturing tip', 'Ranking side hustles I’ve tried from worst to best', 'I paid Fiverr $30 and $120 to design NFT’s (comparison)', 'How I made my NFT chain (step by step)', 'How to grow $1k into $1mil online (what I did)', 'I made a chain so I can wear my NFT’s…', 'Why I’m not selling NFT’s ever again…', 'How I built a tablet farm that makes me money…', 'How much my Pokémon cards investment is worth 💰', 'I Paid Fiverr Video Editors To Make A Commercial', 'At 25yo I was doing $100k per month on eBay', 'How much I made selling dollar store items online…', 'My New Money Printing Tablet Farm', 'Trying to turn $0 into $10k from scratch 💰', 'I tried flipping NFTs… here’s how much I made.', 'I tried finding profitable sneakers at Kohl’s 😖', 'I got thumbnail advice from MrBeast 😏', 'How Yeti Charges $35 For A Cup…', 'The genius marketing behind NELK  Full Send…']\n"
     ]
    }
   ],
   "source": [
    "print(video_df_100_comments['video_title'].tolist())"
   ]
  },
  {
   "cell_type": "code",
   "execution_count": 69,
   "id": "6873302a",
   "metadata": {},
   "outputs": [],
   "source": [
    "video_df_100_comments.reset_index(inplace = True , drop = True)"
   ]
  },
  {
   "cell_type": "code",
   "execution_count": 72,
   "id": "6c293bd7",
   "metadata": {},
   "outputs": [
    {
     "name": "stderr",
     "output_type": "stream",
     "text": [
      "C:\\Users\\salaz\\AppData\\Local\\Temp\\ipykernel_3888\\2954583806.py:1: SettingWithCopyWarning: \n",
      "A value is trying to be set on a copy of a slice from a DataFrame\n",
      "\n",
      "See the caveats in the documentation: https://pandas.pydata.org/pandas-docs/stable/user_guide/indexing.html#returning-a-view-versus-a-copy\n",
      "  video_df_100_comments.drop('Unnamed: 0' , axis = 1 , inplace = True)\n"
     ]
    }
   ],
   "source": [
    "video_df_100_comments.drop('Unnamed: 0' , axis = 1 , inplace = True)"
   ]
  },
  {
   "cell_type": "code",
   "execution_count": 82,
   "id": "dd71e955",
   "metadata": {},
   "outputs": [
    {
     "name": "stderr",
     "output_type": "stream",
     "text": [
      "C:\\Users\\salaz\\AppData\\Local\\Temp\\ipykernel_3888\\2404169232.py:1: SettingWithCopyWarning: \n",
      "A value is trying to be set on a copy of a slice from a DataFrame.\n",
      "Try using .loc[row_indexer,col_indexer] = value instead\n",
      "\n",
      "See the caveats in the documentation: https://pandas.pydata.org/pandas-docs/stable/user_guide/indexing.html#returning-a-view-versus-a-copy\n",
      "  video_df_100_comments.loc[: , 'month'] = video_df_100_comments['upload_date'].dt.strftime(\"%m-%Y\")\n"
     ]
    },
    {
     "data": {
      "text/html": [
       "<div>\n",
       "<style scoped>\n",
       "    .dataframe tbody tr th:only-of-type {\n",
       "        vertical-align: middle;\n",
       "    }\n",
       "\n",
       "    .dataframe tbody tr th {\n",
       "        vertical-align: top;\n",
       "    }\n",
       "\n",
       "    .dataframe thead th {\n",
       "        text-align: right;\n",
       "    }\n",
       "</style>\n",
       "<table border=\"1\" class=\"dataframe\">\n",
       "  <thead>\n",
       "    <tr style=\"text-align: right;\">\n",
       "      <th></th>\n",
       "      <th>video_id</th>\n",
       "      <th>video_title</th>\n",
       "      <th>upload_date</th>\n",
       "      <th>view_count</th>\n",
       "      <th>like_count</th>\n",
       "      <th>comment_count</th>\n",
       "      <th>month</th>\n",
       "    </tr>\n",
       "  </thead>\n",
       "  <tbody>\n",
       "    <tr>\n",
       "      <th>0</th>\n",
       "      <td>DOtPOfeyJ4Q</td>\n",
       "      <td>Confronting the seller of a questionable Kobe ...</td>\n",
       "      <td>2022-11-02</td>\n",
       "      <td>781610</td>\n",
       "      <td>62761</td>\n",
       "      <td>447</td>\n",
       "      <td>11-2022</td>\n",
       "    </tr>\n",
       "    <tr>\n",
       "      <th>1</th>\n",
       "      <td>_DcZFOirIDE</td>\n",
       "      <td>Anyone need a new camera?</td>\n",
       "      <td>2022-11-01</td>\n",
       "      <td>40723</td>\n",
       "      <td>3162</td>\n",
       "      <td>3230</td>\n",
       "      <td>11-2022</td>\n",
       "    </tr>\n",
       "    <tr>\n",
       "      <th>2</th>\n",
       "      <td>pNbLkQV3OkQ</td>\n",
       "      <td>Is the cheapest Kobe autographed ball online r...</td>\n",
       "      <td>2022-10-26</td>\n",
       "      <td>2103937</td>\n",
       "      <td>141783</td>\n",
       "      <td>220</td>\n",
       "      <td>10-2022</td>\n",
       "    </tr>\n",
       "    <tr>\n",
       "      <th>3</th>\n",
       "      <td>DfapVOpJdks</td>\n",
       "      <td>How much gold I found in $100 Amazon pay dirt</td>\n",
       "      <td>2022-10-20</td>\n",
       "      <td>1835207</td>\n",
       "      <td>110940</td>\n",
       "      <td>606</td>\n",
       "      <td>10-2022</td>\n",
       "    </tr>\n",
       "    <tr>\n",
       "      <th>4</th>\n",
       "      <td>iwe3SuNkXbg</td>\n",
       "      <td>I bought $500 worth of G-Shock￼￼ watches</td>\n",
       "      <td>2022-10-14</td>\n",
       "      <td>1162979</td>\n",
       "      <td>75225</td>\n",
       "      <td>1536</td>\n",
       "      <td>10-2022</td>\n",
       "    </tr>\n",
       "    <tr>\n",
       "      <th>...</th>\n",
       "      <td>...</td>\n",
       "      <td>...</td>\n",
       "      <td>...</td>\n",
       "      <td>...</td>\n",
       "      <td>...</td>\n",
       "      <td>...</td>\n",
       "      <td>...</td>\n",
       "    </tr>\n",
       "    <tr>\n",
       "      <th>79</th>\n",
       "      <td>erni261z5wU</td>\n",
       "      <td>I tried flipping NFTs… here’s how much I made.</td>\n",
       "      <td>2021-10-27</td>\n",
       "      <td>4474616</td>\n",
       "      <td>168062</td>\n",
       "      <td>1917</td>\n",
       "      <td>10-2021</td>\n",
       "    </tr>\n",
       "    <tr>\n",
       "      <th>80</th>\n",
       "      <td>6hfjCpnlzDc</td>\n",
       "      <td>I tried finding profitable sneakers at Kohl’s 😖</td>\n",
       "      <td>2021-10-20</td>\n",
       "      <td>650797</td>\n",
       "      <td>39161</td>\n",
       "      <td>150</td>\n",
       "      <td>10-2021</td>\n",
       "    </tr>\n",
       "    <tr>\n",
       "      <th>81</th>\n",
       "      <td>2yn9Pa2W_3w</td>\n",
       "      <td>I got thumbnail advice from MrBeast 😏</td>\n",
       "      <td>2021-09-02</td>\n",
       "      <td>532261</td>\n",
       "      <td>45826</td>\n",
       "      <td>225</td>\n",
       "      <td>09-2021</td>\n",
       "    </tr>\n",
       "    <tr>\n",
       "      <th>82</th>\n",
       "      <td>pnOtEPg1GAE</td>\n",
       "      <td>How Yeti Charges $35 For A Cup…</td>\n",
       "      <td>2021-08-04</td>\n",
       "      <td>1038455</td>\n",
       "      <td>37628</td>\n",
       "      <td>691</td>\n",
       "      <td>08-2021</td>\n",
       "    </tr>\n",
       "    <tr>\n",
       "      <th>83</th>\n",
       "      <td>Hz4bcxs7Vms</td>\n",
       "      <td>The genius marketing behind NELK  Full Send…</td>\n",
       "      <td>2021-08-02</td>\n",
       "      <td>154792</td>\n",
       "      <td>4941</td>\n",
       "      <td>109</td>\n",
       "      <td>08-2021</td>\n",
       "    </tr>\n",
       "  </tbody>\n",
       "</table>\n",
       "<p>84 rows × 7 columns</p>\n",
       "</div>"
      ],
      "text/plain": [
       "       video_id                                        video_title  \\\n",
       "0   DOtPOfeyJ4Q  Confronting the seller of a questionable Kobe ...   \n",
       "1   _DcZFOirIDE                          Anyone need a new camera?   \n",
       "2   pNbLkQV3OkQ  Is the cheapest Kobe autographed ball online r...   \n",
       "3   DfapVOpJdks      How much gold I found in $100 Amazon pay dirt   \n",
       "4   iwe3SuNkXbg           I bought $500 worth of G-Shock￼￼ watches   \n",
       "..          ...                                                ...   \n",
       "79  erni261z5wU     I tried flipping NFTs… here’s how much I made.   \n",
       "80  6hfjCpnlzDc    I tried finding profitable sneakers at Kohl’s 😖   \n",
       "81  2yn9Pa2W_3w              I got thumbnail advice from MrBeast 😏   \n",
       "82  pnOtEPg1GAE                    How Yeti Charges $35 For A Cup…   \n",
       "83  Hz4bcxs7Vms       The genius marketing behind NELK  Full Send…   \n",
       "\n",
       "   upload_date  view_count  like_count  comment_count    month  \n",
       "0   2022-11-02      781610       62761            447  11-2022  \n",
       "1   2022-11-01       40723        3162           3230  11-2022  \n",
       "2   2022-10-26     2103937      141783            220  10-2022  \n",
       "3   2022-10-20     1835207      110940            606  10-2022  \n",
       "4   2022-10-14     1162979       75225           1536  10-2022  \n",
       "..         ...         ...         ...            ...      ...  \n",
       "79  2021-10-27     4474616      168062           1917  10-2021  \n",
       "80  2021-10-20      650797       39161            150  10-2021  \n",
       "81  2021-09-02      532261       45826            225  09-2021  \n",
       "82  2021-08-04     1038455       37628            691  08-2021  \n",
       "83  2021-08-02      154792        4941            109  08-2021  \n",
       "\n",
       "[84 rows x 7 columns]"
      ]
     },
     "execution_count": 82,
     "metadata": {},
     "output_type": "execute_result"
    }
   ],
   "source": [
    "video_df_100_comments['month'] = video_df_100_comments['upload_date'].dt.strftime(\"%m-%Y\")\n",
    "video_df_100_comments"
   ]
  },
  {
   "cell_type": "code",
   "execution_count": 83,
   "id": "65eb494f",
   "metadata": {},
   "outputs": [
    {
     "data": {
      "text/html": [
       "<div>\n",
       "<style scoped>\n",
       "    .dataframe tbody tr th:only-of-type {\n",
       "        vertical-align: middle;\n",
       "    }\n",
       "\n",
       "    .dataframe tbody tr th {\n",
       "        vertical-align: top;\n",
       "    }\n",
       "\n",
       "    .dataframe thead th {\n",
       "        text-align: right;\n",
       "    }\n",
       "</style>\n",
       "<table border=\"1\" class=\"dataframe\">\n",
       "  <thead>\n",
       "    <tr style=\"text-align: right;\">\n",
       "      <th></th>\n",
       "      <th>video_id</th>\n",
       "      <th>video_title</th>\n",
       "      <th>upload_date</th>\n",
       "      <th>view_count</th>\n",
       "      <th>like_count</th>\n",
       "      <th>comment_count</th>\n",
       "      <th>month</th>\n",
       "    </tr>\n",
       "  </thead>\n",
       "  <tbody>\n",
       "    <tr>\n",
       "      <th>0</th>\n",
       "      <td>DOtPOfeyJ4Q</td>\n",
       "      <td>Confronting the seller of a questionable Kobe ...</td>\n",
       "      <td>2022-11-02</td>\n",
       "      <td>781610</td>\n",
       "      <td>62761</td>\n",
       "      <td>447</td>\n",
       "      <td>11-2022</td>\n",
       "    </tr>\n",
       "    <tr>\n",
       "      <th>1</th>\n",
       "      <td>_DcZFOirIDE</td>\n",
       "      <td>Anyone need a new camera?</td>\n",
       "      <td>2022-11-01</td>\n",
       "      <td>40723</td>\n",
       "      <td>3162</td>\n",
       "      <td>3230</td>\n",
       "      <td>11-2022</td>\n",
       "    </tr>\n",
       "    <tr>\n",
       "      <th>2</th>\n",
       "      <td>pNbLkQV3OkQ</td>\n",
       "      <td>Is the cheapest Kobe autographed ball online r...</td>\n",
       "      <td>2022-10-26</td>\n",
       "      <td>2103937</td>\n",
       "      <td>141783</td>\n",
       "      <td>220</td>\n",
       "      <td>10-2022</td>\n",
       "    </tr>\n",
       "    <tr>\n",
       "      <th>3</th>\n",
       "      <td>DfapVOpJdks</td>\n",
       "      <td>How much gold I found in $100 Amazon pay dirt</td>\n",
       "      <td>2022-10-20</td>\n",
       "      <td>1835207</td>\n",
       "      <td>110940</td>\n",
       "      <td>606</td>\n",
       "      <td>10-2022</td>\n",
       "    </tr>\n",
       "    <tr>\n",
       "      <th>4</th>\n",
       "      <td>iwe3SuNkXbg</td>\n",
       "      <td>I bought $500 worth of G-Shock￼￼ watches</td>\n",
       "      <td>2022-10-14</td>\n",
       "      <td>1162979</td>\n",
       "      <td>75225</td>\n",
       "      <td>1536</td>\n",
       "      <td>10-2022</td>\n",
       "    </tr>\n",
       "    <tr>\n",
       "      <th>...</th>\n",
       "      <td>...</td>\n",
       "      <td>...</td>\n",
       "      <td>...</td>\n",
       "      <td>...</td>\n",
       "      <td>...</td>\n",
       "      <td>...</td>\n",
       "      <td>...</td>\n",
       "    </tr>\n",
       "    <tr>\n",
       "      <th>79</th>\n",
       "      <td>erni261z5wU</td>\n",
       "      <td>I tried flipping NFTs… here’s how much I made.</td>\n",
       "      <td>2021-10-27</td>\n",
       "      <td>4474616</td>\n",
       "      <td>168062</td>\n",
       "      <td>1917</td>\n",
       "      <td>10-2021</td>\n",
       "    </tr>\n",
       "    <tr>\n",
       "      <th>80</th>\n",
       "      <td>6hfjCpnlzDc</td>\n",
       "      <td>I tried finding profitable sneakers at Kohl’s 😖</td>\n",
       "      <td>2021-10-20</td>\n",
       "      <td>650797</td>\n",
       "      <td>39161</td>\n",
       "      <td>150</td>\n",
       "      <td>10-2021</td>\n",
       "    </tr>\n",
       "    <tr>\n",
       "      <th>81</th>\n",
       "      <td>2yn9Pa2W_3w</td>\n",
       "      <td>I got thumbnail advice from MrBeast 😏</td>\n",
       "      <td>2021-09-02</td>\n",
       "      <td>532261</td>\n",
       "      <td>45826</td>\n",
       "      <td>225</td>\n",
       "      <td>09-2021</td>\n",
       "    </tr>\n",
       "    <tr>\n",
       "      <th>82</th>\n",
       "      <td>pnOtEPg1GAE</td>\n",
       "      <td>How Yeti Charges $35 For A Cup…</td>\n",
       "      <td>2021-08-04</td>\n",
       "      <td>1038455</td>\n",
       "      <td>37628</td>\n",
       "      <td>691</td>\n",
       "      <td>08-2021</td>\n",
       "    </tr>\n",
       "    <tr>\n",
       "      <th>83</th>\n",
       "      <td>Hz4bcxs7Vms</td>\n",
       "      <td>The genius marketing behind NELK  Full Send…</td>\n",
       "      <td>2021-08-02</td>\n",
       "      <td>154792</td>\n",
       "      <td>4941</td>\n",
       "      <td>109</td>\n",
       "      <td>08-2021</td>\n",
       "    </tr>\n",
       "  </tbody>\n",
       "</table>\n",
       "<p>84 rows × 7 columns</p>\n",
       "</div>"
      ],
      "text/plain": [
       "       video_id                                        video_title  \\\n",
       "0   DOtPOfeyJ4Q  Confronting the seller of a questionable Kobe ...   \n",
       "1   _DcZFOirIDE                          Anyone need a new camera?   \n",
       "2   pNbLkQV3OkQ  Is the cheapest Kobe autographed ball online r...   \n",
       "3   DfapVOpJdks      How much gold I found in $100 Amazon pay dirt   \n",
       "4   iwe3SuNkXbg           I bought $500 worth of G-Shock￼￼ watches   \n",
       "..          ...                                                ...   \n",
       "79  erni261z5wU     I tried flipping NFTs… here’s how much I made.   \n",
       "80  6hfjCpnlzDc    I tried finding profitable sneakers at Kohl’s 😖   \n",
       "81  2yn9Pa2W_3w              I got thumbnail advice from MrBeast 😏   \n",
       "82  pnOtEPg1GAE                    How Yeti Charges $35 For A Cup…   \n",
       "83  Hz4bcxs7Vms       The genius marketing behind NELK  Full Send…   \n",
       "\n",
       "   upload_date  view_count  like_count  comment_count    month  \n",
       "0   2022-11-02      781610       62761            447  11-2022  \n",
       "1   2022-11-01       40723        3162           3230  11-2022  \n",
       "2   2022-10-26     2103937      141783            220  10-2022  \n",
       "3   2022-10-20     1835207      110940            606  10-2022  \n",
       "4   2022-10-14     1162979       75225           1536  10-2022  \n",
       "..         ...         ...         ...            ...      ...  \n",
       "79  2021-10-27     4474616      168062           1917  10-2021  \n",
       "80  2021-10-20      650797       39161            150  10-2021  \n",
       "81  2021-09-02      532261       45826            225  09-2021  \n",
       "82  2021-08-04     1038455       37628            691  08-2021  \n",
       "83  2021-08-02      154792        4941            109  08-2021  \n",
       "\n",
       "[84 rows x 7 columns]"
      ]
     },
     "execution_count": 83,
     "metadata": {},
     "output_type": "execute_result"
    }
   ],
   "source": [
    "video_df_100_comments"
   ]
  },
  {
   "cell_type": "code",
   "execution_count": 100,
   "id": "6c983f8b",
   "metadata": {},
   "outputs": [],
   "source": [
    "month_comments_df = pd.DataFrame(video_df_100_comments.groupby('month')['comment_count'].mean())\n",
    "month_comments_df.index = pd.to_datetime(month_comments_df.index)\n",
    "month_comments_df.sort_index(ascending = True , inplace = True)"
   ]
  },
  {
   "cell_type": "code",
   "execution_count": 103,
   "id": "01c6d999",
   "metadata": {},
   "outputs": [
    {
     "ename": "ConversionError",
     "evalue": "Failed to convert value(s) to axis units: Index(['08-2021', '09-2021', '10-2021', '01-2022', '02-2022', '03-2022',\n       '04-2022', '05-2022', '06-2022', '07-2022', '08-2022', '09-2022',\n       '10-2022', '11-2022'],\n      dtype='object', name='month')",
     "output_type": "error",
     "traceback": [
      "\u001b[1;31m---------------------------------------------------------------------------\u001b[0m",
      "\u001b[1;31mValueError\u001b[0m                                Traceback (most recent call last)",
      "File \u001b[1;32m~\\anaconda3\\lib\\site-packages\\matplotlib\\axis.py:1506\u001b[0m, in \u001b[0;36mAxis.convert_units\u001b[1;34m(self, x)\u001b[0m\n\u001b[0;32m   1505\u001b[0m \u001b[38;5;28;01mtry\u001b[39;00m:\n\u001b[1;32m-> 1506\u001b[0m     ret \u001b[38;5;241m=\u001b[39m \u001b[38;5;28;43mself\u001b[39;49m\u001b[38;5;241;43m.\u001b[39;49m\u001b[43mconverter\u001b[49m\u001b[38;5;241;43m.\u001b[39;49m\u001b[43mconvert\u001b[49m\u001b[43m(\u001b[49m\u001b[43mx\u001b[49m\u001b[43m,\u001b[49m\u001b[43m \u001b[49m\u001b[38;5;28;43mself\u001b[39;49m\u001b[38;5;241;43m.\u001b[39;49m\u001b[43munits\u001b[49m\u001b[43m,\u001b[49m\u001b[43m \u001b[49m\u001b[38;5;28;43mself\u001b[39;49m\u001b[43m)\u001b[49m\n\u001b[0;32m   1507\u001b[0m \u001b[38;5;28;01mexcept\u001b[39;00m \u001b[38;5;167;01mException\u001b[39;00m \u001b[38;5;28;01mas\u001b[39;00m e:\n",
      "File \u001b[1;32m~\\anaconda3\\lib\\site-packages\\matplotlib\\category.py:49\u001b[0m, in \u001b[0;36mStrCategoryConverter.convert\u001b[1;34m(value, unit, axis)\u001b[0m\n\u001b[0;32m     48\u001b[0m \u001b[38;5;28;01mif\u001b[39;00m unit \u001b[38;5;129;01mis\u001b[39;00m \u001b[38;5;28;01mNone\u001b[39;00m:\n\u001b[1;32m---> 49\u001b[0m     \u001b[38;5;28;01mraise\u001b[39;00m \u001b[38;5;167;01mValueError\u001b[39;00m(\n\u001b[0;32m     50\u001b[0m         \u001b[38;5;124m'\u001b[39m\u001b[38;5;124mMissing category information for StrCategoryConverter; \u001b[39m\u001b[38;5;124m'\u001b[39m\n\u001b[0;32m     51\u001b[0m         \u001b[38;5;124m'\u001b[39m\u001b[38;5;124mthis might be caused by unintendedly mixing categorical and \u001b[39m\u001b[38;5;124m'\u001b[39m\n\u001b[0;32m     52\u001b[0m         \u001b[38;5;124m'\u001b[39m\u001b[38;5;124mnumeric data\u001b[39m\u001b[38;5;124m'\u001b[39m)\n\u001b[0;32m     53\u001b[0m StrCategoryConverter\u001b[38;5;241m.\u001b[39m_validate_unit(unit)\n",
      "\u001b[1;31mValueError\u001b[0m: Missing category information for StrCategoryConverter; this might be caused by unintendedly mixing categorical and numeric data",
      "\nThe above exception was the direct cause of the following exception:\n",
      "\u001b[1;31mConversionError\u001b[0m                           Traceback (most recent call last)",
      "Input \u001b[1;32mIn [103]\u001b[0m, in \u001b[0;36m<cell line: 3>\u001b[1;34m()\u001b[0m\n\u001b[0;32m      1\u001b[0m month_comments_df\u001b[38;5;241m.\u001b[39mplot(kind \u001b[38;5;241m=\u001b[39m \u001b[38;5;124m'\u001b[39m\u001b[38;5;124mbar\u001b[39m\u001b[38;5;124m'\u001b[39m)\n\u001b[0;32m      2\u001b[0m plt\u001b[38;5;241m.\u001b[39mxlabel(\u001b[38;5;124m'\u001b[39m\u001b[38;5;124m'\u001b[39m)\n\u001b[1;32m----> 3\u001b[0m \u001b[43mplt\u001b[49m\u001b[38;5;241;43m.\u001b[39;49m\u001b[43mxticks\u001b[49m\u001b[43m(\u001b[49m\u001b[43mmonth_comments_df\u001b[49m\u001b[38;5;241;43m.\u001b[39;49m\u001b[43mindex\u001b[49m\u001b[38;5;241;43m.\u001b[39;49m\u001b[43mstrftime\u001b[49m\u001b[43m(\u001b[49m\u001b[38;5;124;43m\"\u001b[39;49m\u001b[38;5;124;43m%\u001b[39;49m\u001b[38;5;124;43mm-\u001b[39;49m\u001b[38;5;124;43m%\u001b[39;49m\u001b[38;5;124;43mY\u001b[39;49m\u001b[38;5;124;43m\"\u001b[39;49m\u001b[43m)\u001b[49m\u001b[43m)\u001b[49m\n",
      "File \u001b[1;32m~\\anaconda3\\lib\\site-packages\\matplotlib\\pyplot.py:1788\u001b[0m, in \u001b[0;36mxticks\u001b[1;34m(ticks, labels, **kwargs)\u001b[0m\n\u001b[0;32m   1785\u001b[0m         \u001b[38;5;28;01mraise\u001b[39;00m \u001b[38;5;167;01mTypeError\u001b[39;00m(\u001b[38;5;124m\"\u001b[39m\u001b[38;5;124mxticks(): Parameter \u001b[39m\u001b[38;5;124m'\u001b[39m\u001b[38;5;124mlabels\u001b[39m\u001b[38;5;124m'\u001b[39m\u001b[38;5;124m can\u001b[39m\u001b[38;5;124m'\u001b[39m\u001b[38;5;124mt be set \u001b[39m\u001b[38;5;124m\"\u001b[39m\n\u001b[0;32m   1786\u001b[0m                         \u001b[38;5;124m\"\u001b[39m\u001b[38;5;124mwithout setting \u001b[39m\u001b[38;5;124m'\u001b[39m\u001b[38;5;124mticks\u001b[39m\u001b[38;5;124m'\u001b[39m\u001b[38;5;124m\"\u001b[39m)\n\u001b[0;32m   1787\u001b[0m \u001b[38;5;28;01melse\u001b[39;00m:\n\u001b[1;32m-> 1788\u001b[0m     locs \u001b[38;5;241m=\u001b[39m \u001b[43max\u001b[49m\u001b[38;5;241;43m.\u001b[39;49m\u001b[43mset_xticks\u001b[49m\u001b[43m(\u001b[49m\u001b[43mticks\u001b[49m\u001b[43m)\u001b[49m\n\u001b[0;32m   1790\u001b[0m \u001b[38;5;28;01mif\u001b[39;00m labels \u001b[38;5;129;01mis\u001b[39;00m \u001b[38;5;28;01mNone\u001b[39;00m:\n\u001b[0;32m   1791\u001b[0m     labels \u001b[38;5;241m=\u001b[39m ax\u001b[38;5;241m.\u001b[39mget_xticklabels()\n",
      "File \u001b[1;32m~\\anaconda3\\lib\\site-packages\\matplotlib\\axes\\_base.py:75\u001b[0m, in \u001b[0;36m_axis_method_wrapper.__set_name__.<locals>.wrapper\u001b[1;34m(self, *args, **kwargs)\u001b[0m\n\u001b[0;32m     74\u001b[0m \u001b[38;5;28;01mdef\u001b[39;00m \u001b[38;5;21mwrapper\u001b[39m(\u001b[38;5;28mself\u001b[39m, \u001b[38;5;241m*\u001b[39margs, \u001b[38;5;241m*\u001b[39m\u001b[38;5;241m*\u001b[39mkwargs):\n\u001b[1;32m---> 75\u001b[0m     \u001b[38;5;28;01mreturn\u001b[39;00m \u001b[43mget_method\u001b[49m\u001b[43m(\u001b[49m\u001b[38;5;28;43mself\u001b[39;49m\u001b[43m)\u001b[49m\u001b[43m(\u001b[49m\u001b[38;5;241;43m*\u001b[39;49m\u001b[43margs\u001b[49m\u001b[43m,\u001b[49m\u001b[43m \u001b[49m\u001b[38;5;241;43m*\u001b[39;49m\u001b[38;5;241;43m*\u001b[39;49m\u001b[43mkwargs\u001b[49m\u001b[43m)\u001b[49m\n",
      "File \u001b[1;32m~\\anaconda3\\lib\\site-packages\\matplotlib\\axis.py:1855\u001b[0m, in \u001b[0;36mAxis.set_ticks\u001b[1;34m(self, ticks, labels, minor, **kwargs)\u001b[0m\n\u001b[0;32m   1829\u001b[0m \u001b[38;5;28;01mdef\u001b[39;00m \u001b[38;5;21mset_ticks\u001b[39m(\u001b[38;5;28mself\u001b[39m, ticks, labels\u001b[38;5;241m=\u001b[39m\u001b[38;5;28;01mNone\u001b[39;00m, \u001b[38;5;241m*\u001b[39m, minor\u001b[38;5;241m=\u001b[39m\u001b[38;5;28;01mFalse\u001b[39;00m, \u001b[38;5;241m*\u001b[39m\u001b[38;5;241m*\u001b[39mkwargs):\n\u001b[0;32m   1830\u001b[0m     \u001b[38;5;124;03m\"\"\"\u001b[39;00m\n\u001b[0;32m   1831\u001b[0m \u001b[38;5;124;03m    Set this Axis' tick locations and optionally labels.\u001b[39;00m\n\u001b[0;32m   1832\u001b[0m \n\u001b[1;32m   (...)\u001b[0m\n\u001b[0;32m   1853\u001b[0m \u001b[38;5;124;03m    ticks.\u001b[39;00m\n\u001b[0;32m   1854\u001b[0m \u001b[38;5;124;03m    \"\"\"\u001b[39;00m\n\u001b[1;32m-> 1855\u001b[0m     result \u001b[38;5;241m=\u001b[39m \u001b[38;5;28;43mself\u001b[39;49m\u001b[38;5;241;43m.\u001b[39;49m\u001b[43m_set_tick_locations\u001b[49m\u001b[43m(\u001b[49m\u001b[43mticks\u001b[49m\u001b[43m,\u001b[49m\u001b[43m \u001b[49m\u001b[43mminor\u001b[49m\u001b[38;5;241;43m=\u001b[39;49m\u001b[43mminor\u001b[49m\u001b[43m)\u001b[49m\n\u001b[0;32m   1856\u001b[0m     \u001b[38;5;28;01mif\u001b[39;00m labels \u001b[38;5;129;01mis\u001b[39;00m \u001b[38;5;129;01mnot\u001b[39;00m \u001b[38;5;28;01mNone\u001b[39;00m:\n\u001b[0;32m   1857\u001b[0m         \u001b[38;5;28mself\u001b[39m\u001b[38;5;241m.\u001b[39mset_ticklabels(labels, minor\u001b[38;5;241m=\u001b[39mminor, \u001b[38;5;241m*\u001b[39m\u001b[38;5;241m*\u001b[39mkwargs)\n",
      "File \u001b[1;32m~\\anaconda3\\lib\\site-packages\\matplotlib\\axis.py:1804\u001b[0m, in \u001b[0;36mAxis._set_tick_locations\u001b[1;34m(self, ticks, minor)\u001b[0m\n\u001b[0;32m   1800\u001b[0m \u001b[38;5;28;01mdef\u001b[39;00m \u001b[38;5;21m_set_tick_locations\u001b[39m(\u001b[38;5;28mself\u001b[39m, ticks, \u001b[38;5;241m*\u001b[39m, minor\u001b[38;5;241m=\u001b[39m\u001b[38;5;28;01mFalse\u001b[39;00m):\n\u001b[0;32m   1801\u001b[0m     \u001b[38;5;66;03m# see docstring of set_ticks\u001b[39;00m\n\u001b[0;32m   1802\u001b[0m \n\u001b[0;32m   1803\u001b[0m     \u001b[38;5;66;03m# XXX if the user changes units, the information will be lost here\u001b[39;00m\n\u001b[1;32m-> 1804\u001b[0m     ticks \u001b[38;5;241m=\u001b[39m \u001b[38;5;28;43mself\u001b[39;49m\u001b[38;5;241;43m.\u001b[39;49m\u001b[43mconvert_units\u001b[49m\u001b[43m(\u001b[49m\u001b[43mticks\u001b[49m\u001b[43m)\u001b[49m\n\u001b[0;32m   1805\u001b[0m     \u001b[38;5;28;01mfor\u001b[39;00m name, axis \u001b[38;5;129;01min\u001b[39;00m \u001b[38;5;28mself\u001b[39m\u001b[38;5;241m.\u001b[39maxes\u001b[38;5;241m.\u001b[39m_get_axis_map()\u001b[38;5;241m.\u001b[39mitems():\n\u001b[0;32m   1806\u001b[0m         \u001b[38;5;28;01mif\u001b[39;00m \u001b[38;5;28mself\u001b[39m \u001b[38;5;129;01mis\u001b[39;00m axis:\n",
      "File \u001b[1;32m~\\anaconda3\\lib\\site-packages\\matplotlib\\axis.py:1508\u001b[0m, in \u001b[0;36mAxis.convert_units\u001b[1;34m(self, x)\u001b[0m\n\u001b[0;32m   1506\u001b[0m     ret \u001b[38;5;241m=\u001b[39m \u001b[38;5;28mself\u001b[39m\u001b[38;5;241m.\u001b[39mconverter\u001b[38;5;241m.\u001b[39mconvert(x, \u001b[38;5;28mself\u001b[39m\u001b[38;5;241m.\u001b[39munits, \u001b[38;5;28mself\u001b[39m)\n\u001b[0;32m   1507\u001b[0m \u001b[38;5;28;01mexcept\u001b[39;00m \u001b[38;5;167;01mException\u001b[39;00m \u001b[38;5;28;01mas\u001b[39;00m e:\n\u001b[1;32m-> 1508\u001b[0m     \u001b[38;5;28;01mraise\u001b[39;00m munits\u001b[38;5;241m.\u001b[39mConversionError(\u001b[38;5;124m'\u001b[39m\u001b[38;5;124mFailed to convert value(s) to axis \u001b[39m\u001b[38;5;124m'\u001b[39m\n\u001b[0;32m   1509\u001b[0m                                  \u001b[38;5;124mf\u001b[39m\u001b[38;5;124m'\u001b[39m\u001b[38;5;124munits: \u001b[39m\u001b[38;5;132;01m{\u001b[39;00mx\u001b[38;5;132;01m!r}\u001b[39;00m\u001b[38;5;124m'\u001b[39m) \u001b[38;5;28;01mfrom\u001b[39;00m \u001b[38;5;21;01me\u001b[39;00m\n\u001b[0;32m   1510\u001b[0m \u001b[38;5;28;01mreturn\u001b[39;00m ret\n",
      "\u001b[1;31mConversionError\u001b[0m: Failed to convert value(s) to axis units: Index(['08-2021', '09-2021', '10-2021', '01-2022', '02-2022', '03-2022',\n       '04-2022', '05-2022', '06-2022', '07-2022', '08-2022', '09-2022',\n       '10-2022', '11-2022'],\n      dtype='object', name='month')"
     ]
    },
    {
     "data": {
      "image/png": "[encoded data removed]",
      "text/plain": [
       "<Figure size 432x288 with 1 Axes>"
      ]
     },
     "metadata": {
      "needs_background": "light"
     },
     "output_type": "display_data"
    }
   ],
   "source": [
    "month_comments_df.plot(kind = 'bar')\n",
    "plt.xlabel('')\n",
    "plt.xticks();"
   ]
  },
  {
   "cell_type": "code",
   "execution_count": null,
   "id": "ee37ae40",
   "metadata": {},
   "outputs": [],
   "source": []
  }
 ],
 "metadata": {
  "kernelspec": {
   "display_name": "Python 3 (ipykernel)",
   "language": "python",
   "name": "python3"
  },
  "language_info": {
   "codemirror_mode": {
    "name": "ipython",
    "version": 3
   },
   "file_extension": ".py",
   "mimetype": "text/x-python",
   "name": "python",
   "nbconvert_exporter": "python",
   "pygments_lexer": "ipython3",
   "version": "3.8.8"
  }
 },
 "nbformat": 4,
 "nbformat_minor": 5
}
