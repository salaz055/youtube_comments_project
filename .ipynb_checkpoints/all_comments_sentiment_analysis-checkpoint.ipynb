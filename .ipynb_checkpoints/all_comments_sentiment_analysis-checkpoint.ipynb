{
 "cells": [
  {
   "cell_type": "code",
   "execution_count": 2,
   "id": "234eb58c",
   "metadata": {},
   "outputs": [
    {
     "data": {
      "text/html": [
       "<div>\n",
       "<style scoped>\n",
       "    .dataframe tbody tr th:only-of-type {\n",
       "        vertical-align: middle;\n",
       "    }\n",
       "\n",
       "    .dataframe tbody tr th {\n",
       "        vertical-align: top;\n",
       "    }\n",
       "\n",
       "    .dataframe thead th {\n",
       "        text-align: right;\n",
       "    }\n",
       "</style>\n",
       "<table border=\"1\" class=\"dataframe\">\n",
       "  <thead>\n",
       "    <tr style=\"text-align: right;\">\n",
       "      <th></th>\n",
       "      <th>Video Id</th>\n",
       "      <th>text</th>\n",
       "      <th>time</th>\n",
       "      <th>displayID</th>\n",
       "      <th>id</th>\n",
       "    </tr>\n",
       "  </thead>\n",
       "  <tbody>\n",
       "    <tr>\n",
       "      <th>0</th>\n",
       "      <td>DOtPOfeyJ4Q</td>\n",
       "      <td>Don't send it back. This video is a gem. Bro, ...</td>\n",
       "      <td>2022-11-04T15:41:35Z</td>\n",
       "      <td>Tim Gibson</td>\n",
       "      <td>UC8DCyaImyGP2jrJOdD64Efg</td>\n",
       "    </tr>\n",
       "    <tr>\n",
       "      <th>1</th>\n",
       "      <td>DOtPOfeyJ4Q</td>\n",
       "      <td>Hes not scamming his sister probably got it fo...</td>\n",
       "      <td>2022-11-04T15:04:13Z</td>\n",
       "      <td>The guy who asked</td>\n",
       "      <td>UCNijoEJw5z3p4689tey5oYw</td>\n",
       "    </tr>\n",
       "    <tr>\n",
       "      <th>2</th>\n",
       "      <td>DOtPOfeyJ4Q</td>\n",
       "      <td>He offered your money back definitely not a sc...</td>\n",
       "      <td>2022-11-04T14:57:57Z</td>\n",
       "      <td>F.B.I</td>\n",
       "      <td>UCXbuhDqmdm_M8UEOrQ77w6w</td>\n",
       "    </tr>\n",
       "    <tr>\n",
       "      <th>3</th>\n",
       "      <td>DOtPOfeyJ4Q</td>\n",
       "      <td>Isn’t it hard authenticate a signature. If Kob...</td>\n",
       "      <td>2022-11-04T14:54:47Z</td>\n",
       "      <td>Olti Hajdaraj</td>\n",
       "      <td>UCPOYMbZKAIN39YFsvMTZ-Uw</td>\n",
       "    </tr>\n",
       "    <tr>\n",
       "      <th>4</th>\n",
       "      <td>DOtPOfeyJ4Q</td>\n",
       "      <td>He answered the phone, definitely not trying t...</td>\n",
       "      <td>2022-11-04T14:49:10Z</td>\n",
       "      <td>Jordan</td>\n",
       "      <td>UCga1Isau1iPAlrezA6xoYSQ</td>\n",
       "    </tr>\n",
       "  </tbody>\n",
       "</table>\n",
       "</div>"
      ],
      "text/plain": [
       "      Video Id                                               text  \\\n",
       "0  DOtPOfeyJ4Q  Don't send it back. This video is a gem. Bro, ...   \n",
       "1  DOtPOfeyJ4Q  Hes not scamming his sister probably got it fo...   \n",
       "2  DOtPOfeyJ4Q  He offered your money back definitely not a sc...   \n",
       "3  DOtPOfeyJ4Q  Isn’t it hard authenticate a signature. If Kob...   \n",
       "4  DOtPOfeyJ4Q  He answered the phone, definitely not trying t...   \n",
       "\n",
       "                   time          displayID                        id  \n",
       "0  2022-11-04T15:41:35Z         Tim Gibson  UC8DCyaImyGP2jrJOdD64Efg  \n",
       "1  2022-11-04T15:04:13Z  The guy who asked  UCNijoEJw5z3p4689tey5oYw  \n",
       "2  2022-11-04T14:57:57Z              F.B.I  UCXbuhDqmdm_M8UEOrQ77w6w  \n",
       "3  2022-11-04T14:54:47Z      Olti Hajdaraj  UCPOYMbZKAIN39YFsvMTZ-Uw  \n",
       "4  2022-11-04T14:49:10Z             Jordan  UCga1Isau1iPAlrezA6xoYSQ  "
      ]
     },
     "execution_count": 2,
     "metadata": {},
     "output_type": "execute_result"
    }
   ],
   "source": [
    "import pandas as pd\n",
    "import numpy as np\n",
    "import matplotlib.pyplot as plt\n",
    "import seaborn as sns\n",
    "import nltk\n",
    "from nltk.sentiment import SentimentIntensityAnalyzer\n",
    "from transformers import pipeline, AutoModelForTokenClassification, AutoTokenizer\n",
    "\n",
    "df = pd.read_csv(\"data/comments_df_11-4-2022.csv\")\n",
    "df.head()"
   ]
  },
  {
   "cell_type": "code",
   "execution_count": 5,
   "id": "9251da5c",
   "metadata": {},
   "outputs": [],
   "source": [
    "df.rename({'text' : 'comment'} , axis = 1 , inplace = True)"
   ]
  },
  {
   "cell_type": "code",
   "execution_count": 10,
   "id": "b435cf8d",
   "metadata": {},
   "outputs": [
    {
     "data": {
      "text/plain": [
       "(58553, 5)"
      ]
     },
     "execution_count": 10,
     "metadata": {},
     "output_type": "execute_result"
    }
   ],
   "source": [
    "df.dropna(inplace = True)\n",
    "df.shape"
   ]
  },
  {
   "cell_type": "markdown",
   "id": "c32d608d",
   "metadata": {},
   "source": [
    "## Analyzing Comment length"
   ]
  },
  {
   "cell_type": "code",
   "execution_count": 11,
   "id": "30455bbe",
   "metadata": {},
   "outputs": [
    {
     "data": {
      "text/html": [
       "<div>\n",
       "<style scoped>\n",
       "    .dataframe tbody tr th:only-of-type {\n",
       "        vertical-align: middle;\n",
       "    }\n",
       "\n",
       "    .dataframe tbody tr th {\n",
       "        vertical-align: top;\n",
       "    }\n",
       "\n",
       "    .dataframe thead th {\n",
       "        text-align: right;\n",
       "    }\n",
       "</style>\n",
       "<table border=\"1\" class=\"dataframe\">\n",
       "  <thead>\n",
       "    <tr style=\"text-align: right;\">\n",
       "      <th></th>\n",
       "      <th>Video Id</th>\n",
       "      <th>comment</th>\n",
       "      <th>time</th>\n",
       "      <th>displayID</th>\n",
       "      <th>id</th>\n",
       "      <th>comment_length</th>\n",
       "    </tr>\n",
       "  </thead>\n",
       "  <tbody>\n",
       "    <tr>\n",
       "      <th>0</th>\n",
       "      <td>DOtPOfeyJ4Q</td>\n",
       "      <td>Don't send it back. This video is a gem. Bro, ...</td>\n",
       "      <td>2022-11-04T15:41:35Z</td>\n",
       "      <td>Tim Gibson</td>\n",
       "      <td>UC8DCyaImyGP2jrJOdD64Efg</td>\n",
       "      <td>45</td>\n",
       "    </tr>\n",
       "    <tr>\n",
       "      <th>1</th>\n",
       "      <td>DOtPOfeyJ4Q</td>\n",
       "      <td>Hes not scamming his sister probably got it fo...</td>\n",
       "      <td>2022-11-04T15:04:13Z</td>\n",
       "      <td>The guy who asked</td>\n",
       "      <td>UCNijoEJw5z3p4689tey5oYw</td>\n",
       "      <td>17</td>\n",
       "    </tr>\n",
       "    <tr>\n",
       "      <th>2</th>\n",
       "      <td>DOtPOfeyJ4Q</td>\n",
       "      <td>He offered your money back definitely not a sc...</td>\n",
       "      <td>2022-11-04T14:57:57Z</td>\n",
       "      <td>F.B.I</td>\n",
       "      <td>UCXbuhDqmdm_M8UEOrQ77w6w</td>\n",
       "      <td>26</td>\n",
       "    </tr>\n",
       "    <tr>\n",
       "      <th>3</th>\n",
       "      <td>DOtPOfeyJ4Q</td>\n",
       "      <td>Isn’t it hard authenticate a signature. If Kob...</td>\n",
       "      <td>2022-11-04T14:54:47Z</td>\n",
       "      <td>Olti Hajdaraj</td>\n",
       "      <td>UCPOYMbZKAIN39YFsvMTZ-Uw</td>\n",
       "      <td>21</td>\n",
       "    </tr>\n",
       "    <tr>\n",
       "      <th>4</th>\n",
       "      <td>DOtPOfeyJ4Q</td>\n",
       "      <td>He answered the phone, definitely not trying t...</td>\n",
       "      <td>2022-11-04T14:49:10Z</td>\n",
       "      <td>Jordan</td>\n",
       "      <td>UCga1Isau1iPAlrezA6xoYSQ</td>\n",
       "      <td>13</td>\n",
       "    </tr>\n",
       "  </tbody>\n",
       "</table>\n",
       "</div>"
      ],
      "text/plain": [
       "      Video Id                                            comment  \\\n",
       "0  DOtPOfeyJ4Q  Don't send it back. This video is a gem. Bro, ...   \n",
       "1  DOtPOfeyJ4Q  Hes not scamming his sister probably got it fo...   \n",
       "2  DOtPOfeyJ4Q  He offered your money back definitely not a sc...   \n",
       "3  DOtPOfeyJ4Q  Isn’t it hard authenticate a signature. If Kob...   \n",
       "4  DOtPOfeyJ4Q  He answered the phone, definitely not trying t...   \n",
       "\n",
       "                   time          displayID                        id  \\\n",
       "0  2022-11-04T15:41:35Z         Tim Gibson  UC8DCyaImyGP2jrJOdD64Efg   \n",
       "1  2022-11-04T15:04:13Z  The guy who asked  UCNijoEJw5z3p4689tey5oYw   \n",
       "2  2022-11-04T14:57:57Z              F.B.I  UCXbuhDqmdm_M8UEOrQ77w6w   \n",
       "3  2022-11-04T14:54:47Z      Olti Hajdaraj  UCPOYMbZKAIN39YFsvMTZ-Uw   \n",
       "4  2022-11-04T14:49:10Z             Jordan  UCga1Isau1iPAlrezA6xoYSQ   \n",
       "\n",
       "   comment_length  \n",
       "0              45  \n",
       "1              17  \n",
       "2              26  \n",
       "3              21  \n",
       "4              13  "
      ]
     },
     "execution_count": 11,
     "metadata": {},
     "output_type": "execute_result"
    }
   ],
   "source": [
    "def comment_length(comment):\n",
    "    return len(comment.split(' '))\n",
    "\n",
    "df['comment_length'] = df['comment'].apply(comment_length)\n",
    "df.head()"
   ]
  },
  {
   "cell_type": "code",
   "execution_count": 13,
   "id": "61f04471",
   "metadata": {},
   "outputs": [
    {
     "data": {
      "text/plain": [
       "(58553, 6)"
      ]
     },
     "execution_count": 13,
     "metadata": {},
     "output_type": "execute_result"
    }
   ],
   "source": [
    "df.shape"
   ]
  },
  {
   "cell_type": "code",
   "execution_count": 15,
   "id": "49502c81",
   "metadata": {},
   "outputs": [
    {
     "data": {
      "text/plain": [
       "43"
      ]
     },
     "execution_count": 15,
     "metadata": {},
     "output_type": "execute_result"
    }
   ],
   "source": [
    "# Finding the 95th percentile for comment length\n",
    "comment_len_95_percentile = int(np.percentile(df.comment_length , 95))\n",
    "comment_len_95_percentile"
   ]
  },
  {
   "cell_type": "markdown",
   "id": "cb44dfcf",
   "metadata": {},
   "source": [
    "### Getting rid of comments longer than 95th percentile"
   ]
  },
  {
   "cell_type": "code",
   "execution_count": 16,
   "id": "4945d85c",
   "metadata": {},
   "outputs": [
    {
     "data": {
      "text/plain": [
       "(55709, 6)"
      ]
     },
     "execution_count": 16,
     "metadata": {},
     "output_type": "execute_result"
    }
   ],
   "source": [
    "df = df[df['comment_length'] <= comment_len_95_percentile]\n",
    "df.shape"
   ]
  },
  {
   "cell_type": "code",
   "execution_count": 17,
   "id": "4d495485",
   "metadata": {},
   "outputs": [
    {
     "data": {
      "text/plain": [
       "<AxesSubplot:xlabel='comment_length'>"
      ]
     },
     "execution_count": 17,
     "metadata": {},
     "output_type": "execute_result"
    },
    {
     "data": {
      "image/png": "[encoded data removed]",
      "text/plain": [
       "<Figure size 432x288 with 1 Axes>"
      ]
     },
     "metadata": {
      "needs_background": "light"
     },
     "output_type": "display_data"
    }
   ],
   "source": [
    "sns.boxplot(x = 'comment_length' , data = df)"
   ]
  },
  {
   "cell_type": "markdown",
   "id": "acdf0b3f",
   "metadata": {},
   "source": [
    "## Predicting Sentiment and confidence scores"
   ]
  },
  {
   "cell_type": "code",
   "execution_count": 18,
   "id": "b4539b59",
   "metadata": {},
   "outputs": [
    {
     "data": {
      "application/vnd.jupyter.widget-view+json": {
       "model_id": "26be4c7b878e4fbcb3a37eda820ea2d2",
       "version_major": 2,
       "version_minor": 0
      },
      "text/plain": [
       "Downloading:   0%|          | 0.00/1.43k [00:00<?, ?B/s]"
      ]
     },
     "metadata": {},
     "output_type": "display_data"
    },
    {
     "name": "stderr",
     "output_type": "stream",
     "text": [
      "Some weights of the model checkpoint at cardiffnlp/twitter-roberta-base-sentiment-latest were not used when initializing RobertaForSequenceClassification: ['roberta.pooler.dense.bias', 'roberta.pooler.dense.weight']\n",
      "- This IS expected if you are initializing RobertaForSequenceClassification from the checkpoint of a model trained on another task or with another architecture (e.g. initializing a BertForSequenceClassification model from a BertForPreTraining model).\n",
      "- This IS NOT expected if you are initializing RobertaForSequenceClassification from the checkpoint of a model that you expect to be exactly identical (initializing a BertForSequenceClassification model from a BertForSequenceClassification model).\n"
     ]
    }
   ],
   "source": [
    "pipe = pipeline(model = 'cardiffnlp/twitter-roberta-base-sentiment-latest')\n",
    "pipe.tokenizer.model_max_length=256"
   ]
  },
  {
   "cell_type": "code",
   "execution_count": 30,
   "id": "65db9654",
   "metadata": {},
   "outputs": [
    {
     "name": "stderr",
     "output_type": "stream",
     "text": [
      "  9%|██████▊                                                                      | 4954/55709 [02:53<30:01, 28.17it/s]"
     ]
    },
    {
     "name": "stdout",
     "output_type": "stream",
     "text": [
      "Me: *makes Nokia spinner*\n",
      "FBI:  W̴͔̏̕E̵̪͐̌̕ͅ W̴͔̏̕A̶̤͍̟̲͓͕͍̼͕͎̽́̒̇͝N̶͎̫̉̍͘͝T̷̢̧͎̤̗͙̜͓̽͊ͅͅ Y̸̢̨̭̟͍̫͉͊O̸̜͉̹̳̎͒̎̄͘͘͝Ù̸̺̓̀̓͒͑R̶̨̨̖̬̹̥̜̠͎̺̍͐̂ L̸̼̞̰͘O̸̜͉̹̳̎͒̎̄͘͘͝C̸̢̱̗̟̍͗̈́̆͗͒͊̑͘͜A̶̤͍̟̲͓͕͍̼͕͎̽́̒̇͝T̷̢̧͎̤̗͙̜͓̽͊ͅͅĮ̴̧̝͔͍͖͇̹̗̅͆̈́̈́̒̕O̸̜͉̹̳̎͒̎̄͘͘͝N̶͎̫̉̍͘͝ R̶̨̨̖̬̹̥̜̠͎̺̍͐̂Į̴̧̝͔͍͖͇̹̗̅͆̈́̈́̒̕G̶̢̨̖͚̜̺̭̥̭͓̾̒̃̃̈̏͋͝H̸̪͊̒T̷̢̧͎̤̗͙̜͓̽͊ͅͅ N̶͎̫̉̍͘͝O̸̜͉̹̳̎͒̎̄͘͘͝W̴͔̏̕\n"
     ]
    },
    {
     "name": "stderr",
     "output_type": "stream",
     "text": [
      " 97%|██████████████████████████████████████████████████████████████████████████  | 54271/55709 [36:22<00:54, 26.35it/s]"
     ]
    },
    {
     "name": "stdout",
     "output_type": "stream",
     "text": [
      "📸📸📸📸📸📸📸📸📸📸📸📸📸📸📸📸📸📸📸📸📸📸📸📸📸📸📸📸📸📸📸📸📸📸📸📸📸📸📸📸📸📸📸📸📸📸📸📸📸📸📸📸📸📸📸📸📸📸📸📸📸📸📸📸📸📸📸📸📸📸📸📸📸📸📸📸📸📸📸📸📸📸📸📸📸📸📸📸📸📸📸📸📸📸📸📸📸📸📸📸📸📸📸📸📸📸📸📸📸📸📸📸📸📸📸📸📸📸📸📸📸📸📸📸📸📸📸📸📸📸📸📸📸📸📸📸📸📸📸📸📸📸📸📸📸📸📸📸📸📸📸📸📸📸📸📸📸📸📸📸📸📸📸📸📸📸📸📸📸📸📸📸📸📸📸📸📸📸📸📸📸📸📸📸📸📸📸📸📸📸📸📸📸📸📸📸📸📸📸📸📸📸📸📸📸📸📸📸📸📸📸📸📸📸📸📸📸📸📸📸📸📸📸📸📸📸📸📸📸📸📸📸📸📸📸📸📸📸📸📸📸📸📸📸📸📸📸📸📸📸📸📸📸📸📸📸📸📸📸📸📸📸📸📸📸📸📸📸📸📸📸📸📸📸📸📸📸📸📸📸📸📸📸📸📸📸📸📸📸📸📸📸📸📸📸📸📸📸📸📸📸📸📸📸📸📸📸📸📸📸📸📸📸📸📸📸📸📸📸📸📸📸📸📸📸📸📸📸📸📸📸📸📸📸📸📸📸📸📸📸📸📸📸📸📸📸📸📸📸📸📸📸📸📸📸📸📸📸📸📸📸📸📸📸📸📸📸📸📸📸📸📸📸📸📸📸📸📸📸📸📸📸📸📸📸📸📸📸📸📸📸📸📸📸📸📸📸📸📸📸📸📸📸📸📸📸📸📸📸📸📸📸📸📸📸📸📸📸📸📸📸📸📸📸📸📸📸📸📸📸📸📸📸📸📸📸📸📸📸📸📸📸📸📸📸📸📸📸📸📸📸📸📸📸📸📸📸📸📸📸📸📸📸📸📸📸📸📸📸📸📸📸📸📸📸📸📸📸📸📸📸📸📸📸📸📸📸📸📸📸📸📸📸📸📸📸📸📸📸📸📸📸📸📸📸📸📸📸📸📸📸📸📸📸📸📸📸📸📸📸📸📸📸📸📸📸📸📸📸📸📸📸📸📸📸📸📸📸📸📸📸📸📸📸📸📸📸📸📸📸📸📸📸📸📸📸📸📸📸📸📸📸📸📸📸📸📸📸📸📸📸📸📸📸📸📸📸📸📸📸📸📸📸📸\n"
     ]
    },
    {
     "name": "stderr",
     "output_type": "stream",
     "text": [
      "100%|████████████████████████████████████████████████████████████████████████████| 55709/55709 [37:23<00:00, 24.83it/s]\n"
     ]
    }
   ],
   "source": [
    "from tqdm import tqdm\n",
    "\n",
    "comments_list = df.comment.tolist()\n",
    "\n",
    "\n",
    "sentiment_dicts = [] \n",
    "\n",
    "for comment in tqdm(comments_list , total = len(comments_list)):\n",
    "    try:\n",
    "        sentiment_dicts.append(pipe(comment))\n",
    "    except:\n",
    "        sentiment_dicts.append([{'label' : 'Not Provided', 'score': 'Not Provided'}])\n",
    "        print(comment)"
   ]
  },
  {
   "cell_type": "code",
   "execution_count": 26,
   "id": "8230ff6f",
   "metadata": {},
   "outputs": [
    {
     "name": "stdout",
     "output_type": "stream",
     "text": [
      "[{'label': 'Neutral', 'score': 0.6471040844917297}]\n"
     ]
    }
   ],
   "source": [
    "print(pipe(df.loc[1 , 'comment']))"
   ]
  },
  {
   "cell_type": "code",
   "execution_count": 35,
   "id": "4c80773c",
   "metadata": {},
   "outputs": [
    {
     "data": {
      "text/plain": [
       "{'label': 'Neutral', 'score': 0.6471040844917297}"
      ]
     },
     "execution_count": 35,
     "metadata": {},
     "output_type": "execute_result"
    }
   ],
   "source": [
    "# The pipeline returns a list so I will need to unpack each list returned\n",
    "sentiment_dicts_use = [sentiment[0] for sentiment in sentiment_dicts]\n",
    "sentiment_dicts_use[0]"
   ]
  },
  {
   "cell_type": "code",
   "execution_count": 41,
   "id": "74441187",
   "metadata": {},
   "outputs": [
    {
     "name": "stdout",
     "output_type": "stream",
     "text": [
      "(55707, 8)\n"
     ]
    }
   ],
   "source": [
    "# Bringing label and confidence score into the dataframe\n",
    "df['label'] = [sentiment['label'] for sentiment in sentiment_dicts_use]\n",
    "df['score'] = [sentiment['score'] for sentiment in sentiment_dicts_use]\n",
    "\n",
    "# Dropping the 2 comments that were edge cases\n",
    "df = df[df['label'] != 'Not Provided']\n",
    "\n",
    "df.head()\n",
    "print(df.shape)"
   ]
  },
  {
   "cell_type": "code",
   "execution_count": 72,
   "id": "cfbf70cf",
   "metadata": {},
   "outputs": [],
   "source": [
    "df.to_csv('data/all_comments_with_sentiment_scores.csv')"
   ]
  },
  {
   "cell_type": "markdown",
   "id": "70e772a2",
   "metadata": {},
   "source": [
    "## Do longer comments have a higher confidence?"
   ]
  },
  {
   "cell_type": "code",
   "execution_count": 70,
   "id": "1e7090bf",
   "metadata": {},
   "outputs": [
    {
     "data": {
      "text/plain": [
       "Text(0.5, 1.0, 'Count by Comment Length')"
      ]
     },
     "execution_count": 70,
     "metadata": {},
     "output_type": "execute_result"
    },
    {
     "data": {
      "image/png": "[encoded data removed]",
      "text/plain": [
       "<Figure size 720x720 with 4 Axes>"
      ]
     },
     "metadata": {
      "needs_background": "light"
     },
     "output_type": "display_data"
    }
   ],
   "source": [
    "# Do longer comments have a higher confidence?\n",
    "grouped_comment_length = df.groupby('comment_length')['score'].agg(['mean' , 'median' , 'std' , 'size'])\n",
    "#print(grouped_comment_length['mean'])\n",
    "\n",
    "# Plotting\n",
    "fig , ax = plt.subplots(2 , 2 , figsize = (10 , 10))\n",
    "\n",
    "sns.lineplot(x = grouped_comment_length.index , y = grouped_comment_length['mean'] ,  ax = ax[0][0]).set_title('Mean Score by Comment Length')\n",
    "sns.lineplot(x = grouped_comment_length.index , y = grouped_comment_length['median'] ,  ax = ax[0][1]).set_title('Median Score by Comment Length')\n",
    "sns.lineplot(x = grouped_comment_length.index , y = grouped_comment_length['std'] ,  ax = ax[1][0]).set_title('Standard Deviation Score by Comment Length')\n",
    "sns.lineplot(x = grouped_comment_length.index , y = grouped_comment_length['size'] ,  ax = ax[1][1]).set_title('Count by Comment Length')"
   ]
  },
  {
   "cell_type": "markdown",
   "id": "f8d99dc5",
   "metadata": {},
   "source": [
    "## Confidence by sentiment"
   ]
  },
  {
   "cell_type": "code",
   "execution_count": 73,
   "id": "43ebf0e9",
   "metadata": {},
   "outputs": [
    {
     "data": {
      "text/plain": [
       "<AxesSubplot:xlabel='score', ylabel='label'>"
      ]
     },
     "execution_count": 73,
     "metadata": {},
     "output_type": "execute_result"
    },
    {
     "data": {
      "image/png": "[encoded data removed]",
      "text/plain": [
       "<Figure size 432x288 with 1 Axes>"
      ]
     },
     "metadata": {
      "needs_background": "light"
     },
     "output_type": "display_data"
    }
   ],
   "source": [
    "sns.boxplot(x = 'score' , y = 'label' , data = df)"
   ]
  },
  {
   "cell_type": "code",
   "execution_count": 74,
   "id": "7048bff3",
   "metadata": {},
   "outputs": [
    {
     "data": {
      "text/plain": [
       "Neutral     22920\n",
       "Negative    20197\n",
       "Positive    12590\n",
       "Name: label, dtype: int64"
      ]
     },
     "execution_count": 74,
     "metadata": {},
     "output_type": "execute_result"
    }
   ],
   "source": [
    "df.label.value_counts()"
   ]
  },
  {
   "cell_type": "markdown",
   "id": "cda462c0",
   "metadata": {},
   "source": [
    "The median confidence score for Positive comments is the highest while the model is less confident about its Neutral predictions. The distributions of scores for both Positive and Negative comments are skewed to the left. Negative commments are the most common in this dataset."
   ]
  },
  {
   "cell_type": "markdown",
   "id": "f38093ba",
   "metadata": {},
   "source": [
    "## Aggregating by Video Id"
   ]
  },
  {
   "cell_type": "markdown",
   "id": "664a5b49",
   "metadata": {},
   "source": [
    "### Mapping Sentiment to integers / Creating weighted sentiment\n",
    "\n",
    "In order to aggregate across videos, I decided to map 'Positive' to 1, 'Negative' to -1, 'Neutral' to 0.2. I will scale these by the confidence provided by the model (this will scale down less confident predictions) and then calculate the mean/median/std of the sentiment scores for each video. "
   ]
  },
  {
   "cell_type": "code",
   "execution_count": 78,
   "id": "4d717cec",
   "metadata": {},
   "outputs": [
    {
     "data": {
      "text/html": [
       "<div>\n",
       "<style scoped>\n",
       "    .dataframe tbody tr th:only-of-type {\n",
       "        vertical-align: middle;\n",
       "    }\n",
       "\n",
       "    .dataframe tbody tr th {\n",
       "        vertical-align: top;\n",
       "    }\n",
       "\n",
       "    .dataframe thead th {\n",
       "        text-align: right;\n",
       "    }\n",
       "</style>\n",
       "<table border=\"1\" class=\"dataframe\">\n",
       "  <thead>\n",
       "    <tr style=\"text-align: right;\">\n",
       "      <th></th>\n",
       "      <th>Unnamed: 0</th>\n",
       "      <th>Video Id</th>\n",
       "      <th>comment</th>\n",
       "      <th>time</th>\n",
       "      <th>displayID</th>\n",
       "      <th>id</th>\n",
       "      <th>comment_length</th>\n",
       "      <th>label</th>\n",
       "      <th>score</th>\n",
       "      <th>sentiment_map</th>\n",
       "    </tr>\n",
       "  </thead>\n",
       "  <tbody>\n",
       "    <tr>\n",
       "      <th>0</th>\n",
       "      <td>1</td>\n",
       "      <td>DOtPOfeyJ4Q</td>\n",
       "      <td>Hes not scamming his sister probably got it fo...</td>\n",
       "      <td>2022-11-04T15:04:13Z</td>\n",
       "      <td>The guy who asked</td>\n",
       "      <td>UCNijoEJw5z3p4689tey5oYw</td>\n",
       "      <td>17</td>\n",
       "      <td>Neutral</td>\n",
       "      <td>0.647104</td>\n",
       "      <td>0.2</td>\n",
       "    </tr>\n",
       "    <tr>\n",
       "      <th>1</th>\n",
       "      <td>2</td>\n",
       "      <td>DOtPOfeyJ4Q</td>\n",
       "      <td>He offered your money back definitely not a sc...</td>\n",
       "      <td>2022-11-04T14:57:57Z</td>\n",
       "      <td>F.B.I</td>\n",
       "      <td>UCXbuhDqmdm_M8UEOrQ77w6w</td>\n",
       "      <td>26</td>\n",
       "      <td>Neutral</td>\n",
       "      <td>0.533190</td>\n",
       "      <td>0.2</td>\n",
       "    </tr>\n",
       "    <tr>\n",
       "      <th>2</th>\n",
       "      <td>3</td>\n",
       "      <td>DOtPOfeyJ4Q</td>\n",
       "      <td>Isn’t it hard authenticate a signature. If Kob...</td>\n",
       "      <td>2022-11-04T14:54:47Z</td>\n",
       "      <td>Olti Hajdaraj</td>\n",
       "      <td>UCPOYMbZKAIN39YFsvMTZ-Uw</td>\n",
       "      <td>21</td>\n",
       "      <td>Negative</td>\n",
       "      <td>0.509651</td>\n",
       "      <td>-1.0</td>\n",
       "    </tr>\n",
       "    <tr>\n",
       "      <th>3</th>\n",
       "      <td>4</td>\n",
       "      <td>DOtPOfeyJ4Q</td>\n",
       "      <td>He answered the phone, definitely not trying t...</td>\n",
       "      <td>2022-11-04T14:49:10Z</td>\n",
       "      <td>Jordan</td>\n",
       "      <td>UCga1Isau1iPAlrezA6xoYSQ</td>\n",
       "      <td>13</td>\n",
       "      <td>Neutral</td>\n",
       "      <td>0.483931</td>\n",
       "      <td>0.2</td>\n",
       "    </tr>\n",
       "    <tr>\n",
       "      <th>4</th>\n",
       "      <td>5</td>\n",
       "      <td>DOtPOfeyJ4Q</td>\n",
       "      <td>The seller has a legit point tho. At the end o...</td>\n",
       "      <td>2022-11-04T14:44:37Z</td>\n",
       "      <td>AkMac11</td>\n",
       "      <td>UCXOWvLzEwtlUubgZhXJI-Hw</td>\n",
       "      <td>17</td>\n",
       "      <td>Neutral</td>\n",
       "      <td>0.628328</td>\n",
       "      <td>0.2</td>\n",
       "    </tr>\n",
       "  </tbody>\n",
       "</table>\n",
       "</div>"
      ],
      "text/plain": [
       "   Unnamed: 0     Video Id                                            comment  \\\n",
       "0           1  DOtPOfeyJ4Q  Hes not scamming his sister probably got it fo...   \n",
       "1           2  DOtPOfeyJ4Q  He offered your money back definitely not a sc...   \n",
       "2           3  DOtPOfeyJ4Q  Isn’t it hard authenticate a signature. If Kob...   \n",
       "3           4  DOtPOfeyJ4Q  He answered the phone, definitely not trying t...   \n",
       "4           5  DOtPOfeyJ4Q  The seller has a legit point tho. At the end o...   \n",
       "\n",
       "                   time          displayID                        id  \\\n",
       "0  2022-11-04T15:04:13Z  The guy who asked  UCNijoEJw5z3p4689tey5oYw   \n",
       "1  2022-11-04T14:57:57Z              F.B.I  UCXbuhDqmdm_M8UEOrQ77w6w   \n",
       "2  2022-11-04T14:54:47Z      Olti Hajdaraj  UCPOYMbZKAIN39YFsvMTZ-Uw   \n",
       "3  2022-11-04T14:49:10Z             Jordan  UCga1Isau1iPAlrezA6xoYSQ   \n",
       "4  2022-11-04T14:44:37Z            AkMac11  UCXOWvLzEwtlUubgZhXJI-Hw   \n",
       "\n",
       "   comment_length     label     score  sentiment_map  \n",
       "0              17   Neutral  0.647104            0.2  \n",
       "1              26   Neutral  0.533190            0.2  \n",
       "2              21  Negative  0.509651           -1.0  \n",
       "3              13   Neutral  0.483931            0.2  \n",
       "4              17   Neutral  0.628328            0.2  "
      ]
     },
     "execution_count": 78,
     "metadata": {},
     "output_type": "execute_result"
    }
   ],
   "source": [
    "df = pd.read_csv('data/all_comments_with_sentiment_scores.csv')\n",
    "\n",
    "mapping_func = {'Positive' : 1,\n",
    "               'Negative' : -1 ,\n",
    "               'Neutral' : 0.2}\n",
    "\n",
    "df['sentiment_map'] = df['label'].map(mapping_func)\n",
    "df.head()"
   ]
  },
  {
   "cell_type": "code",
   "execution_count": 79,
   "id": "808b3dfc",
   "metadata": {},
   "outputs": [],
   "source": [
    "df['weighted_sentiment'] = df['sentiment_map'] * df['score']"
   ]
  },
  {
   "cell_type": "code",
   "execution_count": 86,
   "id": "62937274",
   "metadata": {},
   "outputs": [
    {
     "data": {
      "text/plain": [
       "<AxesSubplot:xlabel='weighted_sentiment', ylabel='Density'>"
      ]
     },
     "execution_count": 86,
     "metadata": {},
     "output_type": "execute_result"
    },
    {
     "data": {
      "image/png": "[encoded data removed]",
      "text/plain": [
       "<Figure size 432x288 with 1 Axes>"
      ]
     },
     "metadata": {
      "needs_background": "light"
     },
     "output_type": "display_data"
    }
   ],
   "source": [
    "sns.kdeplot(df['weighted_sentiment'] , fill = True)"
   ]
  },
  {
   "cell_type": "code",
   "execution_count": 81,
   "id": "7c9115a8",
   "metadata": {},
   "outputs": [],
   "source": [
    "df.to_csv('data/all_comments_with_sentiment_scores_weighted.csv')"
   ]
  },
  {
   "cell_type": "markdown",
   "id": "f4f4c137",
   "metadata": {},
   "source": [
    "### weighted_sentiment by grouped by video"
   ]
  },
  {
   "cell_type": "code",
   "execution_count": 85,
   "id": "45267946",
   "metadata": {},
   "outputs": [
    {
     "data": {
      "text/html": [
       "<div>\n",
       "<style scoped>\n",
       "    .dataframe tbody tr th:only-of-type {\n",
       "        vertical-align: middle;\n",
       "    }\n",
       "\n",
       "    .dataframe tbody tr th {\n",
       "        vertical-align: top;\n",
       "    }\n",
       "\n",
       "    .dataframe thead th {\n",
       "        text-align: right;\n",
       "    }\n",
       "</style>\n",
       "<table border=\"1\" class=\"dataframe\">\n",
       "  <thead>\n",
       "    <tr style=\"text-align: right;\">\n",
       "      <th></th>\n",
       "      <th>mean</th>\n",
       "      <th>median</th>\n",
       "      <th>std</th>\n",
       "    </tr>\n",
       "    <tr>\n",
       "      <th>Video Id</th>\n",
       "      <th></th>\n",
       "      <th></th>\n",
       "      <th></th>\n",
       "    </tr>\n",
       "  </thead>\n",
       "  <tbody>\n",
       "    <tr>\n",
       "      <th>mkS_Z5t9u4k</th>\n",
       "      <td>0.904075</td>\n",
       "      <td>0.904075</td>\n",
       "      <td>0.074180</td>\n",
       "    </tr>\n",
       "    <tr>\n",
       "      <th>qlPG818l_Yc</th>\n",
       "      <td>0.700401</td>\n",
       "      <td>0.849171</td>\n",
       "      <td>0.340497</td>\n",
       "    </tr>\n",
       "    <tr>\n",
       "      <th>nbd_D9WMNbQ</th>\n",
       "      <td>0.669476</td>\n",
       "      <td>0.669476</td>\n",
       "      <td>0.007736</td>\n",
       "    </tr>\n",
       "    <tr>\n",
       "      <th>ygsO-ExanEM</th>\n",
       "      <td>0.656781</td>\n",
       "      <td>0.916128</td>\n",
       "      <td>0.590811</td>\n",
       "    </tr>\n",
       "    <tr>\n",
       "      <th>G64RvvjWadc</th>\n",
       "      <td>0.653172</td>\n",
       "      <td>0.782744</td>\n",
       "      <td>0.289683</td>\n",
       "    </tr>\n",
       "    <tr>\n",
       "      <th>...</th>\n",
       "      <td>...</td>\n",
       "      <td>...</td>\n",
       "      <td>...</td>\n",
       "    </tr>\n",
       "    <tr>\n",
       "      <th>nwmvg6vpMns</th>\n",
       "      <td>-0.331418</td>\n",
       "      <td>-0.632259</td>\n",
       "      <td>0.585704</td>\n",
       "    </tr>\n",
       "    <tr>\n",
       "      <th>MeR0neyhrEw</th>\n",
       "      <td>-0.365003</td>\n",
       "      <td>-0.596931</td>\n",
       "      <td>0.504041</td>\n",
       "    </tr>\n",
       "    <tr>\n",
       "      <th>wvSRhibMbg0</th>\n",
       "      <td>-0.377437</td>\n",
       "      <td>-0.492113</td>\n",
       "      <td>0.562669</td>\n",
       "    </tr>\n",
       "    <tr>\n",
       "      <th>owD-CiSL80Y</th>\n",
       "      <td>-0.447015</td>\n",
       "      <td>-0.729604</td>\n",
       "      <td>0.566352</td>\n",
       "    </tr>\n",
       "    <tr>\n",
       "      <th>SDFpP_2ateg</th>\n",
       "      <td>-0.461318</td>\n",
       "      <td>-0.780024</td>\n",
       "      <td>0.616133</td>\n",
       "    </tr>\n",
       "  </tbody>\n",
       "</table>\n",
       "<p>184 rows × 3 columns</p>\n",
       "</div>"
      ],
      "text/plain": [
       "                 mean    median       std\n",
       "Video Id                                 \n",
       "mkS_Z5t9u4k  0.904075  0.904075  0.074180\n",
       "qlPG818l_Yc  0.700401  0.849171  0.340497\n",
       "nbd_D9WMNbQ  0.669476  0.669476  0.007736\n",
       "ygsO-ExanEM  0.656781  0.916128  0.590811\n",
       "G64RvvjWadc  0.653172  0.782744  0.289683\n",
       "...               ...       ...       ...\n",
       "nwmvg6vpMns -0.331418 -0.632259  0.585704\n",
       "MeR0neyhrEw -0.365003 -0.596931  0.504041\n",
       "wvSRhibMbg0 -0.377437 -0.492113  0.562669\n",
       "owD-CiSL80Y -0.447015 -0.729604  0.566352\n",
       "SDFpP_2ateg -0.461318 -0.780024  0.616133\n",
       "\n",
       "[184 rows x 3 columns]"
      ]
     },
     "execution_count": 85,
     "metadata": {},
     "output_type": "execute_result"
    }
   ],
   "source": [
    "weighted_sentiment_agg_vid = df.groupby('Video Id')['weighted_sentiment'].agg(['mean' , 'median' , 'std'])\n",
    "weighted_sentiment_agg_vid.sort_values('mean' , ascending = False)"
   ]
  },
  {
   "cell_type": "code",
   "execution_count": null,
   "id": "701a35a0",
   "metadata": {},
   "outputs": [],
   "source": []
  },
  {
   "cell_type": "code",
   "execution_count": null,
   "id": "015313d0",
   "metadata": {},
   "outputs": [],
   "source": []
  },
  {
   "cell_type": "code",
   "execution_count": null,
   "id": "200b08b5",
   "metadata": {},
   "outputs": [],
   "source": []
  },
  {
   "cell_type": "code",
   "execution_count": null,
   "id": "d804cf80",
   "metadata": {},
   "outputs": [],
   "source": []
  },
  {
   "cell_type": "code",
   "execution_count": null,
   "id": "f865157c",
   "metadata": {},
   "outputs": [],
   "source": []
  }
 ],
 "metadata": {
  "kernelspec": {
   "display_name": "Python 3 (ipykernel)",
   "language": "python",
   "name": "python3"
  },
  "language_info": {
   "codemirror_mode": {
    "name": "ipython",
    "version": 3
   },
   "file_extension": ".py",
   "mimetype": "text/x-python",
   "name": "python",
   "nbconvert_exporter": "python",
   "pygments_lexer": "ipython3",
   "version": "3.8.8"
  }
 },
 "nbformat": 4,
 "nbformat_minor": 5
}
