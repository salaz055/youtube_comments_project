{
 "cells": [
  {
   "cell_type": "markdown",
   "id": "261bb496",
   "metadata": {},
   "source": [
    "## Initial Imports and reading in datasets"
   ]
  },
  {
   "cell_type": "markdown",
   "id": "09f20827",
   "metadata": {},
   "source": [
    "A full version of the notebook with plotly graphs can ba viewed at [View Notebook](https://nbviewer.org/github/salaz055/youtube_comments_project/blob/main/sentiment_analysis_data_exploration.ipynb)"
   ]
  },
  {
   "cell_type": "code",
   "execution_count": 2,
   "id": "faa2230f",
   "metadata": {},
   "outputs": [],
   "source": [
    "import pandas as pd\n",
    "import matplotlib.pyplot as plt\n",
    "import seaborn as sns\n",
    "import numpy as np"
   ]
  },
  {
   "cell_type": "code",
   "execution_count": 3,
   "id": "e4c53eef",
   "metadata": {},
   "outputs": [],
   "source": [
    "# All comments gathered using the youtube api (youtube_data_extraction.ipynb)\n",
    "all_comments = pd.read_csv('data/comments_df_11-4-2022.csv')\n",
    "\n",
    "# All videos gathered using the youtube api (youtube_data_extraction.ipynb)\n",
    "all_videos = pd.read_csv('data/video_info.csv')"
   ]
  },
  {
   "cell_type": "markdown",
   "id": "69cda8eb",
   "metadata": {},
   "source": [
    "In order to speed up sentiment analysis I trimmed the data set to the top videos,  sampled 100 comments from each of these videos , and dropped comments were longer than the 95th percentile.\n"
   ]
  },
  {
   "cell_type": "code",
   "execution_count": 4,
   "id": "bb1e7bd9",
   "metadata": {},
   "outputs": [],
   "source": [
    "# Comments sampled from top videos with comment length , sentiment label , and confidence score\n",
    "sampled_comments_top_vids = pd.read_csv('data/sampled_comments.csv')\n",
    "\n",
    "# Aggregated sentiment for top videos (sampled comments)\n",
    "top_vids_sentiment = pd.read_csv('data/sampled_videos_with_scores.csv')"
   ]
  },
  {
   "cell_type": "markdown",
   "id": "b9ce5841",
   "metadata": {},
   "source": [
    "## All videos analysis"
   ]
  },
  {
   "cell_type": "markdown",
   "id": "88db1d60",
   "metadata": {},
   "source": [
    "### Correlation Heat Map"
   ]
  },
  {
   "cell_type": "code",
   "execution_count": 5,
   "id": "43f2aa0e",
   "metadata": {},
   "outputs": [
    {
     "data": {
      "text/plain": [
       "<AxesSubplot:>"
      ]
     },
     "execution_count": 5,
     "metadata": {},
     "output_type": "execute_result"
    },
    {
     "data": {
      "image/png": "[encoded data removed]",
      "text/plain": [
       "<Figure size 432x288 with 2 Axes>"
      ]
     },
     "metadata": {
      "needs_background": "light"
     },
     "output_type": "display_data"
    }
   ],
   "source": [
    "all_videos_corr = all_videos[['view_count' , 'like_count', 'comment_count']].corr()\n",
    "cmap = sns.diverging_palette(260,-10,s=50, l=75, n=10 , as_cmap=True)\n",
    "sns.heatmap(all_videos_corr , annot = True , cmap = cmap)"
   ]
  },
  {
   "cell_type": "markdown",
   "id": "d0bd1210",
   "metadata": {},
   "source": [
    "### Scatter Plots"
   ]
  },
  {
   "cell_type": "code",
   "execution_count": 7,
   "id": "c76dc934",
   "metadata": {},
   "outputs": [
    {
     "data": {
      "text/html": [
       "        <script type=\"text/javascript\">\n",
       "        window.PlotlyConfig = {MathJaxConfig: 'local'};\n",
       "        if (window.MathJax) {MathJax.Hub.Config({SVG: {font: \"STIX-Web\"}});}\n",
       "        if (typeof require !== 'undefined') {\n",
       "        require.undef(\"plotly\");\n",
       "        requirejs.config({\n",
       "            paths: {\n",
       "                'plotly': ['https://cdn.plot.ly/plotly-2.11.1.min']\n",
       "            }\n",
       "        });\n",
       "        require(['plotly'], function(Plotly) {\n",
       "            window._Plotly = Plotly;\n",
       "        });\n",
       "        }\n",
       "        </script>\n",
       "        "
      ]
     },
     "metadata": {},
     "output_type": "display_data"
    },
    {
     "data": {
      "application/vnd.plotly.v1+json": {
       "config": {
        "plotlyServerURL": "https://plot.ly"
       },
       "data": [
        {
         "customdata": [
          [
           "Confronting the seller of a questionable Kobe autograph",
           447,
           "2022-11-02"
          ],
          [
           "Do experts think my cheap Kobe autograph is real?",
           57,
           "2022-11-01"
          ],
          [
           "Anyone need a new camera?",
           3230,
           "2022-11-01"
          ],
          [
           "I asked collectors if my cheap Kobe autographs are real",
           70,
           "2022-10-31"
          ],
          [
           "Unboxing a $400 Kobe autographed ball (real?)",
           70,
           "2022-10-28"
          ],
          [
           "I bought a $400 Kobe autographed basketball (sus?)",
           88,
           "2022-10-28"
          ],
          [
           "Is the cheapest Kobe autographed ball online real?",
           220,
           "2022-10-26"
          ],
          [
           "I bought the cheapest Kobe autographed ball online",
           68,
           "2022-10-26"
          ],
          [
           "How much gold I found in $100 Amazon pay dirt",
           606,
           "2022-10-20"
          ],
          [
           "I bought $500 worth of G-Shock￼￼ watches",
           1536,
           "2022-10-14"
          ],
          [
           "I manufactured Yeezy sunglasses from scratch",
           203,
           "2022-10-12"
          ],
          [
           "I paid artists $200 to turn Yeezys into sunglasses (foam runners)",
           213,
           "2022-10-11"
          ],
          [
           "I Turned Yeezy Sneakers Into Sunglasses",
           70,
           "2022-10-06"
          ],
          [
           "How I profited off the fidget spinner craze",
           260,
           "2022-10-04"
          ],
          [
           "Easy Amazon side hustle - sell books with no words #ad",
           30,
           "2022-10-03"
          ],
          [
           "I made a 3D printed 500k YouTube play button",
           39,
           "2022-10-01"
          ],
          [
           "Make $1700 A Month Selling Books On Amazon - Easy Side Hustle - No Writing Required",
           90,
           "2022-09-28"
          ],
          [
           "How to make $200 a day with a drone",
           814,
           "2022-09-23"
          ],
          [
           "My best finds at the thrift store (as a reseller)",
           67,
           "2022-09-17"
          ],
          [
           "These boring glasses made me thousands online",
           32,
           "2022-09-14"
          ],
          [
           "Testing the world’s brightest flashlight OUTSIDE",
           135,
           "2022-09-08"
          ],
          [
           "I bought the brightest flashlight in the world ($700)",
           53,
           "2022-09-07"
          ],
          [
           "Unboxing the brightest flashlight in the world ($700)",
           35,
           "2022-09-07"
          ],
          [
           "Picking the winner of the MacBook…",
           59,
           "2022-09-05"
          ],
          [
           "I paid an artist $20 to turn Yeezy sneakers into sunglasses",
           645,
           "2022-09-01"
          ],
          [
           "I got a gadget filled mystery box in the mail #shorts #sponsored",
           154,
           "2022-08-31"
          ],
          [
           "The unfortunate truth of many US “factories”",
           62,
           "2022-08-29"
          ],
          [
           "Valuing the gold I found in Amazon pay dirt",
           255,
           "2022-08-24"
          ],
          [
           "How much gold I found in Amazon pay dirt",
           778,
           "2022-08-23"
          ],
          [
           "Is Gold Pay Dirt A Good Side Hustle?",
           420,
           "2022-08-22"
          ],
          [
           "I Bought Gold Pay Dirt And Made $______",
           230,
           "2022-08-19"
          ],
          [
           "How much my money making hotspot has made",
           246,
           "2022-08-18"
          ],
          [
           "He sold me fake Pokémon cards… maybe?",
           493,
           "2022-08-12"
          ],
          [
           "He had 0 viewers… so I sent him $ for bitcoin",
           87,
           "2022-08-11"
          ],
          [
           "Revealing My Entire Pokémon Investment",
           830,
           "2022-08-08"
          ],
          [
           "I tested the midnight Walmart side hustle",
           686,
           "2022-08-05"
          ],
          [
           "I started a clothing brand for under $100 #shorts #ad",
           98,
           "2022-08-04"
          ],
          [
           "saying goodbye…",
           2622,
           "2022-08-03"
          ],
          [
           "How much iPhone box costs to make in USA vs. China",
           5859,
           "2022-07-30"
          ],
          [
           "How she started a $10mil per year “side hustle”",
           116,
           "2022-07-28"
          ],
          [
           "I Tried The Amazon Affiliate Side Hustle (how much I made)",
           99,
           "2022-07-27"
          ],
          [
           "Is Amazon Affiliate Marketing a Good Side Hustle?",
           221,
           "2022-07-26"
          ],
          [
           "I Tried Selling Amazon Products With Memes",
           77,
           "2022-07-25"
          ],
          [
           "I’m turning a meme page into a business",
           176,
           "2022-07-22"
          ],
          [
           "I bought a questionable pineapple…",
           4680,
           "2022-07-20"
          ],
          [
           "I’m investing in $100 empty boxes #shorts #sponsored",
           475,
           "2022-07-18"
          ],
          [
           "I paid Fiverr to redesign my product packaging",
           2753,
           "2022-07-14"
          ],
          [
           "I tried turning $21 into $100 in profit (30min challenge)",
           414,
           "2022-07-12"
          ],
          [
           "The science behind my new YouTube thumbnail…",
           72,
           "2022-07-11"
          ],
          [
           "Taste testing the most expensive water on Amazon",
           1515,
           "2022-07-07"
          ],
          [
           "I bought the most expensive water on Amazon",
           4078,
           "2022-07-05"
          ],
          [
           "I tried going viral as a small brand",
           536,
           "2022-07-01"
          ],
          [
           "I’m building a sunglasses brand to compete with Rayban (ep.2)",
           417,
           "2022-06-28"
          ],
          [
           "I tried upgrading my money making hotspot (helium update PT.5)",
           651,
           "2022-06-25"
          ],
          [
           "I Tried Relaunching My Failed Business - Ep.1",
           85,
           "2022-06-24"
          ],
          [
           "They were trying to disguise their side hustle…",
           33,
           "2022-06-24"
          ],
          [
           "Did this seller scam me with her rolex?",
           152,
           "2022-06-22"
          ],
          [
           "I tried finding profitable flips (ELON MUSK EDITION)",
           173,
           "2022-06-18"
          ],
          [
           "I tried hyper realistic VR gaming (zombie edition)",
           98,
           "2022-06-16"
          ],
          [
           "Surprising her with the cheapest rolex on eBay",
           1289,
           "2022-06-13"
          ],
          [
           "Confronting the seller of the “cheapest rolex on ebay”",
           626,
           "2022-06-10"
          ],
          [
           "Is the cheapest rolex on eBay real?",
           2162,
           "2022-06-09"
          ],
          [
           "I Bought The Cheapest Rolex On eBay",
           1410,
           "2022-06-08"
          ],
          [
           "Unboxing the cheapest rolex on eBay",
           234,
           "2022-06-03"
          ],
          [
           "I bought the cheapest rolex on eBay…",
           293,
           "2022-06-02"
          ],
          [
           "Did I find real Yeezy slides?",
           549,
           "2022-05-30"
          ],
          [
           "Asking Rolex dealers if I can film in their store",
           67,
           "2022-05-28"
          ],
          [
           "I looked for profit in a RICH CITY thrift store",
           744,
           "2022-05-27"
          ],
          [
           "My Money Printing Tablet Farm Journey (How much I made)",
           114,
           "2022-05-24"
          ],
          [
           "I tried making money with unclaimed mail",
           728,
           "2022-05-22"
          ],
          [
           "Make this ONE change to 2x your eBay/Amazon sales",
           202,
           "2022-05-20"
          ],
          [
           "My sneaky plan to monetize my meme page…",
           176,
           "2022-05-18"
          ],
          [
           "I just UPGRADED my money making hotspot (helium update PT.4)",
           774,
           "2022-05-13"
          ],
          [
           "How my failed business started my new career…",
           68,
           "2022-05-11"
          ],
          [
           "I tried dropshipping… here’s how much I made",
           91,
           "2022-05-10"
          ],
          [
           "I tried finding profitable flips at Walmart (in a RICH city 💰)",
           567,
           "2022-05-06"
          ],
          [
           "I bought a Crushmetric SwitchPen (for research)",
           56,
           "2022-05-02"
          ],
          [
           "I bought a Pokémon collection to flip for profit (AGAIN)",
           457,
           "2022-04-29"
          ],
          [
           "My biggest viral video flop all time…",
           32,
           "2022-04-26"
          ],
          [
           "Jason Derulo DM’d me… (here’s why)",
           55,
           "2022-04-22"
          ],
          [
           "I tried making a pro commercial for under $500",
           105,
           "2022-04-21"
          ],
          [
           "Jidion’s secret to growing 4mil subs in 1 year…",
           30,
           "2022-04-18"
          ],
          [
           "I tried flipping sneakers from the Nike outlet",
           852,
           "2022-04-15"
          ],
          [
           "How I used 1 viral video to grow my business FAST",
           39,
           "2022-04-13"
          ],
          [
           "My biggest failure as an entrepreneur…",
           94,
           "2022-04-12"
          ],
          [
           "Upgrading my office into a video studio for $100",
           44,
           "2022-04-08"
          ],
          [
           "Comparing PRIME to Powerade (will this brand win?)",
           66,
           "2022-04-05"
          ],
          [
           "I tried finding profitable flips at Walmart AGAIN",
           470,
           "2022-04-01"
          ],
          [
           "Giving streamers with 0 viewers $ to buy bitcoin",
           89,
           "2022-03-31"
          ],
          [
           "Unboxing my 100k play button  my best YT advice",
           57,
           "2022-03-29"
          ],
          [
           "I asked a $100m CEO: “is college worth it?”",
           49,
           "2022-03-26"
          ],
          [
           "I tried finding profitable flips at Goodwill…",
           785,
           "2022-03-24"
          ],
          [
           "How I find niche $ making products on eBay",
           52,
           "2022-03-17"
          ],
          [
           "Why I spent $3k on a full send metacard NFT (Nelk)",
           441,
           "2022-03-15"
          ],
          [
           "How I grew from 1k-100k subscribers in 1 week",
           48,
           "2022-03-12"
          ],
          [
           "I upgraded my $ making hotspot (week 2 results)",
           204,
           "2022-03-10"
          ],
          [
           "I built a dropshipping store from a cozy cabin",
           77,
           "2022-03-09"
          ],
          [
           "What influencers actually get for free…",
           116,
           "2022-03-08"
          ],
          [
           "I tried starting a streetwear brand for $70",
           534,
           "2022-03-07"
          ],
          [
           "I spent $100 on Pokémon cards to flip for profit",
           1015,
           "2022-03-03"
          ],
          [
           "I made a diamond play button out of paper",
           350,
           "2022-03-02"
          ],
          [
           "How much $ I’ve made helium mining (Week 1)",
           1206,
           "2022-02-28"
          ],
          [
           "I tried finding profitable flips at Walmart…",
           4176,
           "2022-02-25"
          ],
          [
           "I asked a 9 figure ecom CEO if FB ads still work",
           35,
           "2022-02-25"
          ],
          [
           "I built a sunglasses brand to compete with Ray-Ban",
           1119,
           "2022-02-24"
          ],
          [
           "I bought a wireless hotspot that makes me money",
           1255,
           "2022-02-22"
          ],
          [
           "A multimillionaire CEO’s secret manufacturing tip",
           338,
           "2022-02-18"
          ],
          [
           "How much my T-shirt store made from $100 in Fb ads",
           85,
           "2022-02-17"
          ],
          [
           "My biggest struggle as an entrepreneur",
           41,
           "2022-02-15"
          ],
          [
           "Ranking side hustles I’ve tried from worst to best",
           698,
           "2022-02-14"
          ],
          [
           "I paid Fiverr $30 and $120 to design NFT’s (comparison)",
           1394,
           "2022-02-11"
          ],
          [
           "My funniest flip I’ve ever done (made good $ tho)",
           55,
           "2022-02-10"
          ],
          [
           "I tried the golf club flipping side hustle (it works)",
           64,
           "2022-02-08"
          ],
          [
           "How I made my NFT chain (step by step)",
           152,
           "2022-02-07"
          ],
          [
           "“Drama” YouTubers are making a lot of money rn…",
           61,
           "2022-02-05"
          ],
          [
           "How to grow $1k into $1mil online (what I did)",
           136,
           "2022-02-04"
          ],
          [
           "I made a chain so I can wear my NFT’s…",
           103,
           "2022-02-02"
          ],
          [
           "My print on demand t-shirt store is making money",
           18,
           "2022-02-01"
          ],
          [
           "Why I’m not selling NFT’s ever again…",
           268,
           "2022-01-31"
          ],
          [
           "How I built a tablet farm that makes me money…",
           4414,
           "2022-01-28"
          ],
          [
           "It took me 1 year to get 1k YouTube subs… 😭",
           69,
           "2022-01-27"
          ],
          [
           "How much my Pokémon cards investment is worth 💰",
           2566,
           "2022-01-26"
          ],
          [
           "I Paid Fiverr Video Editors To Make A Commercial",
           2473,
           "2022-01-25"
          ],
          [
           "At 25yo I was doing $100k per month on eBay",
           164,
           "2022-01-24"
          ],
          [
           "I tried the print on demand t-shirt side hustle",
           40,
           "2022-01-20"
          ],
          [
           "How I&#39;ve Been Doubling My Money With NFT&#39;s",
           53,
           "2022-01-19"
          ],
          [
           "I tried making $ with smaller NFT projects…",
           83,
           "2022-01-18"
          ],
          [
           "How much I made selling dollar store items online…",
           493,
           "2022-01-17"
          ],
          [
           "Turning a dollar store product into a brand (ep.1)",
           14,
           "2022-01-13"
          ],
          [
           "My New Money Printing Tablet Farm",
           245,
           "2022-01-07"
          ],
          [
           "Trying to turn $0 into $10k from scratch 💰",
           1026,
           "2021-10-28"
          ],
          [
           "I tried flipping NFTs… here’s how much I made.",
           1917,
           "2021-10-27"
          ],
          [
           "I tried finding profitable sneakers at Kohl’s 😖",
           150,
           "2021-10-20"
          ],
          [
           "Dropshipping From A Cabin In The Woods (24HR Challenge)",
           44,
           "2021-10-15"
          ],
          [
           "Giving away your products is actually really smart",
           29,
           "2021-10-14"
          ],
          [
           "Were these brand names from Fiverr worth $50? 😖",
           63,
           "2021-10-07"
          ],
          [
           "How a NEW eBay seller can rank and get sales ASAP",
           21,
           "2021-10-06"
          ],
          [
           "10k today or 1 Bitcoin in 5 years? (on Omegle…)",
           38,
           "2021-10-05"
          ],
          [
           "Using a billboard to grow my Instagram (THE RESULTS)",
           14,
           "2021-10-01"
          ],
          [
           "The Trick To The YouTube Shorts Algorithm…",
           70,
           "2021-09-30"
          ],
          [
           "My first product I designed  manufactured 😖",
           65,
           "2021-09-29"
          ],
          [
           "Can you ACTUALLY grow on Instagram w/ billboards?",
           12,
           "2021-09-28"
          ],
          [
           "My Day As A Small YouTuber Trying To Make It (Raw Footage)",
           40,
           "2021-09-25"
          ],
          [
           "A famous artist asked for my help 😦…",
           9,
           "2021-09-24"
          ],
          [
           "The best eBay strategy ever 🙌",
           10,
           "2021-09-22"
          ],
          [
           "Business is like a butterfly…",
           6,
           "2021-09-21"
          ],
          [
           "NFT pills!? Here’s why I bought one…",
           23,
           "2021-09-16"
          ],
          [
           "I tried turning memes into T-shirt designs… 😖",
           6,
           "2021-09-16"
          ],
          [
           "3 Slept On TikTok Tips That Made My Brand Go Viral",
           13,
           "2021-09-14"
          ],
          [
           "The weirdest business purchase I’ve ever made 😖",
           19,
           "2021-09-14"
          ],
          [
           "How to make your clothing brand go VIRAL",
           16,
           "2021-09-10"
          ],
          [
           "I Bought A Billboard To Grow My Instagram",
           31,
           "2021-09-07"
          ],
          [
           "Prototyping has never been easier or cheaper…",
           7,
           "2021-09-03"
          ],
          [
           "I got thumbnail advice from MrBeast 😏",
           225,
           "2021-09-02"
          ],
          [
           "How to make your brand go viral on TikTok 🔥",
           2,
           "2021-09-01"
          ],
          [
           "I Tried Making Money With Virtual Horse Racing",
           32,
           "2021-08-31"
          ],
          [
           "The cheap sunglasses side hustle… (no one’s doing it!)",
           28,
           "2021-08-27"
          ],
          [
           "The genius marketing behind Logan  Jake Paul…",
           6,
           "2021-08-27"
          ],
          [
           "I&#39;m quitting my job and becoming a digital horse breeder...",
           13,
           "2021-08-25"
          ],
          [
           "0 To 10k Instagram Followers From Scratch - Using TikTok to grow fast on IG | Ep. 2",
           11,
           "2021-08-24"
          ],
          [
           "The EXACT method I used to get 500k followers on Facebook in 1 year 🔥",
           5,
           "2021-08-24"
          ],
          [
           "I grossed millions on eBay with this method…",
           11,
           "2021-08-19"
          ],
          [
           "Hey McDonald’s, do you accept Bitcoin? 😭",
           14,
           "2021-08-18"
          ],
          [
           "I manufactured an iPhone box from scratch 😖 (3 month process)",
           20,
           "2021-08-16"
          ],
          [
           "I made a terrible investment decision with this Pokémon card… 😭",
           10,
           "2021-08-12"
          ],
          [
           "I built a profitable Shopify store in 1 hour 👀",
           21,
           "2021-08-11"
          ],
          [
           "How I Used Instagram To 2x My Business&#39; Sales",
           4,
           "2021-08-11"
          ],
          [
           "I paid $1365 for a product commercial on Fiverr… Was it worth it?",
           40,
           "2021-08-06"
          ],
          [
           "Calling Tesla And Asking If They Accept Bitcoin…",
           13,
           "2021-08-06"
          ],
          [
           "I hired a lawyer for $183 off of Fiverr",
           18,
           "2021-08-05"
          ],
          [
           "How Yeti Charges $35 For A Cup…",
           691,
           "2021-08-04"
          ],
          [
           "The genius marketing behind NELK  Full Send…",
           109,
           "2021-08-02"
          ],
          [
           "I PAID someone on FIVERR to EDIT my commercial",
           31,
           "2021-07-26"
          ],
          [
           "0 To 10k Instagram Followers From Scratch | Ep. 1",
           25,
           "2021-07-23"
          ],
          [
           "Dropshipping is dead in 2021… Do this instead.",
           19,
           "2021-07-20"
          ],
          [
           "The Instagram Growth Hack Big Pages Never Share… (2021)",
           15,
           "2021-07-01"
          ],
          [
           "1 Hour Shopify Dropshipping Challenge (FROM SCRATCH)",
           30,
           "2021-06-23"
          ],
          [
           "I Tried Streaming On Facebook Gaming (Complete Beginner)",
           4,
           "2021-06-09"
          ],
          [
           "7 eBay Hacks That Big Sellers Never Share...",
           17,
           "2021-06-01"
          ],
          [
           "9 Side Hustles That Are Slept On In 2021 ($200 Per Day)",
           9,
           "2021-05-27"
          ],
          [
           "I Tried Dropshipping A Dollar Tree Product (72 Hour Challenge)",
           10,
           "2021-04-30"
          ],
          [
           "Zero To 500k On Facebook In 1 Year | Full Step By Step Training",
           10,
           "2021-03-30"
          ],
          [
           "I Tried Dropshipping From Scratch (24HR CHALLENGE)",
           55,
           "2021-03-10"
          ],
          [
           "How I Started A Million Dollar Business From My Mom&#39;s Basement",
           37,
           "2021-02-23"
          ]
         ],
         "hovertemplate": "like_count=%{x}<br>view_count=%{y}<br>video_title=%{customdata[0]}<br>comment_count=%{customdata[1]}<br>upload_date=%{customdata[2]}<extra></extra>",
         "legendgroup": "",
         "marker": {
          "color": "#636efa",
          "symbol": "circle"
         },
         "mode": "markers",
         "name": "",
         "orientation": "v",
         "showlegend": false,
         "type": "scatter",
         "x": [
          62761,
          9483,
          3162,
          78562,
          46803,
          135524,
          141783,
          30172,
          110940,
          75225,
          33210,
          143156,
          478,
          197699,
          3325,
          4279,
          680,
          123892,
          6046,
          8983,
          16588,
          6937,
          3611,
          3890,
          317273,
          16214,
          10788,
          52224,
          248207,
          117969,
          1582,
          64077,
          21197,
          8667,
          115333,
          71427,
          14119,
          16707,
          325141,
          10472,
          29550,
          152663,
          2187,
          22415,
          946659,
          159558,
          408708,
          158666,
          12508,
          340768,
          623213,
          318865,
          57089,
          154716,
          877,
          11616,
          65159,
          61655,
          24664,
          90274,
          80809,
          2002289,
          14921,
          30044,
          54112,
          308838,
          11054,
          115574,
          1413,
          193022,
          63755,
          15479,
          219116,
          12555,
          16393,
          123699,
          13506,
          86320,
          8807,
          8124,
          10616,
          4489,
          306074,
          8412,
          7247,
          6304,
          5435,
          128809,
          7084,
          5082,
          5042,
          82160,
          5882,
          18276,
          4392,
          33465,
          9803,
          18598,
          34462,
          223045,
          177703,
          180433,
          851957,
          6914,
          123712,
          296485,
          51289,
          17998,
          10898,
          182392,
          153407,
          8643,
          8918,
          7828,
          7236,
          14051,
          4843,
          6933,
          15715,
          584782,
          8454,
          874614,
          121666,
          27326,
          5802,
          809,
          6120,
          85132,
          3352,
          11572,
          245725,
          168062,
          39161,
          763,
          5186,
          1698,
          4268,
          1464,
          1679,
          4313,
          2185,
          1542,
          158,
          1872,
          2153,
          1247,
          1163,
          864,
          359,
          1184,
          4310,
          332,
          1322,
          45826,
          64,
          584,
          1421,
          651,
          1168,
          170,
          816,
          1660,
          589,
          1209,
          769,
          1816,
          65,
          1154,
          667,
          856,
          37628,
          4941,
          1330,
          384,
          1105,
          194,
          256,
          24,
          242,
          175,
          95,
          81,
          397,
          405
         ],
         "xaxis": "x",
         "y": [
          781610,
          113539,
          40723,
          971564,
          501415,
          1469829,
          2103937,
          455423,
          1835207,
          1162979,
          455182,
          1871976,
          9368,
          3004250,
          48959,
          49641,
          10834,
          1729501,
          96751,
          91084,
          229984,
          109407,
          50759,
          53219,
          4234596,
          211944,
          200262,
          625339,
          5827039,
          1844903,
          37322,
          866417,
          421491,
          157334,
          2756855,
          1837882,
          188385,
          215543,
          5546984,
          180821,
          385224,
          2018008,
          39091,
          269367,
          10616068,
          1681458,
          7941682,
          1952270,
          183171,
          3095865,
          7633883,
          3554636,
          771667,
          2370984,
          16078,
          231893,
          853458,
          806622,
          453980,
          1316230,
          1234922,
          30106646,
          221018,
          546741,
          1160878,
          4074711,
          228490,
          1861965,
          32861,
          3214566,
          1075509,
          252723,
          3348675,
          196201,
          267343,
          2116905,
          192329,
          1533920,
          155055,
          149995,
          150244,
          96684,
          5004675,
          144830,
          113690,
          112897,
          93456,
          2057610,
          122581,
          76442,
          103689,
          1220806,
          116564,
          508914,
          88116,
          541794,
          205689,
          270517,
          530461,
          4554853,
          2674456,
          2900702,
          16236845,
          186803,
          2644327,
          6163849,
          1092992,
          396180,
          199155,
          3036555,
          2493035,
          176373,
          201786,
          223064,
          154648,
          268687,
          98791,
          141991,
          435588,
          13609004,
          144452,
          14570731,
          1744928,
          521855,
          104785,
          27500,
          141519,
          1452106,
          84049,
          225342,
          4715317,
          4474616,
          650797,
          13284,
          77520,
          48474,
          65572,
          46069,
          40673,
          71412,
          35346,
          33307,
          4019,
          35792,
          35676,
          29010,
          30303,
          24660,
          5457,
          29170,
          51674,
          4684,
          25556,
          532261,
          1844,
          12304,
          30531,
          20591,
          24168,
          3639,
          17212,
          32871,
          15180,
          21292,
          20270,
          33623,
          1057,
          17177,
          16919,
          20501,
          1038455,
          154792,
          26455,
          6806,
          32147,
          3675,
          5155,
          553,
          4524,
          3058,
          2206,
          1080,
          7339,
          6467
         ],
         "yaxis": "y"
        }
       ],
       "layout": {
        "legend": {
         "tracegroupgap": 0
        },
        "template": {
         "data": {
          "bar": [
           {
            "error_x": {
             "color": "#2a3f5f"
            },
            "error_y": {
             "color": "#2a3f5f"
            },
            "marker": {
             "line": {
              "color": "#E5ECF6",
              "width": 0.5
             },
             "pattern": {
              "fillmode": "overlay",
              "size": 10,
              "solidity": 0.2
             }
            },
            "type": "bar"
           }
          ],
          "barpolar": [
           {
            "marker": {
             "line": {
              "color": "#E5ECF6",
              "width": 0.5
             },
             "pattern": {
              "fillmode": "overlay",
              "size": 10,
              "solidity": 0.2
             }
            },
            "type": "barpolar"
           }
          ],
          "carpet": [
           {
            "aaxis": {
             "endlinecolor": "#2a3f5f",
             "gridcolor": "white",
             "linecolor": "white",
             "minorgridcolor": "white",
             "startlinecolor": "#2a3f5f"
            },
            "baxis": {
             "endlinecolor": "#2a3f5f",
             "gridcolor": "white",
             "linecolor": "white",
             "minorgridcolor": "white",
             "startlinecolor": "#2a3f5f"
            },
            "type": "carpet"
           }
          ],
          "choropleth": [
           {
            "colorbar": {
             "outlinewidth": 0,
             "ticks": ""
            },
            "type": "choropleth"
           }
          ],
          "contour": [
           {
            "colorbar": {
             "outlinewidth": 0,
             "ticks": ""
            },
            "colorscale": [
             [
              0,
              "#0d0887"
             ],
             [
              0.1111111111111111,
              "#46039f"
             ],
             [
              0.2222222222222222,
              "#7201a8"
             ],
             [
              0.3333333333333333,
              "#9c179e"
             ],
             [
              0.4444444444444444,
              "#bd3786"
             ],
             [
              0.5555555555555556,
              "#d8576b"
             ],
             [
              0.6666666666666666,
              "#ed7953"
             ],
             [
              0.7777777777777778,
              "#fb9f3a"
             ],
             [
              0.8888888888888888,
              "#fdca26"
             ],
             [
              1,
              "#f0f921"
             ]
            ],
            "type": "contour"
           }
          ],
          "contourcarpet": [
           {
            "colorbar": {
             "outlinewidth": 0,
             "ticks": ""
            },
            "type": "contourcarpet"
           }
          ],
          "heatmap": [
           {
            "colorbar": {
             "outlinewidth": 0,
             "ticks": ""
            },
            "colorscale": [
             [
              0,
              "#0d0887"
             ],
             [
              0.1111111111111111,
              "#46039f"
             ],
             [
              0.2222222222222222,
              "#7201a8"
             ],
             [
              0.3333333333333333,
              "#9c179e"
             ],
             [
              0.4444444444444444,
              "#bd3786"
             ],
             [
              0.5555555555555556,
              "#d8576b"
             ],
             [
              0.6666666666666666,
              "#ed7953"
             ],
             [
              0.7777777777777778,
              "#fb9f3a"
             ],
             [
              0.8888888888888888,
              "#fdca26"
             ],
             [
              1,
              "#f0f921"
             ]
            ],
            "type": "heatmap"
           }
          ],
          "heatmapgl": [
           {
            "colorbar": {
             "outlinewidth": 0,
             "ticks": ""
            },
            "colorscale": [
             [
              0,
              "#0d0887"
             ],
             [
              0.1111111111111111,
              "#46039f"
             ],
             [
              0.2222222222222222,
              "#7201a8"
             ],
             [
              0.3333333333333333,
              "#9c179e"
             ],
             [
              0.4444444444444444,
              "#bd3786"
             ],
             [
              0.5555555555555556,
              "#d8576b"
             ],
             [
              0.6666666666666666,
              "#ed7953"
             ],
             [
              0.7777777777777778,
              "#fb9f3a"
             ],
             [
              0.8888888888888888,
              "#fdca26"
             ],
             [
              1,
              "#f0f921"
             ]
            ],
            "type": "heatmapgl"
           }
          ],
          "histogram": [
           {
            "marker": {
             "pattern": {
              "fillmode": "overlay",
              "size": 10,
              "solidity": 0.2
             }
            },
            "type": "histogram"
           }
          ],
          "histogram2d": [
           {
            "colorbar": {
             "outlinewidth": 0,
             "ticks": ""
            },
            "colorscale": [
             [
              0,
              "#0d0887"
             ],
             [
              0.1111111111111111,
              "#46039f"
             ],
             [
              0.2222222222222222,
              "#7201a8"
             ],
             [
              0.3333333333333333,
              "#9c179e"
             ],
             [
              0.4444444444444444,
              "#bd3786"
             ],
             [
              0.5555555555555556,
              "#d8576b"
             ],
             [
              0.6666666666666666,
              "#ed7953"
             ],
             [
              0.7777777777777778,
              "#fb9f3a"
             ],
             [
              0.8888888888888888,
              "#fdca26"
             ],
             [
              1,
              "#f0f921"
             ]
            ],
            "type": "histogram2d"
           }
          ],
          "histogram2dcontour": [
           {
            "colorbar": {
             "outlinewidth": 0,
             "ticks": ""
            },
            "colorscale": [
             [
              0,
              "#0d0887"
             ],
             [
              0.1111111111111111,
              "#46039f"
             ],
             [
              0.2222222222222222,
              "#7201a8"
             ],
             [
              0.3333333333333333,
              "#9c179e"
             ],
             [
              0.4444444444444444,
              "#bd3786"
             ],
             [
              0.5555555555555556,
              "#d8576b"
             ],
             [
              0.6666666666666666,
              "#ed7953"
             ],
             [
              0.7777777777777778,
              "#fb9f3a"
             ],
             [
              0.8888888888888888,
              "#fdca26"
             ],
             [
              1,
              "#f0f921"
             ]
            ],
            "type": "histogram2dcontour"
           }
          ],
          "mesh3d": [
           {
            "colorbar": {
             "outlinewidth": 0,
             "ticks": ""
            },
            "type": "mesh3d"
           }
          ],
          "parcoords": [
           {
            "line": {
             "colorbar": {
              "outlinewidth": 0,
              "ticks": ""
             }
            },
            "type": "parcoords"
           }
          ],
          "pie": [
           {
            "automargin": true,
            "type": "pie"
           }
          ],
          "scatter": [
           {
            "fillpattern": {
             "fillmode": "overlay",
             "size": 10,
             "solidity": 0.2
            },
            "type": "scatter"
           }
          ],
          "scatter3d": [
           {
            "line": {
             "colorbar": {
              "outlinewidth": 0,
              "ticks": ""
             }
            },
            "marker": {
             "colorbar": {
              "outlinewidth": 0,
              "ticks": ""
             }
            },
            "type": "scatter3d"
           }
          ],
          "scattercarpet": [
           {
            "marker": {
             "colorbar": {
              "outlinewidth": 0,
              "ticks": ""
             }
            },
            "type": "scattercarpet"
           }
          ],
          "scattergeo": [
           {
            "marker": {
             "colorbar": {
              "outlinewidth": 0,
              "ticks": ""
             }
            },
            "type": "scattergeo"
           }
          ],
          "scattergl": [
           {
            "marker": {
             "colorbar": {
              "outlinewidth": 0,
              "ticks": ""
             }
            },
            "type": "scattergl"
           }
          ],
          "scattermapbox": [
           {
            "marker": {
             "colorbar": {
              "outlinewidth": 0,
              "ticks": ""
             }
            },
            "type": "scattermapbox"
           }
          ],
          "scatterpolar": [
           {
            "marker": {
             "colorbar": {
              "outlinewidth": 0,
              "ticks": ""
             }
            },
            "type": "scatterpolar"
           }
          ],
          "scatterpolargl": [
           {
            "marker": {
             "colorbar": {
              "outlinewidth": 0,
              "ticks": ""
             }
            },
            "type": "scatterpolargl"
           }
          ],
          "scatterternary": [
           {
            "marker": {
             "colorbar": {
              "outlinewidth": 0,
              "ticks": ""
             }
            },
            "type": "scatterternary"
           }
          ],
          "surface": [
           {
            "colorbar": {
             "outlinewidth": 0,
             "ticks": ""
            },
            "colorscale": [
             [
              0,
              "#0d0887"
             ],
             [
              0.1111111111111111,
              "#46039f"
             ],
             [
              0.2222222222222222,
              "#7201a8"
             ],
             [
              0.3333333333333333,
              "#9c179e"
             ],
             [
              0.4444444444444444,
              "#bd3786"
             ],
             [
              0.5555555555555556,
              "#d8576b"
             ],
             [
              0.6666666666666666,
              "#ed7953"
             ],
             [
              0.7777777777777778,
              "#fb9f3a"
             ],
             [
              0.8888888888888888,
              "#fdca26"
             ],
             [
              1,
              "#f0f921"
             ]
            ],
            "type": "surface"
           }
          ],
          "table": [
           {
            "cells": {
             "fill": {
              "color": "#EBF0F8"
             },
             "line": {
              "color": "white"
             }
            },
            "header": {
             "fill": {
              "color": "#C8D4E3"
             },
             "line": {
              "color": "white"
             }
            },
            "type": "table"
           }
          ]
         },
         "layout": {
          "annotationdefaults": {
           "arrowcolor": "#2a3f5f",
           "arrowhead": 0,
           "arrowwidth": 1
          },
          "autotypenumbers": "strict",
          "coloraxis": {
           "colorbar": {
            "outlinewidth": 0,
            "ticks": ""
           }
          },
          "colorscale": {
           "diverging": [
            [
             0,
             "#8e0152"
            ],
            [
             0.1,
             "#c51b7d"
            ],
            [
             0.2,
             "#de77ae"
            ],
            [
             0.3,
             "#f1b6da"
            ],
            [
             0.4,
             "#fde0ef"
            ],
            [
             0.5,
             "#f7f7f7"
            ],
            [
             0.6,
             "#e6f5d0"
            ],
            [
             0.7,
             "#b8e186"
            ],
            [
             0.8,
             "#7fbc41"
            ],
            [
             0.9,
             "#4d9221"
            ],
            [
             1,
             "#276419"
            ]
           ],
           "sequential": [
            [
             0,
             "#0d0887"
            ],
            [
             0.1111111111111111,
             "#46039f"
            ],
            [
             0.2222222222222222,
             "#7201a8"
            ],
            [
             0.3333333333333333,
             "#9c179e"
            ],
            [
             0.4444444444444444,
             "#bd3786"
            ],
            [
             0.5555555555555556,
             "#d8576b"
            ],
            [
             0.6666666666666666,
             "#ed7953"
            ],
            [
             0.7777777777777778,
             "#fb9f3a"
            ],
            [
             0.8888888888888888,
             "#fdca26"
            ],
            [
             1,
             "#f0f921"
            ]
           ],
           "sequentialminus": [
            [
             0,
             "#0d0887"
            ],
            [
             0.1111111111111111,
             "#46039f"
            ],
            [
             0.2222222222222222,
             "#7201a8"
            ],
            [
             0.3333333333333333,
             "#9c179e"
            ],
            [
             0.4444444444444444,
             "#bd3786"
            ],
            [
             0.5555555555555556,
             "#d8576b"
            ],
            [
             0.6666666666666666,
             "#ed7953"
            ],
            [
             0.7777777777777778,
             "#fb9f3a"
            ],
            [
             0.8888888888888888,
             "#fdca26"
            ],
            [
             1,
             "#f0f921"
            ]
           ]
          },
          "colorway": [
           "#636efa",
           "#EF553B",
           "#00cc96",
           "#ab63fa",
           "#FFA15A",
           "#19d3f3",
           "#FF6692",
           "#B6E880",
           "#FF97FF",
           "#FECB52"
          ],
          "font": {
           "color": "#2a3f5f"
          },
          "geo": {
           "bgcolor": "white",
           "lakecolor": "white",
           "landcolor": "#E5ECF6",
           "showlakes": true,
           "showland": true,
           "subunitcolor": "white"
          },
          "hoverlabel": {
           "align": "left"
          },
          "hovermode": "closest",
          "mapbox": {
           "style": "light"
          },
          "paper_bgcolor": "white",
          "plot_bgcolor": "#E5ECF6",
          "polar": {
           "angularaxis": {
            "gridcolor": "white",
            "linecolor": "white",
            "ticks": ""
           },
           "bgcolor": "#E5ECF6",
           "radialaxis": {
            "gridcolor": "white",
            "linecolor": "white",
            "ticks": ""
           }
          },
          "scene": {
           "xaxis": {
            "backgroundcolor": "#E5ECF6",
            "gridcolor": "white",
            "gridwidth": 2,
            "linecolor": "white",
            "showbackground": true,
            "ticks": "",
            "zerolinecolor": "white"
           },
           "yaxis": {
            "backgroundcolor": "#E5ECF6",
            "gridcolor": "white",
            "gridwidth": 2,
            "linecolor": "white",
            "showbackground": true,
            "ticks": "",
            "zerolinecolor": "white"
           },
           "zaxis": {
            "backgroundcolor": "#E5ECF6",
            "gridcolor": "white",
            "gridwidth": 2,
            "linecolor": "white",
            "showbackground": true,
            "ticks": "",
            "zerolinecolor": "white"
           }
          },
          "shapedefaults": {
           "line": {
            "color": "#2a3f5f"
           }
          },
          "ternary": {
           "aaxis": {
            "gridcolor": "white",
            "linecolor": "white",
            "ticks": ""
           },
           "baxis": {
            "gridcolor": "white",
            "linecolor": "white",
            "ticks": ""
           },
           "bgcolor": "#E5ECF6",
           "caxis": {
            "gridcolor": "white",
            "linecolor": "white",
            "ticks": ""
           }
          },
          "title": {
           "x": 0.05
          },
          "xaxis": {
           "automargin": true,
           "gridcolor": "white",
           "linecolor": "white",
           "ticks": "",
           "title": {
            "standoff": 15
           },
           "zerolinecolor": "white",
           "zerolinewidth": 2
          },
          "yaxis": {
           "automargin": true,
           "gridcolor": "white",
           "linecolor": "white",
           "ticks": "",
           "title": {
            "standoff": 15
           },
           "zerolinecolor": "white",
           "zerolinewidth": 2
          }
         }
        },
        "title": {
         "text": "Like Count and View Count Scatter for All Videos"
        },
        "xaxis": {
         "anchor": "y",
         "domain": [
          0,
          1
         ],
         "title": {
          "text": "like_count"
         }
        },
        "yaxis": {
         "anchor": "x",
         "domain": [
          0,
          1
         ],
         "title": {
          "text": "view_count"
         }
        }
       }
      },
      "text/html": [
       "<div>                            <div id=\"fae87651-5e45-4903-82f7-0c3f342c638f\" class=\"plotly-graph-div\" style=\"height:525px; width:100%;\"></div>            <script type=\"text/javascript\">                require([\"plotly\"], function(Plotly) {                    window.PLOTLYENV=window.PLOTLYENV || {};                                    if (document.getElementById(\"fae87651-5e45-4903-82f7-0c3f342c638f\")) {                    Plotly.newPlot(                        \"fae87651-5e45-4903-82f7-0c3f342c638f\",                        [{\"customdata\":[[\"Confronting the seller of a questionable Kobe autograph\",447,\"2022-11-02\"],[\"Do experts think my cheap Kobe autograph is real?\",57,\"2022-11-01\"],[\"Anyone need a new camera?\",3230,\"2022-11-01\"],[\"I asked collectors if my cheap Kobe autographs are real\",70,\"2022-10-31\"],[\"Unboxing a $400 Kobe autographed ball (real?)\",70,\"2022-10-28\"],[\"I bought a $400 Kobe autographed basketball (sus?)\",88,\"2022-10-28\"],[\"Is the cheapest Kobe autographed ball online real?\",220,\"2022-10-26\"],[\"I bought the cheapest Kobe autographed ball online\",68,\"2022-10-26\"],[\"How much gold I found in $100 Amazon pay dirt\",606,\"2022-10-20\"],[\"I bought $500 worth of G-Shock\\ufffc\\ufffc watches\",1536,\"2022-10-14\"],[\"I manufactured Yeezy sunglasses from scratch\",203,\"2022-10-12\"],[\"I paid artists $200 to turn Yeezys into sunglasses (foam runners)\",213,\"2022-10-11\"],[\"I Turned Yeezy Sneakers Into Sunglasses\",70,\"2022-10-06\"],[\"How I profited off the fidget spinner craze\",260,\"2022-10-04\"],[\"Easy Amazon side hustle - sell books with no words #ad\",30,\"2022-10-03\"],[\"I made a 3D printed 500k YouTube play button\",39,\"2022-10-01\"],[\"Make $1700 A Month Selling Books On Amazon - Easy Side Hustle - No Writing Required\",90,\"2022-09-28\"],[\"How to make $200 a day with a drone\",814,\"2022-09-23\"],[\"My best finds at the thrift store (as a reseller)\",67,\"2022-09-17\"],[\"These boring glasses made me thousands online\",32,\"2022-09-14\"],[\"Testing the world\\u2019s brightest flashlight OUTSIDE\",135,\"2022-09-08\"],[\"I bought the brightest flashlight in the world ($700)\",53,\"2022-09-07\"],[\"Unboxing the brightest flashlight in the world ($700)\",35,\"2022-09-07\"],[\"Picking the winner of the MacBook\\u2026\",59,\"2022-09-05\"],[\"I paid an artist $20 to turn Yeezy sneakers into sunglasses\",645,\"2022-09-01\"],[\"I got a gadget filled mystery box in the mail #shorts #sponsored\",154,\"2022-08-31\"],[\"The unfortunate truth of many US \\u201cfactories\\u201d\",62,\"2022-08-29\"],[\"Valuing the gold I found in Amazon pay dirt\",255,\"2022-08-24\"],[\"How much gold I found in Amazon pay dirt\",778,\"2022-08-23\"],[\"Is Gold Pay Dirt A Good Side Hustle?\",420,\"2022-08-22\"],[\"I Bought Gold Pay Dirt And Made $______\",230,\"2022-08-19\"],[\"How much my money making hotspot has made\",246,\"2022-08-18\"],[\"He sold me fake Pok\\u00e9mon cards\\u2026 maybe?\",493,\"2022-08-12\"],[\"He had 0 viewers\\u2026 so I sent him $ for bitcoin\",87,\"2022-08-11\"],[\"Revealing My Entire Pok\\u00e9mon Investment\",830,\"2022-08-08\"],[\"I tested the midnight Walmart side hustle\",686,\"2022-08-05\"],[\"I started a clothing brand for under $100 #shorts #ad\",98,\"2022-08-04\"],[\"saying goodbye\\u2026\",2622,\"2022-08-03\"],[\"How much iPhone box costs to make in USA vs. China\",5859,\"2022-07-30\"],[\"How she started a $10mil per year \\u201cside hustle\\u201d\",116,\"2022-07-28\"],[\"I Tried The Amazon Affiliate Side Hustle (how much I made)\",99,\"2022-07-27\"],[\"Is Amazon Affiliate Marketing a Good Side Hustle?\",221,\"2022-07-26\"],[\"I Tried Selling Amazon Products With Memes\",77,\"2022-07-25\"],[\"I\\u2019m turning a meme page into a business\",176,\"2022-07-22\"],[\"I bought a questionable pineapple\\u2026\",4680,\"2022-07-20\"],[\"I\\u2019m investing in $100 empty boxes #shorts #sponsored\",475,\"2022-07-18\"],[\"I paid Fiverr to redesign my product packaging\",2753,\"2022-07-14\"],[\"I tried turning $21 into $100 in profit (30min challenge)\",414,\"2022-07-12\"],[\"The science behind my new YouTube thumbnail\\u2026\",72,\"2022-07-11\"],[\"Taste testing the most expensive water on Amazon\",1515,\"2022-07-07\"],[\"I bought the most expensive water on Amazon\",4078,\"2022-07-05\"],[\"I tried going viral as a small brand\",536,\"2022-07-01\"],[\"I\\u2019m building a sunglasses brand to compete with Rayban (ep.2)\",417,\"2022-06-28\"],[\"I tried upgrading my money making hotspot (helium update PT.5)\",651,\"2022-06-25\"],[\"I Tried Relaunching My Failed Business - Ep.1\",85,\"2022-06-24\"],[\"They were trying to disguise their side hustle\\u2026\",33,\"2022-06-24\"],[\"Did this seller scam me with her rolex?\",152,\"2022-06-22\"],[\"I tried finding profitable flips (ELON MUSK EDITION)\",173,\"2022-06-18\"],[\"I tried hyper realistic VR gaming (zombie edition)\",98,\"2022-06-16\"],[\"Surprising her with the cheapest rolex on eBay\",1289,\"2022-06-13\"],[\"Confronting the seller of the \\u201ccheapest rolex on ebay\\u201d\",626,\"2022-06-10\"],[\"Is the cheapest rolex on eBay real?\",2162,\"2022-06-09\"],[\"I Bought The Cheapest Rolex On eBay\",1410,\"2022-06-08\"],[\"Unboxing the cheapest rolex on eBay\",234,\"2022-06-03\"],[\"I bought the cheapest rolex on eBay\\u2026\",293,\"2022-06-02\"],[\"Did I find real Yeezy slides?\",549,\"2022-05-30\"],[\"Asking Rolex dealers if I can film in their store\",67,\"2022-05-28\"],[\"I looked for profit in a RICH CITY thrift store\",744,\"2022-05-27\"],[\"My Money Printing Tablet Farm Journey (How much I made)\",114,\"2022-05-24\"],[\"I tried making money with unclaimed mail\",728,\"2022-05-22\"],[\"Make this ONE change to 2x your eBay/Amazon sales\",202,\"2022-05-20\"],[\"My sneaky plan to monetize my meme page\\u2026\",176,\"2022-05-18\"],[\"I just UPGRADED my money making hotspot (helium update PT.4)\",774,\"2022-05-13\"],[\"How my failed business started my new career\\u2026\",68,\"2022-05-11\"],[\"I tried dropshipping\\u2026 here\\u2019s how much I made\",91,\"2022-05-10\"],[\"I tried finding profitable flips at Walmart (in a RICH city \\ud83d\\udcb0)\",567,\"2022-05-06\"],[\"I bought a Crushmetric SwitchPen (for research)\",56,\"2022-05-02\"],[\"I bought a Pok\\u00e9mon collection to flip for profit (AGAIN)\",457,\"2022-04-29\"],[\"My biggest viral video flop all time\\u2026\",32,\"2022-04-26\"],[\"Jason Derulo DM\\u2019d me\\u2026 (here\\u2019s why)\",55,\"2022-04-22\"],[\"I tried making a pro commercial for under $500\",105,\"2022-04-21\"],[\"Jidion\\u2019s secret to growing 4mil subs in 1 year\\u2026\",30,\"2022-04-18\"],[\"I tried flipping sneakers from the Nike outlet\",852,\"2022-04-15\"],[\"How I used 1 viral video to grow my business FAST\",39,\"2022-04-13\"],[\"My biggest failure as an entrepreneur\\u2026\",94,\"2022-04-12\"],[\"Upgrading my office into a video studio for $100\",44,\"2022-04-08\"],[\"Comparing PRIME to Powerade (will this brand win?)\",66,\"2022-04-05\"],[\"I tried finding profitable flips at Walmart AGAIN\",470,\"2022-04-01\"],[\"Giving streamers with 0 viewers $ to buy bitcoin\",89,\"2022-03-31\"],[\"Unboxing my 100k play button  my best YT advice\",57,\"2022-03-29\"],[\"I asked a $100m CEO: \\u201cis college worth it?\\u201d\",49,\"2022-03-26\"],[\"I tried finding profitable flips at Goodwill\\u2026\",785,\"2022-03-24\"],[\"How I find niche $ making products on eBay\",52,\"2022-03-17\"],[\"Why I spent $3k on a full send metacard NFT (Nelk)\",441,\"2022-03-15\"],[\"How I grew from 1k-100k subscribers in 1 week\",48,\"2022-03-12\"],[\"I upgraded my $ making hotspot (week 2 results)\",204,\"2022-03-10\"],[\"I built a dropshipping store from a cozy cabin\",77,\"2022-03-09\"],[\"What influencers actually get for free\\u2026\",116,\"2022-03-08\"],[\"I tried starting a streetwear brand for $70\",534,\"2022-03-07\"],[\"I spent $100 on Pok\\u00e9mon cards to flip for profit\",1015,\"2022-03-03\"],[\"I made a diamond play button out of paper\",350,\"2022-03-02\"],[\"How much $ I\\u2019ve made helium mining (Week 1)\",1206,\"2022-02-28\"],[\"I tried finding profitable flips at Walmart\\u2026\",4176,\"2022-02-25\"],[\"I asked a 9 figure ecom CEO if FB ads still work\",35,\"2022-02-25\"],[\"I built a sunglasses brand to compete with Ray-Ban\",1119,\"2022-02-24\"],[\"I bought a wireless hotspot that makes me money\",1255,\"2022-02-22\"],[\"A multimillionaire CEO\\u2019s secret manufacturing tip\",338,\"2022-02-18\"],[\"How much my T-shirt store made from $100 in Fb ads\",85,\"2022-02-17\"],[\"My biggest struggle as an entrepreneur\",41,\"2022-02-15\"],[\"Ranking side hustles I\\u2019ve tried from worst to best\",698,\"2022-02-14\"],[\"I paid Fiverr $30 and $120 to design NFT\\u2019s (comparison)\",1394,\"2022-02-11\"],[\"My funniest flip I\\u2019ve ever done (made good $ tho)\",55,\"2022-02-10\"],[\"I tried the golf club flipping side hustle (it works)\",64,\"2022-02-08\"],[\"How I made my NFT chain (step by step)\",152,\"2022-02-07\"],[\"\\u201cDrama\\u201d YouTubers are making a lot of money rn\\u2026\",61,\"2022-02-05\"],[\"How to grow $1k into $1mil online (what I did)\",136,\"2022-02-04\"],[\"I made a chain so I can wear my NFT\\u2019s\\u2026\",103,\"2022-02-02\"],[\"My print on demand t-shirt store is making money\",18,\"2022-02-01\"],[\"Why I\\u2019m not selling NFT\\u2019s ever again\\u2026\",268,\"2022-01-31\"],[\"How I built a tablet farm that makes me money\\u2026\",4414,\"2022-01-28\"],[\"It took me 1 year to get 1k YouTube subs\\u2026 \\ud83d\\ude2d\",69,\"2022-01-27\"],[\"How much my Pok\\u00e9mon cards investment is worth \\ud83d\\udcb0\",2566,\"2022-01-26\"],[\"I Paid Fiverr Video Editors To Make A Commercial\",2473,\"2022-01-25\"],[\"At 25yo I was doing $100k per month on eBay\",164,\"2022-01-24\"],[\"I tried the print on demand t-shirt side hustle\",40,\"2022-01-20\"],[\"How I&#39;ve Been Doubling My Money With NFT&#39;s\",53,\"2022-01-19\"],[\"I tried making $ with smaller NFT projects\\u2026\",83,\"2022-01-18\"],[\"How much I made selling dollar store items online\\u2026\",493,\"2022-01-17\"],[\"Turning a dollar store product into a brand (ep.1)\",14,\"2022-01-13\"],[\"My New Money Printing Tablet Farm\",245,\"2022-01-07\"],[\"Trying to turn $0 into $10k from scratch \\ud83d\\udcb0\",1026,\"2021-10-28\"],[\"I tried flipping NFTs\\u2026 here\\u2019s how much I made.\",1917,\"2021-10-27\"],[\"I tried finding profitable sneakers at Kohl\\u2019s \\ud83d\\ude16\",150,\"2021-10-20\"],[\"Dropshipping From A Cabin In The Woods (24HR Challenge)\",44,\"2021-10-15\"],[\"Giving away your products is actually really smart\",29,\"2021-10-14\"],[\"Were these brand names from Fiverr worth $50? \\ud83d\\ude16\",63,\"2021-10-07\"],[\"How a NEW eBay seller can rank and get sales ASAP\",21,\"2021-10-06\"],[\"10k today or 1 Bitcoin in 5 years? (on Omegle\\u2026)\",38,\"2021-10-05\"],[\"Using a billboard to grow my Instagram (THE RESULTS)\",14,\"2021-10-01\"],[\"The Trick To The YouTube Shorts Algorithm\\u2026\",70,\"2021-09-30\"],[\"My first product I designed  manufactured \\ud83d\\ude16\",65,\"2021-09-29\"],[\"Can you ACTUALLY grow on Instagram w/ billboards?\",12,\"2021-09-28\"],[\"My Day As A Small YouTuber Trying To Make It (Raw Footage)\",40,\"2021-09-25\"],[\"A famous artist asked for my help \\ud83d\\ude26\\u2026\",9,\"2021-09-24\"],[\"The best eBay strategy ever \\ud83d\\ude4c\",10,\"2021-09-22\"],[\"Business is like a butterfly\\u2026\",6,\"2021-09-21\"],[\"NFT pills!? Here\\u2019s why I bought one\\u2026\",23,\"2021-09-16\"],[\"I tried turning memes into T-shirt designs\\u2026 \\ud83d\\ude16\",6,\"2021-09-16\"],[\"3 Slept On TikTok Tips That Made My Brand Go Viral\",13,\"2021-09-14\"],[\"The weirdest business purchase I\\u2019ve ever made \\ud83d\\ude16\",19,\"2021-09-14\"],[\"How to make your clothing brand go VIRAL\",16,\"2021-09-10\"],[\"I Bought A Billboard To Grow My Instagram\",31,\"2021-09-07\"],[\"Prototyping has never been easier or cheaper\\u2026\",7,\"2021-09-03\"],[\"I got thumbnail advice from MrBeast \\ud83d\\ude0f\",225,\"2021-09-02\"],[\"How to make your brand go viral on TikTok \\ud83d\\udd25\",2,\"2021-09-01\"],[\"I Tried Making Money With Virtual Horse Racing\",32,\"2021-08-31\"],[\"The cheap sunglasses side hustle\\u2026 (no one\\u2019s doing it!)\",28,\"2021-08-27\"],[\"The genius marketing behind Logan  Jake Paul\\u2026\",6,\"2021-08-27\"],[\"I&#39;m quitting my job and becoming a digital horse breeder...\",13,\"2021-08-25\"],[\"0 To 10k Instagram Followers From Scratch - Using TikTok to grow fast on IG | Ep. 2\",11,\"2021-08-24\"],[\"The EXACT method I used to get 500k followers on Facebook in 1 year \\ud83d\\udd25\",5,\"2021-08-24\"],[\"I grossed millions on eBay with this method\\u2026\",11,\"2021-08-19\"],[\"Hey McDonald\\u2019s, do you accept Bitcoin? \\ud83d\\ude2d\",14,\"2021-08-18\"],[\"I manufactured an iPhone box from scratch \\ud83d\\ude16 (3 month process)\",20,\"2021-08-16\"],[\"I made a terrible investment decision with this Pok\\u00e9mon card\\u2026 \\ud83d\\ude2d\",10,\"2021-08-12\"],[\"I built a profitable Shopify store in 1 hour \\ud83d\\udc40\",21,\"2021-08-11\"],[\"How I Used Instagram To 2x My Business&#39; Sales\",4,\"2021-08-11\"],[\"I paid $1365 for a product commercial on Fiverr\\u2026 Was it worth it?\",40,\"2021-08-06\"],[\"Calling Tesla And Asking If They Accept Bitcoin\\u2026\",13,\"2021-08-06\"],[\"I hired a lawyer for $183 off of Fiverr\",18,\"2021-08-05\"],[\"How Yeti Charges $35 For A Cup\\u2026\",691,\"2021-08-04\"],[\"The genius marketing behind NELK  Full Send\\u2026\",109,\"2021-08-02\"],[\"I PAID someone on FIVERR to EDIT my commercial\",31,\"2021-07-26\"],[\"0 To 10k Instagram Followers From Scratch | Ep. 1\",25,\"2021-07-23\"],[\"Dropshipping is dead in 2021\\u2026 Do this instead.\",19,\"2021-07-20\"],[\"The Instagram Growth Hack Big Pages Never Share\\u2026 (2021)\",15,\"2021-07-01\"],[\"1 Hour Shopify Dropshipping Challenge (FROM SCRATCH)\",30,\"2021-06-23\"],[\"I Tried Streaming On Facebook Gaming (Complete Beginner)\",4,\"2021-06-09\"],[\"7 eBay Hacks That Big Sellers Never Share...\",17,\"2021-06-01\"],[\"9 Side Hustles That Are Slept On In 2021 ($200 Per Day)\",9,\"2021-05-27\"],[\"I Tried Dropshipping A Dollar Tree Product (72 Hour Challenge)\",10,\"2021-04-30\"],[\"Zero To 500k On Facebook In 1 Year | Full Step By Step Training\",10,\"2021-03-30\"],[\"I Tried Dropshipping From Scratch (24HR CHALLENGE)\",55,\"2021-03-10\"],[\"How I Started A Million Dollar Business From My Mom&#39;s Basement\",37,\"2021-02-23\"]],\"hovertemplate\":\"like_count=%{x}<br>view_count=%{y}<br>video_title=%{customdata[0]}<br>comment_count=%{customdata[1]}<br>upload_date=%{customdata[2]}<extra></extra>\",\"legendgroup\":\"\",\"marker\":{\"color\":\"#636efa\",\"symbol\":\"circle\"},\"mode\":\"markers\",\"name\":\"\",\"orientation\":\"v\",\"showlegend\":false,\"x\":[62761,9483,3162,78562,46803,135524,141783,30172,110940,75225,33210,143156,478,197699,3325,4279,680,123892,6046,8983,16588,6937,3611,3890,317273,16214,10788,52224,248207,117969,1582,64077,21197,8667,115333,71427,14119,16707,325141,10472,29550,152663,2187,22415,946659,159558,408708,158666,12508,340768,623213,318865,57089,154716,877,11616,65159,61655,24664,90274,80809,2002289,14921,30044,54112,308838,11054,115574,1413,193022,63755,15479,219116,12555,16393,123699,13506,86320,8807,8124,10616,4489,306074,8412,7247,6304,5435,128809,7084,5082,5042,82160,5882,18276,4392,33465,9803,18598,34462,223045,177703,180433,851957,6914,123712,296485,51289,17998,10898,182392,153407,8643,8918,7828,7236,14051,4843,6933,15715,584782,8454,874614,121666,27326,5802,809,6120,85132,3352,11572,245725,168062,39161,763,5186,1698,4268,1464,1679,4313,2185,1542,158,1872,2153,1247,1163,864,359,1184,4310,332,1322,45826,64,584,1421,651,1168,170,816,1660,589,1209,769,1816,65,1154,667,856,37628,4941,1330,384,1105,194,256,24,242,175,95,81,397,405],\"xaxis\":\"x\",\"y\":[781610,113539,40723,971564,501415,1469829,2103937,455423,1835207,1162979,455182,1871976,9368,3004250,48959,49641,10834,1729501,96751,91084,229984,109407,50759,53219,4234596,211944,200262,625339,5827039,1844903,37322,866417,421491,157334,2756855,1837882,188385,215543,5546984,180821,385224,2018008,39091,269367,10616068,1681458,7941682,1952270,183171,3095865,7633883,3554636,771667,2370984,16078,231893,853458,806622,453980,1316230,1234922,30106646,221018,546741,1160878,4074711,228490,1861965,32861,3214566,1075509,252723,3348675,196201,267343,2116905,192329,1533920,155055,149995,150244,96684,5004675,144830,113690,112897,93456,2057610,122581,76442,103689,1220806,116564,508914,88116,541794,205689,270517,530461,4554853,2674456,2900702,16236845,186803,2644327,6163849,1092992,396180,199155,3036555,2493035,176373,201786,223064,154648,268687,98791,141991,435588,13609004,144452,14570731,1744928,521855,104785,27500,141519,1452106,84049,225342,4715317,4474616,650797,13284,77520,48474,65572,46069,40673,71412,35346,33307,4019,35792,35676,29010,30303,24660,5457,29170,51674,4684,25556,532261,1844,12304,30531,20591,24168,3639,17212,32871,15180,21292,20270,33623,1057,17177,16919,20501,1038455,154792,26455,6806,32147,3675,5155,553,4524,3058,2206,1080,7339,6467],\"yaxis\":\"y\",\"type\":\"scatter\"}],                        {\"template\":{\"data\":{\"histogram2dcontour\":[{\"type\":\"histogram2dcontour\",\"colorbar\":{\"outlinewidth\":0,\"ticks\":\"\"},\"colorscale\":[[0.0,\"#0d0887\"],[0.1111111111111111,\"#46039f\"],[0.2222222222222222,\"#7201a8\"],[0.3333333333333333,\"#9c179e\"],[0.4444444444444444,\"#bd3786\"],[0.5555555555555556,\"#d8576b\"],[0.6666666666666666,\"#ed7953\"],[0.7777777777777778,\"#fb9f3a\"],[0.8888888888888888,\"#fdca26\"],[1.0,\"#f0f921\"]]}],\"choropleth\":[{\"type\":\"choropleth\",\"colorbar\":{\"outlinewidth\":0,\"ticks\":\"\"}}],\"histogram2d\":[{\"type\":\"histogram2d\",\"colorbar\":{\"outlinewidth\":0,\"ticks\":\"\"},\"colorscale\":[[0.0,\"#0d0887\"],[0.1111111111111111,\"#46039f\"],[0.2222222222222222,\"#7201a8\"],[0.3333333333333333,\"#9c179e\"],[0.4444444444444444,\"#bd3786\"],[0.5555555555555556,\"#d8576b\"],[0.6666666666666666,\"#ed7953\"],[0.7777777777777778,\"#fb9f3a\"],[0.8888888888888888,\"#fdca26\"],[1.0,\"#f0f921\"]]}],\"heatmap\":[{\"type\":\"heatmap\",\"colorbar\":{\"outlinewidth\":0,\"ticks\":\"\"},\"colorscale\":[[0.0,\"#0d0887\"],[0.1111111111111111,\"#46039f\"],[0.2222222222222222,\"#7201a8\"],[0.3333333333333333,\"#9c179e\"],[0.4444444444444444,\"#bd3786\"],[0.5555555555555556,\"#d8576b\"],[0.6666666666666666,\"#ed7953\"],[0.7777777777777778,\"#fb9f3a\"],[0.8888888888888888,\"#fdca26\"],[1.0,\"#f0f921\"]]}],\"heatmapgl\":[{\"type\":\"heatmapgl\",\"colorbar\":{\"outlinewidth\":0,\"ticks\":\"\"},\"colorscale\":[[0.0,\"#0d0887\"],[0.1111111111111111,\"#46039f\"],[0.2222222222222222,\"#7201a8\"],[0.3333333333333333,\"#9c179e\"],[0.4444444444444444,\"#bd3786\"],[0.5555555555555556,\"#d8576b\"],[0.6666666666666666,\"#ed7953\"],[0.7777777777777778,\"#fb9f3a\"],[0.8888888888888888,\"#fdca26\"],[1.0,\"#f0f921\"]]}],\"contourcarpet\":[{\"type\":\"contourcarpet\",\"colorbar\":{\"outlinewidth\":0,\"ticks\":\"\"}}],\"contour\":[{\"type\":\"contour\",\"colorbar\":{\"outlinewidth\":0,\"ticks\":\"\"},\"colorscale\":[[0.0,\"#0d0887\"],[0.1111111111111111,\"#46039f\"],[0.2222222222222222,\"#7201a8\"],[0.3333333333333333,\"#9c179e\"],[0.4444444444444444,\"#bd3786\"],[0.5555555555555556,\"#d8576b\"],[0.6666666666666666,\"#ed7953\"],[0.7777777777777778,\"#fb9f3a\"],[0.8888888888888888,\"#fdca26\"],[1.0,\"#f0f921\"]]}],\"surface\":[{\"type\":\"surface\",\"colorbar\":{\"outlinewidth\":0,\"ticks\":\"\"},\"colorscale\":[[0.0,\"#0d0887\"],[0.1111111111111111,\"#46039f\"],[0.2222222222222222,\"#7201a8\"],[0.3333333333333333,\"#9c179e\"],[0.4444444444444444,\"#bd3786\"],[0.5555555555555556,\"#d8576b\"],[0.6666666666666666,\"#ed7953\"],[0.7777777777777778,\"#fb9f3a\"],[0.8888888888888888,\"#fdca26\"],[1.0,\"#f0f921\"]]}],\"mesh3d\":[{\"type\":\"mesh3d\",\"colorbar\":{\"outlinewidth\":0,\"ticks\":\"\"}}],\"scatter\":[{\"fillpattern\":{\"fillmode\":\"overlay\",\"size\":10,\"solidity\":0.2},\"type\":\"scatter\"}],\"parcoords\":[{\"type\":\"parcoords\",\"line\":{\"colorbar\":{\"outlinewidth\":0,\"ticks\":\"\"}}}],\"scatterpolargl\":[{\"type\":\"scatterpolargl\",\"marker\":{\"colorbar\":{\"outlinewidth\":0,\"ticks\":\"\"}}}],\"bar\":[{\"error_x\":{\"color\":\"#2a3f5f\"},\"error_y\":{\"color\":\"#2a3f5f\"},\"marker\":{\"line\":{\"color\":\"#E5ECF6\",\"width\":0.5},\"pattern\":{\"fillmode\":\"overlay\",\"size\":10,\"solidity\":0.2}},\"type\":\"bar\"}],\"scattergeo\":[{\"type\":\"scattergeo\",\"marker\":{\"colorbar\":{\"outlinewidth\":0,\"ticks\":\"\"}}}],\"scatterpolar\":[{\"type\":\"scatterpolar\",\"marker\":{\"colorbar\":{\"outlinewidth\":0,\"ticks\":\"\"}}}],\"histogram\":[{\"marker\":{\"pattern\":{\"fillmode\":\"overlay\",\"size\":10,\"solidity\":0.2}},\"type\":\"histogram\"}],\"scattergl\":[{\"type\":\"scattergl\",\"marker\":{\"colorbar\":{\"outlinewidth\":0,\"ticks\":\"\"}}}],\"scatter3d\":[{\"type\":\"scatter3d\",\"line\":{\"colorbar\":{\"outlinewidth\":0,\"ticks\":\"\"}},\"marker\":{\"colorbar\":{\"outlinewidth\":0,\"ticks\":\"\"}}}],\"scattermapbox\":[{\"type\":\"scattermapbox\",\"marker\":{\"colorbar\":{\"outlinewidth\":0,\"ticks\":\"\"}}}],\"scatterternary\":[{\"type\":\"scatterternary\",\"marker\":{\"colorbar\":{\"outlinewidth\":0,\"ticks\":\"\"}}}],\"scattercarpet\":[{\"type\":\"scattercarpet\",\"marker\":{\"colorbar\":{\"outlinewidth\":0,\"ticks\":\"\"}}}],\"carpet\":[{\"aaxis\":{\"endlinecolor\":\"#2a3f5f\",\"gridcolor\":\"white\",\"linecolor\":\"white\",\"minorgridcolor\":\"white\",\"startlinecolor\":\"#2a3f5f\"},\"baxis\":{\"endlinecolor\":\"#2a3f5f\",\"gridcolor\":\"white\",\"linecolor\":\"white\",\"minorgridcolor\":\"white\",\"startlinecolor\":\"#2a3f5f\"},\"type\":\"carpet\"}],\"table\":[{\"cells\":{\"fill\":{\"color\":\"#EBF0F8\"},\"line\":{\"color\":\"white\"}},\"header\":{\"fill\":{\"color\":\"#C8D4E3\"},\"line\":{\"color\":\"white\"}},\"type\":\"table\"}],\"barpolar\":[{\"marker\":{\"line\":{\"color\":\"#E5ECF6\",\"width\":0.5},\"pattern\":{\"fillmode\":\"overlay\",\"size\":10,\"solidity\":0.2}},\"type\":\"barpolar\"}],\"pie\":[{\"automargin\":true,\"type\":\"pie\"}]},\"layout\":{\"autotypenumbers\":\"strict\",\"colorway\":[\"#636efa\",\"#EF553B\",\"#00cc96\",\"#ab63fa\",\"#FFA15A\",\"#19d3f3\",\"#FF6692\",\"#B6E880\",\"#FF97FF\",\"#FECB52\"],\"font\":{\"color\":\"#2a3f5f\"},\"hovermode\":\"closest\",\"hoverlabel\":{\"align\":\"left\"},\"paper_bgcolor\":\"white\",\"plot_bgcolor\":\"#E5ECF6\",\"polar\":{\"bgcolor\":\"#E5ECF6\",\"angularaxis\":{\"gridcolor\":\"white\",\"linecolor\":\"white\",\"ticks\":\"\"},\"radialaxis\":{\"gridcolor\":\"white\",\"linecolor\":\"white\",\"ticks\":\"\"}},\"ternary\":{\"bgcolor\":\"#E5ECF6\",\"aaxis\":{\"gridcolor\":\"white\",\"linecolor\":\"white\",\"ticks\":\"\"},\"baxis\":{\"gridcolor\":\"white\",\"linecolor\":\"white\",\"ticks\":\"\"},\"caxis\":{\"gridcolor\":\"white\",\"linecolor\":\"white\",\"ticks\":\"\"}},\"coloraxis\":{\"colorbar\":{\"outlinewidth\":0,\"ticks\":\"\"}},\"colorscale\":{\"sequential\":[[0.0,\"#0d0887\"],[0.1111111111111111,\"#46039f\"],[0.2222222222222222,\"#7201a8\"],[0.3333333333333333,\"#9c179e\"],[0.4444444444444444,\"#bd3786\"],[0.5555555555555556,\"#d8576b\"],[0.6666666666666666,\"#ed7953\"],[0.7777777777777778,\"#fb9f3a\"],[0.8888888888888888,\"#fdca26\"],[1.0,\"#f0f921\"]],\"sequentialminus\":[[0.0,\"#0d0887\"],[0.1111111111111111,\"#46039f\"],[0.2222222222222222,\"#7201a8\"],[0.3333333333333333,\"#9c179e\"],[0.4444444444444444,\"#bd3786\"],[0.5555555555555556,\"#d8576b\"],[0.6666666666666666,\"#ed7953\"],[0.7777777777777778,\"#fb9f3a\"],[0.8888888888888888,\"#fdca26\"],[1.0,\"#f0f921\"]],\"diverging\":[[0,\"#8e0152\"],[0.1,\"#c51b7d\"],[0.2,\"#de77ae\"],[0.3,\"#f1b6da\"],[0.4,\"#fde0ef\"],[0.5,\"#f7f7f7\"],[0.6,\"#e6f5d0\"],[0.7,\"#b8e186\"],[0.8,\"#7fbc41\"],[0.9,\"#4d9221\"],[1,\"#276419\"]]},\"xaxis\":{\"gridcolor\":\"white\",\"linecolor\":\"white\",\"ticks\":\"\",\"title\":{\"standoff\":15},\"zerolinecolor\":\"white\",\"automargin\":true,\"zerolinewidth\":2},\"yaxis\":{\"gridcolor\":\"white\",\"linecolor\":\"white\",\"ticks\":\"\",\"title\":{\"standoff\":15},\"zerolinecolor\":\"white\",\"automargin\":true,\"zerolinewidth\":2},\"scene\":{\"xaxis\":{\"backgroundcolor\":\"#E5ECF6\",\"gridcolor\":\"white\",\"linecolor\":\"white\",\"showbackground\":true,\"ticks\":\"\",\"zerolinecolor\":\"white\",\"gridwidth\":2},\"yaxis\":{\"backgroundcolor\":\"#E5ECF6\",\"gridcolor\":\"white\",\"linecolor\":\"white\",\"showbackground\":true,\"ticks\":\"\",\"zerolinecolor\":\"white\",\"gridwidth\":2},\"zaxis\":{\"backgroundcolor\":\"#E5ECF6\",\"gridcolor\":\"white\",\"linecolor\":\"white\",\"showbackground\":true,\"ticks\":\"\",\"zerolinecolor\":\"white\",\"gridwidth\":2}},\"shapedefaults\":{\"line\":{\"color\":\"#2a3f5f\"}},\"annotationdefaults\":{\"arrowcolor\":\"#2a3f5f\",\"arrowhead\":0,\"arrowwidth\":1},\"geo\":{\"bgcolor\":\"white\",\"landcolor\":\"#E5ECF6\",\"subunitcolor\":\"white\",\"showland\":true,\"showlakes\":true,\"lakecolor\":\"white\"},\"title\":{\"x\":0.05},\"mapbox\":{\"style\":\"light\"}}},\"xaxis\":{\"anchor\":\"y\",\"domain\":[0.0,1.0],\"title\":{\"text\":\"like_count\"}},\"yaxis\":{\"anchor\":\"x\",\"domain\":[0.0,1.0],\"title\":{\"text\":\"view_count\"}},\"legend\":{\"tracegroupgap\":0},\"title\":{\"text\":\"Like Count and View Count Scatter for All Videos\"}},                        {\"responsive\": true}                    ).then(function(){\n",
       "                            \n",
       "var gd = document.getElementById('fae87651-5e45-4903-82f7-0c3f342c638f');\n",
       "var x = new MutationObserver(function (mutations, observer) {{\n",
       "        var display = window.getComputedStyle(gd).display;\n",
       "        if (!display || display === 'none') {{\n",
       "            console.log([gd, 'removed!']);\n",
       "            Plotly.purge(gd);\n",
       "            observer.disconnect();\n",
       "        }}\n",
       "}});\n",
       "\n",
       "// Listen for the removal of the full notebook cells\n",
       "var notebookContainer = gd.closest('#notebook-container');\n",
       "if (notebookContainer) {{\n",
       "    x.observe(notebookContainer, {childList: true});\n",
       "}}\n",
       "\n",
       "// Listen for the clearing of the current output cell\n",
       "var outputEl = gd.closest('.output');\n",
       "if (outputEl) {{\n",
       "    x.observe(outputEl, {childList: true});\n",
       "}}\n",
       "\n",
       "                        })                };                });            </script>        </div>"
      ]
     },
     "metadata": {},
     "output_type": "display_data"
    }
   ],
   "source": [
    "import plotly.express as px\n",
    "from plotly.offline import plot, iplot, init_notebook_mode\n",
    "init_notebook_mode(connected = True)\n",
    "fig = px.scatter(all_videos , x = 'like_count' , y = 'view_count' , hover_data = ['video_title' , 'comment_count' , 'upload_date'] , title= 'Like Count and View Count Scatter for All Videos')\n",
    "fig.show()"
   ]
  },
  {
   "cell_type": "code",
   "execution_count": 8,
   "id": "8ea8e4ee",
   "metadata": {},
   "outputs": [
    {
     "data": {
      "text/html": [
       "        <script type=\"text/javascript\">\n",
       "        window.PlotlyConfig = {MathJaxConfig: 'local'};\n",
       "        if (window.MathJax) {MathJax.Hub.Config({SVG: {font: \"STIX-Web\"}});}\n",
       "        if (typeof require !== 'undefined') {\n",
       "        require.undef(\"plotly\");\n",
       "        requirejs.config({\n",
       "            paths: {\n",
       "                'plotly': ['https://cdn.plot.ly/plotly-2.11.1.min']\n",
       "            }\n",
       "        });\n",
       "        require(['plotly'], function(Plotly) {\n",
       "            window._Plotly = Plotly;\n",
       "        });\n",
       "        }\n",
       "        </script>\n",
       "        "
      ]
     },
     "metadata": {},
     "output_type": "display_data"
    },
    {
     "data": {
      "application/vnd.plotly.v1+json": {
       "config": {
        "plotlyServerURL": "https://plot.ly"
       },
       "data": [
        {
         "customdata": [
          [
           "Confronting the seller of a questionable Kobe autograph",
           62761,
           "2022-11-02"
          ],
          [
           "Do experts think my cheap Kobe autograph is real?",
           9483,
           "2022-11-01"
          ],
          [
           "Anyone need a new camera?",
           3162,
           "2022-11-01"
          ],
          [
           "I asked collectors if my cheap Kobe autographs are real",
           78562,
           "2022-10-31"
          ],
          [
           "Unboxing a $400 Kobe autographed ball (real?)",
           46803,
           "2022-10-28"
          ],
          [
           "I bought a $400 Kobe autographed basketball (sus?)",
           135524,
           "2022-10-28"
          ],
          [
           "Is the cheapest Kobe autographed ball online real?",
           141783,
           "2022-10-26"
          ],
          [
           "I bought the cheapest Kobe autographed ball online",
           30172,
           "2022-10-26"
          ],
          [
           "How much gold I found in $100 Amazon pay dirt",
           110940,
           "2022-10-20"
          ],
          [
           "I bought $500 worth of G-Shock￼￼ watches",
           75225,
           "2022-10-14"
          ],
          [
           "I manufactured Yeezy sunglasses from scratch",
           33210,
           "2022-10-12"
          ],
          [
           "I paid artists $200 to turn Yeezys into sunglasses (foam runners)",
           143156,
           "2022-10-11"
          ],
          [
           "I Turned Yeezy Sneakers Into Sunglasses",
           478,
           "2022-10-06"
          ],
          [
           "How I profited off the fidget spinner craze",
           197699,
           "2022-10-04"
          ],
          [
           "Easy Amazon side hustle - sell books with no words #ad",
           3325,
           "2022-10-03"
          ],
          [
           "I made a 3D printed 500k YouTube play button",
           4279,
           "2022-10-01"
          ],
          [
           "Make $1700 A Month Selling Books On Amazon - Easy Side Hustle - No Writing Required",
           680,
           "2022-09-28"
          ],
          [
           "How to make $200 a day with a drone",
           123892,
           "2022-09-23"
          ],
          [
           "My best finds at the thrift store (as a reseller)",
           6046,
           "2022-09-17"
          ],
          [
           "These boring glasses made me thousands online",
           8983,
           "2022-09-14"
          ],
          [
           "Testing the world’s brightest flashlight OUTSIDE",
           16588,
           "2022-09-08"
          ],
          [
           "I bought the brightest flashlight in the world ($700)",
           6937,
           "2022-09-07"
          ],
          [
           "Unboxing the brightest flashlight in the world ($700)",
           3611,
           "2022-09-07"
          ],
          [
           "Picking the winner of the MacBook…",
           3890,
           "2022-09-05"
          ],
          [
           "I paid an artist $20 to turn Yeezy sneakers into sunglasses",
           317273,
           "2022-09-01"
          ],
          [
           "I got a gadget filled mystery box in the mail #shorts #sponsored",
           16214,
           "2022-08-31"
          ],
          [
           "The unfortunate truth of many US “factories”",
           10788,
           "2022-08-29"
          ],
          [
           "Valuing the gold I found in Amazon pay dirt",
           52224,
           "2022-08-24"
          ],
          [
           "How much gold I found in Amazon pay dirt",
           248207,
           "2022-08-23"
          ],
          [
           "Is Gold Pay Dirt A Good Side Hustle?",
           117969,
           "2022-08-22"
          ],
          [
           "I Bought Gold Pay Dirt And Made $______",
           1582,
           "2022-08-19"
          ],
          [
           "How much my money making hotspot has made",
           64077,
           "2022-08-18"
          ],
          [
           "He sold me fake Pokémon cards… maybe?",
           21197,
           "2022-08-12"
          ],
          [
           "He had 0 viewers… so I sent him $ for bitcoin",
           8667,
           "2022-08-11"
          ],
          [
           "Revealing My Entire Pokémon Investment",
           115333,
           "2022-08-08"
          ],
          [
           "I tested the midnight Walmart side hustle",
           71427,
           "2022-08-05"
          ],
          [
           "I started a clothing brand for under $100 #shorts #ad",
           14119,
           "2022-08-04"
          ],
          [
           "saying goodbye…",
           16707,
           "2022-08-03"
          ],
          [
           "How much iPhone box costs to make in USA vs. China",
           325141,
           "2022-07-30"
          ],
          [
           "How she started a $10mil per year “side hustle”",
           10472,
           "2022-07-28"
          ],
          [
           "I Tried The Amazon Affiliate Side Hustle (how much I made)",
           29550,
           "2022-07-27"
          ],
          [
           "Is Amazon Affiliate Marketing a Good Side Hustle?",
           152663,
           "2022-07-26"
          ],
          [
           "I Tried Selling Amazon Products With Memes",
           2187,
           "2022-07-25"
          ],
          [
           "I’m turning a meme page into a business",
           22415,
           "2022-07-22"
          ],
          [
           "I bought a questionable pineapple…",
           946659,
           "2022-07-20"
          ],
          [
           "I’m investing in $100 empty boxes #shorts #sponsored",
           159558,
           "2022-07-18"
          ],
          [
           "I paid Fiverr to redesign my product packaging",
           408708,
           "2022-07-14"
          ],
          [
           "I tried turning $21 into $100 in profit (30min challenge)",
           158666,
           "2022-07-12"
          ],
          [
           "The science behind my new YouTube thumbnail…",
           12508,
           "2022-07-11"
          ],
          [
           "Taste testing the most expensive water on Amazon",
           340768,
           "2022-07-07"
          ],
          [
           "I bought the most expensive water on Amazon",
           623213,
           "2022-07-05"
          ],
          [
           "I tried going viral as a small brand",
           318865,
           "2022-07-01"
          ],
          [
           "I’m building a sunglasses brand to compete with Rayban (ep.2)",
           57089,
           "2022-06-28"
          ],
          [
           "I tried upgrading my money making hotspot (helium update PT.5)",
           154716,
           "2022-06-25"
          ],
          [
           "I Tried Relaunching My Failed Business - Ep.1",
           877,
           "2022-06-24"
          ],
          [
           "They were trying to disguise their side hustle…",
           11616,
           "2022-06-24"
          ],
          [
           "Did this seller scam me with her rolex?",
           65159,
           "2022-06-22"
          ],
          [
           "I tried finding profitable flips (ELON MUSK EDITION)",
           61655,
           "2022-06-18"
          ],
          [
           "I tried hyper realistic VR gaming (zombie edition)",
           24664,
           "2022-06-16"
          ],
          [
           "Surprising her with the cheapest rolex on eBay",
           90274,
           "2022-06-13"
          ],
          [
           "Confronting the seller of the “cheapest rolex on ebay”",
           80809,
           "2022-06-10"
          ],
          [
           "Is the cheapest rolex on eBay real?",
           2002289,
           "2022-06-09"
          ],
          [
           "I Bought The Cheapest Rolex On eBay",
           14921,
           "2022-06-08"
          ],
          [
           "Unboxing the cheapest rolex on eBay",
           30044,
           "2022-06-03"
          ],
          [
           "I bought the cheapest rolex on eBay…",
           54112,
           "2022-06-02"
          ],
          [
           "Did I find real Yeezy slides?",
           308838,
           "2022-05-30"
          ],
          [
           "Asking Rolex dealers if I can film in their store",
           11054,
           "2022-05-28"
          ],
          [
           "I looked for profit in a RICH CITY thrift store",
           115574,
           "2022-05-27"
          ],
          [
           "My Money Printing Tablet Farm Journey (How much I made)",
           1413,
           "2022-05-24"
          ],
          [
           "I tried making money with unclaimed mail",
           193022,
           "2022-05-22"
          ],
          [
           "Make this ONE change to 2x your eBay/Amazon sales",
           63755,
           "2022-05-20"
          ],
          [
           "My sneaky plan to monetize my meme page…",
           15479,
           "2022-05-18"
          ],
          [
           "I just UPGRADED my money making hotspot (helium update PT.4)",
           219116,
           "2022-05-13"
          ],
          [
           "How my failed business started my new career…",
           12555,
           "2022-05-11"
          ],
          [
           "I tried dropshipping… here’s how much I made",
           16393,
           "2022-05-10"
          ],
          [
           "I tried finding profitable flips at Walmart (in a RICH city 💰)",
           123699,
           "2022-05-06"
          ],
          [
           "I bought a Crushmetric SwitchPen (for research)",
           13506,
           "2022-05-02"
          ],
          [
           "I bought a Pokémon collection to flip for profit (AGAIN)",
           86320,
           "2022-04-29"
          ],
          [
           "My biggest viral video flop all time…",
           8807,
           "2022-04-26"
          ],
          [
           "Jason Derulo DM’d me… (here’s why)",
           8124,
           "2022-04-22"
          ],
          [
           "I tried making a pro commercial for under $500",
           10616,
           "2022-04-21"
          ],
          [
           "Jidion’s secret to growing 4mil subs in 1 year…",
           4489,
           "2022-04-18"
          ],
          [
           "I tried flipping sneakers from the Nike outlet",
           306074,
           "2022-04-15"
          ],
          [
           "How I used 1 viral video to grow my business FAST",
           8412,
           "2022-04-13"
          ],
          [
           "My biggest failure as an entrepreneur…",
           7247,
           "2022-04-12"
          ],
          [
           "Upgrading my office into a video studio for $100",
           6304,
           "2022-04-08"
          ],
          [
           "Comparing PRIME to Powerade (will this brand win?)",
           5435,
           "2022-04-05"
          ],
          [
           "I tried finding profitable flips at Walmart AGAIN",
           128809,
           "2022-04-01"
          ],
          [
           "Giving streamers with 0 viewers $ to buy bitcoin",
           7084,
           "2022-03-31"
          ],
          [
           "Unboxing my 100k play button  my best YT advice",
           5082,
           "2022-03-29"
          ],
          [
           "I asked a $100m CEO: “is college worth it?”",
           5042,
           "2022-03-26"
          ],
          [
           "I tried finding profitable flips at Goodwill…",
           82160,
           "2022-03-24"
          ],
          [
           "How I find niche $ making products on eBay",
           5882,
           "2022-03-17"
          ],
          [
           "Why I spent $3k on a full send metacard NFT (Nelk)",
           18276,
           "2022-03-15"
          ],
          [
           "How I grew from 1k-100k subscribers in 1 week",
           4392,
           "2022-03-12"
          ],
          [
           "I upgraded my $ making hotspot (week 2 results)",
           33465,
           "2022-03-10"
          ],
          [
           "I built a dropshipping store from a cozy cabin",
           9803,
           "2022-03-09"
          ],
          [
           "What influencers actually get for free…",
           18598,
           "2022-03-08"
          ],
          [
           "I tried starting a streetwear brand for $70",
           34462,
           "2022-03-07"
          ],
          [
           "I spent $100 on Pokémon cards to flip for profit",
           223045,
           "2022-03-03"
          ],
          [
           "I made a diamond play button out of paper",
           177703,
           "2022-03-02"
          ],
          [
           "How much $ I’ve made helium mining (Week 1)",
           180433,
           "2022-02-28"
          ],
          [
           "I tried finding profitable flips at Walmart…",
           851957,
           "2022-02-25"
          ],
          [
           "I asked a 9 figure ecom CEO if FB ads still work",
           6914,
           "2022-02-25"
          ],
          [
           "I built a sunglasses brand to compete with Ray-Ban",
           123712,
           "2022-02-24"
          ],
          [
           "I bought a wireless hotspot that makes me money",
           296485,
           "2022-02-22"
          ],
          [
           "A multimillionaire CEO’s secret manufacturing tip",
           51289,
           "2022-02-18"
          ],
          [
           "How much my T-shirt store made from $100 in Fb ads",
           17998,
           "2022-02-17"
          ],
          [
           "My biggest struggle as an entrepreneur",
           10898,
           "2022-02-15"
          ],
          [
           "Ranking side hustles I’ve tried from worst to best",
           182392,
           "2022-02-14"
          ],
          [
           "I paid Fiverr $30 and $120 to design NFT’s (comparison)",
           153407,
           "2022-02-11"
          ],
          [
           "My funniest flip I’ve ever done (made good $ tho)",
           8643,
           "2022-02-10"
          ],
          [
           "I tried the golf club flipping side hustle (it works)",
           8918,
           "2022-02-08"
          ],
          [
           "How I made my NFT chain (step by step)",
           7828,
           "2022-02-07"
          ],
          [
           "“Drama” YouTubers are making a lot of money rn…",
           7236,
           "2022-02-05"
          ],
          [
           "How to grow $1k into $1mil online (what I did)",
           14051,
           "2022-02-04"
          ],
          [
           "I made a chain so I can wear my NFT’s…",
           4843,
           "2022-02-02"
          ],
          [
           "My print on demand t-shirt store is making money",
           6933,
           "2022-02-01"
          ],
          [
           "Why I’m not selling NFT’s ever again…",
           15715,
           "2022-01-31"
          ],
          [
           "How I built a tablet farm that makes me money…",
           584782,
           "2022-01-28"
          ],
          [
           "It took me 1 year to get 1k YouTube subs… 😭",
           8454,
           "2022-01-27"
          ],
          [
           "How much my Pokémon cards investment is worth 💰",
           874614,
           "2022-01-26"
          ],
          [
           "I Paid Fiverr Video Editors To Make A Commercial",
           121666,
           "2022-01-25"
          ],
          [
           "At 25yo I was doing $100k per month on eBay",
           27326,
           "2022-01-24"
          ],
          [
           "I tried the print on demand t-shirt side hustle",
           5802,
           "2022-01-20"
          ],
          [
           "How I&#39;ve Been Doubling My Money With NFT&#39;s",
           809,
           "2022-01-19"
          ],
          [
           "I tried making $ with smaller NFT projects…",
           6120,
           "2022-01-18"
          ],
          [
           "How much I made selling dollar store items online…",
           85132,
           "2022-01-17"
          ],
          [
           "Turning a dollar store product into a brand (ep.1)",
           3352,
           "2022-01-13"
          ],
          [
           "My New Money Printing Tablet Farm",
           11572,
           "2022-01-07"
          ],
          [
           "Trying to turn $0 into $10k from scratch 💰",
           245725,
           "2021-10-28"
          ],
          [
           "I tried flipping NFTs… here’s how much I made.",
           168062,
           "2021-10-27"
          ],
          [
           "I tried finding profitable sneakers at Kohl’s 😖",
           39161,
           "2021-10-20"
          ],
          [
           "Dropshipping From A Cabin In The Woods (24HR Challenge)",
           763,
           "2021-10-15"
          ],
          [
           "Giving away your products is actually really smart",
           5186,
           "2021-10-14"
          ],
          [
           "Were these brand names from Fiverr worth $50? 😖",
           1698,
           "2021-10-07"
          ],
          [
           "How a NEW eBay seller can rank and get sales ASAP",
           4268,
           "2021-10-06"
          ],
          [
           "10k today or 1 Bitcoin in 5 years? (on Omegle…)",
           1464,
           "2021-10-05"
          ],
          [
           "Using a billboard to grow my Instagram (THE RESULTS)",
           1679,
           "2021-10-01"
          ],
          [
           "The Trick To The YouTube Shorts Algorithm…",
           4313,
           "2021-09-30"
          ],
          [
           "My first product I designed  manufactured 😖",
           2185,
           "2021-09-29"
          ],
          [
           "Can you ACTUALLY grow on Instagram w/ billboards?",
           1542,
           "2021-09-28"
          ],
          [
           "My Day As A Small YouTuber Trying To Make It (Raw Footage)",
           158,
           "2021-09-25"
          ],
          [
           "A famous artist asked for my help 😦…",
           1872,
           "2021-09-24"
          ],
          [
           "The best eBay strategy ever 🙌",
           2153,
           "2021-09-22"
          ],
          [
           "Business is like a butterfly…",
           1247,
           "2021-09-21"
          ],
          [
           "NFT pills!? Here’s why I bought one…",
           1163,
           "2021-09-16"
          ],
          [
           "I tried turning memes into T-shirt designs… 😖",
           864,
           "2021-09-16"
          ],
          [
           "3 Slept On TikTok Tips That Made My Brand Go Viral",
           359,
           "2021-09-14"
          ],
          [
           "The weirdest business purchase I’ve ever made 😖",
           1184,
           "2021-09-14"
          ],
          [
           "How to make your clothing brand go VIRAL",
           4310,
           "2021-09-10"
          ],
          [
           "I Bought A Billboard To Grow My Instagram",
           332,
           "2021-09-07"
          ],
          [
           "Prototyping has never been easier or cheaper…",
           1322,
           "2021-09-03"
          ],
          [
           "I got thumbnail advice from MrBeast 😏",
           45826,
           "2021-09-02"
          ],
          [
           "How to make your brand go viral on TikTok 🔥",
           64,
           "2021-09-01"
          ],
          [
           "I Tried Making Money With Virtual Horse Racing",
           584,
           "2021-08-31"
          ],
          [
           "The cheap sunglasses side hustle… (no one’s doing it!)",
           1421,
           "2021-08-27"
          ],
          [
           "The genius marketing behind Logan  Jake Paul…",
           651,
           "2021-08-27"
          ],
          [
           "I&#39;m quitting my job and becoming a digital horse breeder...",
           1168,
           "2021-08-25"
          ],
          [
           "0 To 10k Instagram Followers From Scratch - Using TikTok to grow fast on IG | Ep. 2",
           170,
           "2021-08-24"
          ],
          [
           "The EXACT method I used to get 500k followers on Facebook in 1 year 🔥",
           816,
           "2021-08-24"
          ],
          [
           "I grossed millions on eBay with this method…",
           1660,
           "2021-08-19"
          ],
          [
           "Hey McDonald’s, do you accept Bitcoin? 😭",
           589,
           "2021-08-18"
          ],
          [
           "I manufactured an iPhone box from scratch 😖 (3 month process)",
           1209,
           "2021-08-16"
          ],
          [
           "I made a terrible investment decision with this Pokémon card… 😭",
           769,
           "2021-08-12"
          ],
          [
           "I built a profitable Shopify store in 1 hour 👀",
           1816,
           "2021-08-11"
          ],
          [
           "How I Used Instagram To 2x My Business&#39; Sales",
           65,
           "2021-08-11"
          ],
          [
           "I paid $1365 for a product commercial on Fiverr… Was it worth it?",
           1154,
           "2021-08-06"
          ],
          [
           "Calling Tesla And Asking If They Accept Bitcoin…",
           667,
           "2021-08-06"
          ],
          [
           "I hired a lawyer for $183 off of Fiverr",
           856,
           "2021-08-05"
          ],
          [
           "How Yeti Charges $35 For A Cup…",
           37628,
           "2021-08-04"
          ],
          [
           "The genius marketing behind NELK  Full Send…",
           4941,
           "2021-08-02"
          ],
          [
           "I PAID someone on FIVERR to EDIT my commercial",
           1330,
           "2021-07-26"
          ],
          [
           "0 To 10k Instagram Followers From Scratch | Ep. 1",
           384,
           "2021-07-23"
          ],
          [
           "Dropshipping is dead in 2021… Do this instead.",
           1105,
           "2021-07-20"
          ],
          [
           "The Instagram Growth Hack Big Pages Never Share… (2021)",
           194,
           "2021-07-01"
          ],
          [
           "1 Hour Shopify Dropshipping Challenge (FROM SCRATCH)",
           256,
           "2021-06-23"
          ],
          [
           "I Tried Streaming On Facebook Gaming (Complete Beginner)",
           24,
           "2021-06-09"
          ],
          [
           "7 eBay Hacks That Big Sellers Never Share...",
           242,
           "2021-06-01"
          ],
          [
           "9 Side Hustles That Are Slept On In 2021 ($200 Per Day)",
           175,
           "2021-05-27"
          ],
          [
           "I Tried Dropshipping A Dollar Tree Product (72 Hour Challenge)",
           95,
           "2021-04-30"
          ],
          [
           "Zero To 500k On Facebook In 1 Year | Full Step By Step Training",
           81,
           "2021-03-30"
          ],
          [
           "I Tried Dropshipping From Scratch (24HR CHALLENGE)",
           397,
           "2021-03-10"
          ],
          [
           "How I Started A Million Dollar Business From My Mom&#39;s Basement",
           405,
           "2021-02-23"
          ]
         ],
         "hovertemplate": "comment_count=%{x}<br>view_count=%{y}<br>video_title=%{customdata[0]}<br>like_count=%{customdata[1]}<br>upload_date=%{customdata[2]}<extra></extra>",
         "legendgroup": "",
         "marker": {
          "color": "#636efa",
          "symbol": "circle"
         },
         "mode": "markers",
         "name": "",
         "orientation": "v",
         "showlegend": false,
         "type": "scatter",
         "x": [
          447,
          57,
          3230,
          70,
          70,
          88,
          220,
          68,
          606,
          1536,
          203,
          213,
          70,
          260,
          30,
          39,
          90,
          814,
          67,
          32,
          135,
          53,
          35,
          59,
          645,
          154,
          62,
          255,
          778,
          420,
          230,
          246,
          493,
          87,
          830,
          686,
          98,
          2622,
          5859,
          116,
          99,
          221,
          77,
          176,
          4680,
          475,
          2753,
          414,
          72,
          1515,
          4078,
          536,
          417,
          651,
          85,
          33,
          152,
          173,
          98,
          1289,
          626,
          2162,
          1410,
          234,
          293,
          549,
          67,
          744,
          114,
          728,
          202,
          176,
          774,
          68,
          91,
          567,
          56,
          457,
          32,
          55,
          105,
          30,
          852,
          39,
          94,
          44,
          66,
          470,
          89,
          57,
          49,
          785,
          52,
          441,
          48,
          204,
          77,
          116,
          534,
          1015,
          350,
          1206,
          4176,
          35,
          1119,
          1255,
          338,
          85,
          41,
          698,
          1394,
          55,
          64,
          152,
          61,
          136,
          103,
          18,
          268,
          4414,
          69,
          2566,
          2473,
          164,
          40,
          53,
          83,
          493,
          14,
          245,
          1026,
          1917,
          150,
          44,
          29,
          63,
          21,
          38,
          14,
          70,
          65,
          12,
          40,
          9,
          10,
          6,
          23,
          6,
          13,
          19,
          16,
          31,
          7,
          225,
          2,
          32,
          28,
          6,
          13,
          11,
          5,
          11,
          14,
          20,
          10,
          21,
          4,
          40,
          13,
          18,
          691,
          109,
          31,
          25,
          19,
          15,
          30,
          4,
          17,
          9,
          10,
          10,
          55,
          37
         ],
         "xaxis": "x",
         "y": [
          781610,
          113539,
          40723,
          971564,
          501415,
          1469829,
          2103937,
          455423,
          1835207,
          1162979,
          455182,
          1871976,
          9368,
          3004250,
          48959,
          49641,
          10834,
          1729501,
          96751,
          91084,
          229984,
          109407,
          50759,
          53219,
          4234596,
          211944,
          200262,
          625339,
          5827039,
          1844903,
          37322,
          866417,
          421491,
          157334,
          2756855,
          1837882,
          188385,
          215543,
          5546984,
          180821,
          385224,
          2018008,
          39091,
          269367,
          10616068,
          1681458,
          7941682,
          1952270,
          183171,
          3095865,
          7633883,
          3554636,
          771667,
          2370984,
          16078,
          231893,
          853458,
          806622,
          453980,
          1316230,
          1234922,
          30106646,
          221018,
          546741,
          1160878,
          4074711,
          228490,
          1861965,
          32861,
          3214566,
          1075509,
          252723,
          3348675,
          196201,
          267343,
          2116905,
          192329,
          1533920,
          155055,
          149995,
          150244,
          96684,
          5004675,
          144830,
          113690,
          112897,
          93456,
          2057610,
          122581,
          76442,
          103689,
          1220806,
          116564,
          508914,
          88116,
          541794,
          205689,
          270517,
          530461,
          4554853,
          2674456,
          2900702,
          16236845,
          186803,
          2644327,
          6163849,
          1092992,
          396180,
          199155,
          3036555,
          2493035,
          176373,
          201786,
          223064,
          154648,
          268687,
          98791,
          141991,
          435588,
          13609004,
          144452,
          14570731,
          1744928,
          521855,
          104785,
          27500,
          141519,
          1452106,
          84049,
          225342,
          4715317,
          4474616,
          650797,
          13284,
          77520,
          48474,
          65572,
          46069,
          40673,
          71412,
          35346,
          33307,
          4019,
          35792,
          35676,
          29010,
          30303,
          24660,
          5457,
          29170,
          51674,
          4684,
          25556,
          532261,
          1844,
          12304,
          30531,
          20591,
          24168,
          3639,
          17212,
          32871,
          15180,
          21292,
          20270,
          33623,
          1057,
          17177,
          16919,
          20501,
          1038455,
          154792,
          26455,
          6806,
          32147,
          3675,
          5155,
          553,
          4524,
          3058,
          2206,
          1080,
          7339,
          6467
         ],
         "yaxis": "y"
        }
       ],
       "layout": {
        "legend": {
         "tracegroupgap": 0
        },
        "template": {
         "data": {
          "bar": [
           {
            "error_x": {
             "color": "#2a3f5f"
            },
            "error_y": {
             "color": "#2a3f5f"
            },
            "marker": {
             "line": {
              "color": "#E5ECF6",
              "width": 0.5
             },
             "pattern": {
              "fillmode": "overlay",
              "size": 10,
              "solidity": 0.2
             }
            },
            "type": "bar"
           }
          ],
          "barpolar": [
           {
            "marker": {
             "line": {
              "color": "#E5ECF6",
              "width": 0.5
             },
             "pattern": {
              "fillmode": "overlay",
              "size": 10,
              "solidity": 0.2
             }
            },
            "type": "barpolar"
           }
          ],
          "carpet": [
           {
            "aaxis": {
             "endlinecolor": "#2a3f5f",
             "gridcolor": "white",
             "linecolor": "white",
             "minorgridcolor": "white",
             "startlinecolor": "#2a3f5f"
            },
            "baxis": {
             "endlinecolor": "#2a3f5f",
             "gridcolor": "white",
             "linecolor": "white",
             "minorgridcolor": "white",
             "startlinecolor": "#2a3f5f"
            },
            "type": "carpet"
           }
          ],
          "choropleth": [
           {
            "colorbar": {
             "outlinewidth": 0,
             "ticks": ""
            },
            "type": "choropleth"
           }
          ],
          "contour": [
           {
            "colorbar": {
             "outlinewidth": 0,
             "ticks": ""
            },
            "colorscale": [
             [
              0,
              "#0d0887"
             ],
             [
              0.1111111111111111,
              "#46039f"
             ],
             [
              0.2222222222222222,
              "#7201a8"
             ],
             [
              0.3333333333333333,
              "#9c179e"
             ],
             [
              0.4444444444444444,
              "#bd3786"
             ],
             [
              0.5555555555555556,
              "#d8576b"
             ],
             [
              0.6666666666666666,
              "#ed7953"
             ],
             [
              0.7777777777777778,
              "#fb9f3a"
             ],
             [
              0.8888888888888888,
              "#fdca26"
             ],
             [
              1,
              "#f0f921"
             ]
            ],
            "type": "contour"
           }
          ],
          "contourcarpet": [
           {
            "colorbar": {
             "outlinewidth": 0,
             "ticks": ""
            },
            "type": "contourcarpet"
           }
          ],
          "heatmap": [
           {
            "colorbar": {
             "outlinewidth": 0,
             "ticks": ""
            },
            "colorscale": [
             [
              0,
              "#0d0887"
             ],
             [
              0.1111111111111111,
              "#46039f"
             ],
             [
              0.2222222222222222,
              "#7201a8"
             ],
             [
              0.3333333333333333,
              "#9c179e"
             ],
             [
              0.4444444444444444,
              "#bd3786"
             ],
             [
              0.5555555555555556,
              "#d8576b"
             ],
             [
              0.6666666666666666,
              "#ed7953"
             ],
             [
              0.7777777777777778,
              "#fb9f3a"
             ],
             [
              0.8888888888888888,
              "#fdca26"
             ],
             [
              1,
              "#f0f921"
             ]
            ],
            "type": "heatmap"
           }
          ],
          "heatmapgl": [
           {
            "colorbar": {
             "outlinewidth": 0,
             "ticks": ""
            },
            "colorscale": [
             [
              0,
              "#0d0887"
             ],
             [
              0.1111111111111111,
              "#46039f"
             ],
             [
              0.2222222222222222,
              "#7201a8"
             ],
             [
              0.3333333333333333,
              "#9c179e"
             ],
             [
              0.4444444444444444,
              "#bd3786"
             ],
             [
              0.5555555555555556,
              "#d8576b"
             ],
             [
              0.6666666666666666,
              "#ed7953"
             ],
             [
              0.7777777777777778,
              "#fb9f3a"
             ],
             [
              0.8888888888888888,
              "#fdca26"
             ],
             [
              1,
              "#f0f921"
             ]
            ],
            "type": "heatmapgl"
           }
          ],
          "histogram": [
           {
            "marker": {
             "pattern": {
              "fillmode": "overlay",
              "size": 10,
              "solidity": 0.2
             }
            },
            "type": "histogram"
           }
          ],
          "histogram2d": [
           {
            "colorbar": {
             "outlinewidth": 0,
             "ticks": ""
            },
            "colorscale": [
             [
              0,
              "#0d0887"
             ],
             [
              0.1111111111111111,
              "#46039f"
             ],
             [
              0.2222222222222222,
              "#7201a8"
             ],
             [
              0.3333333333333333,
              "#9c179e"
             ],
             [
              0.4444444444444444,
              "#bd3786"
             ],
             [
              0.5555555555555556,
              "#d8576b"
             ],
             [
              0.6666666666666666,
              "#ed7953"
             ],
             [
              0.7777777777777778,
              "#fb9f3a"
             ],
             [
              0.8888888888888888,
              "#fdca26"
             ],
             [
              1,
              "#f0f921"
             ]
            ],
            "type": "histogram2d"
           }
          ],
          "histogram2dcontour": [
           {
            "colorbar": {
             "outlinewidth": 0,
             "ticks": ""
            },
            "colorscale": [
             [
              0,
              "#0d0887"
             ],
             [
              0.1111111111111111,
              "#46039f"
             ],
             [
              0.2222222222222222,
              "#7201a8"
             ],
             [
              0.3333333333333333,
              "#9c179e"
             ],
             [
              0.4444444444444444,
              "#bd3786"
             ],
             [
              0.5555555555555556,
              "#d8576b"
             ],
             [
              0.6666666666666666,
              "#ed7953"
             ],
             [
              0.7777777777777778,
              "#fb9f3a"
             ],
             [
              0.8888888888888888,
              "#fdca26"
             ],
             [
              1,
              "#f0f921"
             ]
            ],
            "type": "histogram2dcontour"
           }
          ],
          "mesh3d": [
           {
            "colorbar": {
             "outlinewidth": 0,
             "ticks": ""
            },
            "type": "mesh3d"
           }
          ],
          "parcoords": [
           {
            "line": {
             "colorbar": {
              "outlinewidth": 0,
              "ticks": ""
             }
            },
            "type": "parcoords"
           }
          ],
          "pie": [
           {
            "automargin": true,
            "type": "pie"
           }
          ],
          "scatter": [
           {
            "fillpattern": {
             "fillmode": "overlay",
             "size": 10,
             "solidity": 0.2
            },
            "type": "scatter"
           }
          ],
          "scatter3d": [
           {
            "line": {
             "colorbar": {
              "outlinewidth": 0,
              "ticks": ""
             }
            },
            "marker": {
             "colorbar": {
              "outlinewidth": 0,
              "ticks": ""
             }
            },
            "type": "scatter3d"
           }
          ],
          "scattercarpet": [
           {
            "marker": {
             "colorbar": {
              "outlinewidth": 0,
              "ticks": ""
             }
            },
            "type": "scattercarpet"
           }
          ],
          "scattergeo": [
           {
            "marker": {
             "colorbar": {
              "outlinewidth": 0,
              "ticks": ""
             }
            },
            "type": "scattergeo"
           }
          ],
          "scattergl": [
           {
            "marker": {
             "colorbar": {
              "outlinewidth": 0,
              "ticks": ""
             }
            },
            "type": "scattergl"
           }
          ],
          "scattermapbox": [
           {
            "marker": {
             "colorbar": {
              "outlinewidth": 0,
              "ticks": ""
             }
            },
            "type": "scattermapbox"
           }
          ],
          "scatterpolar": [
           {
            "marker": {
             "colorbar": {
              "outlinewidth": 0,
              "ticks": ""
             }
            },
            "type": "scatterpolar"
           }
          ],
          "scatterpolargl": [
           {
            "marker": {
             "colorbar": {
              "outlinewidth": 0,
              "ticks": ""
             }
            },
            "type": "scatterpolargl"
           }
          ],
          "scatterternary": [
           {
            "marker": {
             "colorbar": {
              "outlinewidth": 0,
              "ticks": ""
             }
            },
            "type": "scatterternary"
           }
          ],
          "surface": [
           {
            "colorbar": {
             "outlinewidth": 0,
             "ticks": ""
            },
            "colorscale": [
             [
              0,
              "#0d0887"
             ],
             [
              0.1111111111111111,
              "#46039f"
             ],
             [
              0.2222222222222222,
              "#7201a8"
             ],
             [
              0.3333333333333333,
              "#9c179e"
             ],
             [
              0.4444444444444444,
              "#bd3786"
             ],
             [
              0.5555555555555556,
              "#d8576b"
             ],
             [
              0.6666666666666666,
              "#ed7953"
             ],
             [
              0.7777777777777778,
              "#fb9f3a"
             ],
             [
              0.8888888888888888,
              "#fdca26"
             ],
             [
              1,
              "#f0f921"
             ]
            ],
            "type": "surface"
           }
          ],
          "table": [
           {
            "cells": {
             "fill": {
              "color": "#EBF0F8"
             },
             "line": {
              "color": "white"
             }
            },
            "header": {
             "fill": {
              "color": "#C8D4E3"
             },
             "line": {
              "color": "white"
             }
            },
            "type": "table"
           }
          ]
         },
         "layout": {
          "annotationdefaults": {
           "arrowcolor": "#2a3f5f",
           "arrowhead": 0,
           "arrowwidth": 1
          },
          "autotypenumbers": "strict",
          "coloraxis": {
           "colorbar": {
            "outlinewidth": 0,
            "ticks": ""
           }
          },
          "colorscale": {
           "diverging": [
            [
             0,
             "#8e0152"
            ],
            [
             0.1,
             "#c51b7d"
            ],
            [
             0.2,
             "#de77ae"
            ],
            [
             0.3,
             "#f1b6da"
            ],
            [
             0.4,
             "#fde0ef"
            ],
            [
             0.5,
             "#f7f7f7"
            ],
            [
             0.6,
             "#e6f5d0"
            ],
            [
             0.7,
             "#b8e186"
            ],
            [
             0.8,
             "#7fbc41"
            ],
            [
             0.9,
             "#4d9221"
            ],
            [
             1,
             "#276419"
            ]
           ],
           "sequential": [
            [
             0,
             "#0d0887"
            ],
            [
             0.1111111111111111,
             "#46039f"
            ],
            [
             0.2222222222222222,
             "#7201a8"
            ],
            [
             0.3333333333333333,
             "#9c179e"
            ],
            [
             0.4444444444444444,
             "#bd3786"
            ],
            [
             0.5555555555555556,
             "#d8576b"
            ],
            [
             0.6666666666666666,
             "#ed7953"
            ],
            [
             0.7777777777777778,
             "#fb9f3a"
            ],
            [
             0.8888888888888888,
             "#fdca26"
            ],
            [
             1,
             "#f0f921"
            ]
           ],
           "sequentialminus": [
            [
             0,
             "#0d0887"
            ],
            [
             0.1111111111111111,
             "#46039f"
            ],
            [
             0.2222222222222222,
             "#7201a8"
            ],
            [
             0.3333333333333333,
             "#9c179e"
            ],
            [
             0.4444444444444444,
             "#bd3786"
            ],
            [
             0.5555555555555556,
             "#d8576b"
            ],
            [
             0.6666666666666666,
             "#ed7953"
            ],
            [
             0.7777777777777778,
             "#fb9f3a"
            ],
            [
             0.8888888888888888,
             "#fdca26"
            ],
            [
             1,
             "#f0f921"
            ]
           ]
          },
          "colorway": [
           "#636efa",
           "#EF553B",
           "#00cc96",
           "#ab63fa",
           "#FFA15A",
           "#19d3f3",
           "#FF6692",
           "#B6E880",
           "#FF97FF",
           "#FECB52"
          ],
          "font": {
           "color": "#2a3f5f"
          },
          "geo": {
           "bgcolor": "white",
           "lakecolor": "white",
           "landcolor": "#E5ECF6",
           "showlakes": true,
           "showland": true,
           "subunitcolor": "white"
          },
          "hoverlabel": {
           "align": "left"
          },
          "hovermode": "closest",
          "mapbox": {
           "style": "light"
          },
          "paper_bgcolor": "white",
          "plot_bgcolor": "#E5ECF6",
          "polar": {
           "angularaxis": {
            "gridcolor": "white",
            "linecolor": "white",
            "ticks": ""
           },
           "bgcolor": "#E5ECF6",
           "radialaxis": {
            "gridcolor": "white",
            "linecolor": "white",
            "ticks": ""
           }
          },
          "scene": {
           "xaxis": {
            "backgroundcolor": "#E5ECF6",
            "gridcolor": "white",
            "gridwidth": 2,
            "linecolor": "white",
            "showbackground": true,
            "ticks": "",
            "zerolinecolor": "white"
           },
           "yaxis": {
            "backgroundcolor": "#E5ECF6",
            "gridcolor": "white",
            "gridwidth": 2,
            "linecolor": "white",
            "showbackground": true,
            "ticks": "",
            "zerolinecolor": "white"
           },
           "zaxis": {
            "backgroundcolor": "#E5ECF6",
            "gridcolor": "white",
            "gridwidth": 2,
            "linecolor": "white",
            "showbackground": true,
            "ticks": "",
            "zerolinecolor": "white"
           }
          },
          "shapedefaults": {
           "line": {
            "color": "#2a3f5f"
           }
          },
          "ternary": {
           "aaxis": {
            "gridcolor": "white",
            "linecolor": "white",
            "ticks": ""
           },
           "baxis": {
            "gridcolor": "white",
            "linecolor": "white",
            "ticks": ""
           },
           "bgcolor": "#E5ECF6",
           "caxis": {
            "gridcolor": "white",
            "linecolor": "white",
            "ticks": ""
           }
          },
          "title": {
           "x": 0.05
          },
          "xaxis": {
           "automargin": true,
           "gridcolor": "white",
           "linecolor": "white",
           "ticks": "",
           "title": {
            "standoff": 15
           },
           "zerolinecolor": "white",
           "zerolinewidth": 2
          },
          "yaxis": {
           "automargin": true,
           "gridcolor": "white",
           "linecolor": "white",
           "ticks": "",
           "title": {
            "standoff": 15
           },
           "zerolinecolor": "white",
           "zerolinewidth": 2
          }
         }
        },
        "title": {
         "text": "Comment Count and View Count Scatter for All Videos"
        },
        "xaxis": {
         "anchor": "y",
         "domain": [
          0,
          1
         ],
         "title": {
          "text": "comment_count"
         }
        },
        "yaxis": {
         "anchor": "x",
         "domain": [
          0,
          1
         ],
         "title": {
          "text": "view_count"
         }
        }
       }
      },
      "text/html": [
       "<div>                            <div id=\"5061f1c4-a029-4aaf-a695-841eea6c0f5c\" class=\"plotly-graph-div\" style=\"height:525px; width:100%;\"></div>            <script type=\"text/javascript\">                require([\"plotly\"], function(Plotly) {                    window.PLOTLYENV=window.PLOTLYENV || {};                                    if (document.getElementById(\"5061f1c4-a029-4aaf-a695-841eea6c0f5c\")) {                    Plotly.newPlot(                        \"5061f1c4-a029-4aaf-a695-841eea6c0f5c\",                        [{\"customdata\":[[\"Confronting the seller of a questionable Kobe autograph\",62761,\"2022-11-02\"],[\"Do experts think my cheap Kobe autograph is real?\",9483,\"2022-11-01\"],[\"Anyone need a new camera?\",3162,\"2022-11-01\"],[\"I asked collectors if my cheap Kobe autographs are real\",78562,\"2022-10-31\"],[\"Unboxing a $400 Kobe autographed ball (real?)\",46803,\"2022-10-28\"],[\"I bought a $400 Kobe autographed basketball (sus?)\",135524,\"2022-10-28\"],[\"Is the cheapest Kobe autographed ball online real?\",141783,\"2022-10-26\"],[\"I bought the cheapest Kobe autographed ball online\",30172,\"2022-10-26\"],[\"How much gold I found in $100 Amazon pay dirt\",110940,\"2022-10-20\"],[\"I bought $500 worth of G-Shock\\ufffc\\ufffc watches\",75225,\"2022-10-14\"],[\"I manufactured Yeezy sunglasses from scratch\",33210,\"2022-10-12\"],[\"I paid artists $200 to turn Yeezys into sunglasses (foam runners)\",143156,\"2022-10-11\"],[\"I Turned Yeezy Sneakers Into Sunglasses\",478,\"2022-10-06\"],[\"How I profited off the fidget spinner craze\",197699,\"2022-10-04\"],[\"Easy Amazon side hustle - sell books with no words #ad\",3325,\"2022-10-03\"],[\"I made a 3D printed 500k YouTube play button\",4279,\"2022-10-01\"],[\"Make $1700 A Month Selling Books On Amazon - Easy Side Hustle - No Writing Required\",680,\"2022-09-28\"],[\"How to make $200 a day with a drone\",123892,\"2022-09-23\"],[\"My best finds at the thrift store (as a reseller)\",6046,\"2022-09-17\"],[\"These boring glasses made me thousands online\",8983,\"2022-09-14\"],[\"Testing the world\\u2019s brightest flashlight OUTSIDE\",16588,\"2022-09-08\"],[\"I bought the brightest flashlight in the world ($700)\",6937,\"2022-09-07\"],[\"Unboxing the brightest flashlight in the world ($700)\",3611,\"2022-09-07\"],[\"Picking the winner of the MacBook\\u2026\",3890,\"2022-09-05\"],[\"I paid an artist $20 to turn Yeezy sneakers into sunglasses\",317273,\"2022-09-01\"],[\"I got a gadget filled mystery box in the mail #shorts #sponsored\",16214,\"2022-08-31\"],[\"The unfortunate truth of many US \\u201cfactories\\u201d\",10788,\"2022-08-29\"],[\"Valuing the gold I found in Amazon pay dirt\",52224,\"2022-08-24\"],[\"How much gold I found in Amazon pay dirt\",248207,\"2022-08-23\"],[\"Is Gold Pay Dirt A Good Side Hustle?\",117969,\"2022-08-22\"],[\"I Bought Gold Pay Dirt And Made $______\",1582,\"2022-08-19\"],[\"How much my money making hotspot has made\",64077,\"2022-08-18\"],[\"He sold me fake Pok\\u00e9mon cards\\u2026 maybe?\",21197,\"2022-08-12\"],[\"He had 0 viewers\\u2026 so I sent him $ for bitcoin\",8667,\"2022-08-11\"],[\"Revealing My Entire Pok\\u00e9mon Investment\",115333,\"2022-08-08\"],[\"I tested the midnight Walmart side hustle\",71427,\"2022-08-05\"],[\"I started a clothing brand for under $100 #shorts #ad\",14119,\"2022-08-04\"],[\"saying goodbye\\u2026\",16707,\"2022-08-03\"],[\"How much iPhone box costs to make in USA vs. China\",325141,\"2022-07-30\"],[\"How she started a $10mil per year \\u201cside hustle\\u201d\",10472,\"2022-07-28\"],[\"I Tried The Amazon Affiliate Side Hustle (how much I made)\",29550,\"2022-07-27\"],[\"Is Amazon Affiliate Marketing a Good Side Hustle?\",152663,\"2022-07-26\"],[\"I Tried Selling Amazon Products With Memes\",2187,\"2022-07-25\"],[\"I\\u2019m turning a meme page into a business\",22415,\"2022-07-22\"],[\"I bought a questionable pineapple\\u2026\",946659,\"2022-07-20\"],[\"I\\u2019m investing in $100 empty boxes #shorts #sponsored\",159558,\"2022-07-18\"],[\"I paid Fiverr to redesign my product packaging\",408708,\"2022-07-14\"],[\"I tried turning $21 into $100 in profit (30min challenge)\",158666,\"2022-07-12\"],[\"The science behind my new YouTube thumbnail\\u2026\",12508,\"2022-07-11\"],[\"Taste testing the most expensive water on Amazon\",340768,\"2022-07-07\"],[\"I bought the most expensive water on Amazon\",623213,\"2022-07-05\"],[\"I tried going viral as a small brand\",318865,\"2022-07-01\"],[\"I\\u2019m building a sunglasses brand to compete with Rayban (ep.2)\",57089,\"2022-06-28\"],[\"I tried upgrading my money making hotspot (helium update PT.5)\",154716,\"2022-06-25\"],[\"I Tried Relaunching My Failed Business - Ep.1\",877,\"2022-06-24\"],[\"They were trying to disguise their side hustle\\u2026\",11616,\"2022-06-24\"],[\"Did this seller scam me with her rolex?\",65159,\"2022-06-22\"],[\"I tried finding profitable flips (ELON MUSK EDITION)\",61655,\"2022-06-18\"],[\"I tried hyper realistic VR gaming (zombie edition)\",24664,\"2022-06-16\"],[\"Surprising her with the cheapest rolex on eBay\",90274,\"2022-06-13\"],[\"Confronting the seller of the \\u201ccheapest rolex on ebay\\u201d\",80809,\"2022-06-10\"],[\"Is the cheapest rolex on eBay real?\",2002289,\"2022-06-09\"],[\"I Bought The Cheapest Rolex On eBay\",14921,\"2022-06-08\"],[\"Unboxing the cheapest rolex on eBay\",30044,\"2022-06-03\"],[\"I bought the cheapest rolex on eBay\\u2026\",54112,\"2022-06-02\"],[\"Did I find real Yeezy slides?\",308838,\"2022-05-30\"],[\"Asking Rolex dealers if I can film in their store\",11054,\"2022-05-28\"],[\"I looked for profit in a RICH CITY thrift store\",115574,\"2022-05-27\"],[\"My Money Printing Tablet Farm Journey (How much I made)\",1413,\"2022-05-24\"],[\"I tried making money with unclaimed mail\",193022,\"2022-05-22\"],[\"Make this ONE change to 2x your eBay/Amazon sales\",63755,\"2022-05-20\"],[\"My sneaky plan to monetize my meme page\\u2026\",15479,\"2022-05-18\"],[\"I just UPGRADED my money making hotspot (helium update PT.4)\",219116,\"2022-05-13\"],[\"How my failed business started my new career\\u2026\",12555,\"2022-05-11\"],[\"I tried dropshipping\\u2026 here\\u2019s how much I made\",16393,\"2022-05-10\"],[\"I tried finding profitable flips at Walmart (in a RICH city \\ud83d\\udcb0)\",123699,\"2022-05-06\"],[\"I bought a Crushmetric SwitchPen (for research)\",13506,\"2022-05-02\"],[\"I bought a Pok\\u00e9mon collection to flip for profit (AGAIN)\",86320,\"2022-04-29\"],[\"My biggest viral video flop all time\\u2026\",8807,\"2022-04-26\"],[\"Jason Derulo DM\\u2019d me\\u2026 (here\\u2019s why)\",8124,\"2022-04-22\"],[\"I tried making a pro commercial for under $500\",10616,\"2022-04-21\"],[\"Jidion\\u2019s secret to growing 4mil subs in 1 year\\u2026\",4489,\"2022-04-18\"],[\"I tried flipping sneakers from the Nike outlet\",306074,\"2022-04-15\"],[\"How I used 1 viral video to grow my business FAST\",8412,\"2022-04-13\"],[\"My biggest failure as an entrepreneur\\u2026\",7247,\"2022-04-12\"],[\"Upgrading my office into a video studio for $100\",6304,\"2022-04-08\"],[\"Comparing PRIME to Powerade (will this brand win?)\",5435,\"2022-04-05\"],[\"I tried finding profitable flips at Walmart AGAIN\",128809,\"2022-04-01\"],[\"Giving streamers with 0 viewers $ to buy bitcoin\",7084,\"2022-03-31\"],[\"Unboxing my 100k play button  my best YT advice\",5082,\"2022-03-29\"],[\"I asked a $100m CEO: \\u201cis college worth it?\\u201d\",5042,\"2022-03-26\"],[\"I tried finding profitable flips at Goodwill\\u2026\",82160,\"2022-03-24\"],[\"How I find niche $ making products on eBay\",5882,\"2022-03-17\"],[\"Why I spent $3k on a full send metacard NFT (Nelk)\",18276,\"2022-03-15\"],[\"How I grew from 1k-100k subscribers in 1 week\",4392,\"2022-03-12\"],[\"I upgraded my $ making hotspot (week 2 results)\",33465,\"2022-03-10\"],[\"I built a dropshipping store from a cozy cabin\",9803,\"2022-03-09\"],[\"What influencers actually get for free\\u2026\",18598,\"2022-03-08\"],[\"I tried starting a streetwear brand for $70\",34462,\"2022-03-07\"],[\"I spent $100 on Pok\\u00e9mon cards to flip for profit\",223045,\"2022-03-03\"],[\"I made a diamond play button out of paper\",177703,\"2022-03-02\"],[\"How much $ I\\u2019ve made helium mining (Week 1)\",180433,\"2022-02-28\"],[\"I tried finding profitable flips at Walmart\\u2026\",851957,\"2022-02-25\"],[\"I asked a 9 figure ecom CEO if FB ads still work\",6914,\"2022-02-25\"],[\"I built a sunglasses brand to compete with Ray-Ban\",123712,\"2022-02-24\"],[\"I bought a wireless hotspot that makes me money\",296485,\"2022-02-22\"],[\"A multimillionaire CEO\\u2019s secret manufacturing tip\",51289,\"2022-02-18\"],[\"How much my T-shirt store made from $100 in Fb ads\",17998,\"2022-02-17\"],[\"My biggest struggle as an entrepreneur\",10898,\"2022-02-15\"],[\"Ranking side hustles I\\u2019ve tried from worst to best\",182392,\"2022-02-14\"],[\"I paid Fiverr $30 and $120 to design NFT\\u2019s (comparison)\",153407,\"2022-02-11\"],[\"My funniest flip I\\u2019ve ever done (made good $ tho)\",8643,\"2022-02-10\"],[\"I tried the golf club flipping side hustle (it works)\",8918,\"2022-02-08\"],[\"How I made my NFT chain (step by step)\",7828,\"2022-02-07\"],[\"\\u201cDrama\\u201d YouTubers are making a lot of money rn\\u2026\",7236,\"2022-02-05\"],[\"How to grow $1k into $1mil online (what I did)\",14051,\"2022-02-04\"],[\"I made a chain so I can wear my NFT\\u2019s\\u2026\",4843,\"2022-02-02\"],[\"My print on demand t-shirt store is making money\",6933,\"2022-02-01\"],[\"Why I\\u2019m not selling NFT\\u2019s ever again\\u2026\",15715,\"2022-01-31\"],[\"How I built a tablet farm that makes me money\\u2026\",584782,\"2022-01-28\"],[\"It took me 1 year to get 1k YouTube subs\\u2026 \\ud83d\\ude2d\",8454,\"2022-01-27\"],[\"How much my Pok\\u00e9mon cards investment is worth \\ud83d\\udcb0\",874614,\"2022-01-26\"],[\"I Paid Fiverr Video Editors To Make A Commercial\",121666,\"2022-01-25\"],[\"At 25yo I was doing $100k per month on eBay\",27326,\"2022-01-24\"],[\"I tried the print on demand t-shirt side hustle\",5802,\"2022-01-20\"],[\"How I&#39;ve Been Doubling My Money With NFT&#39;s\",809,\"2022-01-19\"],[\"I tried making $ with smaller NFT projects\\u2026\",6120,\"2022-01-18\"],[\"How much I made selling dollar store items online\\u2026\",85132,\"2022-01-17\"],[\"Turning a dollar store product into a brand (ep.1)\",3352,\"2022-01-13\"],[\"My New Money Printing Tablet Farm\",11572,\"2022-01-07\"],[\"Trying to turn $0 into $10k from scratch \\ud83d\\udcb0\",245725,\"2021-10-28\"],[\"I tried flipping NFTs\\u2026 here\\u2019s how much I made.\",168062,\"2021-10-27\"],[\"I tried finding profitable sneakers at Kohl\\u2019s \\ud83d\\ude16\",39161,\"2021-10-20\"],[\"Dropshipping From A Cabin In The Woods (24HR Challenge)\",763,\"2021-10-15\"],[\"Giving away your products is actually really smart\",5186,\"2021-10-14\"],[\"Were these brand names from Fiverr worth $50? \\ud83d\\ude16\",1698,\"2021-10-07\"],[\"How a NEW eBay seller can rank and get sales ASAP\",4268,\"2021-10-06\"],[\"10k today or 1 Bitcoin in 5 years? (on Omegle\\u2026)\",1464,\"2021-10-05\"],[\"Using a billboard to grow my Instagram (THE RESULTS)\",1679,\"2021-10-01\"],[\"The Trick To The YouTube Shorts Algorithm\\u2026\",4313,\"2021-09-30\"],[\"My first product I designed  manufactured \\ud83d\\ude16\",2185,\"2021-09-29\"],[\"Can you ACTUALLY grow on Instagram w/ billboards?\",1542,\"2021-09-28\"],[\"My Day As A Small YouTuber Trying To Make It (Raw Footage)\",158,\"2021-09-25\"],[\"A famous artist asked for my help \\ud83d\\ude26\\u2026\",1872,\"2021-09-24\"],[\"The best eBay strategy ever \\ud83d\\ude4c\",2153,\"2021-09-22\"],[\"Business is like a butterfly\\u2026\",1247,\"2021-09-21\"],[\"NFT pills!? Here\\u2019s why I bought one\\u2026\",1163,\"2021-09-16\"],[\"I tried turning memes into T-shirt designs\\u2026 \\ud83d\\ude16\",864,\"2021-09-16\"],[\"3 Slept On TikTok Tips That Made My Brand Go Viral\",359,\"2021-09-14\"],[\"The weirdest business purchase I\\u2019ve ever made \\ud83d\\ude16\",1184,\"2021-09-14\"],[\"How to make your clothing brand go VIRAL\",4310,\"2021-09-10\"],[\"I Bought A Billboard To Grow My Instagram\",332,\"2021-09-07\"],[\"Prototyping has never been easier or cheaper\\u2026\",1322,\"2021-09-03\"],[\"I got thumbnail advice from MrBeast \\ud83d\\ude0f\",45826,\"2021-09-02\"],[\"How to make your brand go viral on TikTok \\ud83d\\udd25\",64,\"2021-09-01\"],[\"I Tried Making Money With Virtual Horse Racing\",584,\"2021-08-31\"],[\"The cheap sunglasses side hustle\\u2026 (no one\\u2019s doing it!)\",1421,\"2021-08-27\"],[\"The genius marketing behind Logan  Jake Paul\\u2026\",651,\"2021-08-27\"],[\"I&#39;m quitting my job and becoming a digital horse breeder...\",1168,\"2021-08-25\"],[\"0 To 10k Instagram Followers From Scratch - Using TikTok to grow fast on IG | Ep. 2\",170,\"2021-08-24\"],[\"The EXACT method I used to get 500k followers on Facebook in 1 year \\ud83d\\udd25\",816,\"2021-08-24\"],[\"I grossed millions on eBay with this method\\u2026\",1660,\"2021-08-19\"],[\"Hey McDonald\\u2019s, do you accept Bitcoin? \\ud83d\\ude2d\",589,\"2021-08-18\"],[\"I manufactured an iPhone box from scratch \\ud83d\\ude16 (3 month process)\",1209,\"2021-08-16\"],[\"I made a terrible investment decision with this Pok\\u00e9mon card\\u2026 \\ud83d\\ude2d\",769,\"2021-08-12\"],[\"I built a profitable Shopify store in 1 hour \\ud83d\\udc40\",1816,\"2021-08-11\"],[\"How I Used Instagram To 2x My Business&#39; Sales\",65,\"2021-08-11\"],[\"I paid $1365 for a product commercial on Fiverr\\u2026 Was it worth it?\",1154,\"2021-08-06\"],[\"Calling Tesla And Asking If They Accept Bitcoin\\u2026\",667,\"2021-08-06\"],[\"I hired a lawyer for $183 off of Fiverr\",856,\"2021-08-05\"],[\"How Yeti Charges $35 For A Cup\\u2026\",37628,\"2021-08-04\"],[\"The genius marketing behind NELK  Full Send\\u2026\",4941,\"2021-08-02\"],[\"I PAID someone on FIVERR to EDIT my commercial\",1330,\"2021-07-26\"],[\"0 To 10k Instagram Followers From Scratch | Ep. 1\",384,\"2021-07-23\"],[\"Dropshipping is dead in 2021\\u2026 Do this instead.\",1105,\"2021-07-20\"],[\"The Instagram Growth Hack Big Pages Never Share\\u2026 (2021)\",194,\"2021-07-01\"],[\"1 Hour Shopify Dropshipping Challenge (FROM SCRATCH)\",256,\"2021-06-23\"],[\"I Tried Streaming On Facebook Gaming (Complete Beginner)\",24,\"2021-06-09\"],[\"7 eBay Hacks That Big Sellers Never Share...\",242,\"2021-06-01\"],[\"9 Side Hustles That Are Slept On In 2021 ($200 Per Day)\",175,\"2021-05-27\"],[\"I Tried Dropshipping A Dollar Tree Product (72 Hour Challenge)\",95,\"2021-04-30\"],[\"Zero To 500k On Facebook In 1 Year | Full Step By Step Training\",81,\"2021-03-30\"],[\"I Tried Dropshipping From Scratch (24HR CHALLENGE)\",397,\"2021-03-10\"],[\"How I Started A Million Dollar Business From My Mom&#39;s Basement\",405,\"2021-02-23\"]],\"hovertemplate\":\"comment_count=%{x}<br>view_count=%{y}<br>video_title=%{customdata[0]}<br>like_count=%{customdata[1]}<br>upload_date=%{customdata[2]}<extra></extra>\",\"legendgroup\":\"\",\"marker\":{\"color\":\"#636efa\",\"symbol\":\"circle\"},\"mode\":\"markers\",\"name\":\"\",\"orientation\":\"v\",\"showlegend\":false,\"x\":[447,57,3230,70,70,88,220,68,606,1536,203,213,70,260,30,39,90,814,67,32,135,53,35,59,645,154,62,255,778,420,230,246,493,87,830,686,98,2622,5859,116,99,221,77,176,4680,475,2753,414,72,1515,4078,536,417,651,85,33,152,173,98,1289,626,2162,1410,234,293,549,67,744,114,728,202,176,774,68,91,567,56,457,32,55,105,30,852,39,94,44,66,470,89,57,49,785,52,441,48,204,77,116,534,1015,350,1206,4176,35,1119,1255,338,85,41,698,1394,55,64,152,61,136,103,18,268,4414,69,2566,2473,164,40,53,83,493,14,245,1026,1917,150,44,29,63,21,38,14,70,65,12,40,9,10,6,23,6,13,19,16,31,7,225,2,32,28,6,13,11,5,11,14,20,10,21,4,40,13,18,691,109,31,25,19,15,30,4,17,9,10,10,55,37],\"xaxis\":\"x\",\"y\":[781610,113539,40723,971564,501415,1469829,2103937,455423,1835207,1162979,455182,1871976,9368,3004250,48959,49641,10834,1729501,96751,91084,229984,109407,50759,53219,4234596,211944,200262,625339,5827039,1844903,37322,866417,421491,157334,2756855,1837882,188385,215543,5546984,180821,385224,2018008,39091,269367,10616068,1681458,7941682,1952270,183171,3095865,7633883,3554636,771667,2370984,16078,231893,853458,806622,453980,1316230,1234922,30106646,221018,546741,1160878,4074711,228490,1861965,32861,3214566,1075509,252723,3348675,196201,267343,2116905,192329,1533920,155055,149995,150244,96684,5004675,144830,113690,112897,93456,2057610,122581,76442,103689,1220806,116564,508914,88116,541794,205689,270517,530461,4554853,2674456,2900702,16236845,186803,2644327,6163849,1092992,396180,199155,3036555,2493035,176373,201786,223064,154648,268687,98791,141991,435588,13609004,144452,14570731,1744928,521855,104785,27500,141519,1452106,84049,225342,4715317,4474616,650797,13284,77520,48474,65572,46069,40673,71412,35346,33307,4019,35792,35676,29010,30303,24660,5457,29170,51674,4684,25556,532261,1844,12304,30531,20591,24168,3639,17212,32871,15180,21292,20270,33623,1057,17177,16919,20501,1038455,154792,26455,6806,32147,3675,5155,553,4524,3058,2206,1080,7339,6467],\"yaxis\":\"y\",\"type\":\"scatter\"}],                        {\"template\":{\"data\":{\"histogram2dcontour\":[{\"type\":\"histogram2dcontour\",\"colorbar\":{\"outlinewidth\":0,\"ticks\":\"\"},\"colorscale\":[[0.0,\"#0d0887\"],[0.1111111111111111,\"#46039f\"],[0.2222222222222222,\"#7201a8\"],[0.3333333333333333,\"#9c179e\"],[0.4444444444444444,\"#bd3786\"],[0.5555555555555556,\"#d8576b\"],[0.6666666666666666,\"#ed7953\"],[0.7777777777777778,\"#fb9f3a\"],[0.8888888888888888,\"#fdca26\"],[1.0,\"#f0f921\"]]}],\"choropleth\":[{\"type\":\"choropleth\",\"colorbar\":{\"outlinewidth\":0,\"ticks\":\"\"}}],\"histogram2d\":[{\"type\":\"histogram2d\",\"colorbar\":{\"outlinewidth\":0,\"ticks\":\"\"},\"colorscale\":[[0.0,\"#0d0887\"],[0.1111111111111111,\"#46039f\"],[0.2222222222222222,\"#7201a8\"],[0.3333333333333333,\"#9c179e\"],[0.4444444444444444,\"#bd3786\"],[0.5555555555555556,\"#d8576b\"],[0.6666666666666666,\"#ed7953\"],[0.7777777777777778,\"#fb9f3a\"],[0.8888888888888888,\"#fdca26\"],[1.0,\"#f0f921\"]]}],\"heatmap\":[{\"type\":\"heatmap\",\"colorbar\":{\"outlinewidth\":0,\"ticks\":\"\"},\"colorscale\":[[0.0,\"#0d0887\"],[0.1111111111111111,\"#46039f\"],[0.2222222222222222,\"#7201a8\"],[0.3333333333333333,\"#9c179e\"],[0.4444444444444444,\"#bd3786\"],[0.5555555555555556,\"#d8576b\"],[0.6666666666666666,\"#ed7953\"],[0.7777777777777778,\"#fb9f3a\"],[0.8888888888888888,\"#fdca26\"],[1.0,\"#f0f921\"]]}],\"heatmapgl\":[{\"type\":\"heatmapgl\",\"colorbar\":{\"outlinewidth\":0,\"ticks\":\"\"},\"colorscale\":[[0.0,\"#0d0887\"],[0.1111111111111111,\"#46039f\"],[0.2222222222222222,\"#7201a8\"],[0.3333333333333333,\"#9c179e\"],[0.4444444444444444,\"#bd3786\"],[0.5555555555555556,\"#d8576b\"],[0.6666666666666666,\"#ed7953\"],[0.7777777777777778,\"#fb9f3a\"],[0.8888888888888888,\"#fdca26\"],[1.0,\"#f0f921\"]]}],\"contourcarpet\":[{\"type\":\"contourcarpet\",\"colorbar\":{\"outlinewidth\":0,\"ticks\":\"\"}}],\"contour\":[{\"type\":\"contour\",\"colorbar\":{\"outlinewidth\":0,\"ticks\":\"\"},\"colorscale\":[[0.0,\"#0d0887\"],[0.1111111111111111,\"#46039f\"],[0.2222222222222222,\"#7201a8\"],[0.3333333333333333,\"#9c179e\"],[0.4444444444444444,\"#bd3786\"],[0.5555555555555556,\"#d8576b\"],[0.6666666666666666,\"#ed7953\"],[0.7777777777777778,\"#fb9f3a\"],[0.8888888888888888,\"#fdca26\"],[1.0,\"#f0f921\"]]}],\"surface\":[{\"type\":\"surface\",\"colorbar\":{\"outlinewidth\":0,\"ticks\":\"\"},\"colorscale\":[[0.0,\"#0d0887\"],[0.1111111111111111,\"#46039f\"],[0.2222222222222222,\"#7201a8\"],[0.3333333333333333,\"#9c179e\"],[0.4444444444444444,\"#bd3786\"],[0.5555555555555556,\"#d8576b\"],[0.6666666666666666,\"#ed7953\"],[0.7777777777777778,\"#fb9f3a\"],[0.8888888888888888,\"#fdca26\"],[1.0,\"#f0f921\"]]}],\"mesh3d\":[{\"type\":\"mesh3d\",\"colorbar\":{\"outlinewidth\":0,\"ticks\":\"\"}}],\"scatter\":[{\"fillpattern\":{\"fillmode\":\"overlay\",\"size\":10,\"solidity\":0.2},\"type\":\"scatter\"}],\"parcoords\":[{\"type\":\"parcoords\",\"line\":{\"colorbar\":{\"outlinewidth\":0,\"ticks\":\"\"}}}],\"scatterpolargl\":[{\"type\":\"scatterpolargl\",\"marker\":{\"colorbar\":{\"outlinewidth\":0,\"ticks\":\"\"}}}],\"bar\":[{\"error_x\":{\"color\":\"#2a3f5f\"},\"error_y\":{\"color\":\"#2a3f5f\"},\"marker\":{\"line\":{\"color\":\"#E5ECF6\",\"width\":0.5},\"pattern\":{\"fillmode\":\"overlay\",\"size\":10,\"solidity\":0.2}},\"type\":\"bar\"}],\"scattergeo\":[{\"type\":\"scattergeo\",\"marker\":{\"colorbar\":{\"outlinewidth\":0,\"ticks\":\"\"}}}],\"scatterpolar\":[{\"type\":\"scatterpolar\",\"marker\":{\"colorbar\":{\"outlinewidth\":0,\"ticks\":\"\"}}}],\"histogram\":[{\"marker\":{\"pattern\":{\"fillmode\":\"overlay\",\"size\":10,\"solidity\":0.2}},\"type\":\"histogram\"}],\"scattergl\":[{\"type\":\"scattergl\",\"marker\":{\"colorbar\":{\"outlinewidth\":0,\"ticks\":\"\"}}}],\"scatter3d\":[{\"type\":\"scatter3d\",\"line\":{\"colorbar\":{\"outlinewidth\":0,\"ticks\":\"\"}},\"marker\":{\"colorbar\":{\"outlinewidth\":0,\"ticks\":\"\"}}}],\"scattermapbox\":[{\"type\":\"scattermapbox\",\"marker\":{\"colorbar\":{\"outlinewidth\":0,\"ticks\":\"\"}}}],\"scatterternary\":[{\"type\":\"scatterternary\",\"marker\":{\"colorbar\":{\"outlinewidth\":0,\"ticks\":\"\"}}}],\"scattercarpet\":[{\"type\":\"scattercarpet\",\"marker\":{\"colorbar\":{\"outlinewidth\":0,\"ticks\":\"\"}}}],\"carpet\":[{\"aaxis\":{\"endlinecolor\":\"#2a3f5f\",\"gridcolor\":\"white\",\"linecolor\":\"white\",\"minorgridcolor\":\"white\",\"startlinecolor\":\"#2a3f5f\"},\"baxis\":{\"endlinecolor\":\"#2a3f5f\",\"gridcolor\":\"white\",\"linecolor\":\"white\",\"minorgridcolor\":\"white\",\"startlinecolor\":\"#2a3f5f\"},\"type\":\"carpet\"}],\"table\":[{\"cells\":{\"fill\":{\"color\":\"#EBF0F8\"},\"line\":{\"color\":\"white\"}},\"header\":{\"fill\":{\"color\":\"#C8D4E3\"},\"line\":{\"color\":\"white\"}},\"type\":\"table\"}],\"barpolar\":[{\"marker\":{\"line\":{\"color\":\"#E5ECF6\",\"width\":0.5},\"pattern\":{\"fillmode\":\"overlay\",\"size\":10,\"solidity\":0.2}},\"type\":\"barpolar\"}],\"pie\":[{\"automargin\":true,\"type\":\"pie\"}]},\"layout\":{\"autotypenumbers\":\"strict\",\"colorway\":[\"#636efa\",\"#EF553B\",\"#00cc96\",\"#ab63fa\",\"#FFA15A\",\"#19d3f3\",\"#FF6692\",\"#B6E880\",\"#FF97FF\",\"#FECB52\"],\"font\":{\"color\":\"#2a3f5f\"},\"hovermode\":\"closest\",\"hoverlabel\":{\"align\":\"left\"},\"paper_bgcolor\":\"white\",\"plot_bgcolor\":\"#E5ECF6\",\"polar\":{\"bgcolor\":\"#E5ECF6\",\"angularaxis\":{\"gridcolor\":\"white\",\"linecolor\":\"white\",\"ticks\":\"\"},\"radialaxis\":{\"gridcolor\":\"white\",\"linecolor\":\"white\",\"ticks\":\"\"}},\"ternary\":{\"bgcolor\":\"#E5ECF6\",\"aaxis\":{\"gridcolor\":\"white\",\"linecolor\":\"white\",\"ticks\":\"\"},\"baxis\":{\"gridcolor\":\"white\",\"linecolor\":\"white\",\"ticks\":\"\"},\"caxis\":{\"gridcolor\":\"white\",\"linecolor\":\"white\",\"ticks\":\"\"}},\"coloraxis\":{\"colorbar\":{\"outlinewidth\":0,\"ticks\":\"\"}},\"colorscale\":{\"sequential\":[[0.0,\"#0d0887\"],[0.1111111111111111,\"#46039f\"],[0.2222222222222222,\"#7201a8\"],[0.3333333333333333,\"#9c179e\"],[0.4444444444444444,\"#bd3786\"],[0.5555555555555556,\"#d8576b\"],[0.6666666666666666,\"#ed7953\"],[0.7777777777777778,\"#fb9f3a\"],[0.8888888888888888,\"#fdca26\"],[1.0,\"#f0f921\"]],\"sequentialminus\":[[0.0,\"#0d0887\"],[0.1111111111111111,\"#46039f\"],[0.2222222222222222,\"#7201a8\"],[0.3333333333333333,\"#9c179e\"],[0.4444444444444444,\"#bd3786\"],[0.5555555555555556,\"#d8576b\"],[0.6666666666666666,\"#ed7953\"],[0.7777777777777778,\"#fb9f3a\"],[0.8888888888888888,\"#fdca26\"],[1.0,\"#f0f921\"]],\"diverging\":[[0,\"#8e0152\"],[0.1,\"#c51b7d\"],[0.2,\"#de77ae\"],[0.3,\"#f1b6da\"],[0.4,\"#fde0ef\"],[0.5,\"#f7f7f7\"],[0.6,\"#e6f5d0\"],[0.7,\"#b8e186\"],[0.8,\"#7fbc41\"],[0.9,\"#4d9221\"],[1,\"#276419\"]]},\"xaxis\":{\"gridcolor\":\"white\",\"linecolor\":\"white\",\"ticks\":\"\",\"title\":{\"standoff\":15},\"zerolinecolor\":\"white\",\"automargin\":true,\"zerolinewidth\":2},\"yaxis\":{\"gridcolor\":\"white\",\"linecolor\":\"white\",\"ticks\":\"\",\"title\":{\"standoff\":15},\"zerolinecolor\":\"white\",\"automargin\":true,\"zerolinewidth\":2},\"scene\":{\"xaxis\":{\"backgroundcolor\":\"#E5ECF6\",\"gridcolor\":\"white\",\"linecolor\":\"white\",\"showbackground\":true,\"ticks\":\"\",\"zerolinecolor\":\"white\",\"gridwidth\":2},\"yaxis\":{\"backgroundcolor\":\"#E5ECF6\",\"gridcolor\":\"white\",\"linecolor\":\"white\",\"showbackground\":true,\"ticks\":\"\",\"zerolinecolor\":\"white\",\"gridwidth\":2},\"zaxis\":{\"backgroundcolor\":\"#E5ECF6\",\"gridcolor\":\"white\",\"linecolor\":\"white\",\"showbackground\":true,\"ticks\":\"\",\"zerolinecolor\":\"white\",\"gridwidth\":2}},\"shapedefaults\":{\"line\":{\"color\":\"#2a3f5f\"}},\"annotationdefaults\":{\"arrowcolor\":\"#2a3f5f\",\"arrowhead\":0,\"arrowwidth\":1},\"geo\":{\"bgcolor\":\"white\",\"landcolor\":\"#E5ECF6\",\"subunitcolor\":\"white\",\"showland\":true,\"showlakes\":true,\"lakecolor\":\"white\"},\"title\":{\"x\":0.05},\"mapbox\":{\"style\":\"light\"}}},\"xaxis\":{\"anchor\":\"y\",\"domain\":[0.0,1.0],\"title\":{\"text\":\"comment_count\"}},\"yaxis\":{\"anchor\":\"x\",\"domain\":[0.0,1.0],\"title\":{\"text\":\"view_count\"}},\"legend\":{\"tracegroupgap\":0},\"title\":{\"text\":\"Comment Count and View Count Scatter for All Videos\"}},                        {\"responsive\": true}                    ).then(function(){\n",
       "                            \n",
       "var gd = document.getElementById('5061f1c4-a029-4aaf-a695-841eea6c0f5c');\n",
       "var x = new MutationObserver(function (mutations, observer) {{\n",
       "        var display = window.getComputedStyle(gd).display;\n",
       "        if (!display || display === 'none') {{\n",
       "            console.log([gd, 'removed!']);\n",
       "            Plotly.purge(gd);\n",
       "            observer.disconnect();\n",
       "        }}\n",
       "}});\n",
       "\n",
       "// Listen for the removal of the full notebook cells\n",
       "var notebookContainer = gd.closest('#notebook-container');\n",
       "if (notebookContainer) {{\n",
       "    x.observe(notebookContainer, {childList: true});\n",
       "}}\n",
       "\n",
       "// Listen for the clearing of the current output cell\n",
       "var outputEl = gd.closest('.output');\n",
       "if (outputEl) {{\n",
       "    x.observe(outputEl, {childList: true});\n",
       "}}\n",
       "\n",
       "                        })                };                });            </script>        </div>"
      ]
     },
     "metadata": {},
     "output_type": "display_data"
    }
   ],
   "source": [
    "init_notebook_mode(connected = True)\n",
    "fig = px.scatter(all_videos , x = 'comment_count' , y = 'view_count' , hover_data = ['video_title' , 'like_count' , 'upload_date'] , title= 'Comment Count and View Count Scatter for All Videos')\n",
    "fig.show()"
   ]
  },
  {
   "cell_type": "code",
   "execution_count": 9,
   "id": "c51fc513",
   "metadata": {},
   "outputs": [
    {
     "data": {
      "text/html": [
       "        <script type=\"text/javascript\">\n",
       "        window.PlotlyConfig = {MathJaxConfig: 'local'};\n",
       "        if (window.MathJax) {MathJax.Hub.Config({SVG: {font: \"STIX-Web\"}});}\n",
       "        if (typeof require !== 'undefined') {\n",
       "        require.undef(\"plotly\");\n",
       "        requirejs.config({\n",
       "            paths: {\n",
       "                'plotly': ['https://cdn.plot.ly/plotly-2.11.1.min']\n",
       "            }\n",
       "        });\n",
       "        require(['plotly'], function(Plotly) {\n",
       "            window._Plotly = Plotly;\n",
       "        });\n",
       "        }\n",
       "        </script>\n",
       "        "
      ]
     },
     "metadata": {},
     "output_type": "display_data"
    },
    {
     "data": {
      "application/vnd.plotly.v1+json": {
       "config": {
        "plotlyServerURL": "https://plot.ly"
       },
       "data": [
        {
         "customdata": [
          [
           "Confronting the seller of a questionable Kobe autograph",
           781610,
           "2022-11-02"
          ],
          [
           "Do experts think my cheap Kobe autograph is real?",
           113539,
           "2022-11-01"
          ],
          [
           "Anyone need a new camera?",
           40723,
           "2022-11-01"
          ],
          [
           "I asked collectors if my cheap Kobe autographs are real",
           971564,
           "2022-10-31"
          ],
          [
           "Unboxing a $400 Kobe autographed ball (real?)",
           501415,
           "2022-10-28"
          ],
          [
           "I bought a $400 Kobe autographed basketball (sus?)",
           1469829,
           "2022-10-28"
          ],
          [
           "Is the cheapest Kobe autographed ball online real?",
           2103937,
           "2022-10-26"
          ],
          [
           "I bought the cheapest Kobe autographed ball online",
           455423,
           "2022-10-26"
          ],
          [
           "How much gold I found in $100 Amazon pay dirt",
           1835207,
           "2022-10-20"
          ],
          [
           "I bought $500 worth of G-Shock￼￼ watches",
           1162979,
           "2022-10-14"
          ],
          [
           "I manufactured Yeezy sunglasses from scratch",
           455182,
           "2022-10-12"
          ],
          [
           "I paid artists $200 to turn Yeezys into sunglasses (foam runners)",
           1871976,
           "2022-10-11"
          ],
          [
           "I Turned Yeezy Sneakers Into Sunglasses",
           9368,
           "2022-10-06"
          ],
          [
           "How I profited off the fidget spinner craze",
           3004250,
           "2022-10-04"
          ],
          [
           "Easy Amazon side hustle - sell books with no words #ad",
           48959,
           "2022-10-03"
          ],
          [
           "I made a 3D printed 500k YouTube play button",
           49641,
           "2022-10-01"
          ],
          [
           "Make $1700 A Month Selling Books On Amazon - Easy Side Hustle - No Writing Required",
           10834,
           "2022-09-28"
          ],
          [
           "How to make $200 a day with a drone",
           1729501,
           "2022-09-23"
          ],
          [
           "My best finds at the thrift store (as a reseller)",
           96751,
           "2022-09-17"
          ],
          [
           "These boring glasses made me thousands online",
           91084,
           "2022-09-14"
          ],
          [
           "Testing the world’s brightest flashlight OUTSIDE",
           229984,
           "2022-09-08"
          ],
          [
           "I bought the brightest flashlight in the world ($700)",
           109407,
           "2022-09-07"
          ],
          [
           "Unboxing the brightest flashlight in the world ($700)",
           50759,
           "2022-09-07"
          ],
          [
           "Picking the winner of the MacBook…",
           53219,
           "2022-09-05"
          ],
          [
           "I paid an artist $20 to turn Yeezy sneakers into sunglasses",
           4234596,
           "2022-09-01"
          ],
          [
           "I got a gadget filled mystery box in the mail #shorts #sponsored",
           211944,
           "2022-08-31"
          ],
          [
           "The unfortunate truth of many US “factories”",
           200262,
           "2022-08-29"
          ],
          [
           "Valuing the gold I found in Amazon pay dirt",
           625339,
           "2022-08-24"
          ],
          [
           "How much gold I found in Amazon pay dirt",
           5827039,
           "2022-08-23"
          ],
          [
           "Is Gold Pay Dirt A Good Side Hustle?",
           1844903,
           "2022-08-22"
          ],
          [
           "I Bought Gold Pay Dirt And Made $______",
           37322,
           "2022-08-19"
          ],
          [
           "How much my money making hotspot has made",
           866417,
           "2022-08-18"
          ],
          [
           "He sold me fake Pokémon cards… maybe?",
           421491,
           "2022-08-12"
          ],
          [
           "He had 0 viewers… so I sent him $ for bitcoin",
           157334,
           "2022-08-11"
          ],
          [
           "Revealing My Entire Pokémon Investment",
           2756855,
           "2022-08-08"
          ],
          [
           "I tested the midnight Walmart side hustle",
           1837882,
           "2022-08-05"
          ],
          [
           "I started a clothing brand for under $100 #shorts #ad",
           188385,
           "2022-08-04"
          ],
          [
           "saying goodbye…",
           215543,
           "2022-08-03"
          ],
          [
           "How much iPhone box costs to make in USA vs. China",
           5546984,
           "2022-07-30"
          ],
          [
           "How she started a $10mil per year “side hustle”",
           180821,
           "2022-07-28"
          ],
          [
           "I Tried The Amazon Affiliate Side Hustle (how much I made)",
           385224,
           "2022-07-27"
          ],
          [
           "Is Amazon Affiliate Marketing a Good Side Hustle?",
           2018008,
           "2022-07-26"
          ],
          [
           "I Tried Selling Amazon Products With Memes",
           39091,
           "2022-07-25"
          ],
          [
           "I’m turning a meme page into a business",
           269367,
           "2022-07-22"
          ],
          [
           "I bought a questionable pineapple…",
           10616068,
           "2022-07-20"
          ],
          [
           "I’m investing in $100 empty boxes #shorts #sponsored",
           1681458,
           "2022-07-18"
          ],
          [
           "I paid Fiverr to redesign my product packaging",
           7941682,
           "2022-07-14"
          ],
          [
           "I tried turning $21 into $100 in profit (30min challenge)",
           1952270,
           "2022-07-12"
          ],
          [
           "The science behind my new YouTube thumbnail…",
           183171,
           "2022-07-11"
          ],
          [
           "Taste testing the most expensive water on Amazon",
           3095865,
           "2022-07-07"
          ],
          [
           "I bought the most expensive water on Amazon",
           7633883,
           "2022-07-05"
          ],
          [
           "I tried going viral as a small brand",
           3554636,
           "2022-07-01"
          ],
          [
           "I’m building a sunglasses brand to compete with Rayban (ep.2)",
           771667,
           "2022-06-28"
          ],
          [
           "I tried upgrading my money making hotspot (helium update PT.5)",
           2370984,
           "2022-06-25"
          ],
          [
           "I Tried Relaunching My Failed Business - Ep.1",
           16078,
           "2022-06-24"
          ],
          [
           "They were trying to disguise their side hustle…",
           231893,
           "2022-06-24"
          ],
          [
           "Did this seller scam me with her rolex?",
           853458,
           "2022-06-22"
          ],
          [
           "I tried finding profitable flips (ELON MUSK EDITION)",
           806622,
           "2022-06-18"
          ],
          [
           "I tried hyper realistic VR gaming (zombie edition)",
           453980,
           "2022-06-16"
          ],
          [
           "Surprising her with the cheapest rolex on eBay",
           1316230,
           "2022-06-13"
          ],
          [
           "Confronting the seller of the “cheapest rolex on ebay”",
           1234922,
           "2022-06-10"
          ],
          [
           "Is the cheapest rolex on eBay real?",
           30106646,
           "2022-06-09"
          ],
          [
           "I Bought The Cheapest Rolex On eBay",
           221018,
           "2022-06-08"
          ],
          [
           "Unboxing the cheapest rolex on eBay",
           546741,
           "2022-06-03"
          ],
          [
           "I bought the cheapest rolex on eBay…",
           1160878,
           "2022-06-02"
          ],
          [
           "Did I find real Yeezy slides?",
           4074711,
           "2022-05-30"
          ],
          [
           "Asking Rolex dealers if I can film in their store",
           228490,
           "2022-05-28"
          ],
          [
           "I looked for profit in a RICH CITY thrift store",
           1861965,
           "2022-05-27"
          ],
          [
           "My Money Printing Tablet Farm Journey (How much I made)",
           32861,
           "2022-05-24"
          ],
          [
           "I tried making money with unclaimed mail",
           3214566,
           "2022-05-22"
          ],
          [
           "Make this ONE change to 2x your eBay/Amazon sales",
           1075509,
           "2022-05-20"
          ],
          [
           "My sneaky plan to monetize my meme page…",
           252723,
           "2022-05-18"
          ],
          [
           "I just UPGRADED my money making hotspot (helium update PT.4)",
           3348675,
           "2022-05-13"
          ],
          [
           "How my failed business started my new career…",
           196201,
           "2022-05-11"
          ],
          [
           "I tried dropshipping… here’s how much I made",
           267343,
           "2022-05-10"
          ],
          [
           "I tried finding profitable flips at Walmart (in a RICH city 💰)",
           2116905,
           "2022-05-06"
          ],
          [
           "I bought a Crushmetric SwitchPen (for research)",
           192329,
           "2022-05-02"
          ],
          [
           "I bought a Pokémon collection to flip for profit (AGAIN)",
           1533920,
           "2022-04-29"
          ],
          [
           "My biggest viral video flop all time…",
           155055,
           "2022-04-26"
          ],
          [
           "Jason Derulo DM’d me… (here’s why)",
           149995,
           "2022-04-22"
          ],
          [
           "I tried making a pro commercial for under $500",
           150244,
           "2022-04-21"
          ],
          [
           "Jidion’s secret to growing 4mil subs in 1 year…",
           96684,
           "2022-04-18"
          ],
          [
           "I tried flipping sneakers from the Nike outlet",
           5004675,
           "2022-04-15"
          ],
          [
           "How I used 1 viral video to grow my business FAST",
           144830,
           "2022-04-13"
          ],
          [
           "My biggest failure as an entrepreneur…",
           113690,
           "2022-04-12"
          ],
          [
           "Upgrading my office into a video studio for $100",
           112897,
           "2022-04-08"
          ],
          [
           "Comparing PRIME to Powerade (will this brand win?)",
           93456,
           "2022-04-05"
          ],
          [
           "I tried finding profitable flips at Walmart AGAIN",
           2057610,
           "2022-04-01"
          ],
          [
           "Giving streamers with 0 viewers $ to buy bitcoin",
           122581,
           "2022-03-31"
          ],
          [
           "Unboxing my 100k play button  my best YT advice",
           76442,
           "2022-03-29"
          ],
          [
           "I asked a $100m CEO: “is college worth it?”",
           103689,
           "2022-03-26"
          ],
          [
           "I tried finding profitable flips at Goodwill…",
           1220806,
           "2022-03-24"
          ],
          [
           "How I find niche $ making products on eBay",
           116564,
           "2022-03-17"
          ],
          [
           "Why I spent $3k on a full send metacard NFT (Nelk)",
           508914,
           "2022-03-15"
          ],
          [
           "How I grew from 1k-100k subscribers in 1 week",
           88116,
           "2022-03-12"
          ],
          [
           "I upgraded my $ making hotspot (week 2 results)",
           541794,
           "2022-03-10"
          ],
          [
           "I built a dropshipping store from a cozy cabin",
           205689,
           "2022-03-09"
          ],
          [
           "What influencers actually get for free…",
           270517,
           "2022-03-08"
          ],
          [
           "I tried starting a streetwear brand for $70",
           530461,
           "2022-03-07"
          ],
          [
           "I spent $100 on Pokémon cards to flip for profit",
           4554853,
           "2022-03-03"
          ],
          [
           "I made a diamond play button out of paper",
           2674456,
           "2022-03-02"
          ],
          [
           "How much $ I’ve made helium mining (Week 1)",
           2900702,
           "2022-02-28"
          ],
          [
           "I tried finding profitable flips at Walmart…",
           16236845,
           "2022-02-25"
          ],
          [
           "I asked a 9 figure ecom CEO if FB ads still work",
           186803,
           "2022-02-25"
          ],
          [
           "I built a sunglasses brand to compete with Ray-Ban",
           2644327,
           "2022-02-24"
          ],
          [
           "I bought a wireless hotspot that makes me money",
           6163849,
           "2022-02-22"
          ],
          [
           "A multimillionaire CEO’s secret manufacturing tip",
           1092992,
           "2022-02-18"
          ],
          [
           "How much my T-shirt store made from $100 in Fb ads",
           396180,
           "2022-02-17"
          ],
          [
           "My biggest struggle as an entrepreneur",
           199155,
           "2022-02-15"
          ],
          [
           "Ranking side hustles I’ve tried from worst to best",
           3036555,
           "2022-02-14"
          ],
          [
           "I paid Fiverr $30 and $120 to design NFT’s (comparison)",
           2493035,
           "2022-02-11"
          ],
          [
           "My funniest flip I’ve ever done (made good $ tho)",
           176373,
           "2022-02-10"
          ],
          [
           "I tried the golf club flipping side hustle (it works)",
           201786,
           "2022-02-08"
          ],
          [
           "How I made my NFT chain (step by step)",
           223064,
           "2022-02-07"
          ],
          [
           "“Drama” YouTubers are making a lot of money rn…",
           154648,
           "2022-02-05"
          ],
          [
           "How to grow $1k into $1mil online (what I did)",
           268687,
           "2022-02-04"
          ],
          [
           "I made a chain so I can wear my NFT’s…",
           98791,
           "2022-02-02"
          ],
          [
           "My print on demand t-shirt store is making money",
           141991,
           "2022-02-01"
          ],
          [
           "Why I’m not selling NFT’s ever again…",
           435588,
           "2022-01-31"
          ],
          [
           "How I built a tablet farm that makes me money…",
           13609004,
           "2022-01-28"
          ],
          [
           "It took me 1 year to get 1k YouTube subs… 😭",
           144452,
           "2022-01-27"
          ],
          [
           "How much my Pokémon cards investment is worth 💰",
           14570731,
           "2022-01-26"
          ],
          [
           "I Paid Fiverr Video Editors To Make A Commercial",
           1744928,
           "2022-01-25"
          ],
          [
           "At 25yo I was doing $100k per month on eBay",
           521855,
           "2022-01-24"
          ],
          [
           "I tried the print on demand t-shirt side hustle",
           104785,
           "2022-01-20"
          ],
          [
           "How I&#39;ve Been Doubling My Money With NFT&#39;s",
           27500,
           "2022-01-19"
          ],
          [
           "I tried making $ with smaller NFT projects…",
           141519,
           "2022-01-18"
          ],
          [
           "How much I made selling dollar store items online…",
           1452106,
           "2022-01-17"
          ],
          [
           "Turning a dollar store product into a brand (ep.1)",
           84049,
           "2022-01-13"
          ],
          [
           "My New Money Printing Tablet Farm",
           225342,
           "2022-01-07"
          ],
          [
           "Trying to turn $0 into $10k from scratch 💰",
           4715317,
           "2021-10-28"
          ],
          [
           "I tried flipping NFTs… here’s how much I made.",
           4474616,
           "2021-10-27"
          ],
          [
           "I tried finding profitable sneakers at Kohl’s 😖",
           650797,
           "2021-10-20"
          ],
          [
           "Dropshipping From A Cabin In The Woods (24HR Challenge)",
           13284,
           "2021-10-15"
          ],
          [
           "Giving away your products is actually really smart",
           77520,
           "2021-10-14"
          ],
          [
           "Were these brand names from Fiverr worth $50? 😖",
           48474,
           "2021-10-07"
          ],
          [
           "How a NEW eBay seller can rank and get sales ASAP",
           65572,
           "2021-10-06"
          ],
          [
           "10k today or 1 Bitcoin in 5 years? (on Omegle…)",
           46069,
           "2021-10-05"
          ],
          [
           "Using a billboard to grow my Instagram (THE RESULTS)",
           40673,
           "2021-10-01"
          ],
          [
           "The Trick To The YouTube Shorts Algorithm…",
           71412,
           "2021-09-30"
          ],
          [
           "My first product I designed  manufactured 😖",
           35346,
           "2021-09-29"
          ],
          [
           "Can you ACTUALLY grow on Instagram w/ billboards?",
           33307,
           "2021-09-28"
          ],
          [
           "My Day As A Small YouTuber Trying To Make It (Raw Footage)",
           4019,
           "2021-09-25"
          ],
          [
           "A famous artist asked for my help 😦…",
           35792,
           "2021-09-24"
          ],
          [
           "The best eBay strategy ever 🙌",
           35676,
           "2021-09-22"
          ],
          [
           "Business is like a butterfly…",
           29010,
           "2021-09-21"
          ],
          [
           "NFT pills!? Here’s why I bought one…",
           30303,
           "2021-09-16"
          ],
          [
           "I tried turning memes into T-shirt designs… 😖",
           24660,
           "2021-09-16"
          ],
          [
           "3 Slept On TikTok Tips That Made My Brand Go Viral",
           5457,
           "2021-09-14"
          ],
          [
           "The weirdest business purchase I’ve ever made 😖",
           29170,
           "2021-09-14"
          ],
          [
           "How to make your clothing brand go VIRAL",
           51674,
           "2021-09-10"
          ],
          [
           "I Bought A Billboard To Grow My Instagram",
           4684,
           "2021-09-07"
          ],
          [
           "Prototyping has never been easier or cheaper…",
           25556,
           "2021-09-03"
          ],
          [
           "I got thumbnail advice from MrBeast 😏",
           532261,
           "2021-09-02"
          ],
          [
           "How to make your brand go viral on TikTok 🔥",
           1844,
           "2021-09-01"
          ],
          [
           "I Tried Making Money With Virtual Horse Racing",
           12304,
           "2021-08-31"
          ],
          [
           "The cheap sunglasses side hustle… (no one’s doing it!)",
           30531,
           "2021-08-27"
          ],
          [
           "The genius marketing behind Logan  Jake Paul…",
           20591,
           "2021-08-27"
          ],
          [
           "I&#39;m quitting my job and becoming a digital horse breeder...",
           24168,
           "2021-08-25"
          ],
          [
           "0 To 10k Instagram Followers From Scratch - Using TikTok to grow fast on IG | Ep. 2",
           3639,
           "2021-08-24"
          ],
          [
           "The EXACT method I used to get 500k followers on Facebook in 1 year 🔥",
           17212,
           "2021-08-24"
          ],
          [
           "I grossed millions on eBay with this method…",
           32871,
           "2021-08-19"
          ],
          [
           "Hey McDonald’s, do you accept Bitcoin? 😭",
           15180,
           "2021-08-18"
          ],
          [
           "I manufactured an iPhone box from scratch 😖 (3 month process)",
           21292,
           "2021-08-16"
          ],
          [
           "I made a terrible investment decision with this Pokémon card… 😭",
           20270,
           "2021-08-12"
          ],
          [
           "I built a profitable Shopify store in 1 hour 👀",
           33623,
           "2021-08-11"
          ],
          [
           "How I Used Instagram To 2x My Business&#39; Sales",
           1057,
           "2021-08-11"
          ],
          [
           "I paid $1365 for a product commercial on Fiverr… Was it worth it?",
           17177,
           "2021-08-06"
          ],
          [
           "Calling Tesla And Asking If They Accept Bitcoin…",
           16919,
           "2021-08-06"
          ],
          [
           "I hired a lawyer for $183 off of Fiverr",
           20501,
           "2021-08-05"
          ],
          [
           "How Yeti Charges $35 For A Cup…",
           1038455,
           "2021-08-04"
          ],
          [
           "The genius marketing behind NELK  Full Send…",
           154792,
           "2021-08-02"
          ],
          [
           "I PAID someone on FIVERR to EDIT my commercial",
           26455,
           "2021-07-26"
          ],
          [
           "0 To 10k Instagram Followers From Scratch | Ep. 1",
           6806,
           "2021-07-23"
          ],
          [
           "Dropshipping is dead in 2021… Do this instead.",
           32147,
           "2021-07-20"
          ],
          [
           "The Instagram Growth Hack Big Pages Never Share… (2021)",
           3675,
           "2021-07-01"
          ],
          [
           "1 Hour Shopify Dropshipping Challenge (FROM SCRATCH)",
           5155,
           "2021-06-23"
          ],
          [
           "I Tried Streaming On Facebook Gaming (Complete Beginner)",
           553,
           "2021-06-09"
          ],
          [
           "7 eBay Hacks That Big Sellers Never Share...",
           4524,
           "2021-06-01"
          ],
          [
           "9 Side Hustles That Are Slept On In 2021 ($200 Per Day)",
           3058,
           "2021-05-27"
          ],
          [
           "I Tried Dropshipping A Dollar Tree Product (72 Hour Challenge)",
           2206,
           "2021-04-30"
          ],
          [
           "Zero To 500k On Facebook In 1 Year | Full Step By Step Training",
           1080,
           "2021-03-30"
          ],
          [
           "I Tried Dropshipping From Scratch (24HR CHALLENGE)",
           7339,
           "2021-03-10"
          ],
          [
           "How I Started A Million Dollar Business From My Mom&#39;s Basement",
           6467,
           "2021-02-23"
          ]
         ],
         "hovertemplate": "like_count=%{x}<br>comment_count=%{y}<br>video_title=%{customdata[0]}<br>view_count=%{customdata[1]}<br>upload_date=%{customdata[2]}<extra></extra>",
         "legendgroup": "",
         "marker": {
          "color": "#636efa",
          "symbol": "circle"
         },
         "mode": "markers",
         "name": "",
         "orientation": "v",
         "showlegend": false,
         "type": "scatter",
         "x": [
          62761,
          9483,
          3162,
          78562,
          46803,
          135524,
          141783,
          30172,
          110940,
          75225,
          33210,
          143156,
          478,
          197699,
          3325,
          4279,
          680,
          123892,
          6046,
          8983,
          16588,
          6937,
          3611,
          3890,
          317273,
          16214,
          10788,
          52224,
          248207,
          117969,
          1582,
          64077,
          21197,
          8667,
          115333,
          71427,
          14119,
          16707,
          325141,
          10472,
          29550,
          152663,
          2187,
          22415,
          946659,
          159558,
          408708,
          158666,
          12508,
          340768,
          623213,
          318865,
          57089,
          154716,
          877,
          11616,
          65159,
          61655,
          24664,
          90274,
          80809,
          2002289,
          14921,
          30044,
          54112,
          308838,
          11054,
          115574,
          1413,
          193022,
          63755,
          15479,
          219116,
          12555,
          16393,
          123699,
          13506,
          86320,
          8807,
          8124,
          10616,
          4489,
          306074,
          8412,
          7247,
          6304,
          5435,
          128809,
          7084,
          5082,
          5042,
          82160,
          5882,
          18276,
          4392,
          33465,
          9803,
          18598,
          34462,
          223045,
          177703,
          180433,
          851957,
          6914,
          123712,
          296485,
          51289,
          17998,
          10898,
          182392,
          153407,
          8643,
          8918,
          7828,
          7236,
          14051,
          4843,
          6933,
          15715,
          584782,
          8454,
          874614,
          121666,
          27326,
          5802,
          809,
          6120,
          85132,
          3352,
          11572,
          245725,
          168062,
          39161,
          763,
          5186,
          1698,
          4268,
          1464,
          1679,
          4313,
          2185,
          1542,
          158,
          1872,
          2153,
          1247,
          1163,
          864,
          359,
          1184,
          4310,
          332,
          1322,
          45826,
          64,
          584,
          1421,
          651,
          1168,
          170,
          816,
          1660,
          589,
          1209,
          769,
          1816,
          65,
          1154,
          667,
          856,
          37628,
          4941,
          1330,
          384,
          1105,
          194,
          256,
          24,
          242,
          175,
          95,
          81,
          397,
          405
         ],
         "xaxis": "x",
         "y": [
          447,
          57,
          3230,
          70,
          70,
          88,
          220,
          68,
          606,
          1536,
          203,
          213,
          70,
          260,
          30,
          39,
          90,
          814,
          67,
          32,
          135,
          53,
          35,
          59,
          645,
          154,
          62,
          255,
          778,
          420,
          230,
          246,
          493,
          87,
          830,
          686,
          98,
          2622,
          5859,
          116,
          99,
          221,
          77,
          176,
          4680,
          475,
          2753,
          414,
          72,
          1515,
          4078,
          536,
          417,
          651,
          85,
          33,
          152,
          173,
          98,
          1289,
          626,
          2162,
          1410,
          234,
          293,
          549,
          67,
          744,
          114,
          728,
          202,
          176,
          774,
          68,
          91,
          567,
          56,
          457,
          32,
          55,
          105,
          30,
          852,
          39,
          94,
          44,
          66,
          470,
          89,
          57,
          49,
          785,
          52,
          441,
          48,
          204,
          77,
          116,
          534,
          1015,
          350,
          1206,
          4176,
          35,
          1119,
          1255,
          338,
          85,
          41,
          698,
          1394,
          55,
          64,
          152,
          61,
          136,
          103,
          18,
          268,
          4414,
          69,
          2566,
          2473,
          164,
          40,
          53,
          83,
          493,
          14,
          245,
          1026,
          1917,
          150,
          44,
          29,
          63,
          21,
          38,
          14,
          70,
          65,
          12,
          40,
          9,
          10,
          6,
          23,
          6,
          13,
          19,
          16,
          31,
          7,
          225,
          2,
          32,
          28,
          6,
          13,
          11,
          5,
          11,
          14,
          20,
          10,
          21,
          4,
          40,
          13,
          18,
          691,
          109,
          31,
          25,
          19,
          15,
          30,
          4,
          17,
          9,
          10,
          10,
          55,
          37
         ],
         "yaxis": "y"
        }
       ],
       "layout": {
        "legend": {
         "tracegroupgap": 0
        },
        "template": {
         "data": {
          "bar": [
           {
            "error_x": {
             "color": "#2a3f5f"
            },
            "error_y": {
             "color": "#2a3f5f"
            },
            "marker": {
             "line": {
              "color": "#E5ECF6",
              "width": 0.5
             },
             "pattern": {
              "fillmode": "overlay",
              "size": 10,
              "solidity": 0.2
             }
            },
            "type": "bar"
           }
          ],
          "barpolar": [
           {
            "marker": {
             "line": {
              "color": "#E5ECF6",
              "width": 0.5
             },
             "pattern": {
              "fillmode": "overlay",
              "size": 10,
              "solidity": 0.2
             }
            },
            "type": "barpolar"
           }
          ],
          "carpet": [
           {
            "aaxis": {
             "endlinecolor": "#2a3f5f",
             "gridcolor": "white",
             "linecolor": "white",
             "minorgridcolor": "white",
             "startlinecolor": "#2a3f5f"
            },
            "baxis": {
             "endlinecolor": "#2a3f5f",
             "gridcolor": "white",
             "linecolor": "white",
             "minorgridcolor": "white",
             "startlinecolor": "#2a3f5f"
            },
            "type": "carpet"
           }
          ],
          "choropleth": [
           {
            "colorbar": {
             "outlinewidth": 0,
             "ticks": ""
            },
            "type": "choropleth"
           }
          ],
          "contour": [
           {
            "colorbar": {
             "outlinewidth": 0,
             "ticks": ""
            },
            "colorscale": [
             [
              0,
              "#0d0887"
             ],
             [
              0.1111111111111111,
              "#46039f"
             ],
             [
              0.2222222222222222,
              "#7201a8"
             ],
             [
              0.3333333333333333,
              "#9c179e"
             ],
             [
              0.4444444444444444,
              "#bd3786"
             ],
             [
              0.5555555555555556,
              "#d8576b"
             ],
             [
              0.6666666666666666,
              "#ed7953"
             ],
             [
              0.7777777777777778,
              "#fb9f3a"
             ],
             [
              0.8888888888888888,
              "#fdca26"
             ],
             [
              1,
              "#f0f921"
             ]
            ],
            "type": "contour"
           }
          ],
          "contourcarpet": [
           {
            "colorbar": {
             "outlinewidth": 0,
             "ticks": ""
            },
            "type": "contourcarpet"
           }
          ],
          "heatmap": [
           {
            "colorbar": {
             "outlinewidth": 0,
             "ticks": ""
            },
            "colorscale": [
             [
              0,
              "#0d0887"
             ],
             [
              0.1111111111111111,
              "#46039f"
             ],
             [
              0.2222222222222222,
              "#7201a8"
             ],
             [
              0.3333333333333333,
              "#9c179e"
             ],
             [
              0.4444444444444444,
              "#bd3786"
             ],
             [
              0.5555555555555556,
              "#d8576b"
             ],
             [
              0.6666666666666666,
              "#ed7953"
             ],
             [
              0.7777777777777778,
              "#fb9f3a"
             ],
             [
              0.8888888888888888,
              "#fdca26"
             ],
             [
              1,
              "#f0f921"
             ]
            ],
            "type": "heatmap"
           }
          ],
          "heatmapgl": [
           {
            "colorbar": {
             "outlinewidth": 0,
             "ticks": ""
            },
            "colorscale": [
             [
              0,
              "#0d0887"
             ],
             [
              0.1111111111111111,
              "#46039f"
             ],
             [
              0.2222222222222222,
              "#7201a8"
             ],
             [
              0.3333333333333333,
              "#9c179e"
             ],
             [
              0.4444444444444444,
              "#bd3786"
             ],
             [
              0.5555555555555556,
              "#d8576b"
             ],
             [
              0.6666666666666666,
              "#ed7953"
             ],
             [
              0.7777777777777778,
              "#fb9f3a"
             ],
             [
              0.8888888888888888,
              "#fdca26"
             ],
             [
              1,
              "#f0f921"
             ]
            ],
            "type": "heatmapgl"
           }
          ],
          "histogram": [
           {
            "marker": {
             "pattern": {
              "fillmode": "overlay",
              "size": 10,
              "solidity": 0.2
             }
            },
            "type": "histogram"
           }
          ],
          "histogram2d": [
           {
            "colorbar": {
             "outlinewidth": 0,
             "ticks": ""
            },
            "colorscale": [
             [
              0,
              "#0d0887"
             ],
             [
              0.1111111111111111,
              "#46039f"
             ],
             [
              0.2222222222222222,
              "#7201a8"
             ],
             [
              0.3333333333333333,
              "#9c179e"
             ],
             [
              0.4444444444444444,
              "#bd3786"
             ],
             [
              0.5555555555555556,
              "#d8576b"
             ],
             [
              0.6666666666666666,
              "#ed7953"
             ],
             [
              0.7777777777777778,
              "#fb9f3a"
             ],
             [
              0.8888888888888888,
              "#fdca26"
             ],
             [
              1,
              "#f0f921"
             ]
            ],
            "type": "histogram2d"
           }
          ],
          "histogram2dcontour": [
           {
            "colorbar": {
             "outlinewidth": 0,
             "ticks": ""
            },
            "colorscale": [
             [
              0,
              "#0d0887"
             ],
             [
              0.1111111111111111,
              "#46039f"
             ],
             [
              0.2222222222222222,
              "#7201a8"
             ],
             [
              0.3333333333333333,
              "#9c179e"
             ],
             [
              0.4444444444444444,
              "#bd3786"
             ],
             [
              0.5555555555555556,
              "#d8576b"
             ],
             [
              0.6666666666666666,
              "#ed7953"
             ],
             [
              0.7777777777777778,
              "#fb9f3a"
             ],
             [
              0.8888888888888888,
              "#fdca26"
             ],
             [
              1,
              "#f0f921"
             ]
            ],
            "type": "histogram2dcontour"
           }
          ],
          "mesh3d": [
           {
            "colorbar": {
             "outlinewidth": 0,
             "ticks": ""
            },
            "type": "mesh3d"
           }
          ],
          "parcoords": [
           {
            "line": {
             "colorbar": {
              "outlinewidth": 0,
              "ticks": ""
             }
            },
            "type": "parcoords"
           }
          ],
          "pie": [
           {
            "automargin": true,
            "type": "pie"
           }
          ],
          "scatter": [
           {
            "fillpattern": {
             "fillmode": "overlay",
             "size": 10,
             "solidity": 0.2
            },
            "type": "scatter"
           }
          ],
          "scatter3d": [
           {
            "line": {
             "colorbar": {
              "outlinewidth": 0,
              "ticks": ""
             }
            },
            "marker": {
             "colorbar": {
              "outlinewidth": 0,
              "ticks": ""
             }
            },
            "type": "scatter3d"
           }
          ],
          "scattercarpet": [
           {
            "marker": {
             "colorbar": {
              "outlinewidth": 0,
              "ticks": ""
             }
            },
            "type": "scattercarpet"
           }
          ],
          "scattergeo": [
           {
            "marker": {
             "colorbar": {
              "outlinewidth": 0,
              "ticks": ""
             }
            },
            "type": "scattergeo"
           }
          ],
          "scattergl": [
           {
            "marker": {
             "colorbar": {
              "outlinewidth": 0,
              "ticks": ""
             }
            },
            "type": "scattergl"
           }
          ],
          "scattermapbox": [
           {
            "marker": {
             "colorbar": {
              "outlinewidth": 0,
              "ticks": ""
             }
            },
            "type": "scattermapbox"
           }
          ],
          "scatterpolar": [
           {
            "marker": {
             "colorbar": {
              "outlinewidth": 0,
              "ticks": ""
             }
            },
            "type": "scatterpolar"
           }
          ],
          "scatterpolargl": [
           {
            "marker": {
             "colorbar": {
              "outlinewidth": 0,
              "ticks": ""
             }
            },
            "type": "scatterpolargl"
           }
          ],
          "scatterternary": [
           {
            "marker": {
             "colorbar": {
              "outlinewidth": 0,
              "ticks": ""
             }
            },
            "type": "scatterternary"
           }
          ],
          "surface": [
           {
            "colorbar": {
             "outlinewidth": 0,
             "ticks": ""
            },
            "colorscale": [
             [
              0,
              "#0d0887"
             ],
             [
              0.1111111111111111,
              "#46039f"
             ],
             [
              0.2222222222222222,
              "#7201a8"
             ],
             [
              0.3333333333333333,
              "#9c179e"
             ],
             [
              0.4444444444444444,
              "#bd3786"
             ],
             [
              0.5555555555555556,
              "#d8576b"
             ],
             [
              0.6666666666666666,
              "#ed7953"
             ],
             [
              0.7777777777777778,
              "#fb9f3a"
             ],
             [
              0.8888888888888888,
              "#fdca26"
             ],
             [
              1,
              "#f0f921"
             ]
            ],
            "type": "surface"
           }
          ],
          "table": [
           {
            "cells": {
             "fill": {
              "color": "#EBF0F8"
             },
             "line": {
              "color": "white"
             }
            },
            "header": {
             "fill": {
              "color": "#C8D4E3"
             },
             "line": {
              "color": "white"
             }
            },
            "type": "table"
           }
          ]
         },
         "layout": {
          "annotationdefaults": {
           "arrowcolor": "#2a3f5f",
           "arrowhead": 0,
           "arrowwidth": 1
          },
          "autotypenumbers": "strict",
          "coloraxis": {
           "colorbar": {
            "outlinewidth": 0,
            "ticks": ""
           }
          },
          "colorscale": {
           "diverging": [
            [
             0,
             "#8e0152"
            ],
            [
             0.1,
             "#c51b7d"
            ],
            [
             0.2,
             "#de77ae"
            ],
            [
             0.3,
             "#f1b6da"
            ],
            [
             0.4,
             "#fde0ef"
            ],
            [
             0.5,
             "#f7f7f7"
            ],
            [
             0.6,
             "#e6f5d0"
            ],
            [
             0.7,
             "#b8e186"
            ],
            [
             0.8,
             "#7fbc41"
            ],
            [
             0.9,
             "#4d9221"
            ],
            [
             1,
             "#276419"
            ]
           ],
           "sequential": [
            [
             0,
             "#0d0887"
            ],
            [
             0.1111111111111111,
             "#46039f"
            ],
            [
             0.2222222222222222,
             "#7201a8"
            ],
            [
             0.3333333333333333,
             "#9c179e"
            ],
            [
             0.4444444444444444,
             "#bd3786"
            ],
            [
             0.5555555555555556,
             "#d8576b"
            ],
            [
             0.6666666666666666,
             "#ed7953"
            ],
            [
             0.7777777777777778,
             "#fb9f3a"
            ],
            [
             0.8888888888888888,
             "#fdca26"
            ],
            [
             1,
             "#f0f921"
            ]
           ],
           "sequentialminus": [
            [
             0,
             "#0d0887"
            ],
            [
             0.1111111111111111,
             "#46039f"
            ],
            [
             0.2222222222222222,
             "#7201a8"
            ],
            [
             0.3333333333333333,
             "#9c179e"
            ],
            [
             0.4444444444444444,
             "#bd3786"
            ],
            [
             0.5555555555555556,
             "#d8576b"
            ],
            [
             0.6666666666666666,
             "#ed7953"
            ],
            [
             0.7777777777777778,
             "#fb9f3a"
            ],
            [
             0.8888888888888888,
             "#fdca26"
            ],
            [
             1,
             "#f0f921"
            ]
           ]
          },
          "colorway": [
           "#636efa",
           "#EF553B",
           "#00cc96",
           "#ab63fa",
           "#FFA15A",
           "#19d3f3",
           "#FF6692",
           "#B6E880",
           "#FF97FF",
           "#FECB52"
          ],
          "font": {
           "color": "#2a3f5f"
          },
          "geo": {
           "bgcolor": "white",
           "lakecolor": "white",
           "landcolor": "#E5ECF6",
           "showlakes": true,
           "showland": true,
           "subunitcolor": "white"
          },
          "hoverlabel": {
           "align": "left"
          },
          "hovermode": "closest",
          "mapbox": {
           "style": "light"
          },
          "paper_bgcolor": "white",
          "plot_bgcolor": "#E5ECF6",
          "polar": {
           "angularaxis": {
            "gridcolor": "white",
            "linecolor": "white",
            "ticks": ""
           },
           "bgcolor": "#E5ECF6",
           "radialaxis": {
            "gridcolor": "white",
            "linecolor": "white",
            "ticks": ""
           }
          },
          "scene": {
           "xaxis": {
            "backgroundcolor": "#E5ECF6",
            "gridcolor": "white",
            "gridwidth": 2,
            "linecolor": "white",
            "showbackground": true,
            "ticks": "",
            "zerolinecolor": "white"
           },
           "yaxis": {
            "backgroundcolor": "#E5ECF6",
            "gridcolor": "white",
            "gridwidth": 2,
            "linecolor": "white",
            "showbackground": true,
            "ticks": "",
            "zerolinecolor": "white"
           },
           "zaxis": {
            "backgroundcolor": "#E5ECF6",
            "gridcolor": "white",
            "gridwidth": 2,
            "linecolor": "white",
            "showbackground": true,
            "ticks": "",
            "zerolinecolor": "white"
           }
          },
          "shapedefaults": {
           "line": {
            "color": "#2a3f5f"
           }
          },
          "ternary": {
           "aaxis": {
            "gridcolor": "white",
            "linecolor": "white",
            "ticks": ""
           },
           "baxis": {
            "gridcolor": "white",
            "linecolor": "white",
            "ticks": ""
           },
           "bgcolor": "#E5ECF6",
           "caxis": {
            "gridcolor": "white",
            "linecolor": "white",
            "ticks": ""
           }
          },
          "title": {
           "x": 0.05
          },
          "xaxis": {
           "automargin": true,
           "gridcolor": "white",
           "linecolor": "white",
           "ticks": "",
           "title": {
            "standoff": 15
           },
           "zerolinecolor": "white",
           "zerolinewidth": 2
          },
          "yaxis": {
           "automargin": true,
           "gridcolor": "white",
           "linecolor": "white",
           "ticks": "",
           "title": {
            "standoff": 15
           },
           "zerolinecolor": "white",
           "zerolinewidth": 2
          }
         }
        },
        "title": {
         "text": "Like Count and Comment Count Scatter for All Videos"
        },
        "xaxis": {
         "anchor": "y",
         "domain": [
          0,
          1
         ],
         "title": {
          "text": "like_count"
         }
        },
        "yaxis": {
         "anchor": "x",
         "domain": [
          0,
          1
         ],
         "title": {
          "text": "comment_count"
         }
        }
       }
      },
      "text/html": [
       "<div>                            <div id=\"e9712286-2faf-4d1b-a965-eeea2e4b0ca3\" class=\"plotly-graph-div\" style=\"height:525px; width:100%;\"></div>            <script type=\"text/javascript\">                require([\"plotly\"], function(Plotly) {                    window.PLOTLYENV=window.PLOTLYENV || {};                                    if (document.getElementById(\"e9712286-2faf-4d1b-a965-eeea2e4b0ca3\")) {                    Plotly.newPlot(                        \"e9712286-2faf-4d1b-a965-eeea2e4b0ca3\",                        [{\"customdata\":[[\"Confronting the seller of a questionable Kobe autograph\",781610,\"2022-11-02\"],[\"Do experts think my cheap Kobe autograph is real?\",113539,\"2022-11-01\"],[\"Anyone need a new camera?\",40723,\"2022-11-01\"],[\"I asked collectors if my cheap Kobe autographs are real\",971564,\"2022-10-31\"],[\"Unboxing a $400 Kobe autographed ball (real?)\",501415,\"2022-10-28\"],[\"I bought a $400 Kobe autographed basketball (sus?)\",1469829,\"2022-10-28\"],[\"Is the cheapest Kobe autographed ball online real?\",2103937,\"2022-10-26\"],[\"I bought the cheapest Kobe autographed ball online\",455423,\"2022-10-26\"],[\"How much gold I found in $100 Amazon pay dirt\",1835207,\"2022-10-20\"],[\"I bought $500 worth of G-Shock\\ufffc\\ufffc watches\",1162979,\"2022-10-14\"],[\"I manufactured Yeezy sunglasses from scratch\",455182,\"2022-10-12\"],[\"I paid artists $200 to turn Yeezys into sunglasses (foam runners)\",1871976,\"2022-10-11\"],[\"I Turned Yeezy Sneakers Into Sunglasses\",9368,\"2022-10-06\"],[\"How I profited off the fidget spinner craze\",3004250,\"2022-10-04\"],[\"Easy Amazon side hustle - sell books with no words #ad\",48959,\"2022-10-03\"],[\"I made a 3D printed 500k YouTube play button\",49641,\"2022-10-01\"],[\"Make $1700 A Month Selling Books On Amazon - Easy Side Hustle - No Writing Required\",10834,\"2022-09-28\"],[\"How to make $200 a day with a drone\",1729501,\"2022-09-23\"],[\"My best finds at the thrift store (as a reseller)\",96751,\"2022-09-17\"],[\"These boring glasses made me thousands online\",91084,\"2022-09-14\"],[\"Testing the world\\u2019s brightest flashlight OUTSIDE\",229984,\"2022-09-08\"],[\"I bought the brightest flashlight in the world ($700)\",109407,\"2022-09-07\"],[\"Unboxing the brightest flashlight in the world ($700)\",50759,\"2022-09-07\"],[\"Picking the winner of the MacBook\\u2026\",53219,\"2022-09-05\"],[\"I paid an artist $20 to turn Yeezy sneakers into sunglasses\",4234596,\"2022-09-01\"],[\"I got a gadget filled mystery box in the mail #shorts #sponsored\",211944,\"2022-08-31\"],[\"The unfortunate truth of many US \\u201cfactories\\u201d\",200262,\"2022-08-29\"],[\"Valuing the gold I found in Amazon pay dirt\",625339,\"2022-08-24\"],[\"How much gold I found in Amazon pay dirt\",5827039,\"2022-08-23\"],[\"Is Gold Pay Dirt A Good Side Hustle?\",1844903,\"2022-08-22\"],[\"I Bought Gold Pay Dirt And Made $______\",37322,\"2022-08-19\"],[\"How much my money making hotspot has made\",866417,\"2022-08-18\"],[\"He sold me fake Pok\\u00e9mon cards\\u2026 maybe?\",421491,\"2022-08-12\"],[\"He had 0 viewers\\u2026 so I sent him $ for bitcoin\",157334,\"2022-08-11\"],[\"Revealing My Entire Pok\\u00e9mon Investment\",2756855,\"2022-08-08\"],[\"I tested the midnight Walmart side hustle\",1837882,\"2022-08-05\"],[\"I started a clothing brand for under $100 #shorts #ad\",188385,\"2022-08-04\"],[\"saying goodbye\\u2026\",215543,\"2022-08-03\"],[\"How much iPhone box costs to make in USA vs. China\",5546984,\"2022-07-30\"],[\"How she started a $10mil per year \\u201cside hustle\\u201d\",180821,\"2022-07-28\"],[\"I Tried The Amazon Affiliate Side Hustle (how much I made)\",385224,\"2022-07-27\"],[\"Is Amazon Affiliate Marketing a Good Side Hustle?\",2018008,\"2022-07-26\"],[\"I Tried Selling Amazon Products With Memes\",39091,\"2022-07-25\"],[\"I\\u2019m turning a meme page into a business\",269367,\"2022-07-22\"],[\"I bought a questionable pineapple\\u2026\",10616068,\"2022-07-20\"],[\"I\\u2019m investing in $100 empty boxes #shorts #sponsored\",1681458,\"2022-07-18\"],[\"I paid Fiverr to redesign my product packaging\",7941682,\"2022-07-14\"],[\"I tried turning $21 into $100 in profit (30min challenge)\",1952270,\"2022-07-12\"],[\"The science behind my new YouTube thumbnail\\u2026\",183171,\"2022-07-11\"],[\"Taste testing the most expensive water on Amazon\",3095865,\"2022-07-07\"],[\"I bought the most expensive water on Amazon\",7633883,\"2022-07-05\"],[\"I tried going viral as a small brand\",3554636,\"2022-07-01\"],[\"I\\u2019m building a sunglasses brand to compete with Rayban (ep.2)\",771667,\"2022-06-28\"],[\"I tried upgrading my money making hotspot (helium update PT.5)\",2370984,\"2022-06-25\"],[\"I Tried Relaunching My Failed Business - Ep.1\",16078,\"2022-06-24\"],[\"They were trying to disguise their side hustle\\u2026\",231893,\"2022-06-24\"],[\"Did this seller scam me with her rolex?\",853458,\"2022-06-22\"],[\"I tried finding profitable flips (ELON MUSK EDITION)\",806622,\"2022-06-18\"],[\"I tried hyper realistic VR gaming (zombie edition)\",453980,\"2022-06-16\"],[\"Surprising her with the cheapest rolex on eBay\",1316230,\"2022-06-13\"],[\"Confronting the seller of the \\u201ccheapest rolex on ebay\\u201d\",1234922,\"2022-06-10\"],[\"Is the cheapest rolex on eBay real?\",30106646,\"2022-06-09\"],[\"I Bought The Cheapest Rolex On eBay\",221018,\"2022-06-08\"],[\"Unboxing the cheapest rolex on eBay\",546741,\"2022-06-03\"],[\"I bought the cheapest rolex on eBay\\u2026\",1160878,\"2022-06-02\"],[\"Did I find real Yeezy slides?\",4074711,\"2022-05-30\"],[\"Asking Rolex dealers if I can film in their store\",228490,\"2022-05-28\"],[\"I looked for profit in a RICH CITY thrift store\",1861965,\"2022-05-27\"],[\"My Money Printing Tablet Farm Journey (How much I made)\",32861,\"2022-05-24\"],[\"I tried making money with unclaimed mail\",3214566,\"2022-05-22\"],[\"Make this ONE change to 2x your eBay/Amazon sales\",1075509,\"2022-05-20\"],[\"My sneaky plan to monetize my meme page\\u2026\",252723,\"2022-05-18\"],[\"I just UPGRADED my money making hotspot (helium update PT.4)\",3348675,\"2022-05-13\"],[\"How my failed business started my new career\\u2026\",196201,\"2022-05-11\"],[\"I tried dropshipping\\u2026 here\\u2019s how much I made\",267343,\"2022-05-10\"],[\"I tried finding profitable flips at Walmart (in a RICH city \\ud83d\\udcb0)\",2116905,\"2022-05-06\"],[\"I bought a Crushmetric SwitchPen (for research)\",192329,\"2022-05-02\"],[\"I bought a Pok\\u00e9mon collection to flip for profit (AGAIN)\",1533920,\"2022-04-29\"],[\"My biggest viral video flop all time\\u2026\",155055,\"2022-04-26\"],[\"Jason Derulo DM\\u2019d me\\u2026 (here\\u2019s why)\",149995,\"2022-04-22\"],[\"I tried making a pro commercial for under $500\",150244,\"2022-04-21\"],[\"Jidion\\u2019s secret to growing 4mil subs in 1 year\\u2026\",96684,\"2022-04-18\"],[\"I tried flipping sneakers from the Nike outlet\",5004675,\"2022-04-15\"],[\"How I used 1 viral video to grow my business FAST\",144830,\"2022-04-13\"],[\"My biggest failure as an entrepreneur\\u2026\",113690,\"2022-04-12\"],[\"Upgrading my office into a video studio for $100\",112897,\"2022-04-08\"],[\"Comparing PRIME to Powerade (will this brand win?)\",93456,\"2022-04-05\"],[\"I tried finding profitable flips at Walmart AGAIN\",2057610,\"2022-04-01\"],[\"Giving streamers with 0 viewers $ to buy bitcoin\",122581,\"2022-03-31\"],[\"Unboxing my 100k play button  my best YT advice\",76442,\"2022-03-29\"],[\"I asked a $100m CEO: \\u201cis college worth it?\\u201d\",103689,\"2022-03-26\"],[\"I tried finding profitable flips at Goodwill\\u2026\",1220806,\"2022-03-24\"],[\"How I find niche $ making products on eBay\",116564,\"2022-03-17\"],[\"Why I spent $3k on a full send metacard NFT (Nelk)\",508914,\"2022-03-15\"],[\"How I grew from 1k-100k subscribers in 1 week\",88116,\"2022-03-12\"],[\"I upgraded my $ making hotspot (week 2 results)\",541794,\"2022-03-10\"],[\"I built a dropshipping store from a cozy cabin\",205689,\"2022-03-09\"],[\"What influencers actually get for free\\u2026\",270517,\"2022-03-08\"],[\"I tried starting a streetwear brand for $70\",530461,\"2022-03-07\"],[\"I spent $100 on Pok\\u00e9mon cards to flip for profit\",4554853,\"2022-03-03\"],[\"I made a diamond play button out of paper\",2674456,\"2022-03-02\"],[\"How much $ I\\u2019ve made helium mining (Week 1)\",2900702,\"2022-02-28\"],[\"I tried finding profitable flips at Walmart\\u2026\",16236845,\"2022-02-25\"],[\"I asked a 9 figure ecom CEO if FB ads still work\",186803,\"2022-02-25\"],[\"I built a sunglasses brand to compete with Ray-Ban\",2644327,\"2022-02-24\"],[\"I bought a wireless hotspot that makes me money\",6163849,\"2022-02-22\"],[\"A multimillionaire CEO\\u2019s secret manufacturing tip\",1092992,\"2022-02-18\"],[\"How much my T-shirt store made from $100 in Fb ads\",396180,\"2022-02-17\"],[\"My biggest struggle as an entrepreneur\",199155,\"2022-02-15\"],[\"Ranking side hustles I\\u2019ve tried from worst to best\",3036555,\"2022-02-14\"],[\"I paid Fiverr $30 and $120 to design NFT\\u2019s (comparison)\",2493035,\"2022-02-11\"],[\"My funniest flip I\\u2019ve ever done (made good $ tho)\",176373,\"2022-02-10\"],[\"I tried the golf club flipping side hustle (it works)\",201786,\"2022-02-08\"],[\"How I made my NFT chain (step by step)\",223064,\"2022-02-07\"],[\"\\u201cDrama\\u201d YouTubers are making a lot of money rn\\u2026\",154648,\"2022-02-05\"],[\"How to grow $1k into $1mil online (what I did)\",268687,\"2022-02-04\"],[\"I made a chain so I can wear my NFT\\u2019s\\u2026\",98791,\"2022-02-02\"],[\"My print on demand t-shirt store is making money\",141991,\"2022-02-01\"],[\"Why I\\u2019m not selling NFT\\u2019s ever again\\u2026\",435588,\"2022-01-31\"],[\"How I built a tablet farm that makes me money\\u2026\",13609004,\"2022-01-28\"],[\"It took me 1 year to get 1k YouTube subs\\u2026 \\ud83d\\ude2d\",144452,\"2022-01-27\"],[\"How much my Pok\\u00e9mon cards investment is worth \\ud83d\\udcb0\",14570731,\"2022-01-26\"],[\"I Paid Fiverr Video Editors To Make A Commercial\",1744928,\"2022-01-25\"],[\"At 25yo I was doing $100k per month on eBay\",521855,\"2022-01-24\"],[\"I tried the print on demand t-shirt side hustle\",104785,\"2022-01-20\"],[\"How I&#39;ve Been Doubling My Money With NFT&#39;s\",27500,\"2022-01-19\"],[\"I tried making $ with smaller NFT projects\\u2026\",141519,\"2022-01-18\"],[\"How much I made selling dollar store items online\\u2026\",1452106,\"2022-01-17\"],[\"Turning a dollar store product into a brand (ep.1)\",84049,\"2022-01-13\"],[\"My New Money Printing Tablet Farm\",225342,\"2022-01-07\"],[\"Trying to turn $0 into $10k from scratch \\ud83d\\udcb0\",4715317,\"2021-10-28\"],[\"I tried flipping NFTs\\u2026 here\\u2019s how much I made.\",4474616,\"2021-10-27\"],[\"I tried finding profitable sneakers at Kohl\\u2019s \\ud83d\\ude16\",650797,\"2021-10-20\"],[\"Dropshipping From A Cabin In The Woods (24HR Challenge)\",13284,\"2021-10-15\"],[\"Giving away your products is actually really smart\",77520,\"2021-10-14\"],[\"Were these brand names from Fiverr worth $50? \\ud83d\\ude16\",48474,\"2021-10-07\"],[\"How a NEW eBay seller can rank and get sales ASAP\",65572,\"2021-10-06\"],[\"10k today or 1 Bitcoin in 5 years? (on Omegle\\u2026)\",46069,\"2021-10-05\"],[\"Using a billboard to grow my Instagram (THE RESULTS)\",40673,\"2021-10-01\"],[\"The Trick To The YouTube Shorts Algorithm\\u2026\",71412,\"2021-09-30\"],[\"My first product I designed  manufactured \\ud83d\\ude16\",35346,\"2021-09-29\"],[\"Can you ACTUALLY grow on Instagram w/ billboards?\",33307,\"2021-09-28\"],[\"My Day As A Small YouTuber Trying To Make It (Raw Footage)\",4019,\"2021-09-25\"],[\"A famous artist asked for my help \\ud83d\\ude26\\u2026\",35792,\"2021-09-24\"],[\"The best eBay strategy ever \\ud83d\\ude4c\",35676,\"2021-09-22\"],[\"Business is like a butterfly\\u2026\",29010,\"2021-09-21\"],[\"NFT pills!? Here\\u2019s why I bought one\\u2026\",30303,\"2021-09-16\"],[\"I tried turning memes into T-shirt designs\\u2026 \\ud83d\\ude16\",24660,\"2021-09-16\"],[\"3 Slept On TikTok Tips That Made My Brand Go Viral\",5457,\"2021-09-14\"],[\"The weirdest business purchase I\\u2019ve ever made \\ud83d\\ude16\",29170,\"2021-09-14\"],[\"How to make your clothing brand go VIRAL\",51674,\"2021-09-10\"],[\"I Bought A Billboard To Grow My Instagram\",4684,\"2021-09-07\"],[\"Prototyping has never been easier or cheaper\\u2026\",25556,\"2021-09-03\"],[\"I got thumbnail advice from MrBeast \\ud83d\\ude0f\",532261,\"2021-09-02\"],[\"How to make your brand go viral on TikTok \\ud83d\\udd25\",1844,\"2021-09-01\"],[\"I Tried Making Money With Virtual Horse Racing\",12304,\"2021-08-31\"],[\"The cheap sunglasses side hustle\\u2026 (no one\\u2019s doing it!)\",30531,\"2021-08-27\"],[\"The genius marketing behind Logan  Jake Paul\\u2026\",20591,\"2021-08-27\"],[\"I&#39;m quitting my job and becoming a digital horse breeder...\",24168,\"2021-08-25\"],[\"0 To 10k Instagram Followers From Scratch - Using TikTok to grow fast on IG | Ep. 2\",3639,\"2021-08-24\"],[\"The EXACT method I used to get 500k followers on Facebook in 1 year \\ud83d\\udd25\",17212,\"2021-08-24\"],[\"I grossed millions on eBay with this method\\u2026\",32871,\"2021-08-19\"],[\"Hey McDonald\\u2019s, do you accept Bitcoin? \\ud83d\\ude2d\",15180,\"2021-08-18\"],[\"I manufactured an iPhone box from scratch \\ud83d\\ude16 (3 month process)\",21292,\"2021-08-16\"],[\"I made a terrible investment decision with this Pok\\u00e9mon card\\u2026 \\ud83d\\ude2d\",20270,\"2021-08-12\"],[\"I built a profitable Shopify store in 1 hour \\ud83d\\udc40\",33623,\"2021-08-11\"],[\"How I Used Instagram To 2x My Business&#39; Sales\",1057,\"2021-08-11\"],[\"I paid $1365 for a product commercial on Fiverr\\u2026 Was it worth it?\",17177,\"2021-08-06\"],[\"Calling Tesla And Asking If They Accept Bitcoin\\u2026\",16919,\"2021-08-06\"],[\"I hired a lawyer for $183 off of Fiverr\",20501,\"2021-08-05\"],[\"How Yeti Charges $35 For A Cup\\u2026\",1038455,\"2021-08-04\"],[\"The genius marketing behind NELK  Full Send\\u2026\",154792,\"2021-08-02\"],[\"I PAID someone on FIVERR to EDIT my commercial\",26455,\"2021-07-26\"],[\"0 To 10k Instagram Followers From Scratch | Ep. 1\",6806,\"2021-07-23\"],[\"Dropshipping is dead in 2021\\u2026 Do this instead.\",32147,\"2021-07-20\"],[\"The Instagram Growth Hack Big Pages Never Share\\u2026 (2021)\",3675,\"2021-07-01\"],[\"1 Hour Shopify Dropshipping Challenge (FROM SCRATCH)\",5155,\"2021-06-23\"],[\"I Tried Streaming On Facebook Gaming (Complete Beginner)\",553,\"2021-06-09\"],[\"7 eBay Hacks That Big Sellers Never Share...\",4524,\"2021-06-01\"],[\"9 Side Hustles That Are Slept On In 2021 ($200 Per Day)\",3058,\"2021-05-27\"],[\"I Tried Dropshipping A Dollar Tree Product (72 Hour Challenge)\",2206,\"2021-04-30\"],[\"Zero To 500k On Facebook In 1 Year | Full Step By Step Training\",1080,\"2021-03-30\"],[\"I Tried Dropshipping From Scratch (24HR CHALLENGE)\",7339,\"2021-03-10\"],[\"How I Started A Million Dollar Business From My Mom&#39;s Basement\",6467,\"2021-02-23\"]],\"hovertemplate\":\"like_count=%{x}<br>comment_count=%{y}<br>video_title=%{customdata[0]}<br>view_count=%{customdata[1]}<br>upload_date=%{customdata[2]}<extra></extra>\",\"legendgroup\":\"\",\"marker\":{\"color\":\"#636efa\",\"symbol\":\"circle\"},\"mode\":\"markers\",\"name\":\"\",\"orientation\":\"v\",\"showlegend\":false,\"x\":[62761,9483,3162,78562,46803,135524,141783,30172,110940,75225,33210,143156,478,197699,3325,4279,680,123892,6046,8983,16588,6937,3611,3890,317273,16214,10788,52224,248207,117969,1582,64077,21197,8667,115333,71427,14119,16707,325141,10472,29550,152663,2187,22415,946659,159558,408708,158666,12508,340768,623213,318865,57089,154716,877,11616,65159,61655,24664,90274,80809,2002289,14921,30044,54112,308838,11054,115574,1413,193022,63755,15479,219116,12555,16393,123699,13506,86320,8807,8124,10616,4489,306074,8412,7247,6304,5435,128809,7084,5082,5042,82160,5882,18276,4392,33465,9803,18598,34462,223045,177703,180433,851957,6914,123712,296485,51289,17998,10898,182392,153407,8643,8918,7828,7236,14051,4843,6933,15715,584782,8454,874614,121666,27326,5802,809,6120,85132,3352,11572,245725,168062,39161,763,5186,1698,4268,1464,1679,4313,2185,1542,158,1872,2153,1247,1163,864,359,1184,4310,332,1322,45826,64,584,1421,651,1168,170,816,1660,589,1209,769,1816,65,1154,667,856,37628,4941,1330,384,1105,194,256,24,242,175,95,81,397,405],\"xaxis\":\"x\",\"y\":[447,57,3230,70,70,88,220,68,606,1536,203,213,70,260,30,39,90,814,67,32,135,53,35,59,645,154,62,255,778,420,230,246,493,87,830,686,98,2622,5859,116,99,221,77,176,4680,475,2753,414,72,1515,4078,536,417,651,85,33,152,173,98,1289,626,2162,1410,234,293,549,67,744,114,728,202,176,774,68,91,567,56,457,32,55,105,30,852,39,94,44,66,470,89,57,49,785,52,441,48,204,77,116,534,1015,350,1206,4176,35,1119,1255,338,85,41,698,1394,55,64,152,61,136,103,18,268,4414,69,2566,2473,164,40,53,83,493,14,245,1026,1917,150,44,29,63,21,38,14,70,65,12,40,9,10,6,23,6,13,19,16,31,7,225,2,32,28,6,13,11,5,11,14,20,10,21,4,40,13,18,691,109,31,25,19,15,30,4,17,9,10,10,55,37],\"yaxis\":\"y\",\"type\":\"scatter\"}],                        {\"template\":{\"data\":{\"histogram2dcontour\":[{\"type\":\"histogram2dcontour\",\"colorbar\":{\"outlinewidth\":0,\"ticks\":\"\"},\"colorscale\":[[0.0,\"#0d0887\"],[0.1111111111111111,\"#46039f\"],[0.2222222222222222,\"#7201a8\"],[0.3333333333333333,\"#9c179e\"],[0.4444444444444444,\"#bd3786\"],[0.5555555555555556,\"#d8576b\"],[0.6666666666666666,\"#ed7953\"],[0.7777777777777778,\"#fb9f3a\"],[0.8888888888888888,\"#fdca26\"],[1.0,\"#f0f921\"]]}],\"choropleth\":[{\"type\":\"choropleth\",\"colorbar\":{\"outlinewidth\":0,\"ticks\":\"\"}}],\"histogram2d\":[{\"type\":\"histogram2d\",\"colorbar\":{\"outlinewidth\":0,\"ticks\":\"\"},\"colorscale\":[[0.0,\"#0d0887\"],[0.1111111111111111,\"#46039f\"],[0.2222222222222222,\"#7201a8\"],[0.3333333333333333,\"#9c179e\"],[0.4444444444444444,\"#bd3786\"],[0.5555555555555556,\"#d8576b\"],[0.6666666666666666,\"#ed7953\"],[0.7777777777777778,\"#fb9f3a\"],[0.8888888888888888,\"#fdca26\"],[1.0,\"#f0f921\"]]}],\"heatmap\":[{\"type\":\"heatmap\",\"colorbar\":{\"outlinewidth\":0,\"ticks\":\"\"},\"colorscale\":[[0.0,\"#0d0887\"],[0.1111111111111111,\"#46039f\"],[0.2222222222222222,\"#7201a8\"],[0.3333333333333333,\"#9c179e\"],[0.4444444444444444,\"#bd3786\"],[0.5555555555555556,\"#d8576b\"],[0.6666666666666666,\"#ed7953\"],[0.7777777777777778,\"#fb9f3a\"],[0.8888888888888888,\"#fdca26\"],[1.0,\"#f0f921\"]]}],\"heatmapgl\":[{\"type\":\"heatmapgl\",\"colorbar\":{\"outlinewidth\":0,\"ticks\":\"\"},\"colorscale\":[[0.0,\"#0d0887\"],[0.1111111111111111,\"#46039f\"],[0.2222222222222222,\"#7201a8\"],[0.3333333333333333,\"#9c179e\"],[0.4444444444444444,\"#bd3786\"],[0.5555555555555556,\"#d8576b\"],[0.6666666666666666,\"#ed7953\"],[0.7777777777777778,\"#fb9f3a\"],[0.8888888888888888,\"#fdca26\"],[1.0,\"#f0f921\"]]}],\"contourcarpet\":[{\"type\":\"contourcarpet\",\"colorbar\":{\"outlinewidth\":0,\"ticks\":\"\"}}],\"contour\":[{\"type\":\"contour\",\"colorbar\":{\"outlinewidth\":0,\"ticks\":\"\"},\"colorscale\":[[0.0,\"#0d0887\"],[0.1111111111111111,\"#46039f\"],[0.2222222222222222,\"#7201a8\"],[0.3333333333333333,\"#9c179e\"],[0.4444444444444444,\"#bd3786\"],[0.5555555555555556,\"#d8576b\"],[0.6666666666666666,\"#ed7953\"],[0.7777777777777778,\"#fb9f3a\"],[0.8888888888888888,\"#fdca26\"],[1.0,\"#f0f921\"]]}],\"surface\":[{\"type\":\"surface\",\"colorbar\":{\"outlinewidth\":0,\"ticks\":\"\"},\"colorscale\":[[0.0,\"#0d0887\"],[0.1111111111111111,\"#46039f\"],[0.2222222222222222,\"#7201a8\"],[0.3333333333333333,\"#9c179e\"],[0.4444444444444444,\"#bd3786\"],[0.5555555555555556,\"#d8576b\"],[0.6666666666666666,\"#ed7953\"],[0.7777777777777778,\"#fb9f3a\"],[0.8888888888888888,\"#fdca26\"],[1.0,\"#f0f921\"]]}],\"mesh3d\":[{\"type\":\"mesh3d\",\"colorbar\":{\"outlinewidth\":0,\"ticks\":\"\"}}],\"scatter\":[{\"fillpattern\":{\"fillmode\":\"overlay\",\"size\":10,\"solidity\":0.2},\"type\":\"scatter\"}],\"parcoords\":[{\"type\":\"parcoords\",\"line\":{\"colorbar\":{\"outlinewidth\":0,\"ticks\":\"\"}}}],\"scatterpolargl\":[{\"type\":\"scatterpolargl\",\"marker\":{\"colorbar\":{\"outlinewidth\":0,\"ticks\":\"\"}}}],\"bar\":[{\"error_x\":{\"color\":\"#2a3f5f\"},\"error_y\":{\"color\":\"#2a3f5f\"},\"marker\":{\"line\":{\"color\":\"#E5ECF6\",\"width\":0.5},\"pattern\":{\"fillmode\":\"overlay\",\"size\":10,\"solidity\":0.2}},\"type\":\"bar\"}],\"scattergeo\":[{\"type\":\"scattergeo\",\"marker\":{\"colorbar\":{\"outlinewidth\":0,\"ticks\":\"\"}}}],\"scatterpolar\":[{\"type\":\"scatterpolar\",\"marker\":{\"colorbar\":{\"outlinewidth\":0,\"ticks\":\"\"}}}],\"histogram\":[{\"marker\":{\"pattern\":{\"fillmode\":\"overlay\",\"size\":10,\"solidity\":0.2}},\"type\":\"histogram\"}],\"scattergl\":[{\"type\":\"scattergl\",\"marker\":{\"colorbar\":{\"outlinewidth\":0,\"ticks\":\"\"}}}],\"scatter3d\":[{\"type\":\"scatter3d\",\"line\":{\"colorbar\":{\"outlinewidth\":0,\"ticks\":\"\"}},\"marker\":{\"colorbar\":{\"outlinewidth\":0,\"ticks\":\"\"}}}],\"scattermapbox\":[{\"type\":\"scattermapbox\",\"marker\":{\"colorbar\":{\"outlinewidth\":0,\"ticks\":\"\"}}}],\"scatterternary\":[{\"type\":\"scatterternary\",\"marker\":{\"colorbar\":{\"outlinewidth\":0,\"ticks\":\"\"}}}],\"scattercarpet\":[{\"type\":\"scattercarpet\",\"marker\":{\"colorbar\":{\"outlinewidth\":0,\"ticks\":\"\"}}}],\"carpet\":[{\"aaxis\":{\"endlinecolor\":\"#2a3f5f\",\"gridcolor\":\"white\",\"linecolor\":\"white\",\"minorgridcolor\":\"white\",\"startlinecolor\":\"#2a3f5f\"},\"baxis\":{\"endlinecolor\":\"#2a3f5f\",\"gridcolor\":\"white\",\"linecolor\":\"white\",\"minorgridcolor\":\"white\",\"startlinecolor\":\"#2a3f5f\"},\"type\":\"carpet\"}],\"table\":[{\"cells\":{\"fill\":{\"color\":\"#EBF0F8\"},\"line\":{\"color\":\"white\"}},\"header\":{\"fill\":{\"color\":\"#C8D4E3\"},\"line\":{\"color\":\"white\"}},\"type\":\"table\"}],\"barpolar\":[{\"marker\":{\"line\":{\"color\":\"#E5ECF6\",\"width\":0.5},\"pattern\":{\"fillmode\":\"overlay\",\"size\":10,\"solidity\":0.2}},\"type\":\"barpolar\"}],\"pie\":[{\"automargin\":true,\"type\":\"pie\"}]},\"layout\":{\"autotypenumbers\":\"strict\",\"colorway\":[\"#636efa\",\"#EF553B\",\"#00cc96\",\"#ab63fa\",\"#FFA15A\",\"#19d3f3\",\"#FF6692\",\"#B6E880\",\"#FF97FF\",\"#FECB52\"],\"font\":{\"color\":\"#2a3f5f\"},\"hovermode\":\"closest\",\"hoverlabel\":{\"align\":\"left\"},\"paper_bgcolor\":\"white\",\"plot_bgcolor\":\"#E5ECF6\",\"polar\":{\"bgcolor\":\"#E5ECF6\",\"angularaxis\":{\"gridcolor\":\"white\",\"linecolor\":\"white\",\"ticks\":\"\"},\"radialaxis\":{\"gridcolor\":\"white\",\"linecolor\":\"white\",\"ticks\":\"\"}},\"ternary\":{\"bgcolor\":\"#E5ECF6\",\"aaxis\":{\"gridcolor\":\"white\",\"linecolor\":\"white\",\"ticks\":\"\"},\"baxis\":{\"gridcolor\":\"white\",\"linecolor\":\"white\",\"ticks\":\"\"},\"caxis\":{\"gridcolor\":\"white\",\"linecolor\":\"white\",\"ticks\":\"\"}},\"coloraxis\":{\"colorbar\":{\"outlinewidth\":0,\"ticks\":\"\"}},\"colorscale\":{\"sequential\":[[0.0,\"#0d0887\"],[0.1111111111111111,\"#46039f\"],[0.2222222222222222,\"#7201a8\"],[0.3333333333333333,\"#9c179e\"],[0.4444444444444444,\"#bd3786\"],[0.5555555555555556,\"#d8576b\"],[0.6666666666666666,\"#ed7953\"],[0.7777777777777778,\"#fb9f3a\"],[0.8888888888888888,\"#fdca26\"],[1.0,\"#f0f921\"]],\"sequentialminus\":[[0.0,\"#0d0887\"],[0.1111111111111111,\"#46039f\"],[0.2222222222222222,\"#7201a8\"],[0.3333333333333333,\"#9c179e\"],[0.4444444444444444,\"#bd3786\"],[0.5555555555555556,\"#d8576b\"],[0.6666666666666666,\"#ed7953\"],[0.7777777777777778,\"#fb9f3a\"],[0.8888888888888888,\"#fdca26\"],[1.0,\"#f0f921\"]],\"diverging\":[[0,\"#8e0152\"],[0.1,\"#c51b7d\"],[0.2,\"#de77ae\"],[0.3,\"#f1b6da\"],[0.4,\"#fde0ef\"],[0.5,\"#f7f7f7\"],[0.6,\"#e6f5d0\"],[0.7,\"#b8e186\"],[0.8,\"#7fbc41\"],[0.9,\"#4d9221\"],[1,\"#276419\"]]},\"xaxis\":{\"gridcolor\":\"white\",\"linecolor\":\"white\",\"ticks\":\"\",\"title\":{\"standoff\":15},\"zerolinecolor\":\"white\",\"automargin\":true,\"zerolinewidth\":2},\"yaxis\":{\"gridcolor\":\"white\",\"linecolor\":\"white\",\"ticks\":\"\",\"title\":{\"standoff\":15},\"zerolinecolor\":\"white\",\"automargin\":true,\"zerolinewidth\":2},\"scene\":{\"xaxis\":{\"backgroundcolor\":\"#E5ECF6\",\"gridcolor\":\"white\",\"linecolor\":\"white\",\"showbackground\":true,\"ticks\":\"\",\"zerolinecolor\":\"white\",\"gridwidth\":2},\"yaxis\":{\"backgroundcolor\":\"#E5ECF6\",\"gridcolor\":\"white\",\"linecolor\":\"white\",\"showbackground\":true,\"ticks\":\"\",\"zerolinecolor\":\"white\",\"gridwidth\":2},\"zaxis\":{\"backgroundcolor\":\"#E5ECF6\",\"gridcolor\":\"white\",\"linecolor\":\"white\",\"showbackground\":true,\"ticks\":\"\",\"zerolinecolor\":\"white\",\"gridwidth\":2}},\"shapedefaults\":{\"line\":{\"color\":\"#2a3f5f\"}},\"annotationdefaults\":{\"arrowcolor\":\"#2a3f5f\",\"arrowhead\":0,\"arrowwidth\":1},\"geo\":{\"bgcolor\":\"white\",\"landcolor\":\"#E5ECF6\",\"subunitcolor\":\"white\",\"showland\":true,\"showlakes\":true,\"lakecolor\":\"white\"},\"title\":{\"x\":0.05},\"mapbox\":{\"style\":\"light\"}}},\"xaxis\":{\"anchor\":\"y\",\"domain\":[0.0,1.0],\"title\":{\"text\":\"like_count\"}},\"yaxis\":{\"anchor\":\"x\",\"domain\":[0.0,1.0],\"title\":{\"text\":\"comment_count\"}},\"legend\":{\"tracegroupgap\":0},\"title\":{\"text\":\"Like Count and Comment Count Scatter for All Videos\"}},                        {\"responsive\": true}                    ).then(function(){\n",
       "                            \n",
       "var gd = document.getElementById('e9712286-2faf-4d1b-a965-eeea2e4b0ca3');\n",
       "var x = new MutationObserver(function (mutations, observer) {{\n",
       "        var display = window.getComputedStyle(gd).display;\n",
       "        if (!display || display === 'none') {{\n",
       "            console.log([gd, 'removed!']);\n",
       "            Plotly.purge(gd);\n",
       "            observer.disconnect();\n",
       "        }}\n",
       "}});\n",
       "\n",
       "// Listen for the removal of the full notebook cells\n",
       "var notebookContainer = gd.closest('#notebook-container');\n",
       "if (notebookContainer) {{\n",
       "    x.observe(notebookContainer, {childList: true});\n",
       "}}\n",
       "\n",
       "// Listen for the clearing of the current output cell\n",
       "var outputEl = gd.closest('.output');\n",
       "if (outputEl) {{\n",
       "    x.observe(outputEl, {childList: true});\n",
       "}}\n",
       "\n",
       "                        })                };                });            </script>        </div>"
      ]
     },
     "metadata": {},
     "output_type": "display_data"
    }
   ],
   "source": [
    "init_notebook_mode(connected = True)\n",
    "fig = px.scatter(all_videos , x = 'like_count' , y = 'comment_count' , hover_data = ['video_title' , 'view_count' , 'upload_date'] , title= 'Like Count and Comment Count Scatter for All Videos')\n",
    "fig.show()"
   ]
  },
  {
   "cell_type": "markdown",
   "id": "7588c1dc",
   "metadata": {},
   "source": [
    "### Bar Chart Top Ten Videos"
   ]
  },
  {
   "cell_type": "code",
   "execution_count": 10,
   "id": "403d9a2c",
   "metadata": {},
   "outputs": [],
   "source": [
    "top_ten_videos = all_videos.sort_values('view_count' , ascending = False)[['video_title' , 'view_count' , 'upload_date']][:10]"
   ]
  },
  {
   "cell_type": "code",
   "execution_count": 11,
   "id": "4f756836",
   "metadata": {},
   "outputs": [
    {
     "data": {
      "text/html": [
       "        <script type=\"text/javascript\">\n",
       "        window.PlotlyConfig = {MathJaxConfig: 'local'};\n",
       "        if (window.MathJax) {MathJax.Hub.Config({SVG: {font: \"STIX-Web\"}});}\n",
       "        if (typeof require !== 'undefined') {\n",
       "        require.undef(\"plotly\");\n",
       "        requirejs.config({\n",
       "            paths: {\n",
       "                'plotly': ['https://cdn.plot.ly/plotly-2.11.1.min']\n",
       "            }\n",
       "        });\n",
       "        require(['plotly'], function(Plotly) {\n",
       "            window._Plotly = Plotly;\n",
       "        });\n",
       "        }\n",
       "        </script>\n",
       "        "
      ]
     },
     "metadata": {},
     "output_type": "display_data"
    },
    {
     "data": {
      "application/vnd.plotly.v1+json": {
       "config": {
        "plotlyServerURL": "https://plot.ly"
       },
       "data": [
        {
         "alignmentgroup": "True",
         "customdata": [
          [
           "2022-06-09"
          ],
          [
           "2022-02-25"
          ],
          [
           "2022-01-26"
          ],
          [
           "2022-01-28"
          ],
          [
           "2022-07-20"
          ],
          [
           "2022-07-14"
          ],
          [
           "2022-07-05"
          ],
          [
           "2022-02-22"
          ],
          [
           "2022-08-23"
          ],
          [
           "2022-07-30"
          ]
         ],
         "hovertemplate": "video_title=%{x}<br>view_count=%{y}<br>upload_date=%{customdata[0]}<extra></extra>",
         "legendgroup": "",
         "marker": {
          "color": "#636efa",
          "pattern": {
           "shape": ""
          }
         },
         "name": "",
         "offsetgroup": "",
         "orientation": "v",
         "showlegend": false,
         "textposition": "auto",
         "type": "bar",
         "x": [
          "Is the cheapest rolex on eBay real?",
          "I tried finding profitable flips at Walmart…",
          "How much my Pokémon cards investment is worth 💰",
          "How I built a tablet farm that makes me money…",
          "I bought a questionable pineapple…",
          "I paid Fiverr to redesign my product packaging",
          "I bought the most expensive water on Amazon",
          "I bought a wireless hotspot that makes me money",
          "How much gold I found in Amazon pay dirt",
          "How much iPhone box costs to make in USA vs. China"
         ],
         "xaxis": "x",
         "y": [
          30106646,
          16236845,
          14570731,
          13609004,
          10616068,
          7941682,
          7633883,
          6163849,
          5827039,
          5546984
         ],
         "yaxis": "y"
        }
       ],
       "layout": {
        "barmode": "relative",
        "legend": {
         "tracegroupgap": 0
        },
        "template": {
         "data": {
          "bar": [
           {
            "error_x": {
             "color": "#2a3f5f"
            },
            "error_y": {
             "color": "#2a3f5f"
            },
            "marker": {
             "line": {
              "color": "#E5ECF6",
              "width": 0.5
             },
             "pattern": {
              "fillmode": "overlay",
              "size": 10,
              "solidity": 0.2
             }
            },
            "type": "bar"
           }
          ],
          "barpolar": [
           {
            "marker": {
             "line": {
              "color": "#E5ECF6",
              "width": 0.5
             },
             "pattern": {
              "fillmode": "overlay",
              "size": 10,
              "solidity": 0.2
             }
            },
            "type": "barpolar"
           }
          ],
          "carpet": [
           {
            "aaxis": {
             "endlinecolor": "#2a3f5f",
             "gridcolor": "white",
             "linecolor": "white",
             "minorgridcolor": "white",
             "startlinecolor": "#2a3f5f"
            },
            "baxis": {
             "endlinecolor": "#2a3f5f",
             "gridcolor": "white",
             "linecolor": "white",
             "minorgridcolor": "white",
             "startlinecolor": "#2a3f5f"
            },
            "type": "carpet"
           }
          ],
          "choropleth": [
           {
            "colorbar": {
             "outlinewidth": 0,
             "ticks": ""
            },
            "type": "choropleth"
           }
          ],
          "contour": [
           {
            "colorbar": {
             "outlinewidth": 0,
             "ticks": ""
            },
            "colorscale": [
             [
              0,
              "#0d0887"
             ],
             [
              0.1111111111111111,
              "#46039f"
             ],
             [
              0.2222222222222222,
              "#7201a8"
             ],
             [
              0.3333333333333333,
              "#9c179e"
             ],
             [
              0.4444444444444444,
              "#bd3786"
             ],
             [
              0.5555555555555556,
              "#d8576b"
             ],
             [
              0.6666666666666666,
              "#ed7953"
             ],
             [
              0.7777777777777778,
              "#fb9f3a"
             ],
             [
              0.8888888888888888,
              "#fdca26"
             ],
             [
              1,
              "#f0f921"
             ]
            ],
            "type": "contour"
           }
          ],
          "contourcarpet": [
           {
            "colorbar": {
             "outlinewidth": 0,
             "ticks": ""
            },
            "type": "contourcarpet"
           }
          ],
          "heatmap": [
           {
            "colorbar": {
             "outlinewidth": 0,
             "ticks": ""
            },
            "colorscale": [
             [
              0,
              "#0d0887"
             ],
             [
              0.1111111111111111,
              "#46039f"
             ],
             [
              0.2222222222222222,
              "#7201a8"
             ],
             [
              0.3333333333333333,
              "#9c179e"
             ],
             [
              0.4444444444444444,
              "#bd3786"
             ],
             [
              0.5555555555555556,
              "#d8576b"
             ],
             [
              0.6666666666666666,
              "#ed7953"
             ],
             [
              0.7777777777777778,
              "#fb9f3a"
             ],
             [
              0.8888888888888888,
              "#fdca26"
             ],
             [
              1,
              "#f0f921"
             ]
            ],
            "type": "heatmap"
           }
          ],
          "heatmapgl": [
           {
            "colorbar": {
             "outlinewidth": 0,
             "ticks": ""
            },
            "colorscale": [
             [
              0,
              "#0d0887"
             ],
             [
              0.1111111111111111,
              "#46039f"
             ],
             [
              0.2222222222222222,
              "#7201a8"
             ],
             [
              0.3333333333333333,
              "#9c179e"
             ],
             [
              0.4444444444444444,
              "#bd3786"
             ],
             [
              0.5555555555555556,
              "#d8576b"
             ],
             [
              0.6666666666666666,
              "#ed7953"
             ],
             [
              0.7777777777777778,
              "#fb9f3a"
             ],
             [
              0.8888888888888888,
              "#fdca26"
             ],
             [
              1,
              "#f0f921"
             ]
            ],
            "type": "heatmapgl"
           }
          ],
          "histogram": [
           {
            "marker": {
             "pattern": {
              "fillmode": "overlay",
              "size": 10,
              "solidity": 0.2
             }
            },
            "type": "histogram"
           }
          ],
          "histogram2d": [
           {
            "colorbar": {
             "outlinewidth": 0,
             "ticks": ""
            },
            "colorscale": [
             [
              0,
              "#0d0887"
             ],
             [
              0.1111111111111111,
              "#46039f"
             ],
             [
              0.2222222222222222,
              "#7201a8"
             ],
             [
              0.3333333333333333,
              "#9c179e"
             ],
             [
              0.4444444444444444,
              "#bd3786"
             ],
             [
              0.5555555555555556,
              "#d8576b"
             ],
             [
              0.6666666666666666,
              "#ed7953"
             ],
             [
              0.7777777777777778,
              "#fb9f3a"
             ],
             [
              0.8888888888888888,
              "#fdca26"
             ],
             [
              1,
              "#f0f921"
             ]
            ],
            "type": "histogram2d"
           }
          ],
          "histogram2dcontour": [
           {
            "colorbar": {
             "outlinewidth": 0,
             "ticks": ""
            },
            "colorscale": [
             [
              0,
              "#0d0887"
             ],
             [
              0.1111111111111111,
              "#46039f"
             ],
             [
              0.2222222222222222,
              "#7201a8"
             ],
             [
              0.3333333333333333,
              "#9c179e"
             ],
             [
              0.4444444444444444,
              "#bd3786"
             ],
             [
              0.5555555555555556,
              "#d8576b"
             ],
             [
              0.6666666666666666,
              "#ed7953"
             ],
             [
              0.7777777777777778,
              "#fb9f3a"
             ],
             [
              0.8888888888888888,
              "#fdca26"
             ],
             [
              1,
              "#f0f921"
             ]
            ],
            "type": "histogram2dcontour"
           }
          ],
          "mesh3d": [
           {
            "colorbar": {
             "outlinewidth": 0,
             "ticks": ""
            },
            "type": "mesh3d"
           }
          ],
          "parcoords": [
           {
            "line": {
             "colorbar": {
              "outlinewidth": 0,
              "ticks": ""
             }
            },
            "type": "parcoords"
           }
          ],
          "pie": [
           {
            "automargin": true,
            "type": "pie"
           }
          ],
          "scatter": [
           {
            "fillpattern": {
             "fillmode": "overlay",
             "size": 10,
             "solidity": 0.2
            },
            "type": "scatter"
           }
          ],
          "scatter3d": [
           {
            "line": {
             "colorbar": {
              "outlinewidth": 0,
              "ticks": ""
             }
            },
            "marker": {
             "colorbar": {
              "outlinewidth": 0,
              "ticks": ""
             }
            },
            "type": "scatter3d"
           }
          ],
          "scattercarpet": [
           {
            "marker": {
             "colorbar": {
              "outlinewidth": 0,
              "ticks": ""
             }
            },
            "type": "scattercarpet"
           }
          ],
          "scattergeo": [
           {
            "marker": {
             "colorbar": {
              "outlinewidth": 0,
              "ticks": ""
             }
            },
            "type": "scattergeo"
           }
          ],
          "scattergl": [
           {
            "marker": {
             "colorbar": {
              "outlinewidth": 0,
              "ticks": ""
             }
            },
            "type": "scattergl"
           }
          ],
          "scattermapbox": [
           {
            "marker": {
             "colorbar": {
              "outlinewidth": 0,
              "ticks": ""
             }
            },
            "type": "scattermapbox"
           }
          ],
          "scatterpolar": [
           {
            "marker": {
             "colorbar": {
              "outlinewidth": 0,
              "ticks": ""
             }
            },
            "type": "scatterpolar"
           }
          ],
          "scatterpolargl": [
           {
            "marker": {
             "colorbar": {
              "outlinewidth": 0,
              "ticks": ""
             }
            },
            "type": "scatterpolargl"
           }
          ],
          "scatterternary": [
           {
            "marker": {
             "colorbar": {
              "outlinewidth": 0,
              "ticks": ""
             }
            },
            "type": "scatterternary"
           }
          ],
          "surface": [
           {
            "colorbar": {
             "outlinewidth": 0,
             "ticks": ""
            },
            "colorscale": [
             [
              0,
              "#0d0887"
             ],
             [
              0.1111111111111111,
              "#46039f"
             ],
             [
              0.2222222222222222,
              "#7201a8"
             ],
             [
              0.3333333333333333,
              "#9c179e"
             ],
             [
              0.4444444444444444,
              "#bd3786"
             ],
             [
              0.5555555555555556,
              "#d8576b"
             ],
             [
              0.6666666666666666,
              "#ed7953"
             ],
             [
              0.7777777777777778,
              "#fb9f3a"
             ],
             [
              0.8888888888888888,
              "#fdca26"
             ],
             [
              1,
              "#f0f921"
             ]
            ],
            "type": "surface"
           }
          ],
          "table": [
           {
            "cells": {
             "fill": {
              "color": "#EBF0F8"
             },
             "line": {
              "color": "white"
             }
            },
            "header": {
             "fill": {
              "color": "#C8D4E3"
             },
             "line": {
              "color": "white"
             }
            },
            "type": "table"
           }
          ]
         },
         "layout": {
          "annotationdefaults": {
           "arrowcolor": "#2a3f5f",
           "arrowhead": 0,
           "arrowwidth": 1
          },
          "autotypenumbers": "strict",
          "coloraxis": {
           "colorbar": {
            "outlinewidth": 0,
            "ticks": ""
           }
          },
          "colorscale": {
           "diverging": [
            [
             0,
             "#8e0152"
            ],
            [
             0.1,
             "#c51b7d"
            ],
            [
             0.2,
             "#de77ae"
            ],
            [
             0.3,
             "#f1b6da"
            ],
            [
             0.4,
             "#fde0ef"
            ],
            [
             0.5,
             "#f7f7f7"
            ],
            [
             0.6,
             "#e6f5d0"
            ],
            [
             0.7,
             "#b8e186"
            ],
            [
             0.8,
             "#7fbc41"
            ],
            [
             0.9,
             "#4d9221"
            ],
            [
             1,
             "#276419"
            ]
           ],
           "sequential": [
            [
             0,
             "#0d0887"
            ],
            [
             0.1111111111111111,
             "#46039f"
            ],
            [
             0.2222222222222222,
             "#7201a8"
            ],
            [
             0.3333333333333333,
             "#9c179e"
            ],
            [
             0.4444444444444444,
             "#bd3786"
            ],
            [
             0.5555555555555556,
             "#d8576b"
            ],
            [
             0.6666666666666666,
             "#ed7953"
            ],
            [
             0.7777777777777778,
             "#fb9f3a"
            ],
            [
             0.8888888888888888,
             "#fdca26"
            ],
            [
             1,
             "#f0f921"
            ]
           ],
           "sequentialminus": [
            [
             0,
             "#0d0887"
            ],
            [
             0.1111111111111111,
             "#46039f"
            ],
            [
             0.2222222222222222,
             "#7201a8"
            ],
            [
             0.3333333333333333,
             "#9c179e"
            ],
            [
             0.4444444444444444,
             "#bd3786"
            ],
            [
             0.5555555555555556,
             "#d8576b"
            ],
            [
             0.6666666666666666,
             "#ed7953"
            ],
            [
             0.7777777777777778,
             "#fb9f3a"
            ],
            [
             0.8888888888888888,
             "#fdca26"
            ],
            [
             1,
             "#f0f921"
            ]
           ]
          },
          "colorway": [
           "#636efa",
           "#EF553B",
           "#00cc96",
           "#ab63fa",
           "#FFA15A",
           "#19d3f3",
           "#FF6692",
           "#B6E880",
           "#FF97FF",
           "#FECB52"
          ],
          "font": {
           "color": "#2a3f5f"
          },
          "geo": {
           "bgcolor": "white",
           "lakecolor": "white",
           "landcolor": "#E5ECF6",
           "showlakes": true,
           "showland": true,
           "subunitcolor": "white"
          },
          "hoverlabel": {
           "align": "left"
          },
          "hovermode": "closest",
          "mapbox": {
           "style": "light"
          },
          "paper_bgcolor": "white",
          "plot_bgcolor": "#E5ECF6",
          "polar": {
           "angularaxis": {
            "gridcolor": "white",
            "linecolor": "white",
            "ticks": ""
           },
           "bgcolor": "#E5ECF6",
           "radialaxis": {
            "gridcolor": "white",
            "linecolor": "white",
            "ticks": ""
           }
          },
          "scene": {
           "xaxis": {
            "backgroundcolor": "#E5ECF6",
            "gridcolor": "white",
            "gridwidth": 2,
            "linecolor": "white",
            "showbackground": true,
            "ticks": "",
            "zerolinecolor": "white"
           },
           "yaxis": {
            "backgroundcolor": "#E5ECF6",
            "gridcolor": "white",
            "gridwidth": 2,
            "linecolor": "white",
            "showbackground": true,
            "ticks": "",
            "zerolinecolor": "white"
           },
           "zaxis": {
            "backgroundcolor": "#E5ECF6",
            "gridcolor": "white",
            "gridwidth": 2,
            "linecolor": "white",
            "showbackground": true,
            "ticks": "",
            "zerolinecolor": "white"
           }
          },
          "shapedefaults": {
           "line": {
            "color": "#2a3f5f"
           }
          },
          "ternary": {
           "aaxis": {
            "gridcolor": "white",
            "linecolor": "white",
            "ticks": ""
           },
           "baxis": {
            "gridcolor": "white",
            "linecolor": "white",
            "ticks": ""
           },
           "bgcolor": "#E5ECF6",
           "caxis": {
            "gridcolor": "white",
            "linecolor": "white",
            "ticks": ""
           }
          },
          "title": {
           "x": 0.05
          },
          "xaxis": {
           "automargin": true,
           "gridcolor": "white",
           "linecolor": "white",
           "ticks": "",
           "title": {
            "standoff": 15
           },
           "zerolinecolor": "white",
           "zerolinewidth": 2
          },
          "yaxis": {
           "automargin": true,
           "gridcolor": "white",
           "linecolor": "white",
           "ticks": "",
           "title": {
            "standoff": 15
           },
           "zerolinecolor": "white",
           "zerolinewidth": 2
          }
         }
        },
        "title": {
         "text": "Bar Chart Top Ten Videos"
        },
        "xaxis": {
         "anchor": "y",
         "domain": [
          0,
          1
         ],
         "title": {
          "text": "video_title"
         }
        },
        "yaxis": {
         "anchor": "x",
         "domain": [
          0,
          1
         ],
         "title": {
          "text": "view_count"
         }
        }
       }
      },
      "text/html": [
       "<div>                            <div id=\"7d9ddaa3-75d2-4ecd-b2d2-1b334f848b29\" class=\"plotly-graph-div\" style=\"height:525px; width:100%;\"></div>            <script type=\"text/javascript\">                require([\"plotly\"], function(Plotly) {                    window.PLOTLYENV=window.PLOTLYENV || {};                                    if (document.getElementById(\"7d9ddaa3-75d2-4ecd-b2d2-1b334f848b29\")) {                    Plotly.newPlot(                        \"7d9ddaa3-75d2-4ecd-b2d2-1b334f848b29\",                        [{\"alignmentgroup\":\"True\",\"customdata\":[[\"2022-06-09\"],[\"2022-02-25\"],[\"2022-01-26\"],[\"2022-01-28\"],[\"2022-07-20\"],[\"2022-07-14\"],[\"2022-07-05\"],[\"2022-02-22\"],[\"2022-08-23\"],[\"2022-07-30\"]],\"hovertemplate\":\"video_title=%{x}<br>view_count=%{y}<br>upload_date=%{customdata[0]}<extra></extra>\",\"legendgroup\":\"\",\"marker\":{\"color\":\"#636efa\",\"pattern\":{\"shape\":\"\"}},\"name\":\"\",\"offsetgroup\":\"\",\"orientation\":\"v\",\"showlegend\":false,\"textposition\":\"auto\",\"x\":[\"Is the cheapest rolex on eBay real?\",\"I tried finding profitable flips at Walmart\\u2026\",\"How much my Pok\\u00e9mon cards investment is worth \\ud83d\\udcb0\",\"How I built a tablet farm that makes me money\\u2026\",\"I bought a questionable pineapple\\u2026\",\"I paid Fiverr to redesign my product packaging\",\"I bought the most expensive water on Amazon\",\"I bought a wireless hotspot that makes me money\",\"How much gold I found in Amazon pay dirt\",\"How much iPhone box costs to make in USA vs. China\"],\"xaxis\":\"x\",\"y\":[30106646,16236845,14570731,13609004,10616068,7941682,7633883,6163849,5827039,5546984],\"yaxis\":\"y\",\"type\":\"bar\"}],                        {\"template\":{\"data\":{\"histogram2dcontour\":[{\"type\":\"histogram2dcontour\",\"colorbar\":{\"outlinewidth\":0,\"ticks\":\"\"},\"colorscale\":[[0.0,\"#0d0887\"],[0.1111111111111111,\"#46039f\"],[0.2222222222222222,\"#7201a8\"],[0.3333333333333333,\"#9c179e\"],[0.4444444444444444,\"#bd3786\"],[0.5555555555555556,\"#d8576b\"],[0.6666666666666666,\"#ed7953\"],[0.7777777777777778,\"#fb9f3a\"],[0.8888888888888888,\"#fdca26\"],[1.0,\"#f0f921\"]]}],\"choropleth\":[{\"type\":\"choropleth\",\"colorbar\":{\"outlinewidth\":0,\"ticks\":\"\"}}],\"histogram2d\":[{\"type\":\"histogram2d\",\"colorbar\":{\"outlinewidth\":0,\"ticks\":\"\"},\"colorscale\":[[0.0,\"#0d0887\"],[0.1111111111111111,\"#46039f\"],[0.2222222222222222,\"#7201a8\"],[0.3333333333333333,\"#9c179e\"],[0.4444444444444444,\"#bd3786\"],[0.5555555555555556,\"#d8576b\"],[0.6666666666666666,\"#ed7953\"],[0.7777777777777778,\"#fb9f3a\"],[0.8888888888888888,\"#fdca26\"],[1.0,\"#f0f921\"]]}],\"heatmap\":[{\"type\":\"heatmap\",\"colorbar\":{\"outlinewidth\":0,\"ticks\":\"\"},\"colorscale\":[[0.0,\"#0d0887\"],[0.1111111111111111,\"#46039f\"],[0.2222222222222222,\"#7201a8\"],[0.3333333333333333,\"#9c179e\"],[0.4444444444444444,\"#bd3786\"],[0.5555555555555556,\"#d8576b\"],[0.6666666666666666,\"#ed7953\"],[0.7777777777777778,\"#fb9f3a\"],[0.8888888888888888,\"#fdca26\"],[1.0,\"#f0f921\"]]}],\"heatmapgl\":[{\"type\":\"heatmapgl\",\"colorbar\":{\"outlinewidth\":0,\"ticks\":\"\"},\"colorscale\":[[0.0,\"#0d0887\"],[0.1111111111111111,\"#46039f\"],[0.2222222222222222,\"#7201a8\"],[0.3333333333333333,\"#9c179e\"],[0.4444444444444444,\"#bd3786\"],[0.5555555555555556,\"#d8576b\"],[0.6666666666666666,\"#ed7953\"],[0.7777777777777778,\"#fb9f3a\"],[0.8888888888888888,\"#fdca26\"],[1.0,\"#f0f921\"]]}],\"contourcarpet\":[{\"type\":\"contourcarpet\",\"colorbar\":{\"outlinewidth\":0,\"ticks\":\"\"}}],\"contour\":[{\"type\":\"contour\",\"colorbar\":{\"outlinewidth\":0,\"ticks\":\"\"},\"colorscale\":[[0.0,\"#0d0887\"],[0.1111111111111111,\"#46039f\"],[0.2222222222222222,\"#7201a8\"],[0.3333333333333333,\"#9c179e\"],[0.4444444444444444,\"#bd3786\"],[0.5555555555555556,\"#d8576b\"],[0.6666666666666666,\"#ed7953\"],[0.7777777777777778,\"#fb9f3a\"],[0.8888888888888888,\"#fdca26\"],[1.0,\"#f0f921\"]]}],\"surface\":[{\"type\":\"surface\",\"colorbar\":{\"outlinewidth\":0,\"ticks\":\"\"},\"colorscale\":[[0.0,\"#0d0887\"],[0.1111111111111111,\"#46039f\"],[0.2222222222222222,\"#7201a8\"],[0.3333333333333333,\"#9c179e\"],[0.4444444444444444,\"#bd3786\"],[0.5555555555555556,\"#d8576b\"],[0.6666666666666666,\"#ed7953\"],[0.7777777777777778,\"#fb9f3a\"],[0.8888888888888888,\"#fdca26\"],[1.0,\"#f0f921\"]]}],\"mesh3d\":[{\"type\":\"mesh3d\",\"colorbar\":{\"outlinewidth\":0,\"ticks\":\"\"}}],\"scatter\":[{\"fillpattern\":{\"fillmode\":\"overlay\",\"size\":10,\"solidity\":0.2},\"type\":\"scatter\"}],\"parcoords\":[{\"type\":\"parcoords\",\"line\":{\"colorbar\":{\"outlinewidth\":0,\"ticks\":\"\"}}}],\"scatterpolargl\":[{\"type\":\"scatterpolargl\",\"marker\":{\"colorbar\":{\"outlinewidth\":0,\"ticks\":\"\"}}}],\"bar\":[{\"error_x\":{\"color\":\"#2a3f5f\"},\"error_y\":{\"color\":\"#2a3f5f\"},\"marker\":{\"line\":{\"color\":\"#E5ECF6\",\"width\":0.5},\"pattern\":{\"fillmode\":\"overlay\",\"size\":10,\"solidity\":0.2}},\"type\":\"bar\"}],\"scattergeo\":[{\"type\":\"scattergeo\",\"marker\":{\"colorbar\":{\"outlinewidth\":0,\"ticks\":\"\"}}}],\"scatterpolar\":[{\"type\":\"scatterpolar\",\"marker\":{\"colorbar\":{\"outlinewidth\":0,\"ticks\":\"\"}}}],\"histogram\":[{\"marker\":{\"pattern\":{\"fillmode\":\"overlay\",\"size\":10,\"solidity\":0.2}},\"type\":\"histogram\"}],\"scattergl\":[{\"type\":\"scattergl\",\"marker\":{\"colorbar\":{\"outlinewidth\":0,\"ticks\":\"\"}}}],\"scatter3d\":[{\"type\":\"scatter3d\",\"line\":{\"colorbar\":{\"outlinewidth\":0,\"ticks\":\"\"}},\"marker\":{\"colorbar\":{\"outlinewidth\":0,\"ticks\":\"\"}}}],\"scattermapbox\":[{\"type\":\"scattermapbox\",\"marker\":{\"colorbar\":{\"outlinewidth\":0,\"ticks\":\"\"}}}],\"scatterternary\":[{\"type\":\"scatterternary\",\"marker\":{\"colorbar\":{\"outlinewidth\":0,\"ticks\":\"\"}}}],\"scattercarpet\":[{\"type\":\"scattercarpet\",\"marker\":{\"colorbar\":{\"outlinewidth\":0,\"ticks\":\"\"}}}],\"carpet\":[{\"aaxis\":{\"endlinecolor\":\"#2a3f5f\",\"gridcolor\":\"white\",\"linecolor\":\"white\",\"minorgridcolor\":\"white\",\"startlinecolor\":\"#2a3f5f\"},\"baxis\":{\"endlinecolor\":\"#2a3f5f\",\"gridcolor\":\"white\",\"linecolor\":\"white\",\"minorgridcolor\":\"white\",\"startlinecolor\":\"#2a3f5f\"},\"type\":\"carpet\"}],\"table\":[{\"cells\":{\"fill\":{\"color\":\"#EBF0F8\"},\"line\":{\"color\":\"white\"}},\"header\":{\"fill\":{\"color\":\"#C8D4E3\"},\"line\":{\"color\":\"white\"}},\"type\":\"table\"}],\"barpolar\":[{\"marker\":{\"line\":{\"color\":\"#E5ECF6\",\"width\":0.5},\"pattern\":{\"fillmode\":\"overlay\",\"size\":10,\"solidity\":0.2}},\"type\":\"barpolar\"}],\"pie\":[{\"automargin\":true,\"type\":\"pie\"}]},\"layout\":{\"autotypenumbers\":\"strict\",\"colorway\":[\"#636efa\",\"#EF553B\",\"#00cc96\",\"#ab63fa\",\"#FFA15A\",\"#19d3f3\",\"#FF6692\",\"#B6E880\",\"#FF97FF\",\"#FECB52\"],\"font\":{\"color\":\"#2a3f5f\"},\"hovermode\":\"closest\",\"hoverlabel\":{\"align\":\"left\"},\"paper_bgcolor\":\"white\",\"plot_bgcolor\":\"#E5ECF6\",\"polar\":{\"bgcolor\":\"#E5ECF6\",\"angularaxis\":{\"gridcolor\":\"white\",\"linecolor\":\"white\",\"ticks\":\"\"},\"radialaxis\":{\"gridcolor\":\"white\",\"linecolor\":\"white\",\"ticks\":\"\"}},\"ternary\":{\"bgcolor\":\"#E5ECF6\",\"aaxis\":{\"gridcolor\":\"white\",\"linecolor\":\"white\",\"ticks\":\"\"},\"baxis\":{\"gridcolor\":\"white\",\"linecolor\":\"white\",\"ticks\":\"\"},\"caxis\":{\"gridcolor\":\"white\",\"linecolor\":\"white\",\"ticks\":\"\"}},\"coloraxis\":{\"colorbar\":{\"outlinewidth\":0,\"ticks\":\"\"}},\"colorscale\":{\"sequential\":[[0.0,\"#0d0887\"],[0.1111111111111111,\"#46039f\"],[0.2222222222222222,\"#7201a8\"],[0.3333333333333333,\"#9c179e\"],[0.4444444444444444,\"#bd3786\"],[0.5555555555555556,\"#d8576b\"],[0.6666666666666666,\"#ed7953\"],[0.7777777777777778,\"#fb9f3a\"],[0.8888888888888888,\"#fdca26\"],[1.0,\"#f0f921\"]],\"sequentialminus\":[[0.0,\"#0d0887\"],[0.1111111111111111,\"#46039f\"],[0.2222222222222222,\"#7201a8\"],[0.3333333333333333,\"#9c179e\"],[0.4444444444444444,\"#bd3786\"],[0.5555555555555556,\"#d8576b\"],[0.6666666666666666,\"#ed7953\"],[0.7777777777777778,\"#fb9f3a\"],[0.8888888888888888,\"#fdca26\"],[1.0,\"#f0f921\"]],\"diverging\":[[0,\"#8e0152\"],[0.1,\"#c51b7d\"],[0.2,\"#de77ae\"],[0.3,\"#f1b6da\"],[0.4,\"#fde0ef\"],[0.5,\"#f7f7f7\"],[0.6,\"#e6f5d0\"],[0.7,\"#b8e186\"],[0.8,\"#7fbc41\"],[0.9,\"#4d9221\"],[1,\"#276419\"]]},\"xaxis\":{\"gridcolor\":\"white\",\"linecolor\":\"white\",\"ticks\":\"\",\"title\":{\"standoff\":15},\"zerolinecolor\":\"white\",\"automargin\":true,\"zerolinewidth\":2},\"yaxis\":{\"gridcolor\":\"white\",\"linecolor\":\"white\",\"ticks\":\"\",\"title\":{\"standoff\":15},\"zerolinecolor\":\"white\",\"automargin\":true,\"zerolinewidth\":2},\"scene\":{\"xaxis\":{\"backgroundcolor\":\"#E5ECF6\",\"gridcolor\":\"white\",\"linecolor\":\"white\",\"showbackground\":true,\"ticks\":\"\",\"zerolinecolor\":\"white\",\"gridwidth\":2},\"yaxis\":{\"backgroundcolor\":\"#E5ECF6\",\"gridcolor\":\"white\",\"linecolor\":\"white\",\"showbackground\":true,\"ticks\":\"\",\"zerolinecolor\":\"white\",\"gridwidth\":2},\"zaxis\":{\"backgroundcolor\":\"#E5ECF6\",\"gridcolor\":\"white\",\"linecolor\":\"white\",\"showbackground\":true,\"ticks\":\"\",\"zerolinecolor\":\"white\",\"gridwidth\":2}},\"shapedefaults\":{\"line\":{\"color\":\"#2a3f5f\"}},\"annotationdefaults\":{\"arrowcolor\":\"#2a3f5f\",\"arrowhead\":0,\"arrowwidth\":1},\"geo\":{\"bgcolor\":\"white\",\"landcolor\":\"#E5ECF6\",\"subunitcolor\":\"white\",\"showland\":true,\"showlakes\":true,\"lakecolor\":\"white\"},\"title\":{\"x\":0.05},\"mapbox\":{\"style\":\"light\"}}},\"xaxis\":{\"anchor\":\"y\",\"domain\":[0.0,1.0],\"title\":{\"text\":\"video_title\"}},\"yaxis\":{\"anchor\":\"x\",\"domain\":[0.0,1.0],\"title\":{\"text\":\"view_count\"}},\"legend\":{\"tracegroupgap\":0},\"title\":{\"text\":\"Bar Chart Top Ten Videos\"},\"barmode\":\"relative\"},                        {\"responsive\": true}                    ).then(function(){\n",
       "                            \n",
       "var gd = document.getElementById('7d9ddaa3-75d2-4ecd-b2d2-1b334f848b29');\n",
       "var x = new MutationObserver(function (mutations, observer) {{\n",
       "        var display = window.getComputedStyle(gd).display;\n",
       "        if (!display || display === 'none') {{\n",
       "            console.log([gd, 'removed!']);\n",
       "            Plotly.purge(gd);\n",
       "            observer.disconnect();\n",
       "        }}\n",
       "}});\n",
       "\n",
       "// Listen for the removal of the full notebook cells\n",
       "var notebookContainer = gd.closest('#notebook-container');\n",
       "if (notebookContainer) {{\n",
       "    x.observe(notebookContainer, {childList: true});\n",
       "}}\n",
       "\n",
       "// Listen for the clearing of the current output cell\n",
       "var outputEl = gd.closest('.output');\n",
       "if (outputEl) {{\n",
       "    x.observe(outputEl, {childList: true});\n",
       "}}\n",
       "\n",
       "                        })                };                });            </script>        </div>"
      ]
     },
     "metadata": {},
     "output_type": "display_data"
    }
   ],
   "source": [
    "init_notebook_mode(connected = True)\n",
    "fig = px.bar(top_ten_videos, x='video_title', y='view_count' ,hover_data = ['upload_date'] , title = 'Bar Chart Top Ten Videos')\n",
    "fig.show()"
   ]
  },
  {
   "cell_type": "code",
   "execution_count": null,
   "id": "1dd1590d",
   "metadata": {},
   "outputs": [],
   "source": []
  },
  {
   "cell_type": "code",
   "execution_count": null,
   "id": "d3eeb894",
   "metadata": {},
   "outputs": [],
   "source": []
  }
 ],
 "metadata": {
  "kernelspec": {
   "display_name": "Python 3 (ipykernel)",
   "language": "python",
   "name": "python3"
  },
  "language_info": {
   "codemirror_mode": {
    "name": "ipython",
    "version": 3
   },
   "file_extension": ".py",
   "mimetype": "text/x-python",
   "name": "python",
   "nbconvert_exporter": "python",
   "pygments_lexer": "ipython3",
   "version": "3.8.8"
  }
 },
 "nbformat": 4,
 "nbformat_minor": 5
}
